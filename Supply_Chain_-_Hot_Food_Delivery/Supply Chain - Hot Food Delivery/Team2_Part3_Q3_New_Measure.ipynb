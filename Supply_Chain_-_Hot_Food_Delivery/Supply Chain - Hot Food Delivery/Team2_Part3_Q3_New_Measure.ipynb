{
 "cells": [
  {
   "cell_type": "code",
   "execution_count": 1,
   "id": "3737dc8b",
   "metadata": {},
   "outputs": [
    {
     "name": "stdout",
     "output_type": "stream",
     "text": [
      "Requirement already satisfied: pulp in /Users/bcchochoao/opt/anaconda3/lib/python3.8/site-packages (2.6.0)\r\n"
     ]
    }
   ],
   "source": [
    "!pip install pulp\n",
    "import pandas as pd\n",
    "import pulp\n",
    "import numpy as np\n",
    "import datetime\n",
    "import matplotlib.pyplot as plt "
   ]
  },
  {
   "cell_type": "code",
   "execution_count": 18,
   "id": "db5bb289",
   "metadata": {},
   "outputs": [],
   "source": [
    "df_distance = pd.read_csv(\"distances.csv\")\n",
    "df_drivers = pd.read_csv(\"part3_drivers.csv\")\n",
    "df_3 = pd.read_csv(\"part3_small.csv\")\n",
    "\n",
    "start_time = pd.to_datetime('2022-04-02 17:00:00')\n",
    "W = 30"
   ]
  },
  {
   "cell_type": "code",
   "execution_count": 19,
   "id": "6e836fa8",
   "metadata": {},
   "outputs": [
    {
     "data": {
      "text/html": [
       "<div>\n",
       "<style scoped>\n",
       "    .dataframe tbody tr th:only-of-type {\n",
       "        vertical-align: middle;\n",
       "    }\n",
       "\n",
       "    .dataframe tbody tr th {\n",
       "        vertical-align: top;\n",
       "    }\n",
       "\n",
       "    .dataframe thead th {\n",
       "        text-align: right;\n",
       "    }\n",
       "</style>\n",
       "<table border=\"1\" class=\"dataframe\">\n",
       "  <thead>\n",
       "    <tr style=\"text-align: right;\">\n",
       "      <th></th>\n",
       "      <th>start region</th>\n",
       "      <th>velocity</th>\n",
       "    </tr>\n",
       "  </thead>\n",
       "  <tbody>\n",
       "    <tr>\n",
       "      <th>0</th>\n",
       "      <td>Downtown Toronto (Richmond / Adelaide / King)</td>\n",
       "      <td>40</td>\n",
       "    </tr>\n",
       "    <tr>\n",
       "      <th>1</th>\n",
       "      <td>Downtown Toronto (St. James Park)</td>\n",
       "      <td>35</td>\n",
       "    </tr>\n",
       "    <tr>\n",
       "      <th>2</th>\n",
       "      <td>Downtown Toronto (Church and Wellesley)</td>\n",
       "      <td>32</td>\n",
       "    </tr>\n",
       "  </tbody>\n",
       "</table>\n",
       "</div>"
      ],
      "text/plain": [
       "                                    start region  velocity\n",
       "0  Downtown Toronto (Richmond / Adelaide / King)        40\n",
       "1              Downtown Toronto (St. James Park)        35\n",
       "2        Downtown Toronto (Church and Wellesley)        32"
      ]
     },
     "execution_count": 19,
     "metadata": {},
     "output_type": "execute_result"
    }
   ],
   "source": [
    "df_drivers"
   ]
  },
  {
   "cell_type": "code",
   "execution_count": 20,
   "id": "675bfc74",
   "metadata": {},
   "outputs": [
    {
     "data": {
      "text/html": [
       "<div>\n",
       "<style scoped>\n",
       "    .dataframe tbody tr th:only-of-type {\n",
       "        vertical-align: middle;\n",
       "    }\n",
       "\n",
       "    .dataframe tbody tr th {\n",
       "        vertical-align: top;\n",
       "    }\n",
       "\n",
       "    .dataframe thead th {\n",
       "        text-align: right;\n",
       "    }\n",
       "</style>\n",
       "<table border=\"1\" class=\"dataframe\">\n",
       "  <thead>\n",
       "    <tr style=\"text-align: right;\">\n",
       "      <th></th>\n",
       "      <th>restaurant</th>\n",
       "      <th>customer</th>\n",
       "      <th>estimated availability</th>\n",
       "    </tr>\n",
       "  </thead>\n",
       "  <tbody>\n",
       "    <tr>\n",
       "      <th>0</th>\n",
       "      <td>Downtown Toronto (Central Bay Street)</td>\n",
       "      <td>North York (Armour Heights / Wilson Heights / ...</td>\n",
       "      <td>2022-04-02 5:17 PM</td>\n",
       "    </tr>\n",
       "    <tr>\n",
       "      <th>1</th>\n",
       "      <td>Downtown Toronto (Christie)</td>\n",
       "      <td>West Toronto (Brockton / Parkdale Village / Ex...</td>\n",
       "      <td>2022-04-02 5:49 PM</td>\n",
       "    </tr>\n",
       "    <tr>\n",
       "      <th>2</th>\n",
       "      <td>Downtown Toronto (Ryerson)</td>\n",
       "      <td>York (Fairbank / Oakwood)</td>\n",
       "      <td>2022-04-02 6:17 PM</td>\n",
       "    </tr>\n",
       "    <tr>\n",
       "      <th>3</th>\n",
       "      <td>Downtown Toronto (St. James Park)</td>\n",
       "      <td>East Toronto (The Beaches)</td>\n",
       "      <td>2022-04-02 5:53 PM</td>\n",
       "    </tr>\n",
       "    <tr>\n",
       "      <th>4</th>\n",
       "      <td>Downtown Toronto (Kensington Market / Chinatow...</td>\n",
       "      <td>Downtown Toronto (Central Bay Street)</td>\n",
       "      <td>2022-04-02 5:24 PM</td>\n",
       "    </tr>\n",
       "  </tbody>\n",
       "</table>\n",
       "</div>"
      ],
      "text/plain": [
       "                                          restaurant  \\\n",
       "0              Downtown Toronto (Central Bay Street)   \n",
       "1                        Downtown Toronto (Christie)   \n",
       "2                         Downtown Toronto (Ryerson)   \n",
       "3                  Downtown Toronto (St. James Park)   \n",
       "4  Downtown Toronto (Kensington Market / Chinatow...   \n",
       "\n",
       "                                            customer estimated availability  \n",
       "0  North York (Armour Heights / Wilson Heights / ...     2022-04-02 5:17 PM  \n",
       "1  West Toronto (Brockton / Parkdale Village / Ex...     2022-04-02 5:49 PM  \n",
       "2                          York (Fairbank / Oakwood)     2022-04-02 6:17 PM  \n",
       "3                         East Toronto (The Beaches)     2022-04-02 5:53 PM  \n",
       "4              Downtown Toronto (Central Bay Street)     2022-04-02 5:24 PM  "
      ]
     },
     "execution_count": 20,
     "metadata": {},
     "output_type": "execute_result"
    }
   ],
   "source": [
    "df_3"
   ]
  },
  {
   "cell_type": "markdown",
   "id": "ac9bdf61",
   "metadata": {},
   "source": [
    "## Sets"
   ]
  },
  {
   "cell_type": "code",
   "execution_count": 21,
   "id": "c86c2b28",
   "metadata": {},
   "outputs": [
    {
     "data": {
      "text/plain": [
       "[0, 1, 2]"
      ]
     },
     "execution_count": 21,
     "metadata": {},
     "output_type": "execute_result"
    }
   ],
   "source": [
    "vehicle = np.arange(0, len(df_drivers)).tolist() \n",
    "vehicle"
   ]
  },
  {
   "cell_type": "code",
   "execution_count": 6,
   "id": "1d5298bd",
   "metadata": {},
   "outputs": [
    {
     "data": {
      "text/plain": [
       "['Downtown Toronto (Richmond / Adelaide / King)',\n",
       " 'Downtown Toronto (St. James Park)',\n",
       " 'Downtown Toronto (Church and Wellesley)']"
      ]
     },
     "execution_count": 6,
     "metadata": {},
     "output_type": "execute_result"
    }
   ],
   "source": [
    "start_region = []\n",
    "for v in vehicle:\n",
    "    start_region.append(df_drivers[\"start region\"][v])\n",
    "start_region"
   ]
  },
  {
   "cell_type": "code",
   "execution_count": 7,
   "id": "d9773599",
   "metadata": {},
   "outputs": [
    {
     "data": {
      "text/plain": [
       "['Downtown Toronto (Central Bay Street)',\n",
       " 'Downtown Toronto (Christie)',\n",
       " 'Downtown Toronto (Ryerson)',\n",
       " 'Downtown Toronto (St. James Park)',\n",
       " 'Downtown Toronto (Kensington Market / Chinatown / Grange Park)']"
      ]
     },
     "execution_count": 7,
     "metadata": {},
     "output_type": "execute_result"
    }
   ],
   "source": [
    "restaurant = df_3[\"restaurant\"].unique().tolist()\n",
    "restaurant"
   ]
  },
  {
   "cell_type": "code",
   "execution_count": 8,
   "id": "4bd90f8d",
   "metadata": {},
   "outputs": [
    {
     "data": {
      "text/plain": [
       "['North York (Armour Heights / Wilson Heights / Downsview North)',\n",
       " 'West Toronto (Brockton / Parkdale Village / Exhibition Place)',\n",
       " 'York (Fairbank / Oakwood)',\n",
       " 'East Toronto (The Beaches)',\n",
       " 'Downtown Toronto (Central Bay Street)']"
      ]
     },
     "execution_count": 8,
     "metadata": {},
     "output_type": "execute_result"
    }
   ],
   "source": [
    "customer = df_3[\"customer\"].unique().tolist()\n",
    "customer"
   ]
  },
  {
   "cell_type": "code",
   "execution_count": 9,
   "id": "0958e8aa",
   "metadata": {
    "scrolled": true
   },
   "outputs": [
    {
     "data": {
      "text/plain": [
       "{0: 'Downtown Toronto (Richmond / Adelaide / King)',\n",
       " 1: 'Downtown Toronto (St. James Park)',\n",
       " 2: 'Downtown Toronto (Church and Wellesley)',\n",
       " 3: 'Downtown Toronto (Central Bay Street)',\n",
       " 4: 'Downtown Toronto (Christie)',\n",
       " 5: 'Downtown Toronto (Ryerson)',\n",
       " 6: 'Downtown Toronto (St. James Park)',\n",
       " 7: 'Downtown Toronto (Kensington Market / Chinatown / Grange Park)',\n",
       " 8: 'North York (Armour Heights / Wilson Heights / Downsview North)',\n",
       " 9: 'West Toronto (Brockton / Parkdale Village / Exhibition Place)',\n",
       " 10: 'York (Fairbank / Oakwood)',\n",
       " 11: 'East Toronto (The Beaches)',\n",
       " 12: 'Downtown Toronto (Central Bay Street)'}"
      ]
     },
     "execution_count": 9,
     "metadata": {},
     "output_type": "execute_result"
    }
   ],
   "source": [
    "loc_index = {}\n",
    "locations = start_region + restaurant + customer\n",
    "\n",
    "for i, location in enumerate(locations):\n",
    "    loc_index[i] = location\n",
    "loc_index"
   ]
  },
  {
   "cell_type": "code",
   "execution_count": 10,
   "id": "7d780985",
   "metadata": {},
   "outputs": [
    {
     "data": {
      "text/plain": [
       "[0, 1, 2, 3, 4, 5, 6, 7, 8, 9, 10, 11, 12]"
      ]
     },
     "execution_count": 10,
     "metadata": {},
     "output_type": "execute_result"
    }
   ],
   "source": [
    "start = np.arange(0, len(loc_index)).tolist()\n",
    "start"
   ]
  },
  {
   "cell_type": "code",
   "execution_count": 11,
   "id": "14e73d38",
   "metadata": {},
   "outputs": [
    {
     "data": {
      "text/plain": [
       "[3, 4, 5, 6, 7, 8, 9, 10, 11, 12]"
      ]
     },
     "execution_count": 11,
     "metadata": {},
     "output_type": "execute_result"
    }
   ],
   "source": [
    "end = start[len(start_region):]\n",
    "end"
   ]
  },
  {
   "cell_type": "code",
   "execution_count": 12,
   "id": "70906b82",
   "metadata": {},
   "outputs": [
    {
     "data": {
      "text/plain": [
       "[0, 1, 2]"
      ]
     },
     "execution_count": 12,
     "metadata": {},
     "output_type": "execute_result"
    }
   ],
   "source": [
    "start_regions = start[:len(start_region)]\n",
    "start_regions"
   ]
  },
  {
   "cell_type": "code",
   "execution_count": 13,
   "id": "328cb27b",
   "metadata": {},
   "outputs": [
    {
     "data": {
      "text/plain": [
       "[3, 4, 5, 6, 7]"
      ]
     },
     "execution_count": 13,
     "metadata": {},
     "output_type": "execute_result"
    }
   ],
   "source": [
    "restaurants = start[len(start_region):-len(customer)]\n",
    "restaurants"
   ]
  },
  {
   "cell_type": "code",
   "execution_count": 14,
   "id": "f1508ee2",
   "metadata": {},
   "outputs": [
    {
     "data": {
      "text/plain": [
       "[8, 9, 10, 11, 12]"
      ]
     },
     "execution_count": 14,
     "metadata": {},
     "output_type": "execute_result"
    }
   ],
   "source": [
    "customers = start[-len(customer):]\n",
    "customers"
   ]
  },
  {
   "cell_type": "code",
   "execution_count": 15,
   "id": "1041f2a9",
   "metadata": {},
   "outputs": [
    {
     "data": {
      "text/plain": [
       "[0, 1, 2, 3, 4, 5, 6, 7, 8, 9, 10, 11, 12]"
      ]
     },
     "execution_count": 15,
     "metadata": {},
     "output_type": "execute_result"
    }
   ],
   "source": [
    "step = np.arange(0, len(locations)).tolist()\n",
    "step"
   ]
  },
  {
   "cell_type": "code",
   "execution_count": 16,
   "id": "c50ec824",
   "metadata": {},
   "outputs": [
    {
     "name": "stdout",
     "output_type": "stream",
     "text": [
      "[['Downtown Toronto (Central Bay Street)', 'North York (Armour Heights / Wilson Heights / Downsview North)'], ['Downtown Toronto (Christie)', 'West Toronto (Brockton / Parkdale Village / Exhibition Place)'], ['Downtown Toronto (Ryerson)', 'York (Fairbank / Oakwood)'], ['Downtown Toronto (St. James Park)', 'East Toronto (The Beaches)'], ['Downtown Toronto (Kensington Market / Chinatown / Grange Park)', 'Downtown Toronto (Central Bay Street)']]\n"
     ]
    }
   ],
   "source": [
    "list_order = []\n",
    "for index, row in df_3.iterrows():\n",
    "    list_order.append([row[\"restaurant\"], row[\"customer\"]])\n",
    "print(list_order)"
   ]
  },
  {
   "cell_type": "markdown",
   "id": "cb190890",
   "metadata": {},
   "source": [
    "## Parameters"
   ]
  },
  {
   "cell_type": "code",
   "execution_count": 23,
   "id": "be0c1b01",
   "metadata": {},
   "outputs": [],
   "source": [
    "restaurant_index = {}\n",
    "for key in restaurants:\n",
    "    for value in restaurant:\n",
    "        restaurant_index[key] = value\n",
    "        restaurant.remove(value)\n",
    "        break  "
   ]
  },
  {
   "cell_type": "code",
   "execution_count": 24,
   "id": "2eecb8c4",
   "metadata": {},
   "outputs": [
    {
     "data": {
      "text/plain": [
       "{3: 'Downtown Toronto (Central Bay Street)',\n",
       " 4: 'Downtown Toronto (Christie)',\n",
       " 5: 'Downtown Toronto (Ryerson)',\n",
       " 6: 'Downtown Toronto (St. James Park)',\n",
       " 7: 'Downtown Toronto (Kensington Market / Chinatown / Grange Park)'}"
      ]
     },
     "execution_count": 24,
     "metadata": {},
     "output_type": "execute_result"
    }
   ],
   "source": [
    "restaurant_index"
   ]
  },
  {
   "cell_type": "code",
   "execution_count": 25,
   "id": "6e282e0a",
   "metadata": {},
   "outputs": [],
   "source": [
    "customer_index = {}\n",
    "for key in customers:\n",
    "    for value in customer:\n",
    "        customer_index[key] = value\n",
    "        customer.remove(value)\n",
    "        break  "
   ]
  },
  {
   "cell_type": "code",
   "execution_count": 26,
   "id": "9282ae38",
   "metadata": {},
   "outputs": [
    {
     "data": {
      "text/plain": [
       "{3: 'Downtown Toronto (Central Bay Street)',\n",
       " 4: 'Downtown Toronto (Christie)',\n",
       " 5: 'Downtown Toronto (Ryerson)',\n",
       " 6: 'Downtown Toronto (St. James Park)',\n",
       " 7: 'Downtown Toronto (Kensington Market / Chinatown / Grange Park)'}"
      ]
     },
     "execution_count": 26,
     "metadata": {},
     "output_type": "execute_result"
    }
   ],
   "source": [
    "restaurant_index"
   ]
  },
  {
   "cell_type": "code",
   "execution_count": 27,
   "id": "342d793a",
   "metadata": {},
   "outputs": [],
   "source": [
    "location_distance = {}\n",
    "for i in start:\n",
    "    for j in end: \n",
    "        if loc_index[i] == loc_index[j]:\n",
    "            location_distance[(i,j)] = 0 \n",
    "        else:\n",
    "            location_distance[(i,j)] = df_distance[(df_distance[\"origin\"] == loc_index[i]) &(df_distance[\"destination\"] == loc_index[j])][\"distance\"].item()\n",
    "            "
   ]
  },
  {
   "cell_type": "code",
   "execution_count": 28,
   "id": "4974e2de",
   "metadata": {},
   "outputs": [
    {
     "data": {
      "text/plain": [
       "{3: 17.0, 4: 49.0, 5: 77.0, 6: 53.0, 7: 24.0, 8: 0, 9: 0, 10: 0, 11: 0, 12: 0}"
      ]
     },
     "execution_count": 28,
     "metadata": {},
     "output_type": "execute_result"
    }
   ],
   "source": [
    "min_arrival_time_mins = {}\n",
    "for j in end:\n",
    "    if j in restaurants:\n",
    "        delta = pd.to_datetime(df_3.loc[df_3[\"restaurant\"] == loc_index[j]][\"estimated availability\"].tolist()[0]) - start_time\n",
    "        min_arrival_time_mins[j] = delta/datetime.timedelta(minutes=1)\n",
    "    if j in customers: \n",
    "        min_arrival_time_mins[j] = 0 \n",
    "min_arrival_time_mins\n",
    "#0,1,2 are start regions"
   ]
  },
  {
   "cell_type": "code",
   "execution_count": 29,
   "id": "d8c5bd7b",
   "metadata": {},
   "outputs": [
    {
     "data": {
      "text/plain": [
       "{0: 'Downtown Toronto (Richmond / Adelaide / King)',\n",
       " 1: 'Downtown Toronto (St. James Park)',\n",
       " 2: 'Downtown Toronto (Church and Wellesley)'}"
      ]
     },
     "execution_count": 29,
     "metadata": {},
     "output_type": "execute_result"
    }
   ],
   "source": [
    "drivers_start = {}\n",
    "for v in vehicle:\n",
    "    drivers_start[v] = df_drivers.iloc[v][0]\n",
    "drivers_start"
   ]
  },
  {
   "cell_type": "code",
   "execution_count": 30,
   "id": "2f273ddc",
   "metadata": {},
   "outputs": [
    {
     "data": {
      "text/plain": [
       "{0: 1.5, 1: 1.7142857142857142, 2: 1.875}"
      ]
     },
     "execution_count": 30,
     "metadata": {},
     "output_type": "execute_result"
    }
   ],
   "source": [
    "drivers_velocity = {}\n",
    "for v in vehicle:\n",
    "    drivers_velocity[v] = 60 /df_drivers.iloc[v][1] # convert to minutes / km \n",
    "drivers_velocity  "
   ]
  },
  {
   "cell_type": "code",
   "execution_count": 31,
   "id": "24c87abb",
   "metadata": {},
   "outputs": [],
   "source": [
    "#Calculate travel time for each distance between i and j\n",
    "wait_time = 5\n",
    "\n",
    "travel_time = {}\n",
    "for i in start:\n",
    "    for j in end:\n",
    "        for v in vehicle:\n",
    "            if i == j:\n",
    "                travel_time[(i,j,v)] = 0 \n",
    "            else: \n",
    "                if i in customers:\n",
    "                    travel_time[(i,j,v)] = location_distance[(i,j)]*drivers_velocity[v] + wait_time\n",
    "                else:\n",
    "                    travel_time[(i,j,v)] = location_distance[(i,j)]*drivers_velocity[v] "
   ]
  },
  {
   "cell_type": "markdown",
   "id": "d87b5783",
   "metadata": {},
   "source": [
    "### Variables"
   ]
  },
  {
   "cell_type": "code",
   "execution_count": 32,
   "id": "81371dee",
   "metadata": {},
   "outputs": [],
   "source": [
    "xvar = pulp.LpVariable.dict(\"x\", (start, end, vehicle, step), cat=pulp.LpBinary)\n",
    "dvar = pulp.LpVariable.dict(\"d\", (vehicle, step), lowBound=0.0, cat=pulp.LpContinuous)\n",
    "wvar = pulp.LpVariable.dict(\"w\", (end, vehicle, step), lowBound=0.0, cat=pulp.LpContinuous)\n",
    "zvar = pulp.LpVariable.dict(\"z\", (vehicle, step), lowBound=0.0, cat=pulp.LpContinuous)"
   ]
  },
  {
   "cell_type": "markdown",
   "id": "42b9d882",
   "metadata": {},
   "source": [
    "### Model & Constraints"
   ]
  },
  {
   "cell_type": "code",
   "execution_count": 32,
   "id": "4900eeef",
   "metadata": {},
   "outputs": [],
   "source": [
    "flowmodel = pulp.LpProblem(name = \"FlowModel\", sense = pulp.LpMinimize)\n",
    "\n",
    "# Constraint: every location visited once by one vehicle\n",
    "for j in end: \n",
    "    flowmodel += pulp.lpSum([xvar[(i,j,v,t)] for i in start for v in vehicle for t in step]) == 1\n",
    "\n",
    "\n",
    "# Constraint: Conservation of flow: use \">=\" as some drivers may end their tour earlier than step T\n",
    "for v in vehicle:  \n",
    "    for t in step[:-1]:\n",
    "        for j in end:\n",
    "            flowmodel += (pulp.lpSum([xvar[(i,j,v,t)] for i in start]) >= pulp.lpSum([xvar[(j,k,v,t+1)] for k in end]))\n",
    "\n",
    "            \n",
    "# Constraint: Each driver starts at their own region and has an outflow of 1 in the first step, others are zero\n",
    "for v in vehicle:\n",
    "    flowmodel += pulp.lpSum(xvar[(v,j,v,0)] for j in end) == 1\n",
    "    flowmodel += pulp.lpSum(xvar[(j,j,v,0)] for j in end) == 0\n",
    "    # each driver only starts from their starting region once\n",
    "    flowmodel += pulp.lpSum(xvar[(v,j,v,t)] for j in end for t in step[1:]) == 0\n",
    "    # each driver cannot start from other locations\n",
    "    vehicle_copy = vehicle.copy()\n",
    "    vehicle_copy.remove(v)\n",
    "    flowmodel += pulp.lpSum(xvar[(a,j,v,t)] for a in vehicle_copy for j in end for t in step[1:]) == 0\n",
    "\n",
    "\n",
    "# Constraint: for each vehicle at each time step, there should be only 1 xvar <= 1 (=0 if nothing happened within this time block)\n",
    "for v in vehicle:\n",
    "    for t in step:\n",
    "        flowmodel += pulp.lpSum(xvar[(i,j,v,t)] for i in start for j in end) <= 1\n",
    "        \n",
    "    \n",
    "# Constraint: make sure driver goes to a restaurant before delivering the food\n",
    "def get_key_from_restaurant(val):\n",
    "    for key, value in restaurant_index.items():\n",
    "         if val == value:\n",
    "                return key\n",
    "            \n",
    "def get_key_from_customer(val):\n",
    "    for key, value in customer_index.items():\n",
    "         if val == value:\n",
    "                return key\n",
    "    \n",
    "def find_restaurant_of_customer(customer):\n",
    "    for order in list_order:\n",
    "        if customer == get_key_from_customer(order[1]):\n",
    "            return get_key_from_restaurant(order[0])\n",
    "        \n",
    "for t in step: \n",
    "    for v in vehicle:\n",
    "        for j in end: \n",
    "            if j in customers: \n",
    "                flowmodel += pulp.lpSum( [xvar[i,j,v,t] for i in start]) <= pulp.lpSum([xvar[i, find_restaurant_of_customer(j),v, t_] for i in start for t_ in step[:t]])\n",
    "\n",
    "                \n",
    "# # Constraint: Time to arrive at the location of the t-th step\n",
    "for v in vehicle:\n",
    "    for t in step:\n",
    "        if t == 0: \n",
    "            flowmodel += dvar[v,t] >= pulp.lpSum([ xvar[(i,j,v,0)] * min_arrival_time_mins[j] for i in start for j in end])\n",
    "            flowmodel += dvar[v,t] >= pulp.lpSum([ xvar[(i,j,v,t)] * travel_time[(i,j,v)] for i in start for j in end])\n",
    "        else:\n",
    "            flowmodel += dvar[v,t] >= (dvar[v,t-1] + pulp.lpSum([ xvar[(i,j,v,t)] * travel_time[(i,j,v)] for i in start for j in end]))      \n",
    "\n",
    "            \n",
    "# # Constraint: if arriving at location j, ensures time is at least the min_arrival_time_mins\n",
    "for t in step:\n",
    "    for i in start:\n",
    "        for j in end:\n",
    "            for v in vehicle:\n",
    "                flowmodel += dvar[v,t] >= min_arrival_time_mins[j] * xvar[i,j,v,t]\n",
    "\n",
    "\n",
    "\n",
    "# Constraint: define waiting time of each order at step t: wvar[j,t]\n",
    "for v in vehicle:\n",
    "    for t in step:\n",
    "        for j in end:\n",
    "            if j in restaurants:\n",
    "                flowmodel += wvar[(j,v,t)]  == 0\n",
    "            else:\n",
    "                flowmodel += wvar[(j,v,t)] == dvar[v,t] - pulp.lpSum([ min_arrival_time_mins[find_restaurant_of_customer(j)] * xvar[(i,j,v,t)] for i in start])\n",
    "\n",
    "                \n",
    "# Constraint: ensures the average waiting time of the orders is lower than the maximum W\n",
    "M = 100000\n",
    "for t in step:\n",
    "    for i in start:\n",
    "        for j in end:\n",
    "            for v in vehicle:\n",
    "                if t == 0:\n",
    "                    flowmodel += zvar[v,t] == 0 \n",
    "                else: \n",
    "                    flowmodel += zvar[v,t] >= zvar[v,t-1] + wvar[(j,v,t)] - M * (1 - xvar[(i,j,v,t)])\n",
    "                    flowmodel += zvar[v,t] <= zvar[v,t-1] + wvar[(j,v,t)] + M * (1 - xvar[(i,j,v,t)])\n",
    "\n",
    "                \n",
    "for v in vehicle:\n",
    "    for t in step:\n",
    "        flowmodel += pulp.lpSum(zvar[v,t]) <= W * len(customers)\n",
    " "
   ]
  },
  {
   "cell_type": "markdown",
   "id": "aac943c9",
   "metadata": {},
   "source": [
    "### Objective Functions"
   ]
  },
  {
   "cell_type": "code",
   "execution_count": 33,
   "id": "a4faa866",
   "metadata": {},
   "outputs": [],
   "source": [
    "obj = pulp.lpSum([location_distance[(i,j)] * xvar[(i,j,v,t)] for i in start for j in end for v in vehicle for t in step])\n",
    "flowmodel += obj"
   ]
  },
  {
   "cell_type": "markdown",
   "id": "4079ee88",
   "metadata": {},
   "source": [
    "### Solution Process"
   ]
  },
  {
   "cell_type": "code",
   "execution_count": null,
   "id": "fc5edeb5",
   "metadata": {},
   "outputs": [
    {
     "name": "stdout",
     "output_type": "stream",
     "text": [
      "Welcome to the CBC MILP Solver \n",
      "Version: 2.10.3 \n",
      "Build Date: Dec 15 2019 \n",
      "\n",
      "command line - /opt/conda/lib/python3.8/site-packages/pulp/apis/../solverdir/cbc/linux/64/cbc /tmp/fd1015f985af4109ac4de7729ddaa06c-pulp.mps timeMode elapsed branch printingOptions all solution /tmp/fd1015f985af4109ac4de7729ddaa06c-pulp.sol (default strategy 1)\n",
      "At line 2 NAME          MODEL\n",
      "At line 3 ROWS\n",
      "At line 15912 COLUMNS\n",
      "At line 121390 RHS\n",
      "At line 137298 BOUNDS\n",
      "At line 142369 ENDATA\n",
      "Problem MODEL has 15907 rows, 5538 columns and 90774 elements\n",
      "Coin0008I MODEL read with 0 errors\n",
      "Option for timeMode changed from cpu to elapsed\n",
      "Continuous objective value is 4.3129 - 0.10 seconds\n",
      "Cgl0002I 1290 variables fixed\n",
      "Cgl0003I 217 fixed, 0 tightened bounds, 5578 strengthened rows, 0 substitutions\n",
      "Cgl0003I 8 fixed, 0 tightened bounds, 5087 strengthened rows, 0 substitutions\n",
      "Cgl0003I 0 fixed, 0 tightened bounds, 5053 strengthened rows, 0 substitutions\n",
      "Cgl0003I 25 fixed, 0 tightened bounds, 59 strengthened rows, 0 substitutions\n",
      "Cgl0003I 6 fixed, 0 tightened bounds, 21 strengthened rows, 0 substitutions\n",
      "Cgl0003I 0 fixed, 0 tightened bounds, 7 strengthened rows, 0 substitutions\n",
      "Cgl0003I 0 fixed, 0 tightened bounds, 2 strengthened rows, 0 substitutions\n",
      "Cgl0003I 0 fixed, 0 tightened bounds, 2 strengthened rows, 0 substitutions\n",
      "Cgl0003I 0 fixed, 0 tightened bounds, 2 strengthened rows, 0 substitutions\n",
      "Cgl0003I 0 fixed, 0 tightened bounds, 2 strengthened rows, 0 substitutions\n",
      "Cgl0003I 0 fixed, 0 tightened bounds, 2 strengthened rows, 0 substitutions\n",
      "Cgl0003I 0 fixed, 0 tightened bounds, 2 strengthened rows, 0 substitutions\n",
      "Cgl0003I 0 fixed, 0 tightened bounds, 2 strengthened rows, 0 substitutions\n",
      "Cgl0004I processed model has 9379 rows, 3629 columns (3374 integer (3374 of which binary)) and 71309 elements\n",
      "Cbc0038I Initial state - 89 integers unsatisfied sum - 8.21678\n",
      "Cbc0038I Pass   1: (2.78 seconds) suminf.    6.00000 (31) obj. 39.2198 iterations 1025\n",
      "Cbc0038I Pass   2: (2.79 seconds) suminf.    6.00000 (31) obj. 39.2198 iterations 26\n",
      "Cbc0038I Pass   3: (2.90 seconds) suminf.    3.42857 (17) obj. 37.9039 iterations 520\n",
      "Cbc0038I Pass   4: (2.97 seconds) suminf.    1.00166 (22) obj. 43.3408 iterations 312\n",
      "Cbc0038I Pass   5: (3.34 seconds) suminf.    1.00014 (11) obj. 43.3456 iterations 1466\n",
      "Cbc0038I Pass   6: (3.42 seconds) suminf.    0.00128 (6) obj. 45.3833 iterations 241\n",
      "Cbc0038I Pass   7: (3.42 seconds) suminf.    0.00128 (6) obj. 45.3833 iterations 0\n",
      "Cbc0038I Pass   8: (3.92 seconds) suminf.    0.00214 (75) obj. 45.3856 iterations 1962\n",
      "Cbc0038I Pass   9: (4.24 seconds) suminf.    0.00128 (6) obj. 45.3862 iterations 1213\n",
      "Cbc0038I Pass  10: (4.69 seconds) suminf.    0.00128 (18) obj. 45.3849 iterations 1729\n",
      "Cbc0038I Pass  11: (4.99 seconds) suminf.    5.28571 (29) obj. 46.6009 iterations 1173\n",
      "Cbc0038I Pass  12: (5.25 seconds) suminf.    5.00000 (22) obj. 44.4875 iterations 1056\n",
      "Cbc0038I Pass  13: (5.39 seconds) suminf.    1.00014 (11) obj. 43.3455 iterations 596\n",
      "Cbc0038I Pass  14: (5.56 seconds) suminf.    1.00015 (6) obj. 42.326 iterations 548\n",
      "Cbc0038I Pass  15: (5.97 seconds) suminf.    1.00018 (13) obj. 43.3455 iterations 1538\n",
      "Cbc0038I Pass  16: (6.37 seconds) suminf.    1.00017 (28) obj. 43.3457 iterations 1788\n",
      "Cbc0038I Pass  17: (6.66 seconds) suminf.    7.15029 (64) obj. 41.5006 iterations 1030\n",
      "Cbc0038I Pass  18: (6.84 seconds) suminf.    4.33333 (14) obj. 50.08 iterations 932\n",
      "Cbc0038I Pass  19: (6.97 seconds) suminf.    2.00000 (6) obj. 49.9457 iterations 625\n",
      "Cbc0038I Pass  20: (7.09 seconds) suminf.    0.00065 (4) obj. 52.0695 iterations 449\n",
      "Cbc0038I Pass  21: (7.10 seconds) suminf.    0.00065 (4) obj. 52.0695 iterations 0\n",
      "Cbc0038I Pass  22: (7.42 seconds) suminf.    9.59423 (77) obj. 47.6183 iterations 1266\n",
      "Cbc0038I Pass  23: (7.60 seconds) suminf.    7.82403 (72) obj. 46.7677 iterations 834\n",
      "Cbc0038I Pass  24: (7.67 seconds) suminf.    6.00000 (31) obj. 39.2198 iterations 374\n",
      "Cbc0038I Pass  25: (7.69 seconds) suminf.    6.00000 (31) obj. 39.2198 iterations 15\n",
      "Cbc0038I Pass  26: (7.81 seconds) suminf.    3.66667 (16) obj. 38.1313 iterations 547\n",
      "Cbc0038I "
     ]
    }
   ],
   "source": [
    "flowmodel.solve()\n",
    "print(\"Status:\", pulp.LpStatus[flowmodel.status])"
   ]
  },
  {
   "cell_type": "code",
   "execution_count": null,
   "id": "68973cc6",
   "metadata": {},
   "outputs": [],
   "source": [
    "# Total Distance\n",
    "totalDistance =pulp.value(flowmodel.objective)\n",
    "print(\"Total Distance: \" + str(totalDistance))"
   ]
  },
  {
   "cell_type": "code",
   "execution_count": null,
   "id": "5f77e62b",
   "metadata": {},
   "outputs": [],
   "source": [
    "# print solution  \n",
    "for t in step: \n",
    "    print(\"Step: \" + str(t))\n",
    "#     print(\"Total travel time (in minutes) up to this step: \" + str(dvar[t].varValue))\n",
    "    \n",
    "    for v in vehicle:\n",
    "        for i in start: \n",
    "            for j in end: \n",
    "\n",
    "                if xvar[(i,j,v,t)].varValue > 0.0:\n",
    "                    print(\"\\tVehicle: \" + str(v))\n",
    "                    print(\"\\tLeave from \" + str(i) + \": \" + str(loc_index.get(i)))\n",
    "                    print(\"\\tTravel to \" + str(j) + \": \" + str(loc_index.get(j)))\n",
    "\n",
    "                    print(\"\\tWaiting time: \" + str(wvar[(j,v,t)].varValue))\n",
    "                    print(\"\\tTotal waiting time up to this step: \" + str(zvar[v,t].varValue))\n",
    "\n",
    "\n",
    "print(\"Average waiting time: \" + str(zvar[v,t].varValue/len(customers)))\n"
   ]
  },
  {
   "cell_type": "markdown",
   "id": "b0174756",
   "metadata": {},
   "source": [
    "### Loop through W "
   ]
  },
  {
   "cell_type": "code",
   "execution_count": 37,
   "id": "6d151297",
   "metadata": {},
   "outputs": [],
   "source": [
    "W_range = range(50, 200, 10)"
   ]
  },
  {
   "cell_type": "code",
   "execution_count": 42,
   "id": "920aae72",
   "metadata": {},
   "outputs": [],
   "source": [
    "def get_distance(W):\n",
    "    flowmodel = pulp.LpProblem(name = \"FlowModel\", sense = pulp.LpMinimize)\n",
    "\n",
    "    # Constraint: every location visited once by one vehicle\n",
    "    for j in end: \n",
    "        flowmodel += pulp.lpSum([xvar[(i,j,v,t)] for i in start for v in vehicle for t in step]) == 1\n",
    "\n",
    "\n",
    "    # Constraint: Conservation of flow: use \">=\" as some drivers may end their tour earlier than step T\n",
    "    for v in vehicle:  \n",
    "        for t in step[:-1]:\n",
    "            for j in end:\n",
    "                flowmodel += (pulp.lpSum([xvar[(i,j,v,t)] for i in start]) >= pulp.lpSum([xvar[(j,k,v,t+1)] for k in end]))\n",
    "\n",
    "\n",
    "    # Constraint: Each driver starts at their own region and has an outflow of 1 in the first step, others are zero\n",
    "    for v in vehicle:\n",
    "        flowmodel += pulp.lpSum(xvar[(v,j,v,0)] for j in end) == 1\n",
    "        flowmodel += pulp.lpSum(xvar[(j,j,v,0)] for j in end) == 0\n",
    "        # each driver only starts from their starting region once\n",
    "        flowmodel += pulp.lpSum(xvar[(v,j,v,t)] for j in end for t in step[1:]) == 0\n",
    "        # each driver cannot start from other locations\n",
    "        vehicle_copy = vehicle.copy()\n",
    "        vehicle_copy.remove(v)\n",
    "        flowmodel += pulp.lpSum(xvar[(a,j,v,t)] for a in vehicle_copy for j in end for t in step[1:]) == 0\n",
    "\n",
    "\n",
    "    # Constraint: for each vehicle at each time step, there should be only 1 xvar <= 1 (=0 if nothing happened within this time block)\n",
    "    for v in vehicle:\n",
    "        for t in step:\n",
    "            flowmodel += pulp.lpSum(xvar[(i,j,v,t)] for i in start for j in end) <= 1\n",
    "\n",
    "\n",
    "    # Constraint: make sure driver goes to a restaurant before delivering the food\n",
    "    def get_key_from_restaurant(val):\n",
    "        for key, value in restaurant_index.items():\n",
    "             if val == value:\n",
    "                    return key\n",
    "\n",
    "    def get_key_from_customer(val):\n",
    "        for key, value in customer_index.items():\n",
    "             if val == value:\n",
    "                    return key\n",
    "\n",
    "    def find_restaurant_of_customer(customer):\n",
    "        for order in list_order:\n",
    "            if customer == get_key_from_customer(order[1]):\n",
    "                return get_key_from_restaurant(order[0])\n",
    "\n",
    "    for t in step: \n",
    "        for v in vehicle:\n",
    "            for j in end: \n",
    "                if j in customers: \n",
    "                    flowmodel += pulp.lpSum( [xvar[i,j,v,t] for i in start]) <= pulp.lpSum([xvar[i, find_restaurant_of_customer(j),v, t_] for i in start for t_ in step[:t]])\n",
    "\n",
    "\n",
    "    # # Constraint: Time to arrive at the location of the t-th step\n",
    "    for v in vehicle:\n",
    "        for t in step:\n",
    "            if t == 0: \n",
    "                flowmodel += dvar[v,t] >= pulp.lpSum([ xvar[(i,j,v,0)] * min_arrival_time_mins[j] for i in start for j in end])\n",
    "                flowmodel += dvar[v,t] >= pulp.lpSum([ xvar[(i,j,v,t)] * travel_time[(i,j,v)] for i in start for j in end])\n",
    "            else:\n",
    "                flowmodel += dvar[v,t] >= (dvar[v,t-1] + pulp.lpSum([ xvar[(i,j,v,t)] * travel_time[(i,j,v)] for i in start for j in end]))      \n",
    "\n",
    "\n",
    "    # # Constraint: if arriving at location j, ensures time is at least the min_arrival_time_mins\n",
    "    for t in step:\n",
    "        for i in start:\n",
    "            for j in end:\n",
    "                for v in vehicle:\n",
    "                    flowmodel += dvar[v,t] >= min_arrival_time_mins[j] * xvar[i,j,v,t]\n",
    "\n",
    "\n",
    "\n",
    "    # Constraint: define waiting time of each order at step t: wvar[j,t]\n",
    "    for v in vehicle:\n",
    "        for t in step:\n",
    "            for j in end:\n",
    "                if j in restaurants:\n",
    "                    flowmodel += wvar[(j,v,t)]  == 0\n",
    "                else:\n",
    "                    flowmodel += wvar[(j,v,t)] == dvar[v,t] - pulp.lpSum([ min_arrival_time_mins[find_restaurant_of_customer(j)] * xvar[(i,j,v,t)] for i in start])\n",
    "\n",
    "\n",
    "\n",
    "    # New Measure: Instead of using the averge, we put on the constraint on the waiting time for each customer \n",
    "    for v in vehicle:\n",
    "        for t in step:\n",
    "            for j in end:\n",
    "                flowmodel += wvar[(j,v,t)] <= W\n",
    "\n",
    "        \n",
    "    obj = pulp.lpSum([location_distance[(i,j)] * xvar[(i,j,v,t)] for i in start for j in end for v in vehicle for t in step])\n",
    "    flowmodel += obj \n",
    "    \n",
    "    optimal = flowmodel.solve()\n",
    "    #print(optimal)\n",
    "\n",
    "    if optimal == 1:\n",
    "        return pulp.value(flowmodel.objective)\n",
    "    else:\n",
    "        return 0 \n"
   ]
  },
  {
   "cell_type": "code",
   "execution_count": 43,
   "id": "42571200",
   "metadata": {},
   "outputs": [],
   "source": [
    "distance_list = []\n",
    "\n",
    "for W in W_range:\n",
    "    distance_list.append(get_distance(W))"
   ]
  },
  {
   "cell_type": "code",
   "execution_count": 44,
   "id": "b22b2145",
   "metadata": {},
   "outputs": [
    {
     "data": {
      "text/plain": [
       "[0,\n",
       " 0,\n",
       " 0,\n",
       " 0,\n",
       " 36.6637821338863,\n",
       " 36.6637821338863,\n",
       " 30.544085866191324,\n",
       " 30.544085866191324,\n",
       " 30.544085866191324,\n",
       " 30.544085866191324,\n",
       " 30.544085866191324,\n",
       " 30.544085866191324,\n",
       " 30.544085866191324,\n",
       " 30.544085866191324,\n",
       " 30.544085866191324]"
      ]
     },
     "execution_count": 44,
     "metadata": {},
     "output_type": "execute_result"
    }
   ],
   "source": [
    "distance_list"
   ]
  },
  {
   "cell_type": "code",
   "execution_count": 45,
   "id": "f6dee72c",
   "metadata": {
    "scrolled": true
   },
   "outputs": [
    {
     "data": {
      "text/plain": [
       "Text(0.5, 1.0, 'Trade-off Curve')"
      ]
     },
     "execution_count": 45,
     "metadata": {},
     "output_type": "execute_result"
    },
    {
     "data": {
      "image/png": "[encoded data removed]",
      "text/plain": [
       "<Figure size 432x288 with 1 Axes>"
      ]
     },
     "metadata": {
      "needs_background": "light"
     },
     "output_type": "display_data"
    }
   ],
   "source": [
    "plt.plot(W_range, distance_list, marker='x')\n",
    "plt.xlabel(\"Possible values of W\")\n",
    "plt.ylabel(\"Minimum Distance\")\n",
    "plt.title(\"Trade-off Curve\")"
   ]
  },
  {
   "cell_type": "code",
   "execution_count": null,
   "id": "a0508b8b",
   "metadata": {},
   "outputs": [],
   "source": []
  },
  {
   "cell_type": "code",
   "execution_count": null,
   "id": "5a7baf0b",
   "metadata": {},
   "outputs": [],
   "source": []
  },
  {
   "cell_type": "code",
   "execution_count": null,
   "id": "c95456e6",
   "metadata": {},
   "outputs": [],
   "source": []
  },
  {
   "cell_type": "code",
   "execution_count": null,
   "id": "501c9e92",
   "metadata": {},
   "outputs": [],
   "source": []
  },
  {
   "cell_type": "code",
   "execution_count": null,
   "id": "bf6dac8d",
   "metadata": {},
   "outputs": [],
   "source": []
  },
  {
   "cell_type": "code",
   "execution_count": null,
   "id": "a659b478",
   "metadata": {},
   "outputs": [],
   "source": []
  },
  {
   "cell_type": "code",
   "execution_count": null,
   "id": "c32aae9d",
   "metadata": {},
   "outputs": [],
   "source": []
  },
  {
   "cell_type": "code",
   "execution_count": null,
   "id": "11936dfd",
   "metadata": {},
   "outputs": [],
   "source": []
  }
 ],
 "metadata": {
  "kernelspec": {
   "display_name": "Python 3",
   "language": "python",
   "name": "python3"
  },
  "language_info": {
   "codemirror_mode": {
    "name": "ipython",
    "version": 3
   },
   "file_extension": ".py",
   "mimetype": "text/x-python",
   "name": "python",
   "nbconvert_exporter": "python",
   "pygments_lexer": "ipython3",
   "version": "3.8.8"
  }
 },
 "nbformat": 4,
 "nbformat_minor": 5
}
