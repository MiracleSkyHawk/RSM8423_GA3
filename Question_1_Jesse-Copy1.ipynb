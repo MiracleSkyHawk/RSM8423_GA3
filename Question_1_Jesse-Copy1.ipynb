{
 "cells": [
  {
   "cell_type": "code",
   "execution_count": 1,
   "id": "ef7f78bf",
   "metadata": {},
   "outputs": [],
   "source": [
    "# pip install pulp"
   ]
  },
  {
   "cell_type": "code",
   "execution_count": 2,
   "id": "196cc0c5",
   "metadata": {},
   "outputs": [],
   "source": [
    "import pulp\n",
    "from pulp import *\n",
    "\n",
    "import numpy as np\n",
    "import pandas as pd\n",
    "\n",
    "import datetime\n",
    "import matplotlib.pyplot as plt"
   ]
  },
  {
   "cell_type": "markdown",
   "id": "bbad3484",
   "metadata": {},
   "source": [
    "## Load Data"
   ]
  },
  {
   "cell_type": "code",
   "execution_count": 3,
   "id": "e4f4122e",
   "metadata": {},
   "outputs": [],
   "source": [
    "file_path = 'CSV_Files_Food_Delivery/'"
   ]
  },
  {
   "cell_type": "code",
   "execution_count": 4,
   "id": "5b196265",
   "metadata": {},
   "outputs": [],
   "source": [
    "df_distances = pd.read_csv(file_path + 'distances.csv')\n",
    "\n",
    "df_ordersA = pd.read_csv(file_path + 'part1_ordersA.csv')\n",
    "df_ordersB = pd.read_csv(file_path + 'part1_ordersB.csv')"
   ]
  },
  {
   "cell_type": "code",
   "execution_count": 5,
   "id": "b2eb7863",
   "metadata": {
    "scrolled": true
   },
   "outputs": [
    {
     "data": {
      "text/html": [
       "<div>\n",
       "<style scoped>\n",
       "    .dataframe tbody tr th:only-of-type {\n",
       "        vertical-align: middle;\n",
       "    }\n",
       "\n",
       "    .dataframe tbody tr th {\n",
       "        vertical-align: top;\n",
       "    }\n",
       "\n",
       "    .dataframe thead th {\n",
       "        text-align: right;\n",
       "    }\n",
       "</style>\n",
       "<table border=\"1\" class=\"dataframe\">\n",
       "  <thead>\n",
       "    <tr style=\"text-align: right;\">\n",
       "      <th></th>\n",
       "      <th>origin</th>\n",
       "      <th>destination</th>\n",
       "      <th>distance</th>\n",
       "    </tr>\n",
       "  </thead>\n",
       "  <tbody>\n",
       "    <tr>\n",
       "      <th>0</th>\n",
       "      <td>Scarborough (Malvern / Rouge River)</td>\n",
       "      <td>Scarborough (Rouge Hill / Port Union / Highlan...</td>\n",
       "      <td>3.931478</td>\n",
       "    </tr>\n",
       "    <tr>\n",
       "      <th>1</th>\n",
       "      <td>Scarborough (Malvern / Rouge River)</td>\n",
       "      <td>Scarborough (Guildwood / Morningside / Ellesmere)</td>\n",
       "      <td>4.864191</td>\n",
       "    </tr>\n",
       "    <tr>\n",
       "      <th>2</th>\n",
       "      <td>Scarborough (Malvern / Rouge River)</td>\n",
       "      <td>Scarborough (Woburn)</td>\n",
       "      <td>4.778347</td>\n",
       "    </tr>\n",
       "    <tr>\n",
       "      <th>3</th>\n",
       "      <td>Scarborough (Malvern / Rouge River)</td>\n",
       "      <td>Scarborough (Cedarbrae)</td>\n",
       "      <td>6.009861</td>\n",
       "    </tr>\n",
       "    <tr>\n",
       "      <th>4</th>\n",
       "      <td>Scarborough (Malvern / Rouge River)</td>\n",
       "      <td>Scarborough (Eglinton)</td>\n",
       "      <td>7.876162</td>\n",
       "    </tr>\n",
       "  </tbody>\n",
       "</table>\n",
       "</div>"
      ],
      "text/plain": [
       "                                origin  \\\n",
       "0  Scarborough (Malvern / Rouge River)   \n",
       "1  Scarborough (Malvern / Rouge River)   \n",
       "2  Scarborough (Malvern / Rouge River)   \n",
       "3  Scarborough (Malvern / Rouge River)   \n",
       "4  Scarborough (Malvern / Rouge River)   \n",
       "\n",
       "                                         destination  distance  \n",
       "0  Scarborough (Rouge Hill / Port Union / Highlan...  3.931478  \n",
       "1  Scarborough (Guildwood / Morningside / Ellesmere)  4.864191  \n",
       "2                               Scarborough (Woburn)  4.778347  \n",
       "3                            Scarborough (Cedarbrae)  6.009861  \n",
       "4                             Scarborough (Eglinton)  7.876162  "
      ]
     },
     "execution_count": 5,
     "metadata": {},
     "output_type": "execute_result"
    }
   ],
   "source": [
    "df_distances.head()"
   ]
  },
  {
   "cell_type": "code",
   "execution_count": 6,
   "id": "c58b99c0",
   "metadata": {},
   "outputs": [
    {
     "data": {
      "text/html": [
       "<div>\n",
       "<style scoped>\n",
       "    .dataframe tbody tr th:only-of-type {\n",
       "        vertical-align: middle;\n",
       "    }\n",
       "\n",
       "    .dataframe tbody tr th {\n",
       "        vertical-align: top;\n",
       "    }\n",
       "\n",
       "    .dataframe thead th {\n",
       "        text-align: right;\n",
       "    }\n",
       "</style>\n",
       "<table border=\"1\" class=\"dataframe\">\n",
       "  <thead>\n",
       "    <tr style=\"text-align: right;\">\n",
       "      <th></th>\n",
       "      <th>restaurant</th>\n",
       "      <th>customer</th>\n",
       "    </tr>\n",
       "  </thead>\n",
       "  <tbody>\n",
       "    <tr>\n",
       "      <th>0</th>\n",
       "      <td>Downtown Toronto (Underground city)</td>\n",
       "      <td>Downtown Toronto (Central Bay Street)</td>\n",
       "    </tr>\n",
       "  </tbody>\n",
       "</table>\n",
       "</div>"
      ],
      "text/plain": [
       "                            restaurant                               customer\n",
       "0  Downtown Toronto (Underground city)  Downtown Toronto (Central Bay Street)"
      ]
     },
     "execution_count": 6,
     "metadata": {},
     "output_type": "execute_result"
    }
   ],
   "source": [
    "df_ordersA"
   ]
  },
  {
   "cell_type": "code",
   "execution_count": 7,
   "id": "16b0b8e6",
   "metadata": {},
   "outputs": [
    {
     "data": {
      "text/html": [
       "<div>\n",
       "<style scoped>\n",
       "    .dataframe tbody tr th:only-of-type {\n",
       "        vertical-align: middle;\n",
       "    }\n",
       "\n",
       "    .dataframe tbody tr th {\n",
       "        vertical-align: top;\n",
       "    }\n",
       "\n",
       "    .dataframe thead th {\n",
       "        text-align: right;\n",
       "    }\n",
       "</style>\n",
       "<table border=\"1\" class=\"dataframe\">\n",
       "  <thead>\n",
       "    <tr style=\"text-align: right;\">\n",
       "      <th></th>\n",
       "      <th>restaurant</th>\n",
       "      <th>customer</th>\n",
       "    </tr>\n",
       "  </thead>\n",
       "  <tbody>\n",
       "    <tr>\n",
       "      <th>0</th>\n",
       "      <td>Downtown Toronto (Central Bay Street)</td>\n",
       "      <td>Downtown Toronto (Underground city)</td>\n",
       "    </tr>\n",
       "    <tr>\n",
       "      <th>1</th>\n",
       "      <td>Etobicoke Northwest (Clairville / Humberwood /...</td>\n",
       "      <td>Etobicoke (South Steeles / Silverstone / Humbe...</td>\n",
       "    </tr>\n",
       "    <tr>\n",
       "      <th>2</th>\n",
       "      <td>York (Cedarvale)</td>\n",
       "      <td>Central Toronto (The Annex / North Midtown / Y...</td>\n",
       "    </tr>\n",
       "    <tr>\n",
       "      <th>3</th>\n",
       "      <td>Downtown Toronto (Central Bay Street)</td>\n",
       "      <td>Downtown Toronto (Richmond / Adelaide / King)</td>\n",
       "    </tr>\n",
       "    <tr>\n",
       "      <th>4</th>\n",
       "      <td>Downtown Toronto (Richmond / Adelaide / King)</td>\n",
       "      <td>Downtown Toronto (St. James Town / Cabbagetown)</td>\n",
       "    </tr>\n",
       "  </tbody>\n",
       "</table>\n",
       "</div>"
      ],
      "text/plain": [
       "                                          restaurant  \\\n",
       "0              Downtown Toronto (Central Bay Street)   \n",
       "1  Etobicoke Northwest (Clairville / Humberwood /...   \n",
       "2                                   York (Cedarvale)   \n",
       "3              Downtown Toronto (Central Bay Street)   \n",
       "4      Downtown Toronto (Richmond / Adelaide / King)   \n",
       "\n",
       "                                            customer  \n",
       "0                Downtown Toronto (Underground city)  \n",
       "1  Etobicoke (South Steeles / Silverstone / Humbe...  \n",
       "2  Central Toronto (The Annex / North Midtown / Y...  \n",
       "3      Downtown Toronto (Richmond / Adelaide / King)  \n",
       "4    Downtown Toronto (St. James Town / Cabbagetown)  "
      ]
     },
     "execution_count": 7,
     "metadata": {},
     "output_type": "execute_result"
    }
   ],
   "source": [
    "df_ordersB"
   ]
  },
  {
   "cell_type": "markdown",
   "id": "f642eaaf",
   "metadata": {},
   "source": [
    "# Part I"
   ]
  },
  {
   "cell_type": "markdown",
   "id": "9c4b0f19",
   "metadata": {},
   "source": [
    "## Sets"
   ]
  },
  {
   "cell_type": "code",
   "execution_count": 8,
   "id": "32d497bc",
   "metadata": {},
   "outputs": [],
   "source": [
    "starting_location = 'Downtown Toronto (Rosedale)'"
   ]
  },
  {
   "cell_type": "code",
   "execution_count": 9,
   "id": "ca392c2b",
   "metadata": {},
   "outputs": [],
   "source": [
    "df = df_ordersB"
   ]
  },
  {
   "cell_type": "code",
   "execution_count": 10,
   "id": "4f022e95",
   "metadata": {},
   "outputs": [],
   "source": [
    "# Get start and end locations\n",
    "start_locations = list(df['restaurant'].unique()) + list(df['customer'].unique())\n",
    "end_locations = start_locations.copy()\n",
    "\n",
    "start_locations = list(dict.fromkeys(start_locations))\n",
    "end_locations = list(dict.fromkeys(end_locations))\n",
    "\n",
    "if starting_location in start_locations:\n",
    "    start_locations.remove(starting_location)\n",
    "    start_locations.append(starting_location)\n",
    "else:\n",
    "    start_locations.append(starting_location)"
   ]
  },
  {
   "cell_type": "code",
   "execution_count": 11,
   "id": "2aac45f3",
   "metadata": {},
   "outputs": [],
   "source": [
    "# Get unique Restraurants and Customers\n",
    "restaurants = df['restaurant'].unique().tolist()\n",
    "customers = df['customer'].unique().tolist()"
   ]
  },
  {
   "cell_type": "code",
   "execution_count": 12,
   "id": "41ffda70",
   "metadata": {},
   "outputs": [],
   "source": [
    "num_steps = np.arange(1, len(end_locations)+1).tolist()"
   ]
  },
  {
   "cell_type": "code",
   "execution_count": 13,
   "id": "f2b93016",
   "metadata": {},
   "outputs": [
    {
     "data": {
      "text/plain": [
       "['Downtown Toronto (Central Bay Street)',\n",
       " 'Etobicoke Northwest (Clairville / Humberwood / Woodbine Downs / West Humber / Kipling Heights / Rexdale / Elms / Tandridge / Old Rexdale)',\n",
       " 'York (Cedarvale)',\n",
       " 'Downtown Toronto (Richmond / Adelaide / King)',\n",
       " 'Downtown Toronto (Underground city)',\n",
       " 'Etobicoke (South Steeles / Silverstone / Humbergate / Jamestown / Mount Olive / Beaumond Heights / Thistletown / Albion Gardens)',\n",
       " 'Central Toronto (The Annex / North Midtown / Yorkville)',\n",
       " 'Downtown Toronto (St. James Town / Cabbagetown)']"
      ]
     },
     "execution_count": 13,
     "metadata": {},
     "output_type": "execute_result"
    }
   ],
   "source": [
    "end_locations"
   ]
  },
  {
   "cell_type": "code",
   "execution_count": 14,
   "id": "e4c67bfc",
   "metadata": {},
   "outputs": [
    {
     "data": {
      "text/plain": [
       "[1, 2, 3, 4, 5, 6, 7, 8]"
      ]
     },
     "execution_count": 14,
     "metadata": {},
     "output_type": "execute_result"
    }
   ],
   "source": [
    "num_steps"
   ]
  },
  {
   "cell_type": "code",
   "execution_count": 15,
   "id": "4616571b",
   "metadata": {},
   "outputs": [
    {
     "data": {
      "text/html": [
       "<div>\n",
       "<style scoped>\n",
       "    .dataframe tbody tr th:only-of-type {\n",
       "        vertical-align: middle;\n",
       "    }\n",
       "\n",
       "    .dataframe tbody tr th {\n",
       "        vertical-align: top;\n",
       "    }\n",
       "\n",
       "    .dataframe thead th {\n",
       "        text-align: right;\n",
       "    }\n",
       "</style>\n",
       "<table border=\"1\" class=\"dataframe\">\n",
       "  <thead>\n",
       "    <tr style=\"text-align: right;\">\n",
       "      <th></th>\n",
       "      <th>Restaurant</th>\n",
       "      <th>Customer</th>\n",
       "    </tr>\n",
       "  </thead>\n",
       "  <tbody>\n",
       "    <tr>\n",
       "      <th>0</th>\n",
       "      <td>Downtown Toronto (Central Bay Street)</td>\n",
       "      <td>Downtown Toronto (Underground city)</td>\n",
       "    </tr>\n",
       "    <tr>\n",
       "      <th>1</th>\n",
       "      <td>Etobicoke Northwest (Clairville / Humberwood /...</td>\n",
       "      <td>Etobicoke (South Steeles / Silverstone / Humbe...</td>\n",
       "    </tr>\n",
       "    <tr>\n",
       "      <th>2</th>\n",
       "      <td>York (Cedarvale)</td>\n",
       "      <td>Central Toronto (The Annex / North Midtown / Y...</td>\n",
       "    </tr>\n",
       "    <tr>\n",
       "      <th>3</th>\n",
       "      <td>Downtown Toronto (Central Bay Street)</td>\n",
       "      <td>Downtown Toronto (Richmond / Adelaide / King)</td>\n",
       "    </tr>\n",
       "    <tr>\n",
       "      <th>4</th>\n",
       "      <td>Downtown Toronto (Richmond / Adelaide / King)</td>\n",
       "      <td>Downtown Toronto (St. James Town / Cabbagetown)</td>\n",
       "    </tr>\n",
       "  </tbody>\n",
       "</table>\n",
       "</div>"
      ],
      "text/plain": [
       "                                          Restaurant  \\\n",
       "0              Downtown Toronto (Central Bay Street)   \n",
       "1  Etobicoke Northwest (Clairville / Humberwood /...   \n",
       "2                                   York (Cedarvale)   \n",
       "3              Downtown Toronto (Central Bay Street)   \n",
       "4      Downtown Toronto (Richmond / Adelaide / King)   \n",
       "\n",
       "                                            Customer  \n",
       "0                Downtown Toronto (Underground city)  \n",
       "1  Etobicoke (South Steeles / Silverstone / Humbe...  \n",
       "2  Central Toronto (The Annex / North Midtown / Y...  \n",
       "3      Downtown Toronto (Richmond / Adelaide / King)  \n",
       "4    Downtown Toronto (St. James Town / Cabbagetown)  "
      ]
     },
     "execution_count": 15,
     "metadata": {},
     "output_type": "execute_result"
    }
   ],
   "source": [
    "order_df = pd.DataFrame({'Restaurant':[], 'Customer':[]})\n",
    "\n",
    "for index, row in df.iterrows():\n",
    "    order_df.loc[index, 'Restaurant'] = row[\"restaurant\"]\n",
    "    order_df.loc[index, 'Customer'] = row[\"customer\"]\n",
    "\n",
    "order_df"
   ]
  },
  {
   "cell_type": "code",
   "execution_count": 16,
   "id": "f523065f",
   "metadata": {},
   "outputs": [],
   "source": [
    "travel_df = pd.DataFrame({'Start':[], 'End': [], 'Distance': [], 'Time': []})\n",
    "\n",
    "\n",
    "for i in start_locations:\n",
    "    for j in end_locations: \n",
    "        if i == j:\n",
    "            new_row_data = {'Start': i, 'End': j, 'Distance': 0, 'Time': np.nan}\n",
    "            new_row = pd.DataFrame(new_row_data, index=[0])\n",
    "            travel_df = pd.concat([travel_df, new_row], ignore_index=True)\n",
    "        else:\n",
    "            d_temp = float(df_distances[(df_distances['origin'] == i) & \n",
    "                                                          (df_distances['destination'] == j)]['distance'])\n",
    "            new_row_data = {'Start': i, 'End': j, 'Distance': d_temp, 'Time': np.nan}\n",
    "            new_row = pd.DataFrame(new_row_data, index=[0])\n",
    "            travel_df = pd.concat([travel_df, new_row], ignore_index=True)"
   ]
  },
  {
   "cell_type": "code",
   "execution_count": 17,
   "id": "a0fa2c58",
   "metadata": {},
   "outputs": [
    {
     "data": {
      "text/html": [
       "<div>\n",
       "<style scoped>\n",
       "    .dataframe tbody tr th:only-of-type {\n",
       "        vertical-align: middle;\n",
       "    }\n",
       "\n",
       "    .dataframe tbody tr th {\n",
       "        vertical-align: top;\n",
       "    }\n",
       "\n",
       "    .dataframe thead th {\n",
       "        text-align: right;\n",
       "    }\n",
       "</style>\n",
       "<table border=\"1\" class=\"dataframe\">\n",
       "  <thead>\n",
       "    <tr style=\"text-align: right;\">\n",
       "      <th></th>\n",
       "      <th>Start</th>\n",
       "      <th>End</th>\n",
       "      <th>Distance</th>\n",
       "      <th>Time</th>\n",
       "    </tr>\n",
       "  </thead>\n",
       "  <tbody>\n",
       "    <tr>\n",
       "      <th>0</th>\n",
       "      <td>Downtown Toronto (Central Bay Street)</td>\n",
       "      <td>Downtown Toronto (Central Bay Street)</td>\n",
       "      <td>0.000000</td>\n",
       "      <td>NaN</td>\n",
       "    </tr>\n",
       "    <tr>\n",
       "      <th>1</th>\n",
       "      <td>Downtown Toronto (Central Bay Street)</td>\n",
       "      <td>Etobicoke Northwest (Clairville / Humberwood /...</td>\n",
       "      <td>17.693277</td>\n",
       "      <td>NaN</td>\n",
       "    </tr>\n",
       "    <tr>\n",
       "      <th>2</th>\n",
       "      <td>Downtown Toronto (Central Bay Street)</td>\n",
       "      <td>York (Cedarvale)</td>\n",
       "      <td>5.306327</td>\n",
       "      <td>NaN</td>\n",
       "    </tr>\n",
       "    <tr>\n",
       "      <th>3</th>\n",
       "      <td>Downtown Toronto (Central Bay Street)</td>\n",
       "      <td>Downtown Toronto (Richmond / Adelaide / King)</td>\n",
       "      <td>0.786711</td>\n",
       "      <td>NaN</td>\n",
       "    </tr>\n",
       "    <tr>\n",
       "      <th>4</th>\n",
       "      <td>Downtown Toronto (Central Bay Street)</td>\n",
       "      <td>Downtown Toronto (Underground city)</td>\n",
       "      <td>0.854155</td>\n",
       "      <td>NaN</td>\n",
       "    </tr>\n",
       "    <tr>\n",
       "      <th>...</th>\n",
       "      <td>...</td>\n",
       "      <td>...</td>\n",
       "      <td>...</td>\n",
       "      <td>...</td>\n",
       "    </tr>\n",
       "    <tr>\n",
       "      <th>67</th>\n",
       "      <td>Downtown Toronto (Rosedale)</td>\n",
       "      <td>Downtown Toronto (Richmond / Adelaide / King)</td>\n",
       "      <td>3.772651</td>\n",
       "      <td>NaN</td>\n",
       "    </tr>\n",
       "    <tr>\n",
       "      <th>68</th>\n",
       "      <td>Downtown Toronto (Rosedale)</td>\n",
       "      <td>Downtown Toronto (Underground city)</td>\n",
       "      <td>3.799404</td>\n",
       "      <td>NaN</td>\n",
       "    </tr>\n",
       "    <tr>\n",
       "      <th>69</th>\n",
       "      <td>Downtown Toronto (Rosedale)</td>\n",
       "      <td>Etobicoke (South Steeles / Silverstone / Humbe...</td>\n",
       "      <td>18.513552</td>\n",
       "      <td>NaN</td>\n",
       "    </tr>\n",
       "    <tr>\n",
       "      <th>70</th>\n",
       "      <td>Downtown Toronto (Rosedale)</td>\n",
       "      <td>Central Toronto (The Annex / North Midtown / Y...</td>\n",
       "      <td>2.653323</td>\n",
       "      <td>NaN</td>\n",
       "    </tr>\n",
       "    <tr>\n",
       "      <th>71</th>\n",
       "      <td>Downtown Toronto (Rosedale)</td>\n",
       "      <td>Downtown Toronto (St. James Town / Cabbagetown)</td>\n",
       "      <td>1.623918</td>\n",
       "      <td>NaN</td>\n",
       "    </tr>\n",
       "  </tbody>\n",
       "</table>\n",
       "<p>72 rows × 4 columns</p>\n",
       "</div>"
      ],
      "text/plain": [
       "                                    Start  \\\n",
       "0   Downtown Toronto (Central Bay Street)   \n",
       "1   Downtown Toronto (Central Bay Street)   \n",
       "2   Downtown Toronto (Central Bay Street)   \n",
       "3   Downtown Toronto (Central Bay Street)   \n",
       "4   Downtown Toronto (Central Bay Street)   \n",
       "..                                    ...   \n",
       "67            Downtown Toronto (Rosedale)   \n",
       "68            Downtown Toronto (Rosedale)   \n",
       "69            Downtown Toronto (Rosedale)   \n",
       "70            Downtown Toronto (Rosedale)   \n",
       "71            Downtown Toronto (Rosedale)   \n",
       "\n",
       "                                                  End   Distance  Time  \n",
       "0               Downtown Toronto (Central Bay Street)   0.000000   NaN  \n",
       "1   Etobicoke Northwest (Clairville / Humberwood /...  17.693277   NaN  \n",
       "2                                    York (Cedarvale)   5.306327   NaN  \n",
       "3       Downtown Toronto (Richmond / Adelaide / King)   0.786711   NaN  \n",
       "4                 Downtown Toronto (Underground city)   0.854155   NaN  \n",
       "..                                                ...        ...   ...  \n",
       "67      Downtown Toronto (Richmond / Adelaide / King)   3.772651   NaN  \n",
       "68                Downtown Toronto (Underground city)   3.799404   NaN  \n",
       "69  Etobicoke (South Steeles / Silverstone / Humbe...  18.513552   NaN  \n",
       "70  Central Toronto (The Annex / North Midtown / Y...   2.653323   NaN  \n",
       "71    Downtown Toronto (St. James Town / Cabbagetown)   1.623918   NaN  \n",
       "\n",
       "[72 rows x 4 columns]"
      ]
     },
     "execution_count": 17,
     "metadata": {},
     "output_type": "execute_result"
    }
   ],
   "source": [
    "travel_df"
   ]
  },
  {
   "cell_type": "markdown",
   "id": "aff2ecc2",
   "metadata": {},
   "source": [
    "## Model Setup"
   ]
  },
  {
   "cell_type": "code",
   "execution_count": 18,
   "id": "792c4398",
   "metadata": {},
   "outputs": [],
   "source": [
    "model = LpProblem(name = 'Part1_Model', sense = LpMinimize)\n",
    "\n",
    "xVar = LpVariable.dict('x', (start_locations, end_locations, num_steps), cat = LpBinary)"
   ]
  },
  {
   "cell_type": "code",
   "execution_count": 19,
   "id": "3ec1a7a5",
   "metadata": {},
   "outputs": [],
   "source": [
    "obj = lpSum([travel_df[(travel_df['Start']==i) & (travel_df['End']==j)]['Distance'].iloc[0] * xVar[(i,j,t)] \\\n",
    "             for i in start_locations for j in end_locations for t in num_steps])\n",
    "model += obj"
   ]
  },
  {
   "cell_type": "markdown",
   "id": "148b3b67",
   "metadata": {},
   "source": [
    "## Constraints"
   ]
  },
  {
   "cell_type": "code",
   "execution_count": 20,
   "id": "8a36a13b",
   "metadata": {},
   "outputs": [],
   "source": [
    "def restaurant_customer_match(customer, order_df):\n",
    "    for index, row in order_df.iterrows():\n",
    "        if customer == order_df.loc[index, 'Customer']:\n",
    "            return order_df.loc[index, 'Restaurant']"
   ]
  },
  {
   "cell_type": "code",
   "execution_count": 21,
   "id": "2098dfab",
   "metadata": {},
   "outputs": [],
   "source": [
    "# Every location receives order once\n",
    "for j in end_locations: \n",
    "    model += lpSum([xVar[(i,j,t)] for i in start_locations for t in num_steps]) == 1"
   ]
  },
  {
   "cell_type": "code",
   "execution_count": 22,
   "id": "e771c956",
   "metadata": {},
   "outputs": [],
   "source": [
    "# Convervation of flow\n",
    "for t in num_steps[:-1]:\n",
    "    for j in end_locations:\n",
    "        model += (lpSum([xVar[(i,j,t)] for i in start_locations]) == lpSum([xVar[(j,k,t+1)] for k in end_locations]))"
   ]
  },
  {
   "cell_type": "code",
   "execution_count": 23,
   "id": "3066b2ff",
   "metadata": {},
   "outputs": [],
   "source": [
    "# First node has an outflow of 1, others 0\n",
    "model += lpSum([xVar[(start_locations[-1],j,1)] for j in restaurants]) == 1\n",
    "\n",
    "for i in start_locations[:-1]:\n",
    "    model += lpSum([xVar[(i,j,1)] for j in end_locations]) == 0"
   ]
  },
  {
   "cell_type": "code",
   "execution_count": 24,
   "id": "b90f4a79",
   "metadata": {},
   "outputs": [],
   "source": [
    "# Visit restaurant before customer\n",
    "for t in num_steps: \n",
    "    for j in end_locations: \n",
    "        if j in customers: \n",
    "            model += pulp.lpSum( [xVar[i,j,t] for i in start_locations]) <= pulp.lpSum([xVar[i, restaurant_customer_match(j, order_df),t_] \\\n",
    "                                                                                        for i in start_locations \\\n",
    "                                                                                        for t_ in num_steps[:t]])"
   ]
  },
  {
   "cell_type": "markdown",
   "id": "e087ffed",
   "metadata": {},
   "source": [
    "## Solve"
   ]
  },
  {
   "cell_type": "code",
   "execution_count": 25,
   "id": "09611267",
   "metadata": {},
   "outputs": [
    {
     "name": "stdout",
     "output_type": "stream",
     "text": [
      "Status: Optimal\n"
     ]
    }
   ],
   "source": [
    "# Solve the model\n",
    "model.solve()\n",
    "print(\"Status:\", LpStatus[model.status])"
   ]
  },
  {
   "cell_type": "code",
   "execution_count": 26,
   "id": "091b6294",
   "metadata": {},
   "outputs": [
    {
     "name": "stdout",
     "output_type": "stream",
     "text": [
      "Total Distance:  33.875942274546034\n"
     ]
    }
   ],
   "source": [
    "# Total Distance\n",
    "total_distance = pulp.value(model.objective)\n",
    "print(\"Total Distance: \" , total_distance)"
   ]
  },
  {
   "cell_type": "code",
   "execution_count": 27,
   "id": "ab0f5666",
   "metadata": {},
   "outputs": [
    {
     "name": "stdout",
     "output_type": "stream",
     "text": [
      "step:1\n",
      "\n",
      "TRAVEL FROM Downtown Toronto (Rosedale)  TO Downtown Toronto (Central Bay Street)\n",
      "step:2\n",
      "\n",
      "TRAVEL FROM Downtown Toronto (Central Bay Street)  TO Downtown Toronto (Richmond / Adelaide / King)\n",
      "step:3\n",
      "\n",
      "TRAVEL FROM Downtown Toronto (Richmond / Adelaide / King)  TO Downtown Toronto (Underground city)\n",
      "step:4\n",
      "\n",
      "TRAVEL FROM Downtown Toronto (Underground city)  TO Downtown Toronto (St. James Town / Cabbagetown)\n",
      "step:5\n",
      "\n",
      "TRAVEL FROM Downtown Toronto (St. James Town / Cabbagetown)  TO York (Cedarvale)\n",
      "step:6\n",
      "\n",
      "TRAVEL FROM York (Cedarvale)  TO Central Toronto (The Annex / North Midtown / Yorkville)\n",
      "step:7\n",
      "\n",
      "TRAVEL FROM Central Toronto (The Annex / North Midtown / Yorkville)  TO Etobicoke Northwest (Clairville / Humberwood / Woodbine Downs / West Humber / Kipling Heights / Rexdale / Elms / Tandridge / Old Rexdale)\n",
      "step:8\n",
      "\n",
      "TRAVEL FROM Etobicoke Northwest (Clairville / Humberwood / Woodbine Downs / West Humber / Kipling Heights / Rexdale / Elms / Tandridge / Old Rexdale)  TO Etobicoke (South Steeles / Silverstone / Humbergate / Jamestown / Mount Olive / Beaumond Heights / Thistletown / Albion Gardens)\n"
     ]
    }
   ],
   "source": [
    "# Print the results\n",
    "path=[]\n",
    "for t in num_steps:\n",
    "    print(f'step:{t}\\n')\n",
    "    for i in start_locations:\n",
    "         for j in end_locations:\n",
    "                if (xVar[(i,j,t)].varValue == 1) :\n",
    "                    print(f\"TRAVEL FROM {i}  TO {j}\")\n",
    "                    \n",
    "                    if i not in path:\n",
    "                        path.append(i)\n",
    "                    if j not in path:\n",
    "                        path.append(j)"
   ]
  },
  {
   "cell_type": "markdown",
   "id": "5510296a",
   "metadata": {},
   "source": [
    "# Part II"
   ]
  },
  {
   "cell_type": "markdown",
   "id": "2adcb444",
   "metadata": {},
   "source": [
    "## Load Data"
   ]
  },
  {
   "cell_type": "code",
   "execution_count": 28,
   "id": "844e5fb1",
   "metadata": {},
   "outputs": [],
   "source": [
    "df_distances = pd.read_csv(file_path + 'distances.csv')\n",
    "\n",
    "df_ordersA = pd.read_csv(file_path + 'part2_ordersA.csv')\n",
    "df_ordersB = pd.read_csv(file_path + 'part2_ordersB.csv')"
   ]
  },
  {
   "cell_type": "code",
   "execution_count": 29,
   "id": "dabbdbb0",
   "metadata": {},
   "outputs": [
    {
     "data": {
      "text/html": [
       "<div>\n",
       "<style scoped>\n",
       "    .dataframe tbody tr th:only-of-type {\n",
       "        vertical-align: middle;\n",
       "    }\n",
       "\n",
       "    .dataframe tbody tr th {\n",
       "        vertical-align: top;\n",
       "    }\n",
       "\n",
       "    .dataframe thead th {\n",
       "        text-align: right;\n",
       "    }\n",
       "</style>\n",
       "<table border=\"1\" class=\"dataframe\">\n",
       "  <thead>\n",
       "    <tr style=\"text-align: right;\">\n",
       "      <th></th>\n",
       "      <th>origin</th>\n",
       "      <th>destination</th>\n",
       "      <th>distance</th>\n",
       "    </tr>\n",
       "  </thead>\n",
       "  <tbody>\n",
       "    <tr>\n",
       "      <th>0</th>\n",
       "      <td>Scarborough (Malvern / Rouge River)</td>\n",
       "      <td>Scarborough (Rouge Hill / Port Union / Highlan...</td>\n",
       "      <td>3.931478</td>\n",
       "    </tr>\n",
       "    <tr>\n",
       "      <th>1</th>\n",
       "      <td>Scarborough (Malvern / Rouge River)</td>\n",
       "      <td>Scarborough (Guildwood / Morningside / Ellesmere)</td>\n",
       "      <td>4.864191</td>\n",
       "    </tr>\n",
       "    <tr>\n",
       "      <th>2</th>\n",
       "      <td>Scarborough (Malvern / Rouge River)</td>\n",
       "      <td>Scarborough (Woburn)</td>\n",
       "      <td>4.778347</td>\n",
       "    </tr>\n",
       "    <tr>\n",
       "      <th>3</th>\n",
       "      <td>Scarborough (Malvern / Rouge River)</td>\n",
       "      <td>Scarborough (Cedarbrae)</td>\n",
       "      <td>6.009861</td>\n",
       "    </tr>\n",
       "    <tr>\n",
       "      <th>4</th>\n",
       "      <td>Scarborough (Malvern / Rouge River)</td>\n",
       "      <td>Scarborough (Eglinton)</td>\n",
       "      <td>7.876162</td>\n",
       "    </tr>\n",
       "  </tbody>\n",
       "</table>\n",
       "</div>"
      ],
      "text/plain": [
       "                                origin  \\\n",
       "0  Scarborough (Malvern / Rouge River)   \n",
       "1  Scarborough (Malvern / Rouge River)   \n",
       "2  Scarborough (Malvern / Rouge River)   \n",
       "3  Scarborough (Malvern / Rouge River)   \n",
       "4  Scarborough (Malvern / Rouge River)   \n",
       "\n",
       "                                         destination  distance  \n",
       "0  Scarborough (Rouge Hill / Port Union / Highlan...  3.931478  \n",
       "1  Scarborough (Guildwood / Morningside / Ellesmere)  4.864191  \n",
       "2                               Scarborough (Woburn)  4.778347  \n",
       "3                            Scarborough (Cedarbrae)  6.009861  \n",
       "4                             Scarborough (Eglinton)  7.876162  "
      ]
     },
     "execution_count": 29,
     "metadata": {},
     "output_type": "execute_result"
    }
   ],
   "source": [
    "df_distances.head()"
   ]
  },
  {
   "cell_type": "code",
   "execution_count": 30,
   "id": "dcb2ae40",
   "metadata": {},
   "outputs": [
    {
     "data": {
      "text/html": [
       "<div>\n",
       "<style scoped>\n",
       "    .dataframe tbody tr th:only-of-type {\n",
       "        vertical-align: middle;\n",
       "    }\n",
       "\n",
       "    .dataframe tbody tr th {\n",
       "        vertical-align: top;\n",
       "    }\n",
       "\n",
       "    .dataframe thead th {\n",
       "        text-align: right;\n",
       "    }\n",
       "</style>\n",
       "<table border=\"1\" class=\"dataframe\">\n",
       "  <thead>\n",
       "    <tr style=\"text-align: right;\">\n",
       "      <th></th>\n",
       "      <th>restaurant</th>\n",
       "      <th>customer</th>\n",
       "      <th>estimated availability</th>\n",
       "    </tr>\n",
       "  </thead>\n",
       "  <tbody>\n",
       "    <tr>\n",
       "      <th>0</th>\n",
       "      <td>Scarborough (Kennedy Park / Ionview / East Bir...</td>\n",
       "      <td>Scarborough (Woburn)</td>\n",
       "      <td>2022-04-02 7:27 PM</td>\n",
       "    </tr>\n",
       "    <tr>\n",
       "      <th>1</th>\n",
       "      <td>Central Toronto (North Toronto West)</td>\n",
       "      <td>Etobicoke (Westmount)</td>\n",
       "      <td>2022-04-02 8:30 PM</td>\n",
       "    </tr>\n",
       "  </tbody>\n",
       "</table>\n",
       "</div>"
      ],
      "text/plain": [
       "                                          restaurant               customer  \\\n",
       "0  Scarborough (Kennedy Park / Ionview / East Bir...   Scarborough (Woburn)   \n",
       "1               Central Toronto (North Toronto West)  Etobicoke (Westmount)   \n",
       "\n",
       "  estimated availability  \n",
       "0     2022-04-02 7:27 PM  \n",
       "1     2022-04-02 8:30 PM  "
      ]
     },
     "execution_count": 30,
     "metadata": {},
     "output_type": "execute_result"
    }
   ],
   "source": [
    "df_ordersA"
   ]
  },
  {
   "cell_type": "code",
   "execution_count": 31,
   "id": "022b0ffe",
   "metadata": {},
   "outputs": [
    {
     "data": {
      "text/html": [
       "<div>\n",
       "<style scoped>\n",
       "    .dataframe tbody tr th:only-of-type {\n",
       "        vertical-align: middle;\n",
       "    }\n",
       "\n",
       "    .dataframe tbody tr th {\n",
       "        vertical-align: top;\n",
       "    }\n",
       "\n",
       "    .dataframe thead th {\n",
       "        text-align: right;\n",
       "    }\n",
       "</style>\n",
       "<table border=\"1\" class=\"dataframe\">\n",
       "  <thead>\n",
       "    <tr style=\"text-align: right;\">\n",
       "      <th></th>\n",
       "      <th>restaurant</th>\n",
       "      <th>customer</th>\n",
       "      <th>estimated availability</th>\n",
       "    </tr>\n",
       "  </thead>\n",
       "  <tbody>\n",
       "    <tr>\n",
       "      <th>0</th>\n",
       "      <td>Etobicoke (Islington Avenue)</td>\n",
       "      <td>Downtown Toronto Stn A PO Boxes 25 The Esplana...</td>\n",
       "      <td>2022-04-02 5:17 PM</td>\n",
       "    </tr>\n",
       "    <tr>\n",
       "      <th>1</th>\n",
       "      <td>North York (Sweeney Park / Wigmore Park)</td>\n",
       "      <td>Downtown Toronto (University of Toronto / Harb...</td>\n",
       "      <td>2022-04-02 5:49 PM</td>\n",
       "    </tr>\n",
       "    <tr>\n",
       "      <th>2</th>\n",
       "      <td>Scarborough (The Golden Mile / Clairlea / Oakr...</td>\n",
       "      <td>Downtown Toronto (Rosedale)</td>\n",
       "      <td>2022-04-02 6:17 PM</td>\n",
       "    </tr>\n",
       "    <tr>\n",
       "      <th>3</th>\n",
       "      <td>Etobicoke (Westmount)</td>\n",
       "      <td>Etobicoke (West Deane Park / Princess Gardens ...</td>\n",
       "      <td>2022-04-02 5:53 PM</td>\n",
       "    </tr>\n",
       "  </tbody>\n",
       "</table>\n",
       "</div>"
      ],
      "text/plain": [
       "                                          restaurant  \\\n",
       "0                       Etobicoke (Islington Avenue)   \n",
       "1           North York (Sweeney Park / Wigmore Park)   \n",
       "2  Scarborough (The Golden Mile / Clairlea / Oakr...   \n",
       "3                              Etobicoke (Westmount)   \n",
       "\n",
       "                                            customer estimated availability  \n",
       "0  Downtown Toronto Stn A PO Boxes 25 The Esplana...     2022-04-02 5:17 PM  \n",
       "1  Downtown Toronto (University of Toronto / Harb...     2022-04-02 5:49 PM  \n",
       "2                        Downtown Toronto (Rosedale)     2022-04-02 6:17 PM  \n",
       "3  Etobicoke (West Deane Park / Princess Gardens ...     2022-04-02 5:53 PM  "
      ]
     },
     "execution_count": 31,
     "metadata": {},
     "output_type": "execute_result"
    }
   ],
   "source": [
    "df_ordersB"
   ]
  },
  {
   "cell_type": "markdown",
   "id": "aeb4bc4b",
   "metadata": {},
   "source": [
    "## Data Preparation"
   ]
  },
  {
   "cell_type": "code",
   "execution_count": 478,
   "id": "20bd0165",
   "metadata": {},
   "outputs": [],
   "source": [
    "# Route A or B\n",
    "route = 'B'"
   ]
  },
  {
   "cell_type": "code",
   "execution_count": 479,
   "id": "d8068b79",
   "metadata": {},
   "outputs": [],
   "source": [
    "starting_location = 'Downtown Toronto (Rosedale)'\n",
    "average_velocity = 40 # Km/Hr\n",
    "average_wait = 5 # Mins\n",
    "\n",
    "# Convert to Km/Min\n",
    "velocity_min = average_velocity / 60"
   ]
  },
  {
   "cell_type": "code",
   "execution_count": 480,
   "id": "cad46cf8",
   "metadata": {},
   "outputs": [
    {
     "name": "stdout",
     "output_type": "stream",
     "text": [
      "Route B\n"
     ]
    }
   ],
   "source": [
    "# Route variables\n",
    "W = 50\n",
    "test_W = range(0, 120, 5)\n",
    "\n",
    "if route == 'A':\n",
    "    print('Route A')\n",
    "    df = df_ordersA\n",
    "    start_time = pd.to_datetime('2022-04-02 19:00:00')\n",
    "else:\n",
    "    print('Route B')\n",
    "    df = df_ordersB\n",
    "    start_time = pd.to_datetime('2022-04-02 17:00:00')"
   ]
  },
  {
   "cell_type": "code",
   "execution_count": 481,
   "id": "9c53705d",
   "metadata": {},
   "outputs": [],
   "source": [
    "# Get start and end locations\n",
    "start_locations = list(df['restaurant'].unique()) + list(df['customer'].unique())\n",
    "end_locations = start_locations.copy()\n",
    "\n",
    "start_locations = list(dict.fromkeys(start_locations))\n",
    "end_locations = list(dict.fromkeys(end_locations))\n",
    "\n",
    "if starting_location in start_locations:\n",
    "    start_locations.remove(starting_location)\n",
    "    start_locations.append(starting_location)\n",
    "else:\n",
    "    start_locations.append(starting_location)\n"
   ]
  },
  {
   "cell_type": "code",
   "execution_count": 482,
   "id": "fdad706b",
   "metadata": {},
   "outputs": [
    {
     "data": {
      "text/plain": [
       "['Etobicoke (Islington Avenue)',\n",
       " 'North York (Sweeney Park / Wigmore Park)',\n",
       " 'Scarborough (The Golden Mile / Clairlea / Oakridge / Birchmount Park East)',\n",
       " 'Etobicoke (Westmount)',\n",
       " 'Downtown Toronto Stn A PO Boxes 25 The Esplanade (Enclave of M5E)',\n",
       " 'Downtown Toronto (University of Toronto / Harbord)',\n",
       " 'Downtown Toronto (Rosedale)',\n",
       " 'Etobicoke (West Deane Park / Princess Gardens / Martin Grove / Islington / Cloverdale)']"
      ]
     },
     "execution_count": 482,
     "metadata": {},
     "output_type": "execute_result"
    }
   ],
   "source": [
    "order_locations = list(df['restaurant']) + list(df['customer'])\n",
    "order_locations"
   ]
  },
  {
   "cell_type": "code",
   "execution_count": 483,
   "id": "1cf76b50",
   "metadata": {},
   "outputs": [],
   "source": [
    "# Calculate the number of stops \n",
    "num_steps = np.arange(1, len(end_locations)+1).tolist()"
   ]
  },
  {
   "cell_type": "code",
   "execution_count": 484,
   "id": "49ce75c7",
   "metadata": {},
   "outputs": [],
   "source": [
    "# Get unique Restraurants and Customers\n",
    "restaurants = df['restaurant'].unique().tolist()\n",
    "customers = df['customer'].unique().tolist()"
   ]
  },
  {
   "cell_type": "code",
   "execution_count": 485,
   "id": "3378ad71",
   "metadata": {},
   "outputs": [
    {
     "data": {
      "text/html": [
       "<div>\n",
       "<style scoped>\n",
       "    .dataframe tbody tr th:only-of-type {\n",
       "        vertical-align: middle;\n",
       "    }\n",
       "\n",
       "    .dataframe tbody tr th {\n",
       "        vertical-align: top;\n",
       "    }\n",
       "\n",
       "    .dataframe thead th {\n",
       "        text-align: right;\n",
       "    }\n",
       "</style>\n",
       "<table border=\"1\" class=\"dataframe\">\n",
       "  <thead>\n",
       "    <tr style=\"text-align: right;\">\n",
       "      <th></th>\n",
       "      <th>Restaurant</th>\n",
       "      <th>Customer</th>\n",
       "    </tr>\n",
       "  </thead>\n",
       "  <tbody>\n",
       "    <tr>\n",
       "      <th>0</th>\n",
       "      <td>Etobicoke (Islington Avenue)</td>\n",
       "      <td>Downtown Toronto Stn A PO Boxes 25 The Esplana...</td>\n",
       "    </tr>\n",
       "    <tr>\n",
       "      <th>1</th>\n",
       "      <td>North York (Sweeney Park / Wigmore Park)</td>\n",
       "      <td>Downtown Toronto (University of Toronto / Harb...</td>\n",
       "    </tr>\n",
       "    <tr>\n",
       "      <th>2</th>\n",
       "      <td>Scarborough (The Golden Mile / Clairlea / Oakr...</td>\n",
       "      <td>Downtown Toronto (Rosedale)</td>\n",
       "    </tr>\n",
       "    <tr>\n",
       "      <th>3</th>\n",
       "      <td>Etobicoke (Westmount)</td>\n",
       "      <td>Etobicoke (West Deane Park / Princess Gardens ...</td>\n",
       "    </tr>\n",
       "  </tbody>\n",
       "</table>\n",
       "</div>"
      ],
      "text/plain": [
       "                                          Restaurant  \\\n",
       "0                       Etobicoke (Islington Avenue)   \n",
       "1           North York (Sweeney Park / Wigmore Park)   \n",
       "2  Scarborough (The Golden Mile / Clairlea / Oakr...   \n",
       "3                              Etobicoke (Westmount)   \n",
       "\n",
       "                                            Customer  \n",
       "0  Downtown Toronto Stn A PO Boxes 25 The Esplana...  \n",
       "1  Downtown Toronto (University of Toronto / Harb...  \n",
       "2                        Downtown Toronto (Rosedale)  \n",
       "3  Etobicoke (West Deane Park / Princess Gardens ...  "
      ]
     },
     "execution_count": 485,
     "metadata": {},
     "output_type": "execute_result"
    }
   ],
   "source": [
    "order_df = pd.DataFrame({'Restaurant':[], 'Customer':[]})\n",
    "\n",
    "for index, row in df.iterrows():\n",
    "    order_df.loc[index, 'Restaurant'] = row[\"restaurant\"]\n",
    "    order_df.loc[index, 'Customer'] = row[\"customer\"]\n",
    "\n",
    "order_df"
   ]
  },
  {
   "cell_type": "code",
   "execution_count": 486,
   "id": "03d6325c",
   "metadata": {
    "scrolled": true
   },
   "outputs": [
    {
     "data": {
      "text/html": [
       "<div>\n",
       "<style scoped>\n",
       "    .dataframe tbody tr th:only-of-type {\n",
       "        vertical-align: middle;\n",
       "    }\n",
       "\n",
       "    .dataframe tbody tr th {\n",
       "        vertical-align: top;\n",
       "    }\n",
       "\n",
       "    .dataframe thead th {\n",
       "        text-align: right;\n",
       "    }\n",
       "</style>\n",
       "<table border=\"1\" class=\"dataframe\">\n",
       "  <thead>\n",
       "    <tr style=\"text-align: right;\">\n",
       "      <th></th>\n",
       "      <th>Start</th>\n",
       "      <th>End</th>\n",
       "      <th>Distance</th>\n",
       "      <th>Time</th>\n",
       "    </tr>\n",
       "  </thead>\n",
       "  <tbody>\n",
       "    <tr>\n",
       "      <th>0</th>\n",
       "      <td>Etobicoke (Islington Avenue)</td>\n",
       "      <td>Etobicoke (Islington Avenue)</td>\n",
       "      <td>0.000000</td>\n",
       "      <td>0.000000</td>\n",
       "    </tr>\n",
       "    <tr>\n",
       "      <th>1</th>\n",
       "      <td>Etobicoke (Islington Avenue)</td>\n",
       "      <td>North York (Sweeney Park / Wigmore Park)</td>\n",
       "      <td>18.464774</td>\n",
       "      <td>27.697161</td>\n",
       "    </tr>\n",
       "    <tr>\n",
       "      <th>2</th>\n",
       "      <td>Etobicoke (Islington Avenue)</td>\n",
       "      <td>Scarborough (The Golden Mile / Clairlea / Oakr...</td>\n",
       "      <td>20.266821</td>\n",
       "      <td>30.400231</td>\n",
       "    </tr>\n",
       "    <tr>\n",
       "      <th>3</th>\n",
       "      <td>Etobicoke (Islington Avenue)</td>\n",
       "      <td>Etobicoke (Westmount)</td>\n",
       "      <td>3.208285</td>\n",
       "      <td>4.812428</td>\n",
       "    </tr>\n",
       "    <tr>\n",
       "      <th>4</th>\n",
       "      <td>Etobicoke (Islington Avenue)</td>\n",
       "      <td>Downtown Toronto Stn A PO Boxes 25 The Esplana...</td>\n",
       "      <td>12.284849</td>\n",
       "      <td>18.427273</td>\n",
       "    </tr>\n",
       "  </tbody>\n",
       "</table>\n",
       "</div>"
      ],
      "text/plain": [
       "                          Start  \\\n",
       "0  Etobicoke (Islington Avenue)   \n",
       "1  Etobicoke (Islington Avenue)   \n",
       "2  Etobicoke (Islington Avenue)   \n",
       "3  Etobicoke (Islington Avenue)   \n",
       "4  Etobicoke (Islington Avenue)   \n",
       "\n",
       "                                                 End   Distance       Time  \n",
       "0                       Etobicoke (Islington Avenue)   0.000000   0.000000  \n",
       "1           North York (Sweeney Park / Wigmore Park)  18.464774  27.697161  \n",
       "2  Scarborough (The Golden Mile / Clairlea / Oakr...  20.266821  30.400231  \n",
       "3                              Etobicoke (Westmount)   3.208285   4.812428  \n",
       "4  Downtown Toronto Stn A PO Boxes 25 The Esplana...  12.284849  18.427273  "
      ]
     },
     "execution_count": 486,
     "metadata": {},
     "output_type": "execute_result"
    }
   ],
   "source": [
    "travel_df = pd.DataFrame({'Start':[], 'End': [], 'Distance': [], 'Time': []})\n",
    "\n",
    "\n",
    "for i in start_locations:\n",
    "    for j in end_locations: \n",
    "        if i == j:\n",
    "            new_row_data = {'Start': i, 'End': j, 'Distance': 0, 'Time': 0}\n",
    "            new_row = pd.DataFrame(new_row_data, index=[0])\n",
    "            travel_df = pd.concat([travel_df, new_row], ignore_index=True)\n",
    "        else:\n",
    "            d_temp = float(df_distances[(df_distances['origin'] == i) & \n",
    "                                                          (df_distances['destination'] == j)]['distance'])\n",
    "            t_temp = d_temp/average_velocity * 60\n",
    "            new_row_data = {'Start': i, 'End': j, 'Distance': d_temp, 'Time': t_temp}\n",
    "            new_row = pd.DataFrame(new_row_data, index=[0])\n",
    "            travel_df = pd.concat([travel_df, new_row], ignore_index=True)\n",
    "\n",
    "travel_df.head()"
   ]
  },
  {
   "cell_type": "code",
   "execution_count": 487,
   "id": "cb2b5f8d",
   "metadata": {},
   "outputs": [],
   "source": [
    "df['estimated availability'] = pd.to_datetime(df['estimated availability'])\n",
    "df['Converted Availability'] = (df['estimated availability'] - df['estimated availability'].min()).dt.total_seconds() / 60"
   ]
  },
  {
   "cell_type": "code",
   "execution_count": 488,
   "id": "2a6d7b11",
   "metadata": {},
   "outputs": [
    {
     "data": {
      "text/html": [
       "<div>\n",
       "<style scoped>\n",
       "    .dataframe tbody tr th:only-of-type {\n",
       "        vertical-align: middle;\n",
       "    }\n",
       "\n",
       "    .dataframe tbody tr th {\n",
       "        vertical-align: top;\n",
       "    }\n",
       "\n",
       "    .dataframe thead th {\n",
       "        text-align: right;\n",
       "    }\n",
       "</style>\n",
       "<table border=\"1\" class=\"dataframe\">\n",
       "  <thead>\n",
       "    <tr style=\"text-align: right;\">\n",
       "      <th></th>\n",
       "      <th>restaurant</th>\n",
       "      <th>customer</th>\n",
       "      <th>estimated availability</th>\n",
       "      <th>Converted Availability</th>\n",
       "    </tr>\n",
       "  </thead>\n",
       "  <tbody>\n",
       "    <tr>\n",
       "      <th>0</th>\n",
       "      <td>Etobicoke (Islington Avenue)</td>\n",
       "      <td>Downtown Toronto Stn A PO Boxes 25 The Esplana...</td>\n",
       "      <td>2022-04-02 17:17:00</td>\n",
       "      <td>0.0</td>\n",
       "    </tr>\n",
       "    <tr>\n",
       "      <th>1</th>\n",
       "      <td>North York (Sweeney Park / Wigmore Park)</td>\n",
       "      <td>Downtown Toronto (University of Toronto / Harb...</td>\n",
       "      <td>2022-04-02 17:49:00</td>\n",
       "      <td>32.0</td>\n",
       "    </tr>\n",
       "    <tr>\n",
       "      <th>2</th>\n",
       "      <td>Scarborough (The Golden Mile / Clairlea / Oakr...</td>\n",
       "      <td>Downtown Toronto (Rosedale)</td>\n",
       "      <td>2022-04-02 18:17:00</td>\n",
       "      <td>60.0</td>\n",
       "    </tr>\n",
       "    <tr>\n",
       "      <th>3</th>\n",
       "      <td>Etobicoke (Westmount)</td>\n",
       "      <td>Etobicoke (West Deane Park / Princess Gardens ...</td>\n",
       "      <td>2022-04-02 17:53:00</td>\n",
       "      <td>36.0</td>\n",
       "    </tr>\n",
       "  </tbody>\n",
       "</table>\n",
       "</div>"
      ],
      "text/plain": [
       "                                          restaurant  \\\n",
       "0                       Etobicoke (Islington Avenue)   \n",
       "1           North York (Sweeney Park / Wigmore Park)   \n",
       "2  Scarborough (The Golden Mile / Clairlea / Oakr...   \n",
       "3                              Etobicoke (Westmount)   \n",
       "\n",
       "                                            customer estimated availability  \\\n",
       "0  Downtown Toronto Stn A PO Boxes 25 The Esplana...    2022-04-02 17:17:00   \n",
       "1  Downtown Toronto (University of Toronto / Harb...    2022-04-02 17:49:00   \n",
       "2                        Downtown Toronto (Rosedale)    2022-04-02 18:17:00   \n",
       "3  Etobicoke (West Deane Park / Princess Gardens ...    2022-04-02 17:53:00   \n",
       "\n",
       "   Converted Availability  \n",
       "0                     0.0  \n",
       "1                    32.0  \n",
       "2                    60.0  \n",
       "3                    36.0  "
      ]
     },
     "execution_count": 488,
     "metadata": {},
     "output_type": "execute_result"
    }
   ],
   "source": [
    "df"
   ]
  },
  {
   "cell_type": "markdown",
   "id": "3098d220",
   "metadata": {},
   "source": [
    "## Model"
   ]
  },
  {
   "cell_type": "code",
   "execution_count": 489,
   "id": "2ae2ee09",
   "metadata": {},
   "outputs": [],
   "source": [
    "model = LpProblem(name = 'Part2_Model', sense = LpMinimize)\n",
    "\n",
    "xVar = LpVariable.dict('x', (start_locations, end_locations, num_steps), cat = LpBinary)\n",
    "# zVar = LpVariable.dict('z', num_steps, lowBound = 0.0, cat = LpContinuous)\n",
    "dVar = LpVariable.dict('d', [0] + num_steps, lowBound = -9999.0, cat = LpContinuous)\n",
    "aVar = LpVariable.dict('a', [0] + num_steps, lowBound = -9999.0, cat = LpContinuous)\n",
    "wVar = LpVariable.dict('w', (start_locations, num_steps), lowBound = 0.0, cat = LpContinuous)\n",
    "vVar = LpVariable.dict('w', (start_locations, end_locations), lowBound = 0.0, cat = LpContinuous)"
   ]
  },
  {
   "cell_type": "code",
   "execution_count": 490,
   "id": "f3200fbc",
   "metadata": {},
   "outputs": [],
   "source": [
    "obj = lpSum([travel_df[(travel_df['Start']==i) & (travel_df['End']==j)]['Distance'].iloc[0] * xVar[(i,j,t)] \\\n",
    "             for i in start_locations for j in end_locations for t in num_steps])\n",
    "model += obj"
   ]
  },
  {
   "cell_type": "code",
   "execution_count": 491,
   "id": "c61e1990",
   "metadata": {},
   "outputs": [],
   "source": [
    "model += dVar[(0)] <= 0"
   ]
  },
  {
   "cell_type": "code",
   "execution_count": 492,
   "id": "82129850",
   "metadata": {},
   "outputs": [],
   "source": [
    "def travel_time_lookup(i, j, travel_df):\n",
    "    return travel_df[(travel_df['Start']==i) & (travel_df['End']==j)]['Time'].iloc[0]"
   ]
  },
  {
   "cell_type": "code",
   "execution_count": 493,
   "id": "dc2da9d1",
   "metadata": {},
   "outputs": [],
   "source": [
    "# # Step time calculation\n",
    "# for t in num_steps:\n",
    "#     model += dVar[(t)] == dVar[(t-1)] + lpSum([travel_time_lookup(i, j, travel_df) * xVar[(i,j,t)] \\\n",
    "#                                                for i in start_locations for j in restaurants]) + \\\n",
    "#                           lpSum([(travel_time_lookup(i, j, travel_df) + 5) * xVar[(i,j,t)] \\\n",
    "#                                  for i in start_locations for j in customers])"
   ]
  },
  {
   "cell_type": "code",
   "execution_count": 494,
   "id": "cda716e2",
   "metadata": {},
   "outputs": [],
   "source": [
    "# # Assign time to each travel in vVar\n",
    "# for i in start_locations:\n",
    "#     for j in end_locations:\n",
    "#         model += vVar[(i,j)] == travel_df[(travel_df['Start']==i) & (travel_df['End']==j)]['Time'].iloc[0]"
   ]
  },
  {
   "cell_type": "code",
   "execution_count": 495,
   "id": "33700913",
   "metadata": {},
   "outputs": [],
   "source": [
    "# # Driver arrives after the food is ready\n",
    "# for t in num_steps:\n",
    "#     for i in start_locations:\n",
    "#         for j in range(0, int(len(order_locations)/2)):\n",
    "#             model += dVar[(t)] >= df.loc[j, 'Converted Availability'] * xVar[(i,df.loc[j, 'restaurant'],t)]"
   ]
  },
  {
   "cell_type": "code",
   "execution_count": 496,
   "id": "da188537",
   "metadata": {},
   "outputs": [],
   "source": [
    "# Step time calculation\n",
    "for t in num_steps:\n",
    "    model += aVar[(t)] == dVar[(t-1)] + lpSum([travel_time_lookup(i, j, travel_df) * xVar[(i,j,t)] \\\n",
    "                                               for i in start_locations for j in restaurants]) + \\\n",
    "                          lpSum([(travel_time_lookup(i, j, travel_df) + 5) * xVar[(i,j,t)] \\\n",
    "                                 for i in start_locations for j in customers])\n",
    "    model += aVar[(t)] <= dVar[(t)]"
   ]
  },
  {
   "cell_type": "code",
   "execution_count": 497,
   "id": "50a228cd",
   "metadata": {},
   "outputs": [],
   "source": [
    "# Driver leaves after the food is ready\n",
    "for t in num_steps:\n",
    "    for i in start_locations:\n",
    "        for j in restaurants:\n",
    "            model += dVar[(t)] >= df[df['restaurant'] == j]['Converted Availability'].iloc[0] * xVar[(i,j,t)]"
   ]
  },
  {
   "cell_type": "code",
   "execution_count": 498,
   "id": "ad32bb4d",
   "metadata": {},
   "outputs": [],
   "source": [
    "# Visit restaurant before customer\n",
    "for t in num_steps: \n",
    "    for j in end_locations: \n",
    "        if j in customers: \n",
    "            model += pulp.lpSum( [xVar[i,j,t] for i in start_locations]) <= pulp.lpSum([xVar[i, restaurant_customer_match(j, order_df),t_] \\\n",
    "                                                                                        for i in start_locations \\\n",
    "                                                                                        for t_ in num_steps[:t]])"
   ]
  },
  {
   "cell_type": "code",
   "execution_count": 499,
   "id": "aee59c40",
   "metadata": {},
   "outputs": [],
   "source": [
    "for idx, row in df.iterrows():\n",
    "    rst, cus, time = row['restaurant'], row['customer'], row['Converted Availability']\n",
    "    for t in num_steps:\n",
    "        model += wVar[(cus, t)] <= 10000000 * lpSum(xVar[(i, cus, t)] for i in start_locations if i != cus)\n",
    "        \n",
    "        model += wVar[(cus, t)] <= dVar[t] - time + 10000000 * (1 - lpSum(xVar[(i, cus, t)] for i in start_locations if i !=cus))\n",
    "        model += wVar[(cus, t)] >= dVar[t] - time - 10000000 * (1 - lpSum(xVar[(i, cus, t)] for i in start_locations if i !=cus))"
   ]
  },
  {
   "cell_type": "code",
   "execution_count": 500,
   "id": "eb9be2dd",
   "metadata": {},
   "outputs": [],
   "source": [
    "model += W >= lpSum(wVar[(c,t)] for c in customers for t in num_steps)/len(df)"
   ]
  },
  {
   "cell_type": "code",
   "execution_count": 501,
   "id": "99c0934b",
   "metadata": {},
   "outputs": [],
   "source": [
    "# Every location receives order once\n",
    "for j in end_locations: \n",
    "    model += lpSum([xVar[(i,j,t)] for i in start_locations for t in num_steps]) == 1"
   ]
  },
  {
   "cell_type": "code",
   "execution_count": 502,
   "id": "858f60a9",
   "metadata": {},
   "outputs": [],
   "source": [
    "# Convervation of flow\n",
    "for t in num_steps[:-1]:\n",
    "    for j in end_locations:\n",
    "        model += (lpSum([xVar[(i,j,t)] for i in start_locations]) == lpSum([xVar[(j,k,t+1)] for k in end_locations]))"
   ]
  },
  {
   "cell_type": "code",
   "execution_count": 503,
   "id": "c919ffbe",
   "metadata": {},
   "outputs": [],
   "source": [
    "# First node has an outflow of 1, others 0\n",
    "model += lpSum([xVar[(start_locations[-1],j,1)] for j in restaurants]) == 1\n",
    "\n",
    "for i in start_locations[:-1]:\n",
    "    model += lpSum([xVar[(i,j,1)] for j in end_locations]) == 0"
   ]
  },
  {
   "cell_type": "markdown",
   "id": "59e3f6bc",
   "metadata": {},
   "source": [
    "## Solve"
   ]
  },
  {
   "cell_type": "code",
   "execution_count": 504,
   "id": "d6b2f4d7",
   "metadata": {},
   "outputs": [
    {
     "name": "stdout",
     "output_type": "stream",
     "text": [
      "Status: Optimal\n"
     ]
    }
   ],
   "source": [
    "# Solve the model\n",
    "model.solve()\n",
    "print(\"Status:\", LpStatus[model.status])"
   ]
  },
  {
   "cell_type": "code",
   "execution_count": 505,
   "id": "fbf6ab6a",
   "metadata": {},
   "outputs": [
    {
     "name": "stdout",
     "output_type": "stream",
     "text": [
      "Total Distance:  65.00241802135857\n"
     ]
    }
   ],
   "source": [
    "# Total Distance\n",
    "total_distance = pulp.value(model.objective)\n",
    "print(\"Total Distance: \" , total_distance)"
   ]
  },
  {
   "cell_type": "markdown",
   "id": "041826d2",
   "metadata": {},
   "source": [
    "## Load Data"
   ]
  },
  {
   "cell_type": "code",
   "execution_count": 28,
   "id": "6f352bf4",
   "metadata": {},
   "outputs": [],
   "source": [
    "df_distances = pd.read_csv(file_path + 'distances.csv')\n",
    "\n",
    "df_ordersA = pd.read_csv(file_path + 'part2_ordersA.csv')\n",
    "df_ordersB = pd.read_csv(file_path + 'part2_ordersB.csv')"
   ]
  },
  {
   "cell_type": "code",
   "execution_count": 29,
   "id": "642f5b1e",
   "metadata": {},
   "outputs": [
    {
     "data": {
      "text/html": [
       "<div>\n",
       "<style scoped>\n",
       "    .dataframe tbody tr th:only-of-type {\n",
       "        vertical-align: middle;\n",
       "    }\n",
       "\n",
       "    .dataframe tbody tr th {\n",
       "        vertical-align: top;\n",
       "    }\n",
       "\n",
       "    .dataframe thead th {\n",
       "        text-align: right;\n",
       "    }\n",
       "</style>\n",
       "<table border=\"1\" class=\"dataframe\">\n",
       "  <thead>\n",
       "    <tr style=\"text-align: right;\">\n",
       "      <th></th>\n",
       "      <th>origin</th>\n",
       "      <th>destination</th>\n",
       "      <th>distance</th>\n",
       "    </tr>\n",
       "  </thead>\n",
       "  <tbody>\n",
       "    <tr>\n",
       "      <th>0</th>\n",
       "      <td>Scarborough (Malvern / Rouge River)</td>\n",
       "      <td>Scarborough (Rouge Hill / Port Union / Highlan...</td>\n",
       "      <td>3.931478</td>\n",
       "    </tr>\n",
       "    <tr>\n",
       "      <th>1</th>\n",
       "      <td>Scarborough (Malvern / Rouge River)</td>\n",
       "      <td>Scarborough (Guildwood / Morningside / Ellesmere)</td>\n",
       "      <td>4.864191</td>\n",
       "    </tr>\n",
       "    <tr>\n",
       "      <th>2</th>\n",
       "      <td>Scarborough (Malvern / Rouge River)</td>\n",
       "      <td>Scarborough (Woburn)</td>\n",
       "      <td>4.778347</td>\n",
       "    </tr>\n",
       "    <tr>\n",
       "      <th>3</th>\n",
       "      <td>Scarborough (Malvern / Rouge River)</td>\n",
       "      <td>Scarborough (Cedarbrae)</td>\n",
       "      <td>6.009861</td>\n",
       "    </tr>\n",
       "    <tr>\n",
       "      <th>4</th>\n",
       "      <td>Scarborough (Malvern / Rouge River)</td>\n",
       "      <td>Scarborough (Eglinton)</td>\n",
       "      <td>7.876162</td>\n",
       "    </tr>\n",
       "  </tbody>\n",
       "</table>\n",
       "</div>"
      ],
      "text/plain": [
       "                                origin  \\\n",
       "0  Scarborough (Malvern / Rouge River)   \n",
       "1  Scarborough (Malvern / Rouge River)   \n",
       "2  Scarborough (Malvern / Rouge River)   \n",
       "3  Scarborough (Malvern / Rouge River)   \n",
       "4  Scarborough (Malvern / Rouge River)   \n",
       "\n",
       "                                         destination  distance  \n",
       "0  Scarborough (Rouge Hill / Port Union / Highlan...  3.931478  \n",
       "1  Scarborough (Guildwood / Morningside / Ellesmere)  4.864191  \n",
       "2                               Scarborough (Woburn)  4.778347  \n",
       "3                            Scarborough (Cedarbrae)  6.009861  \n",
       "4                             Scarborough (Eglinton)  7.876162  "
      ]
     },
     "execution_count": 29,
     "metadata": {},
     "output_type": "execute_result"
    }
   ],
   "source": [
    "df_distances.head()"
   ]
  },
  {
   "cell_type": "code",
   "execution_count": 30,
   "id": "429376d6",
   "metadata": {},
   "outputs": [
    {
     "data": {
      "text/html": [
       "<div>\n",
       "<style scoped>\n",
       "    .dataframe tbody tr th:only-of-type {\n",
       "        vertical-align: middle;\n",
       "    }\n",
       "\n",
       "    .dataframe tbody tr th {\n",
       "        vertical-align: top;\n",
       "    }\n",
       "\n",
       "    .dataframe thead th {\n",
       "        text-align: right;\n",
       "    }\n",
       "</style>\n",
       "<table border=\"1\" class=\"dataframe\">\n",
       "  <thead>\n",
       "    <tr style=\"text-align: right;\">\n",
       "      <th></th>\n",
       "      <th>restaurant</th>\n",
       "      <th>customer</th>\n",
       "      <th>estimated availability</th>\n",
       "    </tr>\n",
       "  </thead>\n",
       "  <tbody>\n",
       "    <tr>\n",
       "      <th>0</th>\n",
       "      <td>Scarborough (Kennedy Park / Ionview / East Bir...</td>\n",
       "      <td>Scarborough (Woburn)</td>\n",
       "      <td>2022-04-02 7:27 PM</td>\n",
       "    </tr>\n",
       "    <tr>\n",
       "      <th>1</th>\n",
       "      <td>Central Toronto (North Toronto West)</td>\n",
       "      <td>Etobicoke (Westmount)</td>\n",
       "      <td>2022-04-02 8:30 PM</td>\n",
       "    </tr>\n",
       "  </tbody>\n",
       "</table>\n",
       "</div>"
      ],
      "text/plain": [
       "                                          restaurant               customer  \\\n",
       "0  Scarborough (Kennedy Park / Ionview / East Bir...   Scarborough (Woburn)   \n",
       "1               Central Toronto (North Toronto West)  Etobicoke (Westmount)   \n",
       "\n",
       "  estimated availability  \n",
       "0     2022-04-02 7:27 PM  \n",
       "1     2022-04-02 8:30 PM  "
      ]
     },
     "execution_count": 30,
     "metadata": {},
     "output_type": "execute_result"
    }
   ],
   "source": [
    "df_ordersA"
   ]
  },
  {
   "cell_type": "code",
   "execution_count": 31,
   "id": "85f3090b",
   "metadata": {},
   "outputs": [
    {
     "data": {
      "text/html": [
       "<div>\n",
       "<style scoped>\n",
       "    .dataframe tbody tr th:only-of-type {\n",
       "        vertical-align: middle;\n",
       "    }\n",
       "\n",
       "    .dataframe tbody tr th {\n",
       "        vertical-align: top;\n",
       "    }\n",
       "\n",
       "    .dataframe thead th {\n",
       "        text-align: right;\n",
       "    }\n",
       "</style>\n",
       "<table border=\"1\" class=\"dataframe\">\n",
       "  <thead>\n",
       "    <tr style=\"text-align: right;\">\n",
       "      <th></th>\n",
       "      <th>restaurant</th>\n",
       "      <th>customer</th>\n",
       "      <th>estimated availability</th>\n",
       "    </tr>\n",
       "  </thead>\n",
       "  <tbody>\n",
       "    <tr>\n",
       "      <th>0</th>\n",
       "      <td>Etobicoke (Islington Avenue)</td>\n",
       "      <td>Downtown Toronto Stn A PO Boxes 25 The Esplana...</td>\n",
       "      <td>2022-04-02 5:17 PM</td>\n",
       "    </tr>\n",
       "    <tr>\n",
       "      <th>1</th>\n",
       "      <td>North York (Sweeney Park / Wigmore Park)</td>\n",
       "      <td>Downtown Toronto (University of Toronto / Harb...</td>\n",
       "      <td>2022-04-02 5:49 PM</td>\n",
       "    </tr>\n",
       "    <tr>\n",
       "      <th>2</th>\n",
       "      <td>Scarborough (The Golden Mile / Clairlea / Oakr...</td>\n",
       "      <td>Downtown Toronto (Rosedale)</td>\n",
       "      <td>2022-04-02 6:17 PM</td>\n",
       "    </tr>\n",
       "    <tr>\n",
       "      <th>3</th>\n",
       "      <td>Etobicoke (Westmount)</td>\n",
       "      <td>Etobicoke (West Deane Park / Princess Gardens ...</td>\n",
       "      <td>2022-04-02 5:53 PM</td>\n",
       "    </tr>\n",
       "  </tbody>\n",
       "</table>\n",
       "</div>"
      ],
      "text/plain": [
       "                                          restaurant  \\\n",
       "0                       Etobicoke (Islington Avenue)   \n",
       "1           North York (Sweeney Park / Wigmore Park)   \n",
       "2  Scarborough (The Golden Mile / Clairlea / Oakr...   \n",
       "3                              Etobicoke (Westmount)   \n",
       "\n",
       "                                            customer estimated availability  \n",
       "0  Downtown Toronto Stn A PO Boxes 25 The Esplana...     2022-04-02 5:17 PM  \n",
       "1  Downtown Toronto (University of Toronto / Harb...     2022-04-02 5:49 PM  \n",
       "2                        Downtown Toronto (Rosedale)     2022-04-02 6:17 PM  \n",
       "3  Etobicoke (West Deane Park / Princess Gardens ...     2022-04-02 5:53 PM  "
      ]
     },
     "execution_count": 31,
     "metadata": {},
     "output_type": "execute_result"
    }
   ],
   "source": [
    "df_ordersB"
   ]
  },
  {
   "cell_type": "markdown",
   "id": "a58497f2",
   "metadata": {},
   "source": [
    "## Data Preparation"
   ]
  },
  {
   "cell_type": "code",
   "execution_count": 478,
   "id": "7d07d537",
   "metadata": {},
   "outputs": [],
   "source": [
    "# Route A or B\n",
    "route = 'B'"
   ]
  },
  {
   "cell_type": "code",
   "execution_count": 479,
   "id": "a28304dd",
   "metadata": {},
   "outputs": [],
   "source": [
    "starting_location = 'Downtown Toronto (Rosedale)'\n",
    "average_velocity = 40 # Km/Hr\n",
    "average_wait = 5 # Mins\n",
    "\n",
    "# Convert to Km/Min\n",
    "velocity_min = average_velocity / 60"
   ]
  },
  {
   "cell_type": "code",
   "execution_count": 480,
   "id": "8c7c9767",
   "metadata": {},
   "outputs": [
    {
     "name": "stdout",
     "output_type": "stream",
     "text": [
      "Route B\n"
     ]
    }
   ],
   "source": [
    "# Route variables\n",
    "W = 50\n",
    "test_W = range(0, 120, 5)\n",
    "\n",
    "if route == 'A':\n",
    "    print('Route A')\n",
    "    df = df_ordersA\n",
    "    start_time = pd.to_datetime('2022-04-02 19:00:00')\n",
    "else:\n",
    "    print('Route B')\n",
    "    df = df_ordersB\n",
    "    start_time = pd.to_datetime('2022-04-02 17:00:00')"
   ]
  },
  {
   "cell_type": "code",
   "execution_count": 481,
   "id": "3e7f9703",
   "metadata": {},
   "outputs": [],
   "source": [
    "# Get start and end locations\n",
    "start_locations = list(df['restaurant'].unique()) + list(df['customer'].unique())\n",
    "end_locations = start_locations.copy()\n",
    "\n",
    "start_locations = list(dict.fromkeys(start_locations))\n",
    "end_locations = list(dict.fromkeys(end_locations))\n",
    "\n",
    "if starting_location in start_locations:\n",
    "    start_locations.remove(starting_location)\n",
    "    start_locations.append(starting_location)\n",
    "else:\n",
    "    start_locations.append(starting_location)\n"
   ]
  },
  {
   "cell_type": "code",
   "execution_count": 482,
   "id": "bc4dfc78",
   "metadata": {},
   "outputs": [
    {
     "data": {
      "text/plain": [
       "['Etobicoke (Islington Avenue)',\n",
       " 'North York (Sweeney Park / Wigmore Park)',\n",
       " 'Scarborough (The Golden Mile / Clairlea / Oakridge / Birchmount Park East)',\n",
       " 'Etobicoke (Westmount)',\n",
       " 'Downtown Toronto Stn A PO Boxes 25 The Esplanade (Enclave of M5E)',\n",
       " 'Downtown Toronto (University of Toronto / Harbord)',\n",
       " 'Downtown Toronto (Rosedale)',\n",
       " 'Etobicoke (West Deane Park / Princess Gardens / Martin Grove / Islington / Cloverdale)']"
      ]
     },
     "execution_count": 482,
     "metadata": {},
     "output_type": "execute_result"
    }
   ],
   "source": [
    "order_locations = list(df['restaurant']) + list(df['customer'])\n",
    "order_locations"
   ]
  },
  {
   "cell_type": "code",
   "execution_count": 483,
   "id": "3963f524",
   "metadata": {},
   "outputs": [],
   "source": [
    "# Calculate the number of stops \n",
    "num_steps = np.arange(1, len(end_locations)+1).tolist()"
   ]
  },
  {
   "cell_type": "code",
   "execution_count": 484,
   "id": "100aa5d2",
   "metadata": {},
   "outputs": [],
   "source": [
    "# Get unique Restraurants and Customers\n",
    "restaurants = df['restaurant'].unique().tolist()\n",
    "customers = df['customer'].unique().tolist()"
   ]
  },
  {
   "cell_type": "code",
   "execution_count": 485,
   "id": "39cb90f9",
   "metadata": {},
   "outputs": [
    {
     "data": {
      "text/html": [
       "<div>\n",
       "<style scoped>\n",
       "    .dataframe tbody tr th:only-of-type {\n",
       "        vertical-align: middle;\n",
       "    }\n",
       "\n",
       "    .dataframe tbody tr th {\n",
       "        vertical-align: top;\n",
       "    }\n",
       "\n",
       "    .dataframe thead th {\n",
       "        text-align: right;\n",
       "    }\n",
       "</style>\n",
       "<table border=\"1\" class=\"dataframe\">\n",
       "  <thead>\n",
       "    <tr style=\"text-align: right;\">\n",
       "      <th></th>\n",
       "      <th>Restaurant</th>\n",
       "      <th>Customer</th>\n",
       "    </tr>\n",
       "  </thead>\n",
       "  <tbody>\n",
       "    <tr>\n",
       "      <th>0</th>\n",
       "      <td>Etobicoke (Islington Avenue)</td>\n",
       "      <td>Downtown Toronto Stn A PO Boxes 25 The Esplana...</td>\n",
       "    </tr>\n",
       "    <tr>\n",
       "      <th>1</th>\n",
       "      <td>North York (Sweeney Park / Wigmore Park)</td>\n",
       "      <td>Downtown Toronto (University of Toronto / Harb...</td>\n",
       "    </tr>\n",
       "    <tr>\n",
       "      <th>2</th>\n",
       "      <td>Scarborough (The Golden Mile / Clairlea / Oakr...</td>\n",
       "      <td>Downtown Toronto (Rosedale)</td>\n",
       "    </tr>\n",
       "    <tr>\n",
       "      <th>3</th>\n",
       "      <td>Etobicoke (Westmount)</td>\n",
       "      <td>Etobicoke (West Deane Park / Princess Gardens ...</td>\n",
       "    </tr>\n",
       "  </tbody>\n",
       "</table>\n",
       "</div>"
      ],
      "text/plain": [
       "                                          Restaurant  \\\n",
       "0                       Etobicoke (Islington Avenue)   \n",
       "1           North York (Sweeney Park / Wigmore Park)   \n",
       "2  Scarborough (The Golden Mile / Clairlea / Oakr...   \n",
       "3                              Etobicoke (Westmount)   \n",
       "\n",
       "                                            Customer  \n",
       "0  Downtown Toronto Stn A PO Boxes 25 The Esplana...  \n",
       "1  Downtown Toronto (University of Toronto / Harb...  \n",
       "2                        Downtown Toronto (Rosedale)  \n",
       "3  Etobicoke (West Deane Park / Princess Gardens ...  "
      ]
     },
     "execution_count": 485,
     "metadata": {},
     "output_type": "execute_result"
    }
   ],
   "source": [
    "order_df = pd.DataFrame({'Restaurant':[], 'Customer':[]})\n",
    "\n",
    "for index, row in df.iterrows():\n",
    "    order_df.loc[index, 'Restaurant'] = row[\"restaurant\"]\n",
    "    order_df.loc[index, 'Customer'] = row[\"customer\"]\n",
    "\n",
    "order_df"
   ]
  },
  {
   "cell_type": "code",
   "execution_count": 486,
   "id": "0b4b802e",
   "metadata": {
    "scrolled": true
   },
   "outputs": [
    {
     "data": {
      "text/html": [
       "<div>\n",
       "<style scoped>\n",
       "    .dataframe tbody tr th:only-of-type {\n",
       "        vertical-align: middle;\n",
       "    }\n",
       "\n",
       "    .dataframe tbody tr th {\n",
       "        vertical-align: top;\n",
       "    }\n",
       "\n",
       "    .dataframe thead th {\n",
       "        text-align: right;\n",
       "    }\n",
       "</style>\n",
       "<table border=\"1\" class=\"dataframe\">\n",
       "  <thead>\n",
       "    <tr style=\"text-align: right;\">\n",
       "      <th></th>\n",
       "      <th>Start</th>\n",
       "      <th>End</th>\n",
       "      <th>Distance</th>\n",
       "      <th>Time</th>\n",
       "    </tr>\n",
       "  </thead>\n",
       "  <tbody>\n",
       "    <tr>\n",
       "      <th>0</th>\n",
       "      <td>Etobicoke (Islington Avenue)</td>\n",
       "      <td>Etobicoke (Islington Avenue)</td>\n",
       "      <td>0.000000</td>\n",
       "      <td>0.000000</td>\n",
       "    </tr>\n",
       "    <tr>\n",
       "      <th>1</th>\n",
       "      <td>Etobicoke (Islington Avenue)</td>\n",
       "      <td>North York (Sweeney Park / Wigmore Park)</td>\n",
       "      <td>18.464774</td>\n",
       "      <td>27.697161</td>\n",
       "    </tr>\n",
       "    <tr>\n",
       "      <th>2</th>\n",
       "      <td>Etobicoke (Islington Avenue)</td>\n",
       "      <td>Scarborough (The Golden Mile / Clairlea / Oakr...</td>\n",
       "      <td>20.266821</td>\n",
       "      <td>30.400231</td>\n",
       "    </tr>\n",
       "    <tr>\n",
       "      <th>3</th>\n",
       "      <td>Etobicoke (Islington Avenue)</td>\n",
       "      <td>Etobicoke (Westmount)</td>\n",
       "      <td>3.208285</td>\n",
       "      <td>4.812428</td>\n",
       "    </tr>\n",
       "    <tr>\n",
       "      <th>4</th>\n",
       "      <td>Etobicoke (Islington Avenue)</td>\n",
       "      <td>Downtown Toronto Stn A PO Boxes 25 The Esplana...</td>\n",
       "      <td>12.284849</td>\n",
       "      <td>18.427273</td>\n",
       "    </tr>\n",
       "  </tbody>\n",
       "</table>\n",
       "</div>"
      ],
      "text/plain": [
       "                          Start  \\\n",
       "0  Etobicoke (Islington Avenue)   \n",
       "1  Etobicoke (Islington Avenue)   \n",
       "2  Etobicoke (Islington Avenue)   \n",
       "3  Etobicoke (Islington Avenue)   \n",
       "4  Etobicoke (Islington Avenue)   \n",
       "\n",
       "                                                 End   Distance       Time  \n",
       "0                       Etobicoke (Islington Avenue)   0.000000   0.000000  \n",
       "1           North York (Sweeney Park / Wigmore Park)  18.464774  27.697161  \n",
       "2  Scarborough (The Golden Mile / Clairlea / Oakr...  20.266821  30.400231  \n",
       "3                              Etobicoke (Westmount)   3.208285   4.812428  \n",
       "4  Downtown Toronto Stn A PO Boxes 25 The Esplana...  12.284849  18.427273  "
      ]
     },
     "execution_count": 486,
     "metadata": {},
     "output_type": "execute_result"
    }
   ],
   "source": [
    "travel_df = pd.DataFrame({'Start':[], 'End': [], 'Distance': [], 'Time': []})\n",
    "\n",
    "\n",
    "for i in start_locations:\n",
    "    for j in end_locations: \n",
    "        if i == j:\n",
    "            new_row_data = {'Start': i, 'End': j, 'Distance': 0, 'Time': 0}\n",
    "            new_row = pd.DataFrame(new_row_data, index=[0])\n",
    "            travel_df = pd.concat([travel_df, new_row], ignore_index=True)\n",
    "        else:\n",
    "            d_temp = float(df_distances[(df_distances['origin'] == i) & \n",
    "                                                          (df_distances['destination'] == j)]['distance'])\n",
    "            t_temp = d_temp/average_velocity * 60\n",
    "            new_row_data = {'Start': i, 'End': j, 'Distance': d_temp, 'Time': t_temp}\n",
    "            new_row = pd.DataFrame(new_row_data, index=[0])\n",
    "            travel_df = pd.concat([travel_df, new_row], ignore_index=True)\n",
    "\n",
    "travel_df.head()"
   ]
  },
  {
   "cell_type": "code",
   "execution_count": 487,
   "id": "479aa673",
   "metadata": {},
   "outputs": [],
   "source": [
    "df['estimated availability'] = pd.to_datetime(df['estimated availability'])\n",
    "df['Converted Availability'] = (df['estimated availability'] - df['estimated availability'].min()).dt.total_seconds() / 60"
   ]
  },
  {
   "cell_type": "code",
   "execution_count": 488,
   "id": "df7be714",
   "metadata": {},
   "outputs": [
    {
     "data": {
      "text/html": [
       "<div>\n",
       "<style scoped>\n",
       "    .dataframe tbody tr th:only-of-type {\n",
       "        vertical-align: middle;\n",
       "    }\n",
       "\n",
       "    .dataframe tbody tr th {\n",
       "        vertical-align: top;\n",
       "    }\n",
       "\n",
       "    .dataframe thead th {\n",
       "        text-align: right;\n",
       "    }\n",
       "</style>\n",
       "<table border=\"1\" class=\"dataframe\">\n",
       "  <thead>\n",
       "    <tr style=\"text-align: right;\">\n",
       "      <th></th>\n",
       "      <th>restaurant</th>\n",
       "      <th>customer</th>\n",
       "      <th>estimated availability</th>\n",
       "      <th>Converted Availability</th>\n",
       "    </tr>\n",
       "  </thead>\n",
       "  <tbody>\n",
       "    <tr>\n",
       "      <th>0</th>\n",
       "      <td>Etobicoke (Islington Avenue)</td>\n",
       "      <td>Downtown Toronto Stn A PO Boxes 25 The Esplana...</td>\n",
       "      <td>2022-04-02 17:17:00</td>\n",
       "      <td>0.0</td>\n",
       "    </tr>\n",
       "    <tr>\n",
       "      <th>1</th>\n",
       "      <td>North York (Sweeney Park / Wigmore Park)</td>\n",
       "      <td>Downtown Toronto (University of Toronto / Harb...</td>\n",
       "      <td>2022-04-02 17:49:00</td>\n",
       "      <td>32.0</td>\n",
       "    </tr>\n",
       "    <tr>\n",
       "      <th>2</th>\n",
       "      <td>Scarborough (The Golden Mile / Clairlea / Oakr...</td>\n",
       "      <td>Downtown Toronto (Rosedale)</td>\n",
       "      <td>2022-04-02 18:17:00</td>\n",
       "      <td>60.0</td>\n",
       "    </tr>\n",
       "    <tr>\n",
       "      <th>3</th>\n",
       "      <td>Etobicoke (Westmount)</td>\n",
       "      <td>Etobicoke (West Deane Park / Princess Gardens ...</td>\n",
       "      <td>2022-04-02 17:53:00</td>\n",
       "      <td>36.0</td>\n",
       "    </tr>\n",
       "  </tbody>\n",
       "</table>\n",
       "</div>"
      ],
      "text/plain": [
       "                                          restaurant  \\\n",
       "0                       Etobicoke (Islington Avenue)   \n",
       "1           North York (Sweeney Park / Wigmore Park)   \n",
       "2  Scarborough (The Golden Mile / Clairlea / Oakr...   \n",
       "3                              Etobicoke (Westmount)   \n",
       "\n",
       "                                            customer estimated availability  \\\n",
       "0  Downtown Toronto Stn A PO Boxes 25 The Esplana...    2022-04-02 17:17:00   \n",
       "1  Downtown Toronto (University of Toronto / Harb...    2022-04-02 17:49:00   \n",
       "2                        Downtown Toronto (Rosedale)    2022-04-02 18:17:00   \n",
       "3  Etobicoke (West Deane Park / Princess Gardens ...    2022-04-02 17:53:00   \n",
       "\n",
       "   Converted Availability  \n",
       "0                     0.0  \n",
       "1                    32.0  \n",
       "2                    60.0  \n",
       "3                    36.0  "
      ]
     },
     "execution_count": 488,
     "metadata": {},
     "output_type": "execute_result"
    }
   ],
   "source": [
    "df"
   ]
  },
  {
   "cell_type": "markdown",
   "id": "e9247c3f",
   "metadata": {},
   "source": [
    "## Model"
   ]
  },
  {
   "cell_type": "code",
   "execution_count": 489,
   "id": "2e51b664",
   "metadata": {},
   "outputs": [],
   "source": [
    "model = LpProblem(name = 'Part2_Model', sense = LpMinimize)\n",
    "\n",
    "xVar = LpVariable.dict('x', (start_locations, end_locations, num_steps), cat = LpBinary)\n",
    "# zVar = LpVariable.dict('z', num_steps, lowBound = 0.0, cat = LpContinuous)\n",
    "dVar = LpVariable.dict('d', [0] + num_steps, lowBound = -9999.0, cat = LpContinuous)\n",
    "aVar = LpVariable.dict('a', [0] + num_steps, lowBound = -9999.0, cat = LpContinuous)\n",
    "wVar = LpVariable.dict('w', (start_locations, num_steps), lowBound = 0.0, cat = LpContinuous)\n",
    "vVar = LpVariable.dict('w', (start_locations, end_locations), lowBound = 0.0, cat = LpContinuous)"
   ]
  },
  {
   "cell_type": "code",
   "execution_count": 490,
   "id": "ad607de0",
   "metadata": {},
   "outputs": [],
   "source": [
    "obj = lpSum([travel_df[(travel_df['Start']==i) & (travel_df['End']==j)]['Distance'].iloc[0] * xVar[(i,j,t)] \\\n",
    "             for i in start_locations for j in end_locations for t in num_steps])\n",
    "model += obj"
   ]
  },
  {
   "cell_type": "code",
   "execution_count": 491,
   "id": "5a2a18ea",
   "metadata": {},
   "outputs": [],
   "source": [
    "model += dVar[(0)] <= 0"
   ]
  },
  {
   "cell_type": "code",
   "execution_count": 492,
   "id": "ca49ee62",
   "metadata": {},
   "outputs": [],
   "source": [
    "def travel_time_lookup(i, j, travel_df):\n",
    "    return travel_df[(travel_df['Start']==i) & (travel_df['End']==j)]['Time'].iloc[0]"
   ]
  },
  {
   "cell_type": "code",
   "execution_count": 493,
   "id": "e40734e6",
   "metadata": {},
   "outputs": [],
   "source": [
    "# # Step time calculation\n",
    "# for t in num_steps:\n",
    "#     model += dVar[(t)] == dVar[(t-1)] + lpSum([travel_time_lookup(i, j, travel_df) * xVar[(i,j,t)] \\\n",
    "#                                                for i in start_locations for j in restaurants]) + \\\n",
    "#                           lpSum([(travel_time_lookup(i, j, travel_df) + 5) * xVar[(i,j,t)] \\\n",
    "#                                  for i in start_locations for j in customers])"
   ]
  },
  {
   "cell_type": "code",
   "execution_count": 494,
   "id": "06bd278d",
   "metadata": {},
   "outputs": [],
   "source": [
    "# # Assign time to each travel in vVar\n",
    "# for i in start_locations:\n",
    "#     for j in end_locations:\n",
    "#         model += vVar[(i,j)] == travel_df[(travel_df['Start']==i) & (travel_df['End']==j)]['Time'].iloc[0]"
   ]
  },
  {
   "cell_type": "code",
   "execution_count": 495,
   "id": "450d659c",
   "metadata": {},
   "outputs": [],
   "source": [
    "# # Driver arrives after the food is ready\n",
    "# for t in num_steps:\n",
    "#     for i in start_locations:\n",
    "#         for j in range(0, int(len(order_locations)/2)):\n",
    "#             model += dVar[(t)] >= df.loc[j, 'Converted Availability'] * xVar[(i,df.loc[j, 'restaurant'],t)]"
   ]
  },
  {
   "cell_type": "code",
   "execution_count": 496,
   "id": "b18c5fbe",
   "metadata": {},
   "outputs": [],
   "source": [
    "# Step time calculation\n",
    "for t in num_steps:\n",
    "    model += aVar[(t)] == dVar[(t-1)] + lpSum([travel_time_lookup(i, j, travel_df) * xVar[(i,j,t)] \\\n",
    "                                               for i in start_locations for j in restaurants]) + \\\n",
    "                          lpSum([(travel_time_lookup(i, j, travel_df) + 5) * xVar[(i,j,t)] \\\n",
    "                                 for i in start_locations for j in customers])\n",
    "    model += aVar[(t)] <= dVar[(t)]"
   ]
  },
  {
   "cell_type": "code",
   "execution_count": 497,
   "id": "12beb981",
   "metadata": {},
   "outputs": [],
   "source": [
    "# Driver leaves after the food is ready\n",
    "for t in num_steps:\n",
    "    for i in start_locations:\n",
    "        for j in restaurants:\n",
    "            model += dVar[(t)] >= df[df['restaurant'] == j]['Converted Availability'].iloc[0] * xVar[(i,j,t)]"
   ]
  },
  {
   "cell_type": "code",
   "execution_count": 498,
   "id": "1d7fd223",
   "metadata": {},
   "outputs": [],
   "source": [
    "# Visit restaurant before customer\n",
    "for t in num_steps: \n",
    "    for j in end_locations: \n",
    "        if j in customers: \n",
    "            model += pulp.lpSum( [xVar[i,j,t] for i in start_locations]) <= pulp.lpSum([xVar[i, restaurant_customer_match(j, order_df),t_] \\\n",
    "                                                                                        for i in start_locations \\\n",
    "                                                                                        for t_ in num_steps[:t]])"
   ]
  },
  {
   "cell_type": "code",
   "execution_count": 499,
   "id": "246ff19c",
   "metadata": {},
   "outputs": [],
   "source": [
    "for idx, row in df.iterrows():\n",
    "    rst, cus, time = row['restaurant'], row['customer'], row['Converted Availability']\n",
    "    for t in num_steps:\n",
    "        model += wVar[(cus, t)] <= 10000000 * lpSum(xVar[(i, cus, t)] for i in start_locations if i != cus)\n",
    "        \n",
    "        model += wVar[(cus, t)] <= dVar[t] - time + 10000000 * (1 - lpSum(xVar[(i, cus, t)] for i in start_locations if i !=cus))\n",
    "        model += wVar[(cus, t)] >= dVar[t] - time - 10000000 * (1 - lpSum(xVar[(i, cus, t)] for i in start_locations if i !=cus))"
   ]
  },
  {
   "cell_type": "code",
   "execution_count": 500,
   "id": "48f9813d",
   "metadata": {},
   "outputs": [],
   "source": [
    "model += W >= lpSum(wVar[(c,t)] for c in customers for t in num_steps)/len(df)"
   ]
  },
  {
   "cell_type": "code",
   "execution_count": 501,
   "id": "228522da",
   "metadata": {},
   "outputs": [],
   "source": [
    "# Every location receives order once\n",
    "for j in end_locations: \n",
    "    model += lpSum([xVar[(i,j,t)] for i in start_locations for t in num_steps]) == 1"
   ]
  },
  {
   "cell_type": "code",
   "execution_count": 502,
   "id": "3ed0b923",
   "metadata": {},
   "outputs": [],
   "source": [
    "# Convervation of flow\n",
    "for t in num_steps[:-1]:\n",
    "    for j in end_locations:\n",
    "        model += (lpSum([xVar[(i,j,t)] for i in start_locations]) == lpSum([xVar[(j,k,t+1)] for k in end_locations]))"
   ]
  },
  {
   "cell_type": "code",
   "execution_count": 503,
   "id": "56c6ee85",
   "metadata": {},
   "outputs": [],
   "source": [
    "# First node has an outflow of 1, others 0\n",
    "model += lpSum([xVar[(start_locations[-1],j,1)] for j in restaurants]) == 1\n",
    "\n",
    "for i in start_locations[:-1]:\n",
    "    model += lpSum([xVar[(i,j,1)] for j in end_locations]) == 0"
   ]
  },
  {
   "cell_type": "markdown",
   "id": "baee546d",
   "metadata": {},
   "source": [
    "## Solve"
   ]
  },
  {
   "cell_type": "code",
   "execution_count": 504,
   "id": "8c173e81",
   "metadata": {},
   "outputs": [
    {
     "name": "stdout",
     "output_type": "stream",
     "text": [
      "Status: Optimal\n"
     ]
    }
   ],
   "source": [
    "# Solve the model\n",
    "model.solve()\n",
    "print(\"Status:\", LpStatus[model.status])"
   ]
  },
  {
   "cell_type": "code",
   "execution_count": 505,
   "id": "d80922cf",
   "metadata": {},
   "outputs": [
    {
     "name": "stdout",
     "output_type": "stream",
     "text": [
      "Total Distance:  65.00241802135857\n"
     ]
    }
   ],
   "source": [
    "# Total Distance\n",
    "total_distance = pulp.value(model.objective)\n",
    "print(\"Total Distance: \" , total_distance)"
   ]
  },
  {
   "cell_type": "code",
   "execution_count": 506,
   "id": "c809fbc3",
   "metadata": {},
   "outputs": [
    {
     "name": "stdout",
     "output_type": "stream",
     "text": [
      "step:1\n",
      "\n",
      "TRAVEL FROM Downtown Toronto (Rosedale)  TO Etobicoke (Islington Avenue)\n",
      "step:2\n",
      "\n",
      "TRAVEL FROM Etobicoke (Islington Avenue)  TO Downtown Toronto Stn A PO Boxes 25 The Esplanade (Enclave of M5E)\n",
      "step:3\n",
      "\n",
      "TRAVEL FROM Downtown Toronto Stn A PO Boxes 25 The Esplanade (Enclave of M5E)  TO Scarborough (The Golden Mile / Clairlea / Oakridge / Birchmount Park East)\n",
      "step:4\n",
      "\n",
      "TRAVEL FROM Scarborough (The Golden Mile / Clairlea / Oakridge / Birchmount Park East)  TO North York (Sweeney Park / Wigmore Park)\n",
      "step:5\n",
      "\n",
      "TRAVEL FROM North York (Sweeney Park / Wigmore Park)  TO Downtown Toronto (Rosedale)\n",
      "step:6\n",
      "\n",
      "TRAVEL FROM Downtown Toronto (Rosedale)  TO Downtown Toronto (University of Toronto / Harbord)\n",
      "step:7\n",
      "\n",
      "TRAVEL FROM Downtown Toronto (University of Toronto / Harbord)  TO Etobicoke (Westmount)\n",
      "step:8\n",
      "\n",
      "TRAVEL FROM Etobicoke (Westmount)  TO Etobicoke (West Deane Park / Princess Gardens / Martin Grove / Islington / Cloverdale)\n"
     ]
    }
   ],
   "source": [
    "# Print the results\n",
    "path=[]\n",
    "for t in num_steps:\n",
    "    print(f'step:{t}\\n')\n",
    "    for i in start_locations:\n",
    "         for j in end_locations:\n",
    "                if (xVar[(i,j,t)].varValue == 1) :\n",
    "                    print(f\"TRAVEL FROM {i}  TO {j}\")\n",
    "                    \n",
    "                    if i not in path:\n",
    "                        path.append(i)\n",
    "                    if j not in path:\n",
    "                        path.append(j)"
   ]
  },
  {
   "cell_type": "code",
   "execution_count": 507,
   "id": "f30b1ef5",
   "metadata": {},
   "outputs": [
    {
     "name": "stdout",
     "output_type": "stream",
     "text": [
      "Stop number: 1\n",
      "Travel time(mins): 0.0\n",
      "\tLeft from location: Downtown Toronto (Rosedale)\n",
      "\tArrived at location: Etobicoke (Islington Avenue)\n",
      "\tWait time: None\n",
      "Stop number: 2\n",
      "Travel time(mins): 23.427273\n",
      "\tLeft from location: Etobicoke (Islington Avenue)\n",
      "\tArrived at location: Downtown Toronto Stn A PO Boxes 25 The Esplanade (Enclave of M5E)\n",
      "\tWait time: 23.427273\n",
      "Stop number: 3\n",
      "Travel time(mins): 60.0\n",
      "\tLeft from location: Downtown Toronto Stn A PO Boxes 25 The Esplanade (Enclave of M5E)\n",
      "\tArrived at location: Scarborough (The Golden Mile / Clairlea / Oakridge / Birchmount Park East)\n",
      "\tWait time: None\n",
      "Stop number: 4\n",
      "Travel time(mins): 64.485021\n",
      "\tLeft from location: Scarborough (The Golden Mile / Clairlea / Oakridge / Birchmount Park East)\n",
      "\tArrived at location: North York (Sweeney Park / Wigmore Park)\n",
      "\tWait time: None\n",
      "Stop number: 5\n",
      "Travel time(mins): 79.748059\n",
      "\tLeft from location: North York (Sweeney Park / Wigmore Park)\n",
      "\tArrived at location: Downtown Toronto (Rosedale)\n",
      "\tWait time: 19.748059\n",
      "Stop number: 6\n",
      "Travel time(mins): 89.277881\n",
      "\tLeft from location: Downtown Toronto (Rosedale)\n",
      "\tArrived at location: Downtown Toronto (University of Toronto / Harbord)\n",
      "\tWait time: 57.277881\n",
      "Stop number: 7\n",
      "Travel time(mins): 106.25462\n",
      "\tLeft from location: Downtown Toronto (University of Toronto / Harbord)\n",
      "\tArrived at location: Etobicoke (Westmount)\n",
      "\tWait time: None\n",
      "Stop number: 8\n",
      "Travel time(mins): 119.02124\n",
      "\tLeft from location: Etobicoke (Westmount)\n",
      "\tArrived at location: Etobicoke (West Deane Park / Princess Gardens / Martin Grove / Islington / Cloverdale)\n",
      "\tWait time: 83.02124\n",
      "Total wait: 183.47445299999998\n"
     ]
    }
   ],
   "source": [
    "# Print Results\n",
    "for t in num_steps: \n",
    "    print('Stop number: ' + str(t))\n",
    "    print('Travel time(mins): ' + str(dVar[t].varValue))\n",
    "    \n",
    "    for i in start_locations: \n",
    "        for j in end_locations: \n",
    "            \n",
    "            if xVar[(i,j,t)].varValue > 0.0:\n",
    "                print('\\tLeft from location: ' + str(i))\n",
    "                print('\\tArrived at location: ' + str(j))\n",
    "                print('\\tWait time: ' + str(wVar[(j,t)].varValue))\n",
    "#                 print('\\tSum of wait times: ' + str(zVar[t].varValue))\n",
    "total_wait_time = sum([wVar[(j,t)].varValue for j in end_locations for t in num_steps if wVar[(j,t)].varValue != None])\n",
    "print('Total wait: ' + str(total_wait_time))\n",
    "# wait_time = str(zVar[t].varValue / len(customers))              \n",
    "# print('Average wait: ' + wait_time)"
   ]
  },
  {
   "cell_type": "code",
   "execution_count": 508,
   "id": "0b033909",
   "metadata": {},
   "outputs": [
    {
     "data": {
      "text/plain": [
       "-9980.076"
      ]
     },
     "execution_count": 508,
     "metadata": {},
     "output_type": "execute_result"
    }
   ],
   "source": [
    "aVar[1].varValue"
   ]
  },
  {
   "cell_type": "code",
   "execution_count": 509,
   "id": "6258df28",
   "metadata": {},
   "outputs": [
    {
     "data": {
      "text/plain": [
       "0.0"
      ]
     },
     "execution_count": 509,
     "metadata": {},
     "output_type": "execute_result"
    }
   ],
   "source": [
    "dVar[1].varValue"
   ]
  },
  {
   "cell_type": "code",
   "execution_count": 501,
   "id": "739127db",
   "metadata": {},
   "outputs": [],
   "source": []
  },
  {
   "cell_type": "markdown",
   "id": "464ecfe7",
   "metadata": {},
   "source": [
    "## Sensitivity"
   ]
  },
  {
   "cell_type": "markdown",
   "id": "d2a5e731",
   "metadata": {},
   "source": [
    "### Data Preparation"
   ]
  },
  {
   "cell_type": "code",
   "execution_count": 478,
   "id": "c1f0fe8a",
   "metadata": {},
   "outputs": [],
   "source": [
    "# Route A or B\n",
    "route = 'B'"
   ]
  },
  {
   "cell_type": "code",
   "execution_count": 479,
   "id": "a679a4aa",
   "metadata": {},
   "outputs": [],
   "source": [
    "starting_location = 'Downtown Toronto (Rosedale)'\n",
    "average_velocity = 40 # Km/Hr\n",
    "average_wait = 5 # Mins\n",
    "\n",
    "# Convert to Km/Min\n",
    "velocity_min = average_velocity / 60"
   ]
  },
  {
   "cell_type": "code",
   "execution_count": 480,
   "id": "ac59615c",
   "metadata": {},
   "outputs": [
    {
     "name": "stdout",
     "output_type": "stream",
     "text": [
      "Route B\n"
     ]
    }
   ],
   "source": [
    "# Route variables\n",
    "test_W = range(0, 120, 5)\n",
    "\n",
    "if route == 'A':\n",
    "    print('Route A')\n",
    "    df = df_ordersA\n",
    "else:\n",
    "    print('Route B')\n",
    "    df = df_ordersB"
   ]
  },
  {
   "cell_type": "code",
   "execution_count": 481,
   "id": "9b17297a",
   "metadata": {},
   "outputs": [],
   "source": [
    "# Get start and end locations\n",
    "start_locations = list(df['restaurant'].unique()) + list(df['customer'].unique())\n",
    "end_locations = start_locations.copy()\n",
    "\n",
    "start_locations = list(dict.fromkeys(start_locations))\n",
    "end_locations = list(dict.fromkeys(end_locations))\n",
    "\n",
    "if starting_location in start_locations:\n",
    "    start_locations.remove(starting_location)\n",
    "    start_locations.append(starting_location)\n",
    "else:\n",
    "    start_locations.append(starting_location)\n"
   ]
  },
  {
   "cell_type": "code",
   "execution_count": 482,
   "id": "14c17a7f",
   "metadata": {},
   "outputs": [
    {
     "data": {
      "text/plain": [
       "['Etobicoke (Islington Avenue)',\n",
       " 'North York (Sweeney Park / Wigmore Park)',\n",
       " 'Scarborough (The Golden Mile / Clairlea / Oakridge / Birchmount Park East)',\n",
       " 'Etobicoke (Westmount)',\n",
       " 'Downtown Toronto Stn A PO Boxes 25 The Esplanade (Enclave of M5E)',\n",
       " 'Downtown Toronto (University of Toronto / Harbord)',\n",
       " 'Downtown Toronto (Rosedale)',\n",
       " 'Etobicoke (West Deane Park / Princess Gardens / Martin Grove / Islington / Cloverdale)']"
      ]
     },
     "execution_count": 482,
     "metadata": {},
     "output_type": "execute_result"
    }
   ],
   "source": [
    "order_locations = list(df['restaurant']) + list(df['customer'])"
   ]
  },
  {
   "cell_type": "code",
   "execution_count": 483,
   "id": "d3b44d94",
   "metadata": {},
   "outputs": [],
   "source": [
    "# Calculate the number of stops \n",
    "num_steps = np.arange(1, len(end_locations)+1).tolist()"
   ]
  },
  {
   "cell_type": "code",
   "execution_count": 484,
   "id": "fade6747",
   "metadata": {},
   "outputs": [],
   "source": [
    "# Get unique Restraurants and Customers\n",
    "restaurants = df['restaurant'].unique().tolist()\n",
    "customers = df['customer'].unique().tolist()"
   ]
  },
  {
   "cell_type": "code",
   "execution_count": 485,
   "id": "4e9dcc33",
   "metadata": {},
   "outputs": [
    {
     "data": {
      "text/html": [
       "<div>\n",
       "<style scoped>\n",
       "    .dataframe tbody tr th:only-of-type {\n",
       "        vertical-align: middle;\n",
       "    }\n",
       "\n",
       "    .dataframe tbody tr th {\n",
       "        vertical-align: top;\n",
       "    }\n",
       "\n",
       "    .dataframe thead th {\n",
       "        text-align: right;\n",
       "    }\n",
       "</style>\n",
       "<table border=\"1\" class=\"dataframe\">\n",
       "  <thead>\n",
       "    <tr style=\"text-align: right;\">\n",
       "      <th></th>\n",
       "      <th>Restaurant</th>\n",
       "      <th>Customer</th>\n",
       "    </tr>\n",
       "  </thead>\n",
       "  <tbody>\n",
       "    <tr>\n",
       "      <th>0</th>\n",
       "      <td>Etobicoke (Islington Avenue)</td>\n",
       "      <td>Downtown Toronto Stn A PO Boxes 25 The Esplana...</td>\n",
       "    </tr>\n",
       "    <tr>\n",
       "      <th>1</th>\n",
       "      <td>North York (Sweeney Park / Wigmore Park)</td>\n",
       "      <td>Downtown Toronto (University of Toronto / Harb...</td>\n",
       "    </tr>\n",
       "    <tr>\n",
       "      <th>2</th>\n",
       "      <td>Scarborough (The Golden Mile / Clairlea / Oakr...</td>\n",
       "      <td>Downtown Toronto (Rosedale)</td>\n",
       "    </tr>\n",
       "    <tr>\n",
       "      <th>3</th>\n",
       "      <td>Etobicoke (Westmount)</td>\n",
       "      <td>Etobicoke (West Deane Park / Princess Gardens ...</td>\n",
       "    </tr>\n",
       "  </tbody>\n",
       "</table>\n",
       "</div>"
      ],
      "text/plain": [
       "                                          Restaurant  \\\n",
       "0                       Etobicoke (Islington Avenue)   \n",
       "1           North York (Sweeney Park / Wigmore Park)   \n",
       "2  Scarborough (The Golden Mile / Clairlea / Oakr...   \n",
       "3                              Etobicoke (Westmount)   \n",
       "\n",
       "                                            Customer  \n",
       "0  Downtown Toronto Stn A PO Boxes 25 The Esplana...  \n",
       "1  Downtown Toronto (University of Toronto / Harb...  \n",
       "2                        Downtown Toronto (Rosedale)  \n",
       "3  Etobicoke (West Deane Park / Princess Gardens ...  "
      ]
     },
     "execution_count": 485,
     "metadata": {},
     "output_type": "execute_result"
    }
   ],
   "source": [
    "order_df = pd.DataFrame({'Restaurant':[], 'Customer':[]})\n",
    "\n",
    "for index, row in df.iterrows():\n",
    "    order_df.loc[index, 'Restaurant'] = row[\"restaurant\"]\n",
    "    order_df.loc[index, 'Customer'] = row[\"customer\"]\n",
    "\n",
    "order_df"
   ]
  },
  {
   "cell_type": "code",
   "execution_count": 486,
   "id": "fa91d735",
   "metadata": {
    "scrolled": true
   },
   "outputs": [
    {
     "data": {
      "text/html": [
       "<div>\n",
       "<style scoped>\n",
       "    .dataframe tbody tr th:only-of-type {\n",
       "        vertical-align: middle;\n",
       "    }\n",
       "\n",
       "    .dataframe tbody tr th {\n",
       "        vertical-align: top;\n",
       "    }\n",
       "\n",
       "    .dataframe thead th {\n",
       "        text-align: right;\n",
       "    }\n",
       "</style>\n",
       "<table border=\"1\" class=\"dataframe\">\n",
       "  <thead>\n",
       "    <tr style=\"text-align: right;\">\n",
       "      <th></th>\n",
       "      <th>Start</th>\n",
       "      <th>End</th>\n",
       "      <th>Distance</th>\n",
       "      <th>Time</th>\n",
       "    </tr>\n",
       "  </thead>\n",
       "  <tbody>\n",
       "    <tr>\n",
       "      <th>0</th>\n",
       "      <td>Etobicoke (Islington Avenue)</td>\n",
       "      <td>Etobicoke (Islington Avenue)</td>\n",
       "      <td>0.000000</td>\n",
       "      <td>0.000000</td>\n",
       "    </tr>\n",
       "    <tr>\n",
       "      <th>1</th>\n",
       "      <td>Etobicoke (Islington Avenue)</td>\n",
       "      <td>North York (Sweeney Park / Wigmore Park)</td>\n",
       "      <td>18.464774</td>\n",
       "      <td>27.697161</td>\n",
       "    </tr>\n",
       "    <tr>\n",
       "      <th>2</th>\n",
       "      <td>Etobicoke (Islington Avenue)</td>\n",
       "      <td>Scarborough (The Golden Mile / Clairlea / Oakr...</td>\n",
       "      <td>20.266821</td>\n",
       "      <td>30.400231</td>\n",
       "    </tr>\n",
       "    <tr>\n",
       "      <th>3</th>\n",
       "      <td>Etobicoke (Islington Avenue)</td>\n",
       "      <td>Etobicoke (Westmount)</td>\n",
       "      <td>3.208285</td>\n",
       "      <td>4.812428</td>\n",
       "    </tr>\n",
       "    <tr>\n",
       "      <th>4</th>\n",
       "      <td>Etobicoke (Islington Avenue)</td>\n",
       "      <td>Downtown Toronto Stn A PO Boxes 25 The Esplana...</td>\n",
       "      <td>12.284849</td>\n",
       "      <td>18.427273</td>\n",
       "    </tr>\n",
       "  </tbody>\n",
       "</table>\n",
       "</div>"
      ],
      "text/plain": [
       "                          Start  \\\n",
       "0  Etobicoke (Islington Avenue)   \n",
       "1  Etobicoke (Islington Avenue)   \n",
       "2  Etobicoke (Islington Avenue)   \n",
       "3  Etobicoke (Islington Avenue)   \n",
       "4  Etobicoke (Islington Avenue)   \n",
       "\n",
       "                                                 End   Distance       Time  \n",
       "0                       Etobicoke (Islington Avenue)   0.000000   0.000000  \n",
       "1           North York (Sweeney Park / Wigmore Park)  18.464774  27.697161  \n",
       "2  Scarborough (The Golden Mile / Clairlea / Oakr...  20.266821  30.400231  \n",
       "3                              Etobicoke (Westmount)   3.208285   4.812428  \n",
       "4  Downtown Toronto Stn A PO Boxes 25 The Esplana...  12.284849  18.427273  "
      ]
     },
     "execution_count": 486,
     "metadata": {},
     "output_type": "execute_result"
    }
   ],
   "source": [
    "travel_df = pd.DataFrame({'Start':[], 'End': [], 'Distance': [], 'Time': []})\n",
    "\n",
    "\n",
    "for i in start_locations:\n",
    "    for j in end_locations: \n",
    "        if i == j:\n",
    "            new_row_data = {'Start': i, 'End': j, 'Distance': 0, 'Time': 0}\n",
    "            new_row = pd.DataFrame(new_row_data, index=[0])\n",
    "            travel_df = pd.concat([travel_df, new_row], ignore_index=True)\n",
    "        else:\n",
    "            d_temp = float(df_distances[(df_distances['origin'] == i) & \n",
    "                                                          (df_distances['destination'] == j)]['distance'])\n",
    "            t_temp = d_temp/average_velocity * 60\n",
    "            new_row_data = {'Start': i, 'End': j, 'Distance': d_temp, 'Time': t_temp}\n",
    "            new_row = pd.DataFrame(new_row_data, index=[0])\n",
    "            travel_df = pd.concat([travel_df, new_row], ignore_index=True)\n",
    "\n",
    "travel_df.head()"
   ]
  },
  {
   "cell_type": "code",
   "execution_count": 487,
   "id": "bfaa94f6",
   "metadata": {},
   "outputs": [],
   "source": [
    "df['estimated availability'] = pd.to_datetime(df['estimated availability'])\n",
    "df['Converted Availability'] = (df['estimated availability'] - df['estimated availability'].min()).dt.total_seconds() / 60"
   ]
  },
  {
   "cell_type": "code",
   "execution_count": 488,
   "id": "7e041368",
   "metadata": {},
   "outputs": [
    {
     "data": {
      "text/html": [
       "<div>\n",
       "<style scoped>\n",
       "    .dataframe tbody tr th:only-of-type {\n",
       "        vertical-align: middle;\n",
       "    }\n",
       "\n",
       "    .dataframe tbody tr th {\n",
       "        vertical-align: top;\n",
       "    }\n",
       "\n",
       "    .dataframe thead th {\n",
       "        text-align: right;\n",
       "    }\n",
       "</style>\n",
       "<table border=\"1\" class=\"dataframe\">\n",
       "  <thead>\n",
       "    <tr style=\"text-align: right;\">\n",
       "      <th></th>\n",
       "      <th>restaurant</th>\n",
       "      <th>customer</th>\n",
       "      <th>estimated availability</th>\n",
       "      <th>Converted Availability</th>\n",
       "    </tr>\n",
       "  </thead>\n",
       "  <tbody>\n",
       "    <tr>\n",
       "      <th>0</th>\n",
       "      <td>Etobicoke (Islington Avenue)</td>\n",
       "      <td>Downtown Toronto Stn A PO Boxes 25 The Esplana...</td>\n",
       "      <td>2022-04-02 17:17:00</td>\n",
       "      <td>0.0</td>\n",
       "    </tr>\n",
       "    <tr>\n",
       "      <th>1</th>\n",
       "      <td>North York (Sweeney Park / Wigmore Park)</td>\n",
       "      <td>Downtown Toronto (University of Toronto / Harb...</td>\n",
       "      <td>2022-04-02 17:49:00</td>\n",
       "      <td>32.0</td>\n",
       "    </tr>\n",
       "    <tr>\n",
       "      <th>2</th>\n",
       "      <td>Scarborough (The Golden Mile / Clairlea / Oakr...</td>\n",
       "      <td>Downtown Toronto (Rosedale)</td>\n",
       "      <td>2022-04-02 18:17:00</td>\n",
       "      <td>60.0</td>\n",
       "    </tr>\n",
       "    <tr>\n",
       "      <th>3</th>\n",
       "      <td>Etobicoke (Westmount)</td>\n",
       "      <td>Etobicoke (West Deane Park / Princess Gardens ...</td>\n",
       "      <td>2022-04-02 17:53:00</td>\n",
       "      <td>36.0</td>\n",
       "    </tr>\n",
       "  </tbody>\n",
       "</table>\n",
       "</div>"
      ],
      "text/plain": [
       "                                          restaurant  \\\n",
       "0                       Etobicoke (Islington Avenue)   \n",
       "1           North York (Sweeney Park / Wigmore Park)   \n",
       "2  Scarborough (The Golden Mile / Clairlea / Oakr...   \n",
       "3                              Etobicoke (Westmount)   \n",
       "\n",
       "                                            customer estimated availability  \\\n",
       "0  Downtown Toronto Stn A PO Boxes 25 The Esplana...    2022-04-02 17:17:00   \n",
       "1  Downtown Toronto (University of Toronto / Harb...    2022-04-02 17:49:00   \n",
       "2                        Downtown Toronto (Rosedale)    2022-04-02 18:17:00   \n",
       "3  Etobicoke (West Deane Park / Princess Gardens ...    2022-04-02 17:53:00   \n",
       "\n",
       "   Converted Availability  \n",
       "0                     0.0  \n",
       "1                    32.0  \n",
       "2                    60.0  \n",
       "3                    36.0  "
      ]
     },
     "execution_count": 488,
     "metadata": {},
     "output_type": "execute_result"
    }
   ],
   "source": [
    "df"
   ]
  },
  {
   "cell_type": "code",
   "execution_count": 512,
   "id": "0e7bf064",
   "metadata": {},
   "outputs": [],
   "source": [
    "def one_driver_within_W(W):\n",
    "    \n",
    "    print(\"W:\", W)\n",
    "\n",
    "    model = LpProblem(name = 'Part2_Model', sense = LpMinimize)\n",
    "\n",
    "    xVar = LpVariable.dict('x', (start_locations, end_locations, num_steps), cat = LpBinary)\n",
    "    # zVar = LpVariable.dict('z', num_steps, lowBound = 0.0, cat = LpContinuous)\n",
    "    dVar = LpVariable.dict('d', [0] + num_steps, lowBound = -9999.0, cat = LpContinuous)\n",
    "    aVar = LpVariable.dict('a', [0] + num_steps, lowBound = -9999.0, cat = LpContinuous)\n",
    "    wVar = LpVariable.dict('w', (start_locations, num_steps), lowBound = 0.0, cat = LpContinuous)\n",
    "    vVar = LpVariable.dict('w', (start_locations, end_locations), lowBound = 0.0, cat = LpContinuous)\n",
    "\n",
    "    obj = lpSum([travel_df[(travel_df['Start']==i) & (travel_df['End']==j)]['Distance'].iloc[0] * xVar[(i,j,t)] \\\n",
    "                 for i in start_locations for j in end_locations for t in num_steps])\n",
    "    model += obj\n",
    "\n",
    "    model += dVar[(0)] <= 0\n",
    "\n",
    "    def travel_time_lookup(i, j, travel_df):\n",
    "        return travel_df[(travel_df['Start']==i) & (travel_df['End']==j)]['Time'].iloc[0]\n",
    "\n",
    "    # Step time calculation\n",
    "    for t in num_steps:\n",
    "        model += aVar[(t)] == dVar[(t-1)] + lpSum([travel_time_lookup(i, j, travel_df) * xVar[(i,j,t)] \\\n",
    "                                                   for i in start_locations for j in restaurants]) + \\\n",
    "                              lpSum([(travel_time_lookup(i, j, travel_df) + 5) * xVar[(i,j,t)] \\\n",
    "                                     for i in start_locations for j in customers])\n",
    "        model += aVar[(t)] <= dVar[(t)]\n",
    "\n",
    "    # Driver leaves after the food is ready\n",
    "    for t in num_steps:\n",
    "        for i in start_locations:\n",
    "            for j in restaurants:\n",
    "                model += dVar[(t)] >= df[df['restaurant'] == j]['Converted Availability'].iloc[0] * xVar[(i,j,t)]\n",
    "\n",
    "    # Visit restaurant before customer\n",
    "    for t in num_steps: \n",
    "        for j in end_locations: \n",
    "            if j in customers: \n",
    "                model += pulp.lpSum( [xVar[i,j,t] for i in start_locations]) <= pulp.lpSum([xVar[i, restaurant_customer_match(j, order_df),t_] \\\n",
    "                                                                                            for i in start_locations \\\n",
    "                                                                                            for t_ in num_steps[:t]])\n",
    "\n",
    "    for idx, row in df.iterrows():\n",
    "        rst, cus, time = row['restaurant'], row['customer'], row['Converted Availability']\n",
    "        for t in num_steps:\n",
    "            model += wVar[(cus, t)] <= 10000000 * lpSum(xVar[(i, cus, t)] for i in start_locations if i != cus)\n",
    "\n",
    "            model += wVar[(cus, t)] <= dVar[t] - time + 10000000 * (1 - lpSum(xVar[(i, cus, t)] for i in start_locations if i !=cus))\n",
    "            model += wVar[(cus, t)] >= dVar[t] - time - 10000000 * (1 - lpSum(xVar[(i, cus, t)] for i in start_locations if i !=cus))\n",
    "\n",
    "    model += W >= lpSum(wVar[(c,t)] for c in customers for t in num_steps)/len(df)\n",
    "\n",
    "    # Every location receives order once\n",
    "    for j in end_locations: \n",
    "        model += lpSum([xVar[(i,j,t)] for i in start_locations for t in num_steps]) == 1\n",
    "\n",
    "    # Convervation of flow\n",
    "    for t in num_steps[:-1]:\n",
    "        for j in end_locations:\n",
    "            model += (lpSum([xVar[(i,j,t)] for i in start_locations]) == lpSum([xVar[(j,k,t+1)] for k in end_locations]))\n",
    "\n",
    "    # First node has an outflow of 1, others 0\n",
    "    model += lpSum([xVar[(start_locations[-1],j,1)] for j in restaurants]) == 1\n",
    "\n",
    "    for i in start_locations[:-1]:\n",
    "        model += lpSum([xVar[(i,j,1)] for j in end_locations]) == 0\n",
    "\n",
    "    # Solve the model\n",
    "    model.solve()\n",
    "    print(\"Status:\", LpStatus[model.status])\n",
    "    model_status = LpStatus[model.status]\n",
    "    \n",
    "    if LpStatus[model.status] == 'Optimal':\n",
    "    \n",
    "        total_distance = pulp.value(model.objective)\n",
    "        print(\"Total Distance: \" , total_distance)\n",
    "\n",
    "        total_wait_time = sum([wVar[(j,t)].varValue for j in end_locations for t in num_steps if wVar[(j,t)].varValue != None])\n",
    "        print('Total wait: ' + str(total_wait_time))\n",
    "        \n",
    "        avg_wait_time = total_wait_time/len(customers)\n",
    "        print('Average wait: ' + str(avg_wait_time))\n",
    "        \n",
    "    else:\n",
    "        total_distance = 0\n",
    "        total_wait_time = 0\n",
    "        avg_wait_time = 0\n",
    "    \n",
    "    print('=======================================')\n",
    "        \n",
    "    return {'w': W,\n",
    "           'model_status': model_status,\n",
    "           'total_distance': total_distance,\n",
    "           'total_wait_time': total_wait_time,\n",
    "            'avg_wait_time': avg_wait_time\n",
    "           }"
   ]
  },
  {
   "cell_type": "code",
   "execution_count": 513,
   "id": "2b65094c",
   "metadata": {
    "scrolled": true
   },
   "outputs": [
    {
     "name": "stdout",
     "output_type": "stream",
     "text": [
      "W: 0\n",
      "Status: Infeasible\n",
      "=======================================\n",
      "W: 5\n",
      "Status: Infeasible\n",
      "=======================================\n",
      "W: 10\n",
      "Status: Infeasible\n",
      "=======================================\n",
      "W: 15\n",
      "Status: Infeasible\n",
      "=======================================\n",
      "W: 20\n",
      "Status: Infeasible\n",
      "=======================================\n",
      "W: 25\n",
      "Status: Infeasible\n",
      "=======================================\n",
      "W: 30\n",
      "Status: Infeasible\n",
      "=======================================\n",
      "W: 35\n",
      "Status: Infeasible\n",
      "=======================================\n",
      "W: 40\n",
      "Status: Infeasible\n",
      "=======================================\n",
      "W: 45\n",
      "Status: Optimal\n",
      "Total Distance:  65.90619703138421\n",
      "Total wait: 174.551761\n",
      "Average wait: 43.63794025\n",
      "=======================================\n",
      "W: 50\n",
      "Status: Optimal\n",
      "Total Distance:  65.00241802135857\n",
      "Total wait: 183.47445299999998\n",
      "Average wait: 45.868613249999996\n",
      "=======================================\n",
      "W: 55\n",
      "Status: Optimal\n",
      "Total Distance:  65.00241802135857\n",
      "Total wait: 183.47445299999998\n",
      "Average wait: 45.868613249999996\n",
      "=======================================\n",
      "W: 60\n",
      "Status: Optimal\n",
      "Total Distance:  56.208047427933266\n",
      "Total wait: 229.70876099999998\n",
      "Average wait: 57.427190249999995\n",
      "=======================================\n",
      "W: 65\n",
      "Status: Optimal\n",
      "Total Distance:  55.62850430505601\n",
      "Total wait: 253.58389\n",
      "Average wait: 63.3959725\n",
      "=======================================\n",
      "W: 70\n",
      "Status: Optimal\n",
      "Total Distance:  55.62850430505601\n",
      "Total wait: 253.58389\n",
      "Average wait: 63.3959725\n",
      "=======================================\n",
      "W: 75\n",
      "Status: Optimal\n",
      "Total Distance:  51.74082398875608\n",
      "Total wait: 294.89335400000004\n",
      "Average wait: 73.72333850000001\n",
      "=======================================\n",
      "W: 80\n",
      "Status: Optimal\n",
      "Total Distance:  51.74082398875608\n",
      "Total wait: 306.790276\n",
      "Average wait: 76.697569\n",
      "=======================================\n",
      "W: 85\n",
      "Status: Optimal\n",
      "Total Distance:  51.40200682468171\n",
      "Total wait: 334.24008899999995\n",
      "Average wait: 83.56002224999999\n",
      "=======================================\n",
      "W: 90\n",
      "Status: Optimal\n",
      "Total Distance:  51.40200682468171\n",
      "Total wait: 334.24008899999995\n",
      "Average wait: 83.56002224999999\n",
      "=======================================\n",
      "W: 95\n",
      "Status: Optimal\n",
      "Total Distance:  51.40200682468171\n",
      "Total wait: 346.13701000000003\n",
      "Average wait: 86.53425250000001\n",
      "=======================================\n",
      "W: 100\n",
      "Status: Optimal\n",
      "Total Distance:  51.40200682468171\n",
      "Total wait: 346.13701000000003\n",
      "Average wait: 86.53425250000001\n",
      "=======================================\n",
      "W: 105\n",
      "Status: Optimal\n",
      "Total Distance:  51.40200682468171\n",
      "Total wait: 334.24008899999995\n",
      "Average wait: 83.56002224999999\n",
      "=======================================\n",
      "W: 110\n",
      "Status: Optimal\n",
      "Total Distance:  51.40200682468171\n",
      "Total wait: 334.24008899999995\n",
      "Average wait: 83.56002224999999\n",
      "=======================================\n",
      "W: 115\n",
      "Status: Optimal\n",
      "Total Distance:  51.40200682468171\n",
      "Total wait: 346.13701000000003\n",
      "Average wait: 86.53425250000001\n",
      "=======================================\n"
     ]
    },
    {
     "data": {
      "image/png": "[encoded data removed]",
      "text/plain": [
       "<Figure size 640x480 with 1 Axes>"
      ]
     },
     "metadata": {},
     "output_type": "display_data"
    }
   ],
   "source": [
    "test_W = range(0, 120, 5)\n",
    "result_dict = {}\n",
    "total_distance_list = []\n",
    "avg_wait_time_list = []\n",
    "\n",
    "for w in test_W:\n",
    "    result_dict[w] = one_driver_within_W(w)\n",
    "    total_distance_list.append(result_dict[w]['total_distance'])\n",
    "    avg_wait_time_list.append(result_dict[w]['avg_wait_time'])\n",
    "    \n",
    "# Plot the optimal W Value\n",
    "plt.plot(test_W, total_distance_list)\n",
    "plt.xlabel('W Constraints')\n",
    "plt.ylabel('Total Distance')\n",
    "plt.title('W Constraints vs Total Distance - Trade-off Curve')\n",
    "plt.grid(True)"
   ]
  },
  {
   "cell_type": "code",
   "execution_count": null,
   "id": "3e06a2ba",
   "metadata": {},
   "outputs": [],
   "source": []
  },
  {
   "cell_type": "code",
   "execution_count": null,
   "id": "2f58eadf",
   "metadata": {},
   "outputs": [],
   "source": []
  }
 ],
 "metadata": {
  "kernelspec": {
   "display_name": "Python 3 (ipykernel)",
   "language": "python",
   "name": "python3"
  },
  "language_info": {
   "codemirror_mode": {
    "name": "ipython",
    "version": 3
   },
   "file_extension": ".py",
   "mimetype": "text/x-python",
   "name": "python",
   "nbconvert_exporter": "python",
   "pygments_lexer": "ipython3",
   "version": "3.9.15"
  }
 },
 "nbformat": 4,
 "nbformat_minor": 5
}
