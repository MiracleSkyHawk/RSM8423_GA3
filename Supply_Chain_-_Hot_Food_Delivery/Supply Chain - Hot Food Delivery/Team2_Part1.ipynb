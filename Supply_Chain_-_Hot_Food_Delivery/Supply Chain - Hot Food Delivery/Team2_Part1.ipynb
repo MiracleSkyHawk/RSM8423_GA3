{
 "cells": [
  {
   "cell_type": "code",
   "execution_count": 1,
   "id": "06a2f3ee",
   "metadata": {},
   "outputs": [
    {
     "name": "stdout",
     "output_type": "stream",
     "text": [
      "Requirement already satisfied: pulp in /Users/mzehr/opt/anaconda3/lib/python3.8/site-packages (2.7.0)\r\n"
     ]
    }
   ],
   "source": [
    "!pip3 install pulp"
   ]
  },
  {
   "cell_type": "code",
   "execution_count": 2,
   "id": "672cbadb",
   "metadata": {},
   "outputs": [],
   "source": [
    "import pandas as pd\n",
    "import pulp\n",
    "import numpy as np\n",
    "import datetime\n",
    "import matplotlib.pyplot as plt "
   ]
  },
  {
   "cell_type": "markdown",
   "id": "4a230d7d",
   "metadata": {},
   "source": [
    "## Q1"
   ]
  },
  {
   "cell_type": "code",
   "execution_count": 4,
   "id": "729fb8c6",
   "metadata": {},
   "outputs": [],
   "source": [
    "df_distance = pd.read_csv(\"CSV_Files_Food_Delivery/distances.csv\")\n",
    "df_1A = pd.read_csv(\"CSV_Files_Food_Delivery/part1_ordersA.csv\")\n",
    "df_1B = pd.read_csv(\"CSV_Files_Food_Delivery/part1_ordersB.csv\")"
   ]
  },
  {
   "cell_type": "code",
   "execution_count": 24,
   "id": "82848e7a",
   "metadata": {},
   "outputs": [
    {
     "data": {
      "text/html": [
       "<div>\n",
       "<style scoped>\n",
       "    .dataframe tbody tr th:only-of-type {\n",
       "        vertical-align: middle;\n",
       "    }\n",
       "\n",
       "    .dataframe tbody tr th {\n",
       "        vertical-align: top;\n",
       "    }\n",
       "\n",
       "    .dataframe thead th {\n",
       "        text-align: right;\n",
       "    }\n",
       "</style>\n",
       "<table border=\"1\" class=\"dataframe\">\n",
       "  <thead>\n",
       "    <tr style=\"text-align: right;\">\n",
       "      <th></th>\n",
       "      <th>origin</th>\n",
       "      <th>destination</th>\n",
       "      <th>distance</th>\n",
       "    </tr>\n",
       "  </thead>\n",
       "  <tbody>\n",
       "    <tr>\n",
       "      <th>0</th>\n",
       "      <td>Scarborough (Malvern / Rouge River)</td>\n",
       "      <td>Scarborough (Rouge Hill / Port Union / Highlan...</td>\n",
       "      <td>3.931478</td>\n",
       "    </tr>\n",
       "    <tr>\n",
       "      <th>1</th>\n",
       "      <td>Scarborough (Malvern / Rouge River)</td>\n",
       "      <td>Scarborough (Guildwood / Morningside / Ellesmere)</td>\n",
       "      <td>4.864191</td>\n",
       "    </tr>\n",
       "    <tr>\n",
       "      <th>2</th>\n",
       "      <td>Scarborough (Malvern / Rouge River)</td>\n",
       "      <td>Scarborough (Woburn)</td>\n",
       "      <td>4.778347</td>\n",
       "    </tr>\n",
       "    <tr>\n",
       "      <th>3</th>\n",
       "      <td>Scarborough (Malvern / Rouge River)</td>\n",
       "      <td>Scarborough (Cedarbrae)</td>\n",
       "      <td>6.009861</td>\n",
       "    </tr>\n",
       "    <tr>\n",
       "      <th>4</th>\n",
       "      <td>Scarborough (Malvern / Rouge River)</td>\n",
       "      <td>Scarborough (Eglinton)</td>\n",
       "      <td>7.876162</td>\n",
       "    </tr>\n",
       "    <tr>\n",
       "      <th>...</th>\n",
       "      <td>...</td>\n",
       "      <td>...</td>\n",
       "      <td>...</td>\n",
       "    </tr>\n",
       "    <tr>\n",
       "      <th>10297</th>\n",
       "      <td>Etobicoke (South Steeles / Silverstone / Humbe...</td>\n",
       "      <td>Etobicoke (Westmount)</td>\n",
       "      <td>6.971037</td>\n",
       "    </tr>\n",
       "    <tr>\n",
       "      <th>10298</th>\n",
       "      <td>Etobicoke Northwest (Clairville / Humberwood /...</td>\n",
       "      <td>Etobicoke (Westmount)</td>\n",
       "      <td>5.185601</td>\n",
       "    </tr>\n",
       "    <tr>\n",
       "      <th>10299</th>\n",
       "      <td>Etobicoke (South Steeles / Silverstone / Humbe...</td>\n",
       "      <td>Etobicoke (Kingsview Village / St. Phillips / ...</td>\n",
       "      <td>6.390667</td>\n",
       "    </tr>\n",
       "    <tr>\n",
       "      <th>10300</th>\n",
       "      <td>Etobicoke Northwest (Clairville / Humberwood /...</td>\n",
       "      <td>Etobicoke (Kingsview Village / St. Phillips / ...</td>\n",
       "      <td>3.793723</td>\n",
       "    </tr>\n",
       "    <tr>\n",
       "      <th>10301</th>\n",
       "      <td>Etobicoke Northwest (Clairville / Humberwood /...</td>\n",
       "      <td>Etobicoke (South Steeles / Silverstone / Humbe...</td>\n",
       "      <td>3.213377</td>\n",
       "    </tr>\n",
       "  </tbody>\n",
       "</table>\n",
       "<p>10302 rows × 3 columns</p>\n",
       "</div>"
      ],
      "text/plain": [
       "                                                  origin  \\\n",
       "0                    Scarborough (Malvern / Rouge River)   \n",
       "1                    Scarborough (Malvern / Rouge River)   \n",
       "2                    Scarborough (Malvern / Rouge River)   \n",
       "3                    Scarborough (Malvern / Rouge River)   \n",
       "4                    Scarborough (Malvern / Rouge River)   \n",
       "...                                                  ...   \n",
       "10297  Etobicoke (South Steeles / Silverstone / Humbe...   \n",
       "10298  Etobicoke Northwest (Clairville / Humberwood /...   \n",
       "10299  Etobicoke (South Steeles / Silverstone / Humbe...   \n",
       "10300  Etobicoke Northwest (Clairville / Humberwood /...   \n",
       "10301  Etobicoke Northwest (Clairville / Humberwood /...   \n",
       "\n",
       "                                             destination  distance  \n",
       "0      Scarborough (Rouge Hill / Port Union / Highlan...  3.931478  \n",
       "1      Scarborough (Guildwood / Morningside / Ellesmere)  4.864191  \n",
       "2                                   Scarborough (Woburn)  4.778347  \n",
       "3                                Scarborough (Cedarbrae)  6.009861  \n",
       "4                                 Scarborough (Eglinton)  7.876162  \n",
       "...                                                  ...       ...  \n",
       "10297                              Etobicoke (Westmount)  6.971037  \n",
       "10298                              Etobicoke (Westmount)  5.185601  \n",
       "10299  Etobicoke (Kingsview Village / St. Phillips / ...  6.390667  \n",
       "10300  Etobicoke (Kingsview Village / St. Phillips / ...  3.793723  \n",
       "10301  Etobicoke (South Steeles / Silverstone / Humbe...  3.213377  \n",
       "\n",
       "[10302 rows x 3 columns]"
      ]
     },
     "execution_count": 24,
     "metadata": {},
     "output_type": "execute_result"
    }
   ],
   "source": [
    "df_distance"
   ]
  },
  {
   "cell_type": "code",
   "execution_count": 5,
   "id": "065f6965",
   "metadata": {},
   "outputs": [],
   "source": [
    "# Test two orders (feel free to comment and uncomment the following code to test on particular dataset)\n",
    "\n",
    "df_1 = df_1B\n",
    "\n",
    "################################################################################################################\n",
    "\n",
    "# df_1 = df_1A"
   ]
  },
  {
   "cell_type": "markdown",
   "id": "6158a347",
   "metadata": {},
   "source": [
    "### Sets"
   ]
  },
  {
   "cell_type": "code",
   "execution_count": 6,
   "id": "39ce1ac5",
   "metadata": {},
   "outputs": [
    {
     "data": {
      "text/plain": [
       "['Downtown Toronto (Central Bay Street)',\n",
       " 'Etobicoke Northwest (Clairville / Humberwood / Woodbine Downs / West Humber / Kipling Heights / Rexdale / Elms / Tandridge / Old Rexdale)',\n",
       " 'York (Cedarvale)',\n",
       " 'Downtown Toronto (Richmond / Adelaide / King)',\n",
       " 'Downtown Toronto (Underground city)',\n",
       " 'Etobicoke (South Steeles / Silverstone / Humbergate / Jamestown / Mount Olive / Beaumond Heights / Thistletown / Albion Gardens)',\n",
       " 'Central Toronto (The Annex / North Midtown / Yorkville)',\n",
       " 'Downtown Toronto (St. James Town / Cabbagetown)',\n",
       " 'Downtown Toronto (Rosedale)']"
      ]
     },
     "execution_count": 6,
     "metadata": {},
     "output_type": "execute_result"
    }
   ],
   "source": [
    "start = list(df_1[\"restaurant\"].unique()) + list(df_1[\"customer\"].unique())\n",
    "start.append(\"Downtown Toronto (Rosedale)\")\n",
    "start = list(dict.fromkeys(start))\n",
    "start"
   ]
  },
  {
   "cell_type": "code",
   "execution_count": 7,
   "id": "ba13214a",
   "metadata": {},
   "outputs": [
    {
     "data": {
      "text/plain": [
       "['Downtown Toronto (Central Bay Street)',\n",
       " 'Etobicoke Northwest (Clairville / Humberwood / Woodbine Downs / West Humber / Kipling Heights / Rexdale / Elms / Tandridge / Old Rexdale)',\n",
       " 'York (Cedarvale)',\n",
       " 'Downtown Toronto (Richmond / Adelaide / King)',\n",
       " 'Downtown Toronto (Underground city)',\n",
       " 'Etobicoke (South Steeles / Silverstone / Humbergate / Jamestown / Mount Olive / Beaumond Heights / Thistletown / Albion Gardens)',\n",
       " 'Central Toronto (The Annex / North Midtown / Yorkville)',\n",
       " 'Downtown Toronto (St. James Town / Cabbagetown)']"
      ]
     },
     "execution_count": 7,
     "metadata": {},
     "output_type": "execute_result"
    }
   ],
   "source": [
    "end = list(df_1[\"restaurant\"].unique()) + list(df_1[\"customer\"].unique())\n",
    "end = list(dict.fromkeys(end))\n",
    "end"
   ]
  },
  {
   "cell_type": "code",
   "execution_count": 8,
   "id": "2403cda1",
   "metadata": {},
   "outputs": [
    {
     "data": {
      "text/plain": [
       "[0, 1, 2, 3, 4, 5, 6, 7]"
      ]
     },
     "execution_count": 8,
     "metadata": {},
     "output_type": "execute_result"
    }
   ],
   "source": [
    "step = np.arange(0, len(end)).tolist()\n",
    "step"
   ]
  },
  {
   "cell_type": "code",
   "execution_count": 9,
   "id": "616a11e6",
   "metadata": {},
   "outputs": [
    {
     "data": {
      "text/plain": [
       "['Downtown Toronto (Central Bay Street)',\n",
       " 'Etobicoke Northwest (Clairville / Humberwood / Woodbine Downs / West Humber / Kipling Heights / Rexdale / Elms / Tandridge / Old Rexdale)',\n",
       " 'York (Cedarvale)',\n",
       " 'Downtown Toronto (Richmond / Adelaide / King)']"
      ]
     },
     "execution_count": 9,
     "metadata": {},
     "output_type": "execute_result"
    }
   ],
   "source": [
    "restaurants = df_1[\"restaurant\"].unique().tolist()\n",
    "restaurants"
   ]
  },
  {
   "cell_type": "code",
   "execution_count": 10,
   "id": "d468f70f",
   "metadata": {},
   "outputs": [
    {
     "data": {
      "text/plain": [
       "['Downtown Toronto (Underground city)',\n",
       " 'Etobicoke (South Steeles / Silverstone / Humbergate / Jamestown / Mount Olive / Beaumond Heights / Thistletown / Albion Gardens)',\n",
       " 'Central Toronto (The Annex / North Midtown / Yorkville)',\n",
       " 'Downtown Toronto (Richmond / Adelaide / King)',\n",
       " 'Downtown Toronto (St. James Town / Cabbagetown)']"
      ]
     },
     "execution_count": 10,
     "metadata": {},
     "output_type": "execute_result"
    }
   ],
   "source": [
    "customers = df_1[\"customer\"].unique().tolist()\n",
    "customers"
   ]
  },
  {
   "cell_type": "code",
   "execution_count": 11,
   "id": "321bbd4f",
   "metadata": {},
   "outputs": [
    {
     "name": "stdout",
     "output_type": "stream",
     "text": [
      "[['Downtown Toronto (Central Bay Street)', 'Downtown Toronto (Underground city)'], ['Etobicoke Northwest (Clairville / Humberwood / Woodbine Downs / West Humber / Kipling Heights / Rexdale / Elms / Tandridge / Old Rexdale)', 'Etobicoke (South Steeles / Silverstone / Humbergate / Jamestown / Mount Olive / Beaumond Heights / Thistletown / Albion Gardens)'], ['York (Cedarvale)', 'Central Toronto (The Annex / North Midtown / Yorkville)'], ['Downtown Toronto (Central Bay Street)', 'Downtown Toronto (Richmond / Adelaide / King)'], ['Downtown Toronto (Richmond / Adelaide / King)', 'Downtown Toronto (St. James Town / Cabbagetown)']]\n"
     ]
    }
   ],
   "source": [
    "list_order = []\n",
    "for index, row in df_1.iterrows():\n",
    "    list_order.append([row[\"restaurant\"], row[\"customer\"]])\n",
    "print(list_order)"
   ]
  },
  {
   "cell_type": "markdown",
   "id": "7b4847e8",
   "metadata": {},
   "source": [
    "### Parameters"
   ]
  },
  {
   "cell_type": "code",
   "execution_count": 12,
   "id": "e22adc1d",
   "metadata": {},
   "outputs": [],
   "source": [
    "location_distance = {}\n",
    "for i in start:\n",
    "    for j in end: \n",
    "        if i == j:\n",
    "            location_distance[(i,j)] = 0 \n",
    "        else:\n",
    "            location_distance[(i,j)] = float(df_distance[(df_distance[\"origin\"] == i)&(df_distance[\"destination\"] == j)][\"distance\"])"
   ]
  },
  {
   "cell_type": "code",
   "execution_count": 13,
   "id": "e985be43",
   "metadata": {},
   "outputs": [
    {
     "data": {
      "text/plain": [
       "{('Downtown Toronto (Central Bay Street)',\n",
       "  'Downtown Toronto (Central Bay Street)'): 0,\n",
       " ('Downtown Toronto (Central Bay Street)',\n",
       "  'Etobicoke Northwest (Clairville / Humberwood / Woodbine Downs / West Humber / Kipling Heights / Rexdale / Elms / Tandridge / Old Rexdale)'): 17.693277187517552,\n",
       " ('Downtown Toronto (Central Bay Street)',\n",
       "  'York (Cedarvale)'): 5.306326643787583,\n",
       " ('Downtown Toronto (Central Bay Street)',\n",
       "  'Downtown Toronto (Richmond / Adelaide / King)'): 0.7867106676349092,\n",
       " ('Downtown Toronto (Central Bay Street)',\n",
       "  'Downtown Toronto (Underground city)'): 0.8541546574657076,\n",
       " ('Downtown Toronto (Central Bay Street)',\n",
       "  'Etobicoke (South Steeles / Silverstone / Humbergate / Jamestown / Mount Olive / Beaumond Heights / Thistletown / Albion Gardens)'): 18.86304834675905,\n",
       " ('Downtown Toronto (Central Bay Street)',\n",
       "  'Central Toronto (The Annex / North Midtown / Yorkville)'): 2.374732498057164,\n",
       " ('Downtown Toronto (Central Bay Street)',\n",
       "  'Downtown Toronto (St. James Town / Cabbagetown)'): 1.916394809586956,\n",
       " ('Etobicoke Northwest (Clairville / Humberwood / Woodbine Downs / West Humber / Kipling Heights / Rexdale / Elms / Tandridge / Old Rexdale)',\n",
       "  'Downtown Toronto (Central Bay Street)'): 17.693277187517552,\n",
       " ('Etobicoke Northwest (Clairville / Humberwood / Woodbine Downs / West Humber / Kipling Heights / Rexdale / Elms / Tandridge / Old Rexdale)',\n",
       "  'Etobicoke Northwest (Clairville / Humberwood / Woodbine Downs / West Humber / Kipling Heights / Rexdale / Elms / Tandridge / Old Rexdale)'): 0,\n",
       " ('Etobicoke Northwest (Clairville / Humberwood / Woodbine Downs / West Humber / Kipling Heights / Rexdale / Elms / Tandridge / Old Rexdale)',\n",
       "  'York (Cedarvale)'): 13.127239225760867,\n",
       " ('Etobicoke Northwest (Clairville / Humberwood / Woodbine Downs / West Humber / Kipling Heights / Rexdale / Elms / Tandridge / Old Rexdale)',\n",
       "  'Downtown Toronto (Richmond / Adelaide / King)'): 18.182672518704507,\n",
       " ('Etobicoke Northwest (Clairville / Humberwood / Woodbine Downs / West Humber / Kipling Heights / Rexdale / Elms / Tandridge / Old Rexdale)',\n",
       "  'Downtown Toronto (Underground city)'): 18.274182661482342,\n",
       " ('Etobicoke Northwest (Clairville / Humberwood / Woodbine Downs / West Humber / Kipling Heights / Rexdale / Elms / Tandridge / Old Rexdale)',\n",
       "  'Etobicoke (South Steeles / Silverstone / Humbergate / Jamestown / Mount Olive / Beaumond Heights / Thistletown / Albion Gardens)'): 3.2133772410029064,\n",
       " ('Etobicoke Northwest (Clairville / Humberwood / Woodbine Downs / West Humber / Kipling Heights / Rexdale / Elms / Tandridge / Old Rexdale)',\n",
       "  'Central Toronto (The Annex / North Midtown / Yorkville)'): 15.73488143715154,\n",
       " ('Etobicoke Northwest (Clairville / Humberwood / Woodbine Downs / West Humber / Kipling Heights / Rexdale / Elms / Tandridge / Old Rexdale)',\n",
       "  'Downtown Toronto (St. James Town / Cabbagetown)'): 18.567648690355195,\n",
       " ('York (Cedarvale)',\n",
       "  'Downtown Toronto (Central Bay Street)'): 5.306326643787583,\n",
       " ('York (Cedarvale)',\n",
       "  'Etobicoke Northwest (Clairville / Humberwood / Woodbine Downs / West Humber / Kipling Heights / Rexdale / Elms / Tandridge / Old Rexdale)'): 13.127239225760867,\n",
       " ('York (Cedarvale)', 'York (Cedarvale)'): 0,\n",
       " ('York (Cedarvale)',\n",
       "  'Downtown Toronto (Richmond / Adelaide / King)'): 6.020064329001034,\n",
       " ('York (Cedarvale)',\n",
       "  'Downtown Toronto (Underground city)'): 6.105524808911234,\n",
       " ('York (Cedarvale)',\n",
       "  'Etobicoke (South Steeles / Silverstone / Humbergate / Jamestown / Mount Olive / Beaumond Heights / Thistletown / Albion Gardens)'): 13.858228650388517,\n",
       " ('York (Cedarvale)',\n",
       "  'Central Toronto (The Annex / North Midtown / Yorkville)'): 2.9573203886894,\n",
       " ('York (Cedarvale)',\n",
       "  'Downtown Toronto (St. James Town / Cabbagetown)'): 5.594329335112669,\n",
       " ('Downtown Toronto (Richmond / Adelaide / King)',\n",
       "  'Downtown Toronto (Central Bay Street)'): 0.7867106676349092,\n",
       " ('Downtown Toronto (Richmond / Adelaide / King)',\n",
       "  'Etobicoke Northwest (Clairville / Humberwood / Woodbine Downs / West Humber / Kipling Heights / Rexdale / Elms / Tandridge / Old Rexdale)'): 18.182672518704507,\n",
       " ('Downtown Toronto (Richmond / Adelaide / King)',\n",
       "  'York (Cedarvale)'): 6.020064329001034,\n",
       " ('Downtown Toronto (Richmond / Adelaide / King)',\n",
       "  'Downtown Toronto (Richmond / Adelaide / King)'): 0,\n",
       " ('Downtown Toronto (Richmond / Adelaide / King)',\n",
       "  'Downtown Toronto (Underground city)'): 0.0919337687299437,\n",
       " ('Downtown Toronto (Richmond / Adelaide / King)',\n",
       "  'Etobicoke (South Steeles / Silverstone / Humbergate / Jamestown / Mount Olive / Beaumond Heights / Thistletown / Albion Gardens)'): 19.44467415417908,\n",
       " ('Downtown Toronto (Richmond / Adelaide / King)',\n",
       "  'Central Toronto (The Annex / North Midtown / Yorkville)'): 3.1244593292434653,\n",
       " ('Downtown Toronto (Richmond / Adelaide / King)',\n",
       "  'Downtown Toronto (St. James Town / Cabbagetown)'): 2.389973822649801,\n",
       " ('Downtown Toronto (Underground city)',\n",
       "  'Downtown Toronto (Central Bay Street)'): 0.8541546574657076,\n",
       " ('Downtown Toronto (Underground city)',\n",
       "  'Etobicoke Northwest (Clairville / Humberwood / Woodbine Downs / West Humber / Kipling Heights / Rexdale / Elms / Tandridge / Old Rexdale)'): 18.274182661482342,\n",
       " ('Downtown Toronto (Underground city)',\n",
       "  'York (Cedarvale)'): 6.105524808911234,\n",
       " ('Downtown Toronto (Underground city)',\n",
       "  'Downtown Toronto (Richmond / Adelaide / King)'): 0.0919337687299437,\n",
       " ('Downtown Toronto (Underground city)',\n",
       "  'Downtown Toronto (Underground city)'): 0,\n",
       " ('Downtown Toronto (Underground city)',\n",
       "  'Etobicoke (South Steeles / Silverstone / Humbergate / Jamestown / Mount Olive / Beaumond Heights / Thistletown / Albion Gardens)'): 19.53643746312934,\n",
       " ('Downtown Toronto (Underground city)',\n",
       "  'Central Toronto (The Annex / North Midtown / Yorkville)'): 3.20461138761702,\n",
       " ('Downtown Toronto (Underground city)',\n",
       "  'Downtown Toronto (St. James Town / Cabbagetown)'): 2.3916551340132397,\n",
       " ('Etobicoke (South Steeles / Silverstone / Humbergate / Jamestown / Mount Olive / Beaumond Heights / Thistletown / Albion Gardens)',\n",
       "  'Downtown Toronto (Central Bay Street)'): 18.86304834675905,\n",
       " ('Etobicoke (South Steeles / Silverstone / Humbergate / Jamestown / Mount Olive / Beaumond Heights / Thistletown / Albion Gardens)',\n",
       "  'Etobicoke Northwest (Clairville / Humberwood / Woodbine Downs / West Humber / Kipling Heights / Rexdale / Elms / Tandridge / Old Rexdale)'): 3.2133772410029064,\n",
       " ('Etobicoke (South Steeles / Silverstone / Humbergate / Jamestown / Mount Olive / Beaumond Heights / Thistletown / Albion Gardens)',\n",
       "  'York (Cedarvale)'): 13.858228650388517,\n",
       " ('Etobicoke (South Steeles / Silverstone / Humbergate / Jamestown / Mount Olive / Beaumond Heights / Thistletown / Albion Gardens)',\n",
       "  'Downtown Toronto (Richmond / Adelaide / King)'): 19.44467415417908,\n",
       " ('Etobicoke (South Steeles / Silverstone / Humbergate / Jamestown / Mount Olive / Beaumond Heights / Thistletown / Albion Gardens)',\n",
       "  'Downtown Toronto (Underground city)'): 19.53643746312934,\n",
       " ('Etobicoke (South Steeles / Silverstone / Humbergate / Jamestown / Mount Olive / Beaumond Heights / Thistletown / Albion Gardens)',\n",
       "  'Etobicoke (South Steeles / Silverstone / Humbergate / Jamestown / Mount Olive / Beaumond Heights / Thistletown / Albion Gardens)'): 0,\n",
       " ('Etobicoke (South Steeles / Silverstone / Humbergate / Jamestown / Mount Olive / Beaumond Heights / Thistletown / Albion Gardens)',\n",
       "  'Central Toronto (The Annex / North Midtown / Yorkville)'): 16.699385576079248,\n",
       " ('Etobicoke (South Steeles / Silverstone / Humbergate / Jamestown / Mount Olive / Beaumond Heights / Thistletown / Albion Gardens)',\n",
       "  'Downtown Toronto (St. James Town / Cabbagetown)'): 19.447974796488225,\n",
       " ('Central Toronto (The Annex / North Midtown / Yorkville)',\n",
       "  'Downtown Toronto (Central Bay Street)'): 2.374732498057164,\n",
       " ('Central Toronto (The Annex / North Midtown / Yorkville)',\n",
       "  'Etobicoke Northwest (Clairville / Humberwood / Woodbine Downs / West Humber / Kipling Heights / Rexdale / Elms / Tandridge / Old Rexdale)'): 15.73488143715154,\n",
       " ('Central Toronto (The Annex / North Midtown / Yorkville)',\n",
       "  'York (Cedarvale)'): 2.9573203886894,\n",
       " ('Central Toronto (The Annex / North Midtown / Yorkville)',\n",
       "  'Downtown Toronto (Richmond / Adelaide / King)'): 3.1244593292434653,\n",
       " ('Central Toronto (The Annex / North Midtown / Yorkville)',\n",
       "  'Downtown Toronto (Underground city)'): 3.20461138761702,\n",
       " ('Central Toronto (The Annex / North Midtown / Yorkville)',\n",
       "  'Etobicoke (South Steeles / Silverstone / Humbergate / Jamestown / Mount Olive / Beaumond Heights / Thistletown / Albion Gardens)'): 16.699385576079248,\n",
       " ('Central Toronto (The Annex / North Midtown / Yorkville)',\n",
       "  'Central Toronto (The Annex / North Midtown / Yorkville)'): 0,\n",
       " ('Central Toronto (The Annex / North Midtown / Yorkville)',\n",
       "  'Downtown Toronto (St. James Town / Cabbagetown)'): 2.8422877775567263,\n",
       " ('Downtown Toronto (St. James Town / Cabbagetown)',\n",
       "  'Downtown Toronto (Central Bay Street)'): 1.916394809586956,\n",
       " ('Downtown Toronto (St. James Town / Cabbagetown)',\n",
       "  'Etobicoke Northwest (Clairville / Humberwood / Woodbine Downs / West Humber / Kipling Heights / Rexdale / Elms / Tandridge / Old Rexdale)'): 18.567648690355195,\n",
       " ('Downtown Toronto (St. James Town / Cabbagetown)',\n",
       "  'York (Cedarvale)'): 5.594329335112669,\n",
       " ('Downtown Toronto (St. James Town / Cabbagetown)',\n",
       "  'Downtown Toronto (Richmond / Adelaide / King)'): 2.389973822649801,\n",
       " ('Downtown Toronto (St. James Town / Cabbagetown)',\n",
       "  'Downtown Toronto (Underground city)'): 2.3916551340132397,\n",
       " ('Downtown Toronto (St. James Town / Cabbagetown)',\n",
       "  'Etobicoke (South Steeles / Silverstone / Humbergate / Jamestown / Mount Olive / Beaumond Heights / Thistletown / Albion Gardens)'): 19.447974796488225,\n",
       " ('Downtown Toronto (St. James Town / Cabbagetown)',\n",
       "  'Central Toronto (The Annex / North Midtown / Yorkville)'): 2.8422877775567263,\n",
       " ('Downtown Toronto (St. James Town / Cabbagetown)',\n",
       "  'Downtown Toronto (St. James Town / Cabbagetown)'): 0,\n",
       " ('Downtown Toronto (Rosedale)',\n",
       "  'Downtown Toronto (Central Bay Street)'): 3.1057343022114257,\n",
       " ('Downtown Toronto (Rosedale)',\n",
       "  'Etobicoke Northwest (Clairville / Humberwood / Woodbine Downs / West Humber / Kipling Heights / Rexdale / Elms / Tandridge / Old Rexdale)'): 17.868604937864514,\n",
       " ('Downtown Toronto (Rosedale)', 'York (Cedarvale)'): 4.741589511583548,\n",
       " ('Downtown Toronto (Rosedale)',\n",
       "  'Downtown Toronto (Richmond / Adelaide / King)'): 3.772650772470022,\n",
       " ('Downtown Toronto (Rosedale)',\n",
       "  'Downtown Toronto (Underground city)'): 3.7994043604054624,\n",
       " ('Downtown Toronto (Rosedale)',\n",
       "  'Etobicoke (South Steeles / Silverstone / Humbergate / Jamestown / Mount Olive / Beaumond Heights / Thistletown / Albion Gardens)'): 18.513551548803598,\n",
       " ('Downtown Toronto (Rosedale)',\n",
       "  'Central Toronto (The Annex / North Midtown / Yorkville)'): 2.653322535793083,\n",
       " ('Downtown Toronto (Rosedale)',\n",
       "  'Downtown Toronto (St. James Town / Cabbagetown)'): 1.6239181752464191}"
      ]
     },
     "execution_count": 13,
     "metadata": {},
     "output_type": "execute_result"
    }
   ],
   "source": [
    "location_distance"
   ]
  },
  {
   "cell_type": "markdown",
   "id": "14326f02",
   "metadata": {},
   "source": [
    "### Variables"
   ]
  },
  {
   "cell_type": "code",
   "execution_count": 14,
   "id": "880f6081",
   "metadata": {},
   "outputs": [],
   "source": [
    "xvar = pulp.LpVariable.dict(\"x\", (start, end, step), cat=pulp.LpBinary)"
   ]
  },
  {
   "cell_type": "markdown",
   "id": "b35506fd",
   "metadata": {},
   "source": [
    "### Model Initialization"
   ]
  },
  {
   "cell_type": "code",
   "execution_count": 15,
   "id": "ab0217c1",
   "metadata": {},
   "outputs": [],
   "source": [
    "flowmodel = pulp.LpProblem(name = \"FlowModel\", sense = pulp.LpMinimize)"
   ]
  },
  {
   "cell_type": "markdown",
   "id": "3018826b",
   "metadata": {},
   "source": [
    "### Constraints"
   ]
  },
  {
   "cell_type": "code",
   "execution_count": 16,
   "id": "018a2425",
   "metadata": {},
   "outputs": [],
   "source": [
    "# Constraint: every location visited once\n",
    "for j in end: \n",
    "    flowmodel += pulp.lpSum([xvar[(i,j,t)] for i in start for t in step]) == 1\n",
    "    \n",
    "# Constraint: Convervation of flow\n",
    "for t in step[:-1]:\n",
    "    for j in end:\n",
    "        flowmodel += (pulp.lpSum([xvar[(i,j,t)] for i in start]) == pulp.lpSum([xvar[(j,k,t+1)] for k in end]))\n",
    "\n",
    "# Constraint: First node (Rosedale) has an outflow of 1 in the first step, others are zero\n",
    "for i in start:\n",
    "    if i == \"Downtown Toronto (Rosedale)\":\n",
    "        flowmodel += pulp.lpSum([xvar[(i,j,0)] for j in end]) == 1\n",
    "    else: \n",
    "        flowmodel += pulp.lpSum([xvar[(i,j,0)] for j in end]) == 0\n",
    "\n",
    "        \n",
    "def find_restaurant_of_customer(customer):\n",
    "    for order in list_order:\n",
    "        if customer == order[1]:\n",
    "            return order[0]\n",
    "        \n",
    "# Constraint: make sure driver goes to a restaurant before delivering the food\n",
    "for t in step: \n",
    "    for j in end: \n",
    "        if j in customers: \n",
    "            flowmodel += pulp.lpSum( [xvar[i,j,t] for i in start]) <= pulp.lpSum([xvar[i, find_restaurant_of_customer(j),t_] for i in start for t_ in step[:t]])\n",
    "        "
   ]
  },
  {
   "cell_type": "markdown",
   "id": "5f0c4136",
   "metadata": {},
   "source": [
    "### Objective Functions"
   ]
  },
  {
   "cell_type": "code",
   "execution_count": 17,
   "id": "a30b4e1b",
   "metadata": {},
   "outputs": [],
   "source": [
    "obj = pulp.lpSum([location_distance[(i,j)] * xvar[(i,j,t)] for i in start for j in end for t in step])\n",
    "flowmodel += obj"
   ]
  },
  {
   "cell_type": "markdown",
   "id": "d566aae5",
   "metadata": {},
   "source": [
    "### Solution Process"
   ]
  },
  {
   "cell_type": "code",
   "execution_count": 18,
   "id": "916382ac",
   "metadata": {},
   "outputs": [
    {
     "name": "stdout",
     "output_type": "stream",
     "text": [
      "Welcome to the CBC MILP Solver \n",
      "Version: 2.10.3 \n",
      "Build Date: Dec 15 2019 \n",
      "\n",
      "command line - /Users/mzehr/opt/anaconda3/lib/python3.8/site-packages/pulp/solverdir/cbc/osx/64/cbc /var/folders/r4/kb6m_d513n55qq_jp41h0d500000gn/T/328f4a8cc25640de9799d8acb8fbfcb0-pulp.mps timeMode elapsed branch printingOptions all solution /var/folders/r4/kb6m_d513n55qq_jp41h0d500000gn/T/328f4a8cc25640de9799d8acb8fbfcb0-pulp.sol (default strategy 1)\n",
      "At line 2 NAME          MODEL\n",
      "At line 3 ROWS\n",
      "At line 118 COLUMNS\n",
      "At line 5003 RHS\n",
      "At line 5117 BOUNDS\n",
      "At line 5694 ENDATA\n",
      "Problem MODEL has 113 rows, 576 columns and 3220 elements\n",
      "Coin0008I MODEL read with 0 errors\n",
      "Option for timeMode changed from cpu to elapsed\n",
      "Continuous objective value is 8.24692 - 0.00 seconds\n",
      "Cgl0002I 78 variables fixed\n",
      "Cgl0003I 63 fixed, 0 tightened bounds, 24 strengthened rows, 0 substitutions\n",
      "Cgl0003I 10 fixed, 0 tightened bounds, 0 strengthened rows, 0 substitutions\n",
      "Cgl0003I 0 fixed, 0 tightened bounds, 24 strengthened rows, 0 substitutions\n",
      "Cgl0004I processed model has 93 rows, 382 columns (382 integer (382 of which binary)) and 1935 elements\n",
      "Cbc0038I Initial state - 33 integers unsatisfied sum - 7.8\n",
      "Cbc0038I Pass   1: suminf.    6.80000 (29) obj. 76.5013 iterations 81\n",
      "Cbc0038I Pass   2: suminf.    6.00000 (12) obj. 74.2182 iterations 42\n",
      "Cbc0038I Pass   3: suminf.    6.00000 (12) obj. 74.2182 iterations 55\n",
      "Cbc0038I Pass   4: suminf.    6.84615 (33) obj. 77.4639 iterations 85\n",
      "Cbc0038I Pass   5: suminf.    5.00000 (17) obj. 69.3795 iterations 99\n",
      "Cbc0038I Pass   6: suminf.    4.00000 (8) obj. 53.7175 iterations 44\n",
      "Cbc0038I Pass   7: suminf.    4.00000 (8) obj. 53.7175 iterations 45\n",
      "Cbc0038I Pass   8: suminf.    4.00000 (8) obj. 53.7175 iterations 78\n",
      "Cbc0038I Pass   9: suminf.    5.33333 (16) obj. 60.1088 iterations 99\n",
      "Cbc0038I Pass  10: suminf.    0.00000 (0) obj. 50.788 iterations 77\n",
      "Cbc0038I Solution found of 50.788\n",
      "Cbc0038I Before mini branch and bound, 281 integers at bound fixed and 0 continuous\n",
      "Cbc0038I Full problem 93 rows 382 columns, reduced to 69 rows 79 columns\n",
      "Cbc0038I Mini branch and bound improved solution from 50.788 to 50.4862 (0.07 seconds)\n",
      "Cbc0038I Round again with cutoff of 47.6767\n",
      "Cbc0038I Reduced cost fixing fixed 20 variables on major pass 2\n",
      "Cbc0038I Pass  11: suminf.    6.59271 (30) obj. 47.6767 iterations 44\n",
      "Cbc0038I Pass  12: suminf.    4.99304 (16) obj. 47.6767 iterations 96\n",
      "Cbc0038I Pass  13: suminf.    4.00000 (13) obj. 47.6767 iterations 43\n",
      "Cbc0038I Pass  14: suminf.    4.00000 (12) obj. 40.6479 iterations 69\n",
      "Cbc0038I Pass  15: suminf.    5.00000 (10) obj. 42.4163 iterations 86\n",
      "Cbc0038I Pass  16: suminf.    4.00000 (13) obj. 47.6767 iterations 96\n",
      "Cbc0038I Pass  17: suminf.    7.56090 (33) obj. 47.6767 iterations 98\n",
      "Cbc0038I Pass  18: suminf.    2.67736 (8) obj. 47.6767 iterations 73\n",
      "Cbc0038I Pass  19: suminf.    0.00000 (0) obj. 37.4568 iterations 110\n",
      "Cbc0038I Solution found of 37.4568\n",
      "Cbc0038I Before mini branch and bound, 294 integers at bound fixed and 0 continuous\n",
      "Cbc0038I Full problem 93 rows 382 columns, reduced to 51 rows 48 columns\n",
      "Cbc0038I Mini branch and bound did not improve solution (0.09 seconds)\n",
      "Cbc0038I Round again with cutoff of 34.4437\n",
      "Cbc0038I Reduced cost fixing fixed 92 variables on major pass 3\n",
      "Cbc0038I Pass  20: suminf.    7.00000 (27) obj. 34.4437 iterations 17\n",
      "Cbc0038I Pass  21: suminf.    7.00000 (25) obj. 34.3426 iterations 23\n",
      "Cbc0038I Pass  22: suminf.    7.33333 (24) obj. 30.5276 iterations 65\n",
      "Cbc0038I Pass  23: suminf.    4.50108 (21) obj. 34.4437 iterations 100\n",
      "Cbc0038I Pass  24: suminf.    1.69514 (9) obj. 34.4437 iterations 55\n",
      "Cbc0038I Pass  25: suminf.    1.69514 (9) obj. 34.4437 iterations 19\n",
      "Cbc0038I Pass  26: suminf.    4.00000 (8) obj. 28.5342 iterations 117\n",
      "Cbc0038I Pass  27: suminf.    4.00000 (8) obj. 28.5342 iterations 48\n",
      "Cbc0038I Pass  28: suminf.    4.00000 (8) obj. 28.5342 iterations 20\n",
      "Cbc0038I Pass  29: suminf.    3.61479 (14) obj. 34.4437 iterations 31\n",
      "Cbc0038I Pass  30: suminf.    1.69514 (9) obj. 34.4437 iterations 39\n",
      "Cbc0038I Pass  31: suminf.    1.69514 (9) obj. 34.4437 iterations 25\n",
      "Cbc0038I Pass  32: suminf.    4.00000 (8) obj. 28.5342 iterations 112\n",
      "Cbc0038I Pass  33: suminf.    3.33333 (10) obj. 31.8359 iterations 51\n",
      "Cbc0038I Pass  34: suminf.    6.08112 (34) obj. 34.4437 iterations 93\n",
      "Cbc0038I Pass  35: suminf.    0.94652 (6) obj. 34.4437 iterations 82\n",
      "Cbc0038I Solution found of 33.8759\n",
      "Cbc0038I Before mini branch and bound, 293 integers at bound fixed and 0 continuous\n",
      "Cbc0038I Full problem 93 rows 382 columns, reduced to 64 rows 68 columns\n",
      "Cbc0038I Mini branch and bound did not improve solution (0.12 seconds)\n",
      "Cbc0038I Round again with cutoff of 30.4306\n",
      "Cbc0038I Reduced cost fixing fixed 133 variables on major pass 4\n",
      "Cbc0038I Pass  36: suminf.    7.00000 (32) obj. 30.4306 iterations 7\n",
      "Cbc0038I Pass  37: suminf.    7.00000 (31) obj. 30.2952 iterations 63\n",
      "Cbc0038I Pass  38: suminf.    6.26634 (29) obj. 30.4306 iterations 60\n",
      "Cbc0038I Pass  39: suminf.    4.73775 (23) obj. 30.4306 iterations 17\n",
      "Cbc0038I Pass  40: suminf.    4.00000 (8) obj. 28.5162 iterations 42\n",
      "Cbc0038I Pass  41: suminf.    4.00000 (8) obj. 28.5162 iterations 35\n",
      "Cbc0038I Pass  42: suminf.    4.00000 (8) obj. 28.5162 iterations 42\n",
      "Cbc0038I Pass  43: suminf.    4.00000 (8) obj. 28.5162 iterations 11\n",
      "Cbc0038I Pass  44: suminf.    4.00000 (8) obj. 28.5162 iterations 42\n",
      "Cbc0038I Pass  45: suminf.    4.00000 (8) obj. 28.5162 iterations 33\n",
      "Cbc0038I Pass  46: suminf.    4.00000 (8) obj. 28.5162 iterations 27\n",
      "Cbc0038I Pass  47: suminf.    4.00000 (8) obj. 28.5162 iterations 29\n",
      "Cbc0038I Pass  48: suminf.    4.00000 (8) obj. 28.5162 iterations 19\n",
      "Cbc0038I Pass  49: suminf.    4.00000 (8) obj. 28.5162 iterations 33\n",
      "Cbc0038I Pass  50: suminf.    4.00000 (8) obj. 28.5162 iterations 39\n",
      "Cbc0038I Pass  51: suminf.    4.00000 (8) obj. 28.5162 iterations 59\n",
      "Cbc0038I Pass  52: suminf.    4.00000 (8) obj. 28.5162 iterations 60\n",
      "Cbc0038I Pass  53: suminf.    4.00000 (8) obj. 28.5162 iterations 49\n",
      "Cbc0038I Pass  54: suminf.    4.00000 (8) obj. 28.5162 iterations 11\n",
      "Cbc0038I Pass  55: suminf.    4.00000 (8) obj. 28.5162 iterations 2\n",
      "Cbc0038I Pass  56: suminf.    7.00000 (26) obj. 28.8681 iterations 60\n",
      "Cbc0038I Pass  57: suminf.    4.00000 (8) obj. 28.5162 iterations 61\n",
      "Cbc0038I Pass  58: suminf.    4.00000 (8) obj. 28.5162 iterations 24\n",
      "Cbc0038I Pass  59: suminf.    4.00000 (8) obj. 28.5162 iterations 9\n",
      "Cbc0038I Pass  60: suminf.    4.00000 (8) obj. 28.5162 iterations 36\n",
      "Cbc0038I Pass  61: suminf.    4.00000 (8) obj. 28.5162 iterations 36\n",
      "Cbc0038I Pass  62: suminf.    4.00000 (8) obj. 28.5162 iterations 24\n",
      "Cbc0038I Pass  63: suminf.    4.00000 (8) obj. 28.5162 iterations 6\n",
      "Cbc0038I Pass  64: suminf.    4.00000 (8) obj. 28.5162 iterations 6\n",
      "Cbc0038I Pass  65: suminf.    4.00000 (8) obj. 28.5162 iterations 38\n",
      "Cbc0038I No solution found this major pass\n",
      "Cbc0038I Before mini branch and bound, 303 integers at bound fixed and 0 continuous\n",
      "Cbc0038I Mini branch and bound did not improve solution (0.15 seconds)\n",
      "Cbc0038I After 0.15 seconds - Feasibility pump exiting with objective of 33.8759 - took 0.09 seconds\n",
      "Cbc0012I Integer solution of 33.875942 found by feasibility pump after 0 iterations and 0 nodes (0.15 seconds)\n",
      "Cbc0031I 5 added rows had average density of 50.4\n",
      "Cbc0013I At root node, 26 cuts changed objective from 22.391357 to 33.875942 in 2 passes\n",
      "Cbc0014I Cut generator 0 (Probing) - 1 row cuts average 2.0 elements, 47 column cuts (47 active)  in 0.002 seconds - new frequency is 1\n",
      "Cbc0014I Cut generator 1 (Gomory) - 1 row cuts average 95.0 elements, 0 column cuts (0 active)  in 0.001 seconds - new frequency is -100\n",
      "Cbc0014I Cut generator 2 (Knapsack) - 0 row cuts average 0.0 elements, 0 column cuts (0 active)  in 0.001 seconds - new frequency is -100\n",
      "Cbc0014I Cut generator 3 (Clique) - 0 row cuts average 0.0 elements, 0 column cuts (0 active)  in 0.000 seconds - new frequency is -100\n",
      "Cbc0014I Cut generator 4 (MixedIntegerRounding2) - 0 row cuts average 0.0 elements, 0 column cuts (0 active)  in 0.000 seconds - new frequency is -100\n",
      "Cbc0014I Cut generator 5 (FlowCover) - 0 row cuts average 0.0 elements, 0 column cuts (0 active)  in 0.000 seconds - new frequency is -100\n",
      "Cbc0014I Cut generator 6 (TwoMirCuts) - 40 row cuts average 66.8 elements, 0 column cuts (0 active)  in 0.001 seconds - new frequency is -100\n",
      "Cbc0014I Cut generator 7 (ZeroHalf) - 7 row cuts average 28.0 elements, 0 column cuts (0 active)  in 0.020 seconds - new frequency is 1\n",
      "Cbc0001I Search completed - best objective 33.87594227454384, took 85 iterations and 0 nodes (0.21 seconds)\n",
      "Cbc0035I Maximum depth 0, 215 variables fixed on reduced cost\n",
      "Cuts at root node changed objective from 22.3914 to 33.8759\n",
      "Probing was tried 2 times and created 48 cuts of which 0 were active after adding rounds of cuts (0.002 seconds)\n",
      "Gomory was tried 2 times and created 1 cuts of which 0 were active after adding rounds of cuts (0.001 seconds)\n",
      "Knapsack was tried 2 times and created 0 cuts of which 0 were active after adding rounds of cuts (0.001 seconds)\n",
      "Clique was tried 2 times and created 0 cuts of which 0 were active after adding rounds of cuts (0.000 seconds)\n",
      "MixedIntegerRounding2 was tried 2 times and created 0 cuts of which 0 were active after adding rounds of cuts (0.000 seconds)\n",
      "FlowCover was tried 2 times and created 0 cuts of which 0 were active after adding rounds of cuts (0.000 seconds)\n",
      "TwoMirCuts was tried 2 times and created 40 cuts of which 0 were active after adding rounds of cuts (0.001 seconds)\n",
      "ZeroHalf was tried 2 times and created 7 cuts of which 0 were active after adding rounds of cuts (0.020 seconds)\n",
      "\n",
      "Result - Optimal solution found\n",
      "\n",
      "Objective value:                33.87594227\n",
      "Enumerated nodes:               0\n",
      "Total iterations:               85\n",
      "Time (CPU seconds):             0.16\n",
      "Time (Wallclock seconds):       0.22\n",
      "\n",
      "Option for printingOptions changed from normal to all\n",
      "Total time (CPU seconds):       0.16   (Wallclock seconds):       0.23\n",
      "\n",
      "Status: Optimal\n"
     ]
    }
   ],
   "source": [
    "flowmodel.solve()\n",
    "print(\"Status:\", pulp.LpStatus[flowmodel.status])"
   ]
  },
  {
   "cell_type": "code",
   "execution_count": 19,
   "id": "d0f7c0a9",
   "metadata": {},
   "outputs": [
    {
     "name": "stdout",
     "output_type": "stream",
     "text": [
      "Total Distance: 33.875942274546034\n"
     ]
    }
   ],
   "source": [
    "# Total Distance\n",
    "totalDistance = pulp.value(flowmodel.objective)\n",
    "print(\"Total Distance: \" + str(totalDistance))"
   ]
  },
  {
   "cell_type": "code",
   "execution_count": 20,
   "id": "d4c2e663",
   "metadata": {},
   "outputs": [
    {
     "name": "stdout",
     "output_type": "stream",
     "text": [
      "Step: 0\n",
      "\tLeave from Downtown Toronto (Rosedale)\n",
      "\tTravel to Downtown Toronto (Central Bay Street)\n",
      "Step: 1\n",
      "\tLeave from Downtown Toronto (Central Bay Street)\n",
      "\tTravel to Downtown Toronto (Richmond / Adelaide / King)\n",
      "Step: 2\n",
      "\tLeave from Downtown Toronto (Richmond / Adelaide / King)\n",
      "\tTravel to Downtown Toronto (Underground city)\n",
      "Step: 3\n",
      "\tLeave from Downtown Toronto (Underground city)\n",
      "\tTravel to Downtown Toronto (St. James Town / Cabbagetown)\n",
      "Step: 4\n",
      "\tLeave from Downtown Toronto (St. James Town / Cabbagetown)\n",
      "\tTravel to York (Cedarvale)\n",
      "Step: 5\n",
      "\tLeave from York (Cedarvale)\n",
      "\tTravel to Central Toronto (The Annex / North Midtown / Yorkville)\n",
      "Step: 6\n",
      "\tLeave from Central Toronto (The Annex / North Midtown / Yorkville)\n",
      "\tTravel to Etobicoke Northwest (Clairville / Humberwood / Woodbine Downs / West Humber / Kipling Heights / Rexdale / Elms / Tandridge / Old Rexdale)\n",
      "Step: 7\n",
      "\tLeave from Etobicoke Northwest (Clairville / Humberwood / Woodbine Downs / West Humber / Kipling Heights / Rexdale / Elms / Tandridge / Old Rexdale)\n",
      "\tTravel to Etobicoke (South Steeles / Silverstone / Humbergate / Jamestown / Mount Olive / Beaumond Heights / Thistletown / Albion Gardens)\n"
     ]
    }
   ],
   "source": [
    "# print solution\n",
    "for t in step: \n",
    "    print(\"Step: \" + str(t))\n",
    "    for i in start: \n",
    "        for j in end: \n",
    "            if xvar[(i,j,t)].varValue > 0.0:\n",
    "                print(\"\\tLeave from \" + str(i))\n",
    "                print(\"\\tTravel to \" + str(j))"
   ]
  },
  {
   "cell_type": "code",
   "execution_count": null,
   "id": "5e9a6414",
   "metadata": {},
   "outputs": [],
   "source": []
  }
 ],
 "metadata": {
  "kernelspec": {
   "display_name": "Python 3 (ipykernel)",
   "language": "python",
   "name": "python3"
  },
  "language_info": {
   "codemirror_mode": {
    "name": "ipython",
    "version": 3
   },
   "file_extension": ".py",
   "mimetype": "text/x-python",
   "name": "python",
   "nbconvert_exporter": "python",
   "pygments_lexer": "ipython3",
   "version": "3.8.13"
  }
 },
 "nbformat": 4,
 "nbformat_minor": 5
}
