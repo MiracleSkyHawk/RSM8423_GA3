{
 "cells": [
  {
   "cell_type": "code",
   "execution_count": 1,
   "id": "ef7f78bf",
   "metadata": {},
   "outputs": [],
   "source": [
    "# pip install pulp"
   ]
  },
  {
   "cell_type": "code",
   "execution_count": 2,
   "id": "196cc0c5",
   "metadata": {},
   "outputs": [],
   "source": [
    "import pulp\n",
    "from pulp import *\n",
    "\n",
    "import numpy as np\n",
    "import pandas as pd\n",
    "\n",
    "import datetime\n",
    "import matplotlib.pyplot as plt"
   ]
  },
  {
   "cell_type": "markdown",
   "id": "bbad3484",
   "metadata": {},
   "source": [
    "## Load Data"
   ]
  },
  {
   "cell_type": "code",
   "execution_count": 3,
   "id": "e52096b2",
   "metadata": {},
   "outputs": [],
   "source": [
    "path = 'CSV_Files_Food_Delivery/'"
   ]
  },
  {
   "cell_type": "code",
   "execution_count": 4,
   "id": "5b196265",
   "metadata": {},
   "outputs": [],
   "source": [
    "df_distances = pd.read_csv(path + 'distances.csv')\n",
    "\n",
    "df_ordersA = pd.read_csv(path + 'part1_ordersA.csv')\n",
    "df_ordersB = pd.read_csv(path + 'part1_ordersB.csv')"
   ]
  },
  {
   "cell_type": "code",
   "execution_count": 5,
   "id": "b2eb7863",
   "metadata": {},
   "outputs": [
    {
     "data": {
      "text/html": [
       "<div>\n",
       "<style scoped>\n",
       "    .dataframe tbody tr th:only-of-type {\n",
       "        vertical-align: middle;\n",
       "    }\n",
       "\n",
       "    .dataframe tbody tr th {\n",
       "        vertical-align: top;\n",
       "    }\n",
       "\n",
       "    .dataframe thead th {\n",
       "        text-align: right;\n",
       "    }\n",
       "</style>\n",
       "<table border=\"1\" class=\"dataframe\">\n",
       "  <thead>\n",
       "    <tr style=\"text-align: right;\">\n",
       "      <th></th>\n",
       "      <th>origin</th>\n",
       "      <th>destination</th>\n",
       "      <th>distance</th>\n",
       "    </tr>\n",
       "  </thead>\n",
       "  <tbody>\n",
       "    <tr>\n",
       "      <th>0</th>\n",
       "      <td>Scarborough (Malvern / Rouge River)</td>\n",
       "      <td>Scarborough (Rouge Hill / Port Union / Highlan...</td>\n",
       "      <td>3.931478</td>\n",
       "    </tr>\n",
       "    <tr>\n",
       "      <th>1</th>\n",
       "      <td>Scarborough (Malvern / Rouge River)</td>\n",
       "      <td>Scarborough (Guildwood / Morningside / Ellesmere)</td>\n",
       "      <td>4.864191</td>\n",
       "    </tr>\n",
       "    <tr>\n",
       "      <th>2</th>\n",
       "      <td>Scarborough (Malvern / Rouge River)</td>\n",
       "      <td>Scarborough (Woburn)</td>\n",
       "      <td>4.778347</td>\n",
       "    </tr>\n",
       "    <tr>\n",
       "      <th>3</th>\n",
       "      <td>Scarborough (Malvern / Rouge River)</td>\n",
       "      <td>Scarborough (Cedarbrae)</td>\n",
       "      <td>6.009861</td>\n",
       "    </tr>\n",
       "    <tr>\n",
       "      <th>4</th>\n",
       "      <td>Scarborough (Malvern / Rouge River)</td>\n",
       "      <td>Scarborough (Eglinton)</td>\n",
       "      <td>7.876162</td>\n",
       "    </tr>\n",
       "  </tbody>\n",
       "</table>\n",
       "</div>"
      ],
      "text/plain": [
       "                                origin  \\\n",
       "0  Scarborough (Malvern / Rouge River)   \n",
       "1  Scarborough (Malvern / Rouge River)   \n",
       "2  Scarborough (Malvern / Rouge River)   \n",
       "3  Scarborough (Malvern / Rouge River)   \n",
       "4  Scarborough (Malvern / Rouge River)   \n",
       "\n",
       "                                         destination  distance  \n",
       "0  Scarborough (Rouge Hill / Port Union / Highlan...  3.931478  \n",
       "1  Scarborough (Guildwood / Morningside / Ellesmere)  4.864191  \n",
       "2                               Scarborough (Woburn)  4.778347  \n",
       "3                            Scarborough (Cedarbrae)  6.009861  \n",
       "4                             Scarborough (Eglinton)  7.876162  "
      ]
     },
     "execution_count": 5,
     "metadata": {},
     "output_type": "execute_result"
    }
   ],
   "source": [
    "df_distances.head()"
   ]
  },
  {
   "cell_type": "code",
   "execution_count": 6,
   "id": "c58b99c0",
   "metadata": {},
   "outputs": [
    {
     "data": {
      "text/html": [
       "<div>\n",
       "<style scoped>\n",
       "    .dataframe tbody tr th:only-of-type {\n",
       "        vertical-align: middle;\n",
       "    }\n",
       "\n",
       "    .dataframe tbody tr th {\n",
       "        vertical-align: top;\n",
       "    }\n",
       "\n",
       "    .dataframe thead th {\n",
       "        text-align: right;\n",
       "    }\n",
       "</style>\n",
       "<table border=\"1\" class=\"dataframe\">\n",
       "  <thead>\n",
       "    <tr style=\"text-align: right;\">\n",
       "      <th></th>\n",
       "      <th>restaurant</th>\n",
       "      <th>customer</th>\n",
       "    </tr>\n",
       "  </thead>\n",
       "  <tbody>\n",
       "    <tr>\n",
       "      <th>0</th>\n",
       "      <td>Downtown Toronto (Underground city)</td>\n",
       "      <td>Downtown Toronto (Central Bay Street)</td>\n",
       "    </tr>\n",
       "  </tbody>\n",
       "</table>\n",
       "</div>"
      ],
      "text/plain": [
       "                            restaurant                               customer\n",
       "0  Downtown Toronto (Underground city)  Downtown Toronto (Central Bay Street)"
      ]
     },
     "execution_count": 6,
     "metadata": {},
     "output_type": "execute_result"
    }
   ],
   "source": [
    "df_ordersA"
   ]
  },
  {
   "cell_type": "code",
   "execution_count": 7,
   "id": "16b0b8e6",
   "metadata": {},
   "outputs": [
    {
     "data": {
      "text/html": [
       "<div>\n",
       "<style scoped>\n",
       "    .dataframe tbody tr th:only-of-type {\n",
       "        vertical-align: middle;\n",
       "    }\n",
       "\n",
       "    .dataframe tbody tr th {\n",
       "        vertical-align: top;\n",
       "    }\n",
       "\n",
       "    .dataframe thead th {\n",
       "        text-align: right;\n",
       "    }\n",
       "</style>\n",
       "<table border=\"1\" class=\"dataframe\">\n",
       "  <thead>\n",
       "    <tr style=\"text-align: right;\">\n",
       "      <th></th>\n",
       "      <th>restaurant</th>\n",
       "      <th>customer</th>\n",
       "    </tr>\n",
       "  </thead>\n",
       "  <tbody>\n",
       "    <tr>\n",
       "      <th>0</th>\n",
       "      <td>Downtown Toronto (Central Bay Street)</td>\n",
       "      <td>Downtown Toronto (Underground city)</td>\n",
       "    </tr>\n",
       "    <tr>\n",
       "      <th>1</th>\n",
       "      <td>Etobicoke Northwest (Clairville / Humberwood /...</td>\n",
       "      <td>Etobicoke (South Steeles / Silverstone / Humbe...</td>\n",
       "    </tr>\n",
       "    <tr>\n",
       "      <th>2</th>\n",
       "      <td>York (Cedarvale)</td>\n",
       "      <td>Central Toronto (The Annex / North Midtown / Y...</td>\n",
       "    </tr>\n",
       "    <tr>\n",
       "      <th>3</th>\n",
       "      <td>Downtown Toronto (Central Bay Street)</td>\n",
       "      <td>Downtown Toronto (Richmond / Adelaide / King)</td>\n",
       "    </tr>\n",
       "    <tr>\n",
       "      <th>4</th>\n",
       "      <td>Downtown Toronto (Richmond / Adelaide / King)</td>\n",
       "      <td>Downtown Toronto (St. James Town / Cabbagetown)</td>\n",
       "    </tr>\n",
       "  </tbody>\n",
       "</table>\n",
       "</div>"
      ],
      "text/plain": [
       "                                          restaurant  \\\n",
       "0              Downtown Toronto (Central Bay Street)   \n",
       "1  Etobicoke Northwest (Clairville / Humberwood /...   \n",
       "2                                   York (Cedarvale)   \n",
       "3              Downtown Toronto (Central Bay Street)   \n",
       "4      Downtown Toronto (Richmond / Adelaide / King)   \n",
       "\n",
       "                                            customer  \n",
       "0                Downtown Toronto (Underground city)  \n",
       "1  Etobicoke (South Steeles / Silverstone / Humbe...  \n",
       "2  Central Toronto (The Annex / North Midtown / Y...  \n",
       "3      Downtown Toronto (Richmond / Adelaide / King)  \n",
       "4    Downtown Toronto (St. James Town / Cabbagetown)  "
      ]
     },
     "execution_count": 7,
     "metadata": {},
     "output_type": "execute_result"
    }
   ],
   "source": [
    "df_ordersB"
   ]
  },
  {
   "cell_type": "markdown",
   "id": "9c4b0f19",
   "metadata": {},
   "source": [
    "## Sets"
   ]
  },
  {
   "cell_type": "code",
   "execution_count": 8,
   "id": "32d497bc",
   "metadata": {},
   "outputs": [],
   "source": [
    "starting_location = 'Downtown Toronto (Rosedale)'"
   ]
  },
  {
   "cell_type": "code",
   "execution_count": 9,
   "id": "ca392c2b",
   "metadata": {},
   "outputs": [],
   "source": [
    "df = df_ordersB"
   ]
  },
  {
   "cell_type": "code",
   "execution_count": 10,
   "id": "4f022e95",
   "metadata": {},
   "outputs": [],
   "source": [
    "# Get start and end locations\n",
    "start_locations = list(df['restaurant'].unique()) + list(df['customer'].unique())\n",
    "end_locations = list(df['restaurant'].unique()) + list(df['customer'].unique())\n",
    "\n",
    "start_locations.append('Downtown Toronto (Rosedale)')\n",
    "\n",
    "start_locations = list(dict.fromkeys(start_locations))\n",
    "end_locations = list(dict.fromkeys(end_locations))\n",
    "\n",
    "# Calculate the number of stops \n",
    "num_stops = np.arange(0, len(end_locations)).tolist()"
   ]
  },
  {
   "cell_type": "code",
   "execution_count": 11,
   "id": "2aac45f3",
   "metadata": {},
   "outputs": [],
   "source": [
    "# Get unique Restraurants and Customers\n",
    "restaurants = df['restaurant'].unique().tolist()\n",
    "customers = df['customer'].unique().tolist()"
   ]
  },
  {
   "cell_type": "code",
   "execution_count": 12,
   "id": "2d982ca3",
   "metadata": {},
   "outputs": [
    {
     "data": {
      "text/plain": [
       "['Downtown Toronto (Central Bay Street)',\n",
       " 'Etobicoke Northwest (Clairville / Humberwood / Woodbine Downs / West Humber / Kipling Heights / Rexdale / Elms / Tandridge / Old Rexdale)',\n",
       " 'York (Cedarvale)',\n",
       " 'Downtown Toronto (Richmond / Adelaide / King)']"
      ]
     },
     "execution_count": 12,
     "metadata": {},
     "output_type": "execute_result"
    }
   ],
   "source": [
    "restaurants"
   ]
  },
  {
   "cell_type": "code",
   "execution_count": 13,
   "id": "a79daa34",
   "metadata": {},
   "outputs": [
    {
     "data": {
      "text/plain": [
       "['Downtown Toronto (Underground city)',\n",
       " 'Etobicoke (South Steeles / Silverstone / Humbergate / Jamestown / Mount Olive / Beaumond Heights / Thistletown / Albion Gardens)',\n",
       " 'Central Toronto (The Annex / North Midtown / Yorkville)',\n",
       " 'Downtown Toronto (Richmond / Adelaide / King)',\n",
       " 'Downtown Toronto (St. James Town / Cabbagetown)']"
      ]
     },
     "execution_count": 13,
     "metadata": {},
     "output_type": "execute_result"
    }
   ],
   "source": [
    "customers"
   ]
  },
  {
   "cell_type": "code",
   "execution_count": 14,
   "id": "893a4e38",
   "metadata": {},
   "outputs": [
    {
     "name": "stdout",
     "output_type": "stream",
     "text": [
      "[['Downtown Toronto (Central Bay Street)', 'Downtown Toronto (Underground city)'], ['Etobicoke Northwest (Clairville / Humberwood / Woodbine Downs / West Humber / Kipling Heights / Rexdale / Elms / Tandridge / Old Rexdale)', 'Etobicoke (South Steeles / Silverstone / Humbergate / Jamestown / Mount Olive / Beaumond Heights / Thistletown / Albion Gardens)'], ['York (Cedarvale)', 'Central Toronto (The Annex / North Midtown / Yorkville)'], ['Downtown Toronto (Central Bay Street)', 'Downtown Toronto (Richmond / Adelaide / King)'], ['Downtown Toronto (Richmond / Adelaide / King)', 'Downtown Toronto (St. James Town / Cabbagetown)']]\n"
     ]
    }
   ],
   "source": [
    "list_order = []\n",
    "for index, row in df.iterrows():\n",
    "    list_order.append([row[\"restaurant\"], row[\"customer\"]])\n",
    "print(list_order)"
   ]
  },
  {
   "cell_type": "code",
   "execution_count": 15,
   "id": "2b2bc6df",
   "metadata": {},
   "outputs": [],
   "source": [
    "travel_distance = {}\n",
    "\n",
    "# Distance between start location and end location\n",
    "for i in start_locations:\n",
    "    for j in end_locations: \n",
    "        if i == j:\n",
    "            travel_distance[(i,j)] = 0 \n",
    "        else:\n",
    "            travel_distance[(i,j)] = float(df_distances[(df_distances['origin'] == i) & \n",
    "                                                          (df_distances['destination'] == j)]['distance'])"
   ]
  },
  {
   "cell_type": "code",
   "execution_count": 16,
   "id": "a7903ef8",
   "metadata": {},
   "outputs": [
    {
     "data": {
      "text/plain": [
       "{('Downtown Toronto (Central Bay Street)',\n",
       "  'Downtown Toronto (Central Bay Street)'): 0,\n",
       " ('Downtown Toronto (Central Bay Street)',\n",
       "  'Etobicoke Northwest (Clairville / Humberwood / Woodbine Downs / West Humber / Kipling Heights / Rexdale / Elms / Tandridge / Old Rexdale)'): 17.693277187517552,\n",
       " ('Downtown Toronto (Central Bay Street)',\n",
       "  'York (Cedarvale)'): 5.306326643787583,\n",
       " ('Downtown Toronto (Central Bay Street)',\n",
       "  'Downtown Toronto (Richmond / Adelaide / King)'): 0.7867106676349092,\n",
       " ('Downtown Toronto (Central Bay Street)',\n",
       "  'Downtown Toronto (Underground city)'): 0.8541546574657076,\n",
       " ('Downtown Toronto (Central Bay Street)',\n",
       "  'Etobicoke (South Steeles / Silverstone / Humbergate / Jamestown / Mount Olive / Beaumond Heights / Thistletown / Albion Gardens)'): 18.86304834675905,\n",
       " ('Downtown Toronto (Central Bay Street)',\n",
       "  'Central Toronto (The Annex / North Midtown / Yorkville)'): 2.374732498057164,\n",
       " ('Downtown Toronto (Central Bay Street)',\n",
       "  'Downtown Toronto (St. James Town / Cabbagetown)'): 1.916394809586956,\n",
       " ('Etobicoke Northwest (Clairville / Humberwood / Woodbine Downs / West Humber / Kipling Heights / Rexdale / Elms / Tandridge / Old Rexdale)',\n",
       "  'Downtown Toronto (Central Bay Street)'): 17.693277187517552,\n",
       " ('Etobicoke Northwest (Clairville / Humberwood / Woodbine Downs / West Humber / Kipling Heights / Rexdale / Elms / Tandridge / Old Rexdale)',\n",
       "  'Etobicoke Northwest (Clairville / Humberwood / Woodbine Downs / West Humber / Kipling Heights / Rexdale / Elms / Tandridge / Old Rexdale)'): 0,\n",
       " ('Etobicoke Northwest (Clairville / Humberwood / Woodbine Downs / West Humber / Kipling Heights / Rexdale / Elms / Tandridge / Old Rexdale)',\n",
       "  'York (Cedarvale)'): 13.127239225760867,\n",
       " ('Etobicoke Northwest (Clairville / Humberwood / Woodbine Downs / West Humber / Kipling Heights / Rexdale / Elms / Tandridge / Old Rexdale)',\n",
       "  'Downtown Toronto (Richmond / Adelaide / King)'): 18.182672518704507,\n",
       " ('Etobicoke Northwest (Clairville / Humberwood / Woodbine Downs / West Humber / Kipling Heights / Rexdale / Elms / Tandridge / Old Rexdale)',\n",
       "  'Downtown Toronto (Underground city)'): 18.274182661482342,\n",
       " ('Etobicoke Northwest (Clairville / Humberwood / Woodbine Downs / West Humber / Kipling Heights / Rexdale / Elms / Tandridge / Old Rexdale)',\n",
       "  'Etobicoke (South Steeles / Silverstone / Humbergate / Jamestown / Mount Olive / Beaumond Heights / Thistletown / Albion Gardens)'): 3.2133772410029064,\n",
       " ('Etobicoke Northwest (Clairville / Humberwood / Woodbine Downs / West Humber / Kipling Heights / Rexdale / Elms / Tandridge / Old Rexdale)',\n",
       "  'Central Toronto (The Annex / North Midtown / Yorkville)'): 15.73488143715154,\n",
       " ('Etobicoke Northwest (Clairville / Humberwood / Woodbine Downs / West Humber / Kipling Heights / Rexdale / Elms / Tandridge / Old Rexdale)',\n",
       "  'Downtown Toronto (St. James Town / Cabbagetown)'): 18.567648690355195,\n",
       " ('York (Cedarvale)',\n",
       "  'Downtown Toronto (Central Bay Street)'): 5.306326643787583,\n",
       " ('York (Cedarvale)',\n",
       "  'Etobicoke Northwest (Clairville / Humberwood / Woodbine Downs / West Humber / Kipling Heights / Rexdale / Elms / Tandridge / Old Rexdale)'): 13.127239225760867,\n",
       " ('York (Cedarvale)', 'York (Cedarvale)'): 0,\n",
       " ('York (Cedarvale)',\n",
       "  'Downtown Toronto (Richmond / Adelaide / King)'): 6.020064329001034,\n",
       " ('York (Cedarvale)',\n",
       "  'Downtown Toronto (Underground city)'): 6.105524808911234,\n",
       " ('York (Cedarvale)',\n",
       "  'Etobicoke (South Steeles / Silverstone / Humbergate / Jamestown / Mount Olive / Beaumond Heights / Thistletown / Albion Gardens)'): 13.858228650388517,\n",
       " ('York (Cedarvale)',\n",
       "  'Central Toronto (The Annex / North Midtown / Yorkville)'): 2.9573203886894,\n",
       " ('York (Cedarvale)',\n",
       "  'Downtown Toronto (St. James Town / Cabbagetown)'): 5.594329335112669,\n",
       " ('Downtown Toronto (Richmond / Adelaide / King)',\n",
       "  'Downtown Toronto (Central Bay Street)'): 0.7867106676349092,\n",
       " ('Downtown Toronto (Richmond / Adelaide / King)',\n",
       "  'Etobicoke Northwest (Clairville / Humberwood / Woodbine Downs / West Humber / Kipling Heights / Rexdale / Elms / Tandridge / Old Rexdale)'): 18.182672518704507,\n",
       " ('Downtown Toronto (Richmond / Adelaide / King)',\n",
       "  'York (Cedarvale)'): 6.020064329001034,\n",
       " ('Downtown Toronto (Richmond / Adelaide / King)',\n",
       "  'Downtown Toronto (Richmond / Adelaide / King)'): 0,\n",
       " ('Downtown Toronto (Richmond / Adelaide / King)',\n",
       "  'Downtown Toronto (Underground city)'): 0.0919337687299437,\n",
       " ('Downtown Toronto (Richmond / Adelaide / King)',\n",
       "  'Etobicoke (South Steeles / Silverstone / Humbergate / Jamestown / Mount Olive / Beaumond Heights / Thistletown / Albion Gardens)'): 19.44467415417908,\n",
       " ('Downtown Toronto (Richmond / Adelaide / King)',\n",
       "  'Central Toronto (The Annex / North Midtown / Yorkville)'): 3.1244593292434653,\n",
       " ('Downtown Toronto (Richmond / Adelaide / King)',\n",
       "  'Downtown Toronto (St. James Town / Cabbagetown)'): 2.389973822649801,\n",
       " ('Downtown Toronto (Underground city)',\n",
       "  'Downtown Toronto (Central Bay Street)'): 0.8541546574657076,\n",
       " ('Downtown Toronto (Underground city)',\n",
       "  'Etobicoke Northwest (Clairville / Humberwood / Woodbine Downs / West Humber / Kipling Heights / Rexdale / Elms / Tandridge / Old Rexdale)'): 18.274182661482342,\n",
       " ('Downtown Toronto (Underground city)',\n",
       "  'York (Cedarvale)'): 6.105524808911234,\n",
       " ('Downtown Toronto (Underground city)',\n",
       "  'Downtown Toronto (Richmond / Adelaide / King)'): 0.0919337687299437,\n",
       " ('Downtown Toronto (Underground city)',\n",
       "  'Downtown Toronto (Underground city)'): 0,\n",
       " ('Downtown Toronto (Underground city)',\n",
       "  'Etobicoke (South Steeles / Silverstone / Humbergate / Jamestown / Mount Olive / Beaumond Heights / Thistletown / Albion Gardens)'): 19.53643746312934,\n",
       " ('Downtown Toronto (Underground city)',\n",
       "  'Central Toronto (The Annex / North Midtown / Yorkville)'): 3.20461138761702,\n",
       " ('Downtown Toronto (Underground city)',\n",
       "  'Downtown Toronto (St. James Town / Cabbagetown)'): 2.3916551340132397,\n",
       " ('Etobicoke (South Steeles / Silverstone / Humbergate / Jamestown / Mount Olive / Beaumond Heights / Thistletown / Albion Gardens)',\n",
       "  'Downtown Toronto (Central Bay Street)'): 18.86304834675905,\n",
       " ('Etobicoke (South Steeles / Silverstone / Humbergate / Jamestown / Mount Olive / Beaumond Heights / Thistletown / Albion Gardens)',\n",
       "  'Etobicoke Northwest (Clairville / Humberwood / Woodbine Downs / West Humber / Kipling Heights / Rexdale / Elms / Tandridge / Old Rexdale)'): 3.2133772410029064,\n",
       " ('Etobicoke (South Steeles / Silverstone / Humbergate / Jamestown / Mount Olive / Beaumond Heights / Thistletown / Albion Gardens)',\n",
       "  'York (Cedarvale)'): 13.858228650388517,\n",
       " ('Etobicoke (South Steeles / Silverstone / Humbergate / Jamestown / Mount Olive / Beaumond Heights / Thistletown / Albion Gardens)',\n",
       "  'Downtown Toronto (Richmond / Adelaide / King)'): 19.44467415417908,\n",
       " ('Etobicoke (South Steeles / Silverstone / Humbergate / Jamestown / Mount Olive / Beaumond Heights / Thistletown / Albion Gardens)',\n",
       "  'Downtown Toronto (Underground city)'): 19.53643746312934,\n",
       " ('Etobicoke (South Steeles / Silverstone / Humbergate / Jamestown / Mount Olive / Beaumond Heights / Thistletown / Albion Gardens)',\n",
       "  'Etobicoke (South Steeles / Silverstone / Humbergate / Jamestown / Mount Olive / Beaumond Heights / Thistletown / Albion Gardens)'): 0,\n",
       " ('Etobicoke (South Steeles / Silverstone / Humbergate / Jamestown / Mount Olive / Beaumond Heights / Thistletown / Albion Gardens)',\n",
       "  'Central Toronto (The Annex / North Midtown / Yorkville)'): 16.699385576079248,\n",
       " ('Etobicoke (South Steeles / Silverstone / Humbergate / Jamestown / Mount Olive / Beaumond Heights / Thistletown / Albion Gardens)',\n",
       "  'Downtown Toronto (St. James Town / Cabbagetown)'): 19.447974796488225,\n",
       " ('Central Toronto (The Annex / North Midtown / Yorkville)',\n",
       "  'Downtown Toronto (Central Bay Street)'): 2.374732498057164,\n",
       " ('Central Toronto (The Annex / North Midtown / Yorkville)',\n",
       "  'Etobicoke Northwest (Clairville / Humberwood / Woodbine Downs / West Humber / Kipling Heights / Rexdale / Elms / Tandridge / Old Rexdale)'): 15.73488143715154,\n",
       " ('Central Toronto (The Annex / North Midtown / Yorkville)',\n",
       "  'York (Cedarvale)'): 2.9573203886894,\n",
       " ('Central Toronto (The Annex / North Midtown / Yorkville)',\n",
       "  'Downtown Toronto (Richmond / Adelaide / King)'): 3.1244593292434653,\n",
       " ('Central Toronto (The Annex / North Midtown / Yorkville)',\n",
       "  'Downtown Toronto (Underground city)'): 3.20461138761702,\n",
       " ('Central Toronto (The Annex / North Midtown / Yorkville)',\n",
       "  'Etobicoke (South Steeles / Silverstone / Humbergate / Jamestown / Mount Olive / Beaumond Heights / Thistletown / Albion Gardens)'): 16.699385576079248,\n",
       " ('Central Toronto (The Annex / North Midtown / Yorkville)',\n",
       "  'Central Toronto (The Annex / North Midtown / Yorkville)'): 0,\n",
       " ('Central Toronto (The Annex / North Midtown / Yorkville)',\n",
       "  'Downtown Toronto (St. James Town / Cabbagetown)'): 2.8422877775567263,\n",
       " ('Downtown Toronto (St. James Town / Cabbagetown)',\n",
       "  'Downtown Toronto (Central Bay Street)'): 1.916394809586956,\n",
       " ('Downtown Toronto (St. James Town / Cabbagetown)',\n",
       "  'Etobicoke Northwest (Clairville / Humberwood / Woodbine Downs / West Humber / Kipling Heights / Rexdale / Elms / Tandridge / Old Rexdale)'): 18.567648690355195,\n",
       " ('Downtown Toronto (St. James Town / Cabbagetown)',\n",
       "  'York (Cedarvale)'): 5.594329335112669,\n",
       " ('Downtown Toronto (St. James Town / Cabbagetown)',\n",
       "  'Downtown Toronto (Richmond / Adelaide / King)'): 2.389973822649801,\n",
       " ('Downtown Toronto (St. James Town / Cabbagetown)',\n",
       "  'Downtown Toronto (Underground city)'): 2.3916551340132397,\n",
       " ('Downtown Toronto (St. James Town / Cabbagetown)',\n",
       "  'Etobicoke (South Steeles / Silverstone / Humbergate / Jamestown / Mount Olive / Beaumond Heights / Thistletown / Albion Gardens)'): 19.447974796488225,\n",
       " ('Downtown Toronto (St. James Town / Cabbagetown)',\n",
       "  'Central Toronto (The Annex / North Midtown / Yorkville)'): 2.8422877775567263,\n",
       " ('Downtown Toronto (St. James Town / Cabbagetown)',\n",
       "  'Downtown Toronto (St. James Town / Cabbagetown)'): 0,\n",
       " ('Downtown Toronto (Rosedale)',\n",
       "  'Downtown Toronto (Central Bay Street)'): 3.1057343022114257,\n",
       " ('Downtown Toronto (Rosedale)',\n",
       "  'Etobicoke Northwest (Clairville / Humberwood / Woodbine Downs / West Humber / Kipling Heights / Rexdale / Elms / Tandridge / Old Rexdale)'): 17.868604937864514,\n",
       " ('Downtown Toronto (Rosedale)', 'York (Cedarvale)'): 4.741589511583548,\n",
       " ('Downtown Toronto (Rosedale)',\n",
       "  'Downtown Toronto (Richmond / Adelaide / King)'): 3.772650772470022,\n",
       " ('Downtown Toronto (Rosedale)',\n",
       "  'Downtown Toronto (Underground city)'): 3.7994043604054624,\n",
       " ('Downtown Toronto (Rosedale)',\n",
       "  'Etobicoke (South Steeles / Silverstone / Humbergate / Jamestown / Mount Olive / Beaumond Heights / Thistletown / Albion Gardens)'): 18.513551548803598,\n",
       " ('Downtown Toronto (Rosedale)',\n",
       "  'Central Toronto (The Annex / North Midtown / Yorkville)'): 2.653322535793083,\n",
       " ('Downtown Toronto (Rosedale)',\n",
       "  'Downtown Toronto (St. James Town / Cabbagetown)'): 1.6239181752464191}"
      ]
     },
     "execution_count": 16,
     "metadata": {},
     "output_type": "execute_result"
    }
   ],
   "source": [
    "travel_distance"
   ]
  },
  {
   "cell_type": "markdown",
   "id": "aff2ecc2",
   "metadata": {},
   "source": [
    "## Model Setup"
   ]
  },
  {
   "cell_type": "code",
   "execution_count": 24,
   "id": "8f5ca61d",
   "metadata": {},
   "outputs": [
    {
     "data": {
      "text/plain": [
       "[0, 1, 2, 3, 4, 5, 6, 7]"
      ]
     },
     "execution_count": 24,
     "metadata": {},
     "output_type": "execute_result"
    }
   ],
   "source": [
    "num_stops"
   ]
  },
  {
   "cell_type": "code",
   "execution_count": 26,
   "id": "e9161f9f",
   "metadata": {},
   "outputs": [
    {
     "data": {
      "text/plain": [
       "['Downtown Toronto (Central Bay Street)',\n",
       " 'Etobicoke Northwest (Clairville / Humberwood / Woodbine Downs / West Humber / Kipling Heights / Rexdale / Elms / Tandridge / Old Rexdale)',\n",
       " 'York (Cedarvale)',\n",
       " 'Downtown Toronto (Richmond / Adelaide / King)',\n",
       " 'Downtown Toronto (Underground city)',\n",
       " 'Etobicoke (South Steeles / Silverstone / Humbergate / Jamestown / Mount Olive / Beaumond Heights / Thistletown / Albion Gardens)',\n",
       " 'Central Toronto (The Annex / North Midtown / Yorkville)',\n",
       " 'Downtown Toronto (St. James Town / Cabbagetown)']"
      ]
     },
     "execution_count": 26,
     "metadata": {},
     "output_type": "execute_result"
    }
   ],
   "source": [
    "end_locations"
   ]
  },
  {
   "cell_type": "code",
   "execution_count": 17,
   "id": "792c4398",
   "metadata": {},
   "outputs": [],
   "source": [
    "model = LpProblem(name = 'Model', sense = LpMinimize)\n",
    "\n",
    "xVar = LpVariable.dict('x', (start_locations, end_locations, num_stops), cat = LpBinary)"
   ]
  },
  {
   "cell_type": "code",
   "execution_count": 18,
   "id": "3ec1a7a5",
   "metadata": {},
   "outputs": [],
   "source": [
    "obj = lpSum([travel_distance[(i,j)] * xVar[(i,j,t)] for i in start_locations for j in end_locations for t in num_stops])\n",
    "model += obj"
   ]
  },
  {
   "cell_type": "markdown",
   "id": "148b3b67",
   "metadata": {},
   "source": [
    "## Constraints"
   ]
  },
  {
   "cell_type": "code",
   "execution_count": 19,
   "id": "e9eb63fb",
   "metadata": {},
   "outputs": [],
   "source": [
    "# 1. Convervation of flow\n",
    "for t in num_stops[:-1]:\n",
    "    for j in end_locations:\n",
    "        model += (lpSum([xVar[(i,j,t)] for i in start_locations]) == lpSum([xVar[(j,k,t+1)] for k in end_locations]))\n",
    "\n",
    "# 2. Every location is visited once\n",
    "for j in end_locations: \n",
    "    model += lpSum([xVar[(i,j,t)] for i in start_locations for t in num_stops]) == 1\n",
    "    \n",
    "# 3. First node has an outflow of 1, others 0\n",
    "for i in start_locations:\n",
    "    if i == starting_location:\n",
    "        model += lpSum([xVar[(i,j,0)] for j in end_locations]) == 1\n",
    "    else: \n",
    "        model += lpSum([xVar[(i,j,0)] for j in end_locations]) == 0\n",
    "\n",
    "# 4. Visit restaurant before customer\n",
    "def restaurant_customer_match(customer):\n",
    "    for order in list_order:\n",
    "        if customer == order[1]:\n",
    "            return order[0]\n",
    "\n",
    "for t in num_stops: \n",
    "    for j in end_locations: \n",
    "        if j in customers: \n",
    "            model += pulp.lpSum( [xVar[i,j,t] for i in start_locations]) <= pulp.lpSum([xVar[i, restaurant_customer_match(j),t_] for i in start_locations for t_ in num_stops[:t]])"
   ]
  },
  {
   "cell_type": "markdown",
   "id": "e087ffed",
   "metadata": {},
   "source": [
    "## Solve"
   ]
  },
  {
   "cell_type": "code",
   "execution_count": 20,
   "id": "09611267",
   "metadata": {},
   "outputs": [
    {
     "name": "stdout",
     "output_type": "stream",
     "text": [
      "Status: Optimal\n"
     ]
    }
   ],
   "source": [
    "# Solve the model\n",
    "model.solve()\n",
    "print(\"Status:\", LpStatus[model.status])"
   ]
  },
  {
   "cell_type": "code",
   "execution_count": 21,
   "id": "091b6294",
   "metadata": {},
   "outputs": [
    {
     "name": "stdout",
     "output_type": "stream",
     "text": [
      "Total Distance:  33.875942274546034\n"
     ]
    }
   ],
   "source": [
    "# Total Distance\n",
    "total_distance = pulp.value(model.objective)\n",
    "print(\"Total Distance: \" , total_distance)"
   ]
  },
  {
   "cell_type": "code",
   "execution_count": 45,
   "id": "ab0f5666",
   "metadata": {},
   "outputs": [
    {
     "name": "stdout",
     "output_type": "stream",
     "text": [
      "step:0\n",
      "\n",
      "TRAVEL FROM Downtown Toronto (Rosedale)  TO Downtown Toronto (Central Bay Street)\n",
      "step:1\n",
      "\n",
      "TRAVEL FROM Downtown Toronto (Central Bay Street)  TO Downtown Toronto (Richmond / Adelaide / King)\n",
      "step:2\n",
      "\n",
      "TRAVEL FROM Downtown Toronto (Richmond / Adelaide / King)  TO Downtown Toronto (Underground city)\n",
      "step:3\n",
      "\n",
      "TRAVEL FROM Downtown Toronto (Underground city)  TO Downtown Toronto (St. James Town / Cabbagetown)\n",
      "step:4\n",
      "\n",
      "TRAVEL FROM Downtown Toronto (St. James Town / Cabbagetown)  TO York (Cedarvale)\n",
      "step:5\n",
      "\n",
      "TRAVEL FROM York (Cedarvale)  TO Central Toronto (The Annex / North Midtown / Yorkville)\n",
      "step:6\n",
      "\n",
      "TRAVEL FROM Central Toronto (The Annex / North Midtown / Yorkville)  TO Etobicoke Northwest (Clairville / Humberwood / Woodbine Downs / West Humber / Kipling Heights / Rexdale / Elms / Tandridge / Old Rexdale)\n",
      "step:7\n",
      "\n",
      "TRAVEL FROM Etobicoke Northwest (Clairville / Humberwood / Woodbine Downs / West Humber / Kipling Heights / Rexdale / Elms / Tandridge / Old Rexdale)  TO Etobicoke (South Steeles / Silverstone / Humbergate / Jamestown / Mount Olive / Beaumond Heights / Thistletown / Albion Gardens)\n"
     ]
    }
   ],
   "source": [
    "# Print the results\n",
    "path=[]\n",
    "for t in num_stops:\n",
    "    print(f'step:{t}\\n')\n",
    "    for i in start_locations:\n",
    "         for j in end_locations:\n",
    "                if (xVar[(i,j,t)].varValue == 1) :\n",
    "                    print(f\"TRAVEL FROM {i}  TO {j}\")\n",
    "                    \n",
    "                    if i not in path:\n",
    "                        path.append(i)\n",
    "                    if j not in path:\n",
    "                        path.append(j)"
   ]
  },
  {
   "cell_type": "code",
   "execution_count": null,
   "id": "43a5c608",
   "metadata": {},
   "outputs": [],
   "source": []
  }
 ],
 "metadata": {
  "kernelspec": {
   "display_name": "Python 3 (ipykernel)",
   "language": "python",
   "name": "python3"
  },
  "language_info": {
   "codemirror_mode": {
    "name": "ipython",
    "version": 3
   },
   "file_extension": ".py",
   "mimetype": "text/x-python",
   "name": "python",
   "nbconvert_exporter": "python",
   "pygments_lexer": "ipython3",
   "version": "3.9.12"
  }
 },
 "nbformat": 4,
 "nbformat_minor": 5
}
