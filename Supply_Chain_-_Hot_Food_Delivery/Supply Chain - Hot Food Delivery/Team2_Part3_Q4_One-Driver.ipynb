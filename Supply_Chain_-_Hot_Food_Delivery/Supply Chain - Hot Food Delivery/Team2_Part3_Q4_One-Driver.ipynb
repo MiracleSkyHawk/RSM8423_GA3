{
 "cells": [
  {
   "cell_type": "code",
   "execution_count": 1,
   "id": "3737dc8b",
   "metadata": {},
   "outputs": [
    {
     "name": "stdout",
     "output_type": "stream",
     "text": [
      "Requirement already satisfied: pulp in /Users/bcchochoao/opt/anaconda3/lib/python3.8/site-packages (2.6.0)\r\n"
     ]
    }
   ],
   "source": [
    "!pip install pulp\n",
    "import pandas as pd\n",
    "import pulp\n",
    "import numpy as np\n",
    "import datetime\n",
    "import matplotlib.pyplot as plt "
   ]
  },
  {
   "cell_type": "code",
   "execution_count": 2,
   "id": "db5bb289",
   "metadata": {},
   "outputs": [],
   "source": [
    "df_distance = pd.read_csv(\"distances.csv\")\n",
    "df_drivers_full = pd.read_csv(\"part3_drivers.csv\")\n",
    "df_3 = pd.read_csv(\"part3_small.csv\")\n",
    "\n",
    "start_time = pd.to_datetime('2022-04-02 17:00:00')\n",
    "W = 30\n",
    "W_range = range(0, 50, 5)"
   ]
  },
  {
   "cell_type": "markdown",
   "id": "c544faef",
   "metadata": {},
   "source": [
    "## Only one driver"
   ]
  },
  {
   "cell_type": "code",
   "execution_count": 3,
   "id": "76874336",
   "metadata": {},
   "outputs": [
    {
     "data": {
      "text/html": [
       "<div>\n",
       "<style scoped>\n",
       "    .dataframe tbody tr th:only-of-type {\n",
       "        vertical-align: middle;\n",
       "    }\n",
       "\n",
       "    .dataframe tbody tr th {\n",
       "        vertical-align: top;\n",
       "    }\n",
       "\n",
       "    .dataframe thead th {\n",
       "        text-align: right;\n",
       "    }\n",
       "</style>\n",
       "<table border=\"1\" class=\"dataframe\">\n",
       "  <thead>\n",
       "    <tr style=\"text-align: right;\">\n",
       "      <th></th>\n",
       "      <th>start region</th>\n",
       "      <th>velocity</th>\n",
       "    </tr>\n",
       "  </thead>\n",
       "  <tbody>\n",
       "    <tr>\n",
       "      <th>0</th>\n",
       "      <td>Downtown Toronto (Richmond / Adelaide / King)</td>\n",
       "      <td>40</td>\n",
       "    </tr>\n",
       "    <tr>\n",
       "      <th>1</th>\n",
       "      <td>Downtown Toronto (St. James Park)</td>\n",
       "      <td>35</td>\n",
       "    </tr>\n",
       "    <tr>\n",
       "      <th>2</th>\n",
       "      <td>Downtown Toronto (Church and Wellesley)</td>\n",
       "      <td>32</td>\n",
       "    </tr>\n",
       "  </tbody>\n",
       "</table>\n",
       "</div>"
      ],
      "text/plain": [
       "                                    start region  velocity\n",
       "0  Downtown Toronto (Richmond / Adelaide / King)        40\n",
       "1              Downtown Toronto (St. James Park)        35\n",
       "2        Downtown Toronto (Church and Wellesley)        32"
      ]
     },
     "execution_count": 3,
     "metadata": {},
     "output_type": "execute_result"
    }
   ],
   "source": [
    "df_drivers_full "
   ]
  },
  {
   "cell_type": "code",
   "execution_count": 4,
   "id": "f2a9e8be",
   "metadata": {},
   "outputs": [],
   "source": [
    "df_drivers = df_drivers_full.loc[[0],:]"
   ]
  },
  {
   "cell_type": "code",
   "execution_count": 5,
   "id": "029a82be",
   "metadata": {},
   "outputs": [
    {
     "data": {
      "text/html": [
       "<div>\n",
       "<style scoped>\n",
       "    .dataframe tbody tr th:only-of-type {\n",
       "        vertical-align: middle;\n",
       "    }\n",
       "\n",
       "    .dataframe tbody tr th {\n",
       "        vertical-align: top;\n",
       "    }\n",
       "\n",
       "    .dataframe thead th {\n",
       "        text-align: right;\n",
       "    }\n",
       "</style>\n",
       "<table border=\"1\" class=\"dataframe\">\n",
       "  <thead>\n",
       "    <tr style=\"text-align: right;\">\n",
       "      <th></th>\n",
       "      <th>start region</th>\n",
       "      <th>velocity</th>\n",
       "    </tr>\n",
       "  </thead>\n",
       "  <tbody>\n",
       "    <tr>\n",
       "      <th>0</th>\n",
       "      <td>Downtown Toronto (Richmond / Adelaide / King)</td>\n",
       "      <td>40</td>\n",
       "    </tr>\n",
       "  </tbody>\n",
       "</table>\n",
       "</div>"
      ],
      "text/plain": [
       "                                    start region  velocity\n",
       "0  Downtown Toronto (Richmond / Adelaide / King)        40"
      ]
     },
     "execution_count": 5,
     "metadata": {},
     "output_type": "execute_result"
    }
   ],
   "source": [
    "df_drivers"
   ]
  },
  {
   "cell_type": "code",
   "execution_count": 6,
   "id": "d67245f4",
   "metadata": {},
   "outputs": [
    {
     "data": {
      "text/html": [
       "<div>\n",
       "<style scoped>\n",
       "    .dataframe tbody tr th:only-of-type {\n",
       "        vertical-align: middle;\n",
       "    }\n",
       "\n",
       "    .dataframe tbody tr th {\n",
       "        vertical-align: top;\n",
       "    }\n",
       "\n",
       "    .dataframe thead th {\n",
       "        text-align: right;\n",
       "    }\n",
       "</style>\n",
       "<table border=\"1\" class=\"dataframe\">\n",
       "  <thead>\n",
       "    <tr style=\"text-align: right;\">\n",
       "      <th></th>\n",
       "      <th>restaurant</th>\n",
       "      <th>customer</th>\n",
       "      <th>estimated availability</th>\n",
       "    </tr>\n",
       "  </thead>\n",
       "  <tbody>\n",
       "    <tr>\n",
       "      <th>0</th>\n",
       "      <td>Downtown Toronto (Central Bay Street)</td>\n",
       "      <td>North York (Armour Heights / Wilson Heights / ...</td>\n",
       "      <td>2022-04-02 5:17 PM</td>\n",
       "    </tr>\n",
       "    <tr>\n",
       "      <th>1</th>\n",
       "      <td>Downtown Toronto (Christie)</td>\n",
       "      <td>West Toronto (Brockton / Parkdale Village / Ex...</td>\n",
       "      <td>2022-04-02 5:49 PM</td>\n",
       "    </tr>\n",
       "    <tr>\n",
       "      <th>2</th>\n",
       "      <td>Downtown Toronto (Ryerson)</td>\n",
       "      <td>York (Fairbank / Oakwood)</td>\n",
       "      <td>2022-04-02 6:17 PM</td>\n",
       "    </tr>\n",
       "    <tr>\n",
       "      <th>3</th>\n",
       "      <td>Downtown Toronto (St. James Park)</td>\n",
       "      <td>East Toronto (The Beaches)</td>\n",
       "      <td>2022-04-02 5:53 PM</td>\n",
       "    </tr>\n",
       "    <tr>\n",
       "      <th>4</th>\n",
       "      <td>Downtown Toronto (Kensington Market / Chinatow...</td>\n",
       "      <td>Downtown Toronto (Central Bay Street)</td>\n",
       "      <td>2022-04-02 5:24 PM</td>\n",
       "    </tr>\n",
       "  </tbody>\n",
       "</table>\n",
       "</div>"
      ],
      "text/plain": [
       "                                          restaurant  \\\n",
       "0              Downtown Toronto (Central Bay Street)   \n",
       "1                        Downtown Toronto (Christie)   \n",
       "2                         Downtown Toronto (Ryerson)   \n",
       "3                  Downtown Toronto (St. James Park)   \n",
       "4  Downtown Toronto (Kensington Market / Chinatow...   \n",
       "\n",
       "                                            customer estimated availability  \n",
       "0  North York (Armour Heights / Wilson Heights / ...     2022-04-02 5:17 PM  \n",
       "1  West Toronto (Brockton / Parkdale Village / Ex...     2022-04-02 5:49 PM  \n",
       "2                          York (Fairbank / Oakwood)     2022-04-02 6:17 PM  \n",
       "3                         East Toronto (The Beaches)     2022-04-02 5:53 PM  \n",
       "4              Downtown Toronto (Central Bay Street)     2022-04-02 5:24 PM  "
      ]
     },
     "execution_count": 6,
     "metadata": {},
     "output_type": "execute_result"
    }
   ],
   "source": [
    "df_3"
   ]
  },
  {
   "cell_type": "markdown",
   "id": "32dd7d30",
   "metadata": {},
   "source": [
    "## Sets"
   ]
  },
  {
   "cell_type": "code",
   "execution_count": 7,
   "id": "38308444",
   "metadata": {},
   "outputs": [
    {
     "data": {
      "text/plain": [
       "[0]"
      ]
     },
     "execution_count": 7,
     "metadata": {},
     "output_type": "execute_result"
    }
   ],
   "source": [
    "vehicle = [0 ]\n",
    "vehicle"
   ]
  },
  {
   "cell_type": "code",
   "execution_count": 8,
   "id": "06cc465c",
   "metadata": {},
   "outputs": [
    {
     "data": {
      "text/plain": [
       "['Downtown Toronto (Richmond / Adelaide / King)']"
      ]
     },
     "execution_count": 8,
     "metadata": {},
     "output_type": "execute_result"
    }
   ],
   "source": [
    "start_region = []\n",
    "for v in vehicle:\n",
    "    start_region.append(df_drivers[\"start region\"][v])\n",
    "start_region"
   ]
  },
  {
   "cell_type": "code",
   "execution_count": 9,
   "id": "d9773599",
   "metadata": {},
   "outputs": [
    {
     "data": {
      "text/plain": [
       "['Downtown Toronto (Central Bay Street)',\n",
       " 'Downtown Toronto (Christie)',\n",
       " 'Downtown Toronto (Ryerson)',\n",
       " 'Downtown Toronto (St. James Park)',\n",
       " 'Downtown Toronto (Kensington Market / Chinatown / Grange Park)']"
      ]
     },
     "execution_count": 9,
     "metadata": {},
     "output_type": "execute_result"
    }
   ],
   "source": [
    "restaurant = df_3[\"restaurant\"].unique().tolist()\n",
    "restaurant"
   ]
  },
  {
   "cell_type": "code",
   "execution_count": 10,
   "id": "4bd90f8d",
   "metadata": {},
   "outputs": [
    {
     "data": {
      "text/plain": [
       "['North York (Armour Heights / Wilson Heights / Downsview North)',\n",
       " 'West Toronto (Brockton / Parkdale Village / Exhibition Place)',\n",
       " 'York (Fairbank / Oakwood)',\n",
       " 'East Toronto (The Beaches)',\n",
       " 'Downtown Toronto (Central Bay Street)']"
      ]
     },
     "execution_count": 10,
     "metadata": {},
     "output_type": "execute_result"
    }
   ],
   "source": [
    "customer = df_3[\"customer\"].unique().tolist()\n",
    "customer"
   ]
  },
  {
   "cell_type": "code",
   "execution_count": 11,
   "id": "0958e8aa",
   "metadata": {
    "scrolled": true
   },
   "outputs": [
    {
     "data": {
      "text/plain": [
       "{0: 'Downtown Toronto (Richmond / Adelaide / King)',\n",
       " 1: 'Downtown Toronto (Central Bay Street)',\n",
       " 2: 'Downtown Toronto (Christie)',\n",
       " 3: 'Downtown Toronto (Ryerson)',\n",
       " 4: 'Downtown Toronto (St. James Park)',\n",
       " 5: 'Downtown Toronto (Kensington Market / Chinatown / Grange Park)',\n",
       " 6: 'North York (Armour Heights / Wilson Heights / Downsview North)',\n",
       " 7: 'West Toronto (Brockton / Parkdale Village / Exhibition Place)',\n",
       " 8: 'York (Fairbank / Oakwood)',\n",
       " 9: 'East Toronto (The Beaches)',\n",
       " 10: 'Downtown Toronto (Central Bay Street)'}"
      ]
     },
     "execution_count": 11,
     "metadata": {},
     "output_type": "execute_result"
    }
   ],
   "source": [
    "loc_index = {}\n",
    "locations = start_region + restaurant + customer\n",
    "\n",
    "for i, location in enumerate(locations):\n",
    "    loc_index[i] = location\n",
    "loc_index"
   ]
  },
  {
   "cell_type": "code",
   "execution_count": 12,
   "id": "7d780985",
   "metadata": {},
   "outputs": [
    {
     "data": {
      "text/plain": [
       "[0, 1, 2, 3, 4, 5, 6, 7, 8, 9, 10]"
      ]
     },
     "execution_count": 12,
     "metadata": {},
     "output_type": "execute_result"
    }
   ],
   "source": [
    "start = np.arange(0, len(loc_index)).tolist()\n",
    "start"
   ]
  },
  {
   "cell_type": "code",
   "execution_count": 13,
   "id": "14e73d38",
   "metadata": {},
   "outputs": [
    {
     "data": {
      "text/plain": [
       "[1, 2, 3, 4, 5, 6, 7, 8, 9, 10]"
      ]
     },
     "execution_count": 13,
     "metadata": {},
     "output_type": "execute_result"
    }
   ],
   "source": [
    "end = start[len(start_region):]\n",
    "end"
   ]
  },
  {
   "cell_type": "code",
   "execution_count": 14,
   "id": "70906b82",
   "metadata": {},
   "outputs": [
    {
     "data": {
      "text/plain": [
       "[0]"
      ]
     },
     "execution_count": 14,
     "metadata": {},
     "output_type": "execute_result"
    }
   ],
   "source": [
    "start_regions = start[:len(start_region)]\n",
    "start_regions"
   ]
  },
  {
   "cell_type": "code",
   "execution_count": 15,
   "id": "328cb27b",
   "metadata": {},
   "outputs": [
    {
     "data": {
      "text/plain": [
       "[1, 2, 3, 4, 5]"
      ]
     },
     "execution_count": 15,
     "metadata": {},
     "output_type": "execute_result"
    }
   ],
   "source": [
    "restaurants = start[len(start_region):-len(customer)]\n",
    "restaurants"
   ]
  },
  {
   "cell_type": "code",
   "execution_count": 16,
   "id": "f1508ee2",
   "metadata": {},
   "outputs": [
    {
     "data": {
      "text/plain": [
       "[6, 7, 8, 9, 10]"
      ]
     },
     "execution_count": 16,
     "metadata": {},
     "output_type": "execute_result"
    }
   ],
   "source": [
    "customers = start[-len(customer):]\n",
    "customers"
   ]
  },
  {
   "cell_type": "code",
   "execution_count": 17,
   "id": "1041f2a9",
   "metadata": {},
   "outputs": [
    {
     "data": {
      "text/plain": [
       "[0, 1, 2, 3, 4, 5, 6, 7, 8, 9, 10]"
      ]
     },
     "execution_count": 17,
     "metadata": {},
     "output_type": "execute_result"
    }
   ],
   "source": [
    "step = np.arange(0, len(locations)).tolist()\n",
    "step"
   ]
  },
  {
   "cell_type": "code",
   "execution_count": 18,
   "id": "c50ec824",
   "metadata": {},
   "outputs": [
    {
     "name": "stdout",
     "output_type": "stream",
     "text": [
      "[['Downtown Toronto (Central Bay Street)', 'North York (Armour Heights / Wilson Heights / Downsview North)'], ['Downtown Toronto (Christie)', 'West Toronto (Brockton / Parkdale Village / Exhibition Place)'], ['Downtown Toronto (Ryerson)', 'York (Fairbank / Oakwood)'], ['Downtown Toronto (St. James Park)', 'East Toronto (The Beaches)'], ['Downtown Toronto (Kensington Market / Chinatown / Grange Park)', 'Downtown Toronto (Central Bay Street)']]\n"
     ]
    }
   ],
   "source": [
    "list_order = []\n",
    "for index, row in df_3.iterrows():\n",
    "    list_order.append([row[\"restaurant\"], row[\"customer\"]])\n",
    "print(list_order)"
   ]
  },
  {
   "cell_type": "markdown",
   "id": "cb190890",
   "metadata": {},
   "source": [
    "## Parameters"
   ]
  },
  {
   "cell_type": "code",
   "execution_count": 19,
   "id": "be0c1b01",
   "metadata": {},
   "outputs": [],
   "source": [
    "restaurant_index = {}\n",
    "for key in restaurants:\n",
    "    for value in restaurant:\n",
    "        restaurant_index[key] = value\n",
    "        restaurant.remove(value)\n",
    "        break  "
   ]
  },
  {
   "cell_type": "code",
   "execution_count": 20,
   "id": "2eecb8c4",
   "metadata": {},
   "outputs": [
    {
     "data": {
      "text/plain": [
       "{1: 'Downtown Toronto (Central Bay Street)',\n",
       " 2: 'Downtown Toronto (Christie)',\n",
       " 3: 'Downtown Toronto (Ryerson)',\n",
       " 4: 'Downtown Toronto (St. James Park)',\n",
       " 5: 'Downtown Toronto (Kensington Market / Chinatown / Grange Park)'}"
      ]
     },
     "execution_count": 20,
     "metadata": {},
     "output_type": "execute_result"
    }
   ],
   "source": [
    "restaurant_index"
   ]
  },
  {
   "cell_type": "code",
   "execution_count": 21,
   "id": "6e282e0a",
   "metadata": {},
   "outputs": [],
   "source": [
    "customer_index = {}\n",
    "for key in customers:\n",
    "    for value in customer:\n",
    "        customer_index[key] = value\n",
    "        customer.remove(value)\n",
    "        break  "
   ]
  },
  {
   "cell_type": "code",
   "execution_count": 22,
   "id": "9282ae38",
   "metadata": {},
   "outputs": [
    {
     "data": {
      "text/plain": [
       "{1: 'Downtown Toronto (Central Bay Street)',\n",
       " 2: 'Downtown Toronto (Christie)',\n",
       " 3: 'Downtown Toronto (Ryerson)',\n",
       " 4: 'Downtown Toronto (St. James Park)',\n",
       " 5: 'Downtown Toronto (Kensington Market / Chinatown / Grange Park)'}"
      ]
     },
     "execution_count": 22,
     "metadata": {},
     "output_type": "execute_result"
    }
   ],
   "source": [
    "restaurant_index"
   ]
  },
  {
   "cell_type": "code",
   "execution_count": 23,
   "id": "342d793a",
   "metadata": {},
   "outputs": [],
   "source": [
    "location_distance = {}\n",
    "for i in start:\n",
    "    for j in end: \n",
    "        if loc_index[i] == loc_index[j]:\n",
    "            location_distance[(i,j)] = 0 \n",
    "        else:\n",
    "            location_distance[(i,j)] = df_distance[(df_distance[\"origin\"] == loc_index[i]) &(df_distance[\"destination\"] == loc_index[j])][\"distance\"].item()\n",
    "            "
   ]
  },
  {
   "cell_type": "code",
   "execution_count": 24,
   "id": "4974e2de",
   "metadata": {},
   "outputs": [
    {
     "data": {
      "text/plain": [
       "{1: 17.0, 2: 49.0, 3: 77.0, 4: 53.0, 5: 24.0, 6: 0, 7: 0, 8: 0, 9: 0, 10: 0}"
      ]
     },
     "execution_count": 24,
     "metadata": {},
     "output_type": "execute_result"
    }
   ],
   "source": [
    "\n",
    "min_arrival_time_mins = {}\n",
    "for j in end:\n",
    "    if j in restaurants:\n",
    "        delta = pd.to_datetime(df_3.loc[df_3[\"restaurant\"] == loc_index[j]][\"estimated availability\"].tolist()[0]) - start_time\n",
    "        min_arrival_time_mins[j] = delta/datetime.timedelta(minutes=1)\n",
    "    if j in customers: \n",
    "        min_arrival_time_mins[j] = 0 \n",
    "min_arrival_time_mins\n",
    "#0,1,2 are start regions"
   ]
  },
  {
   "cell_type": "code",
   "execution_count": 25,
   "id": "d8c5bd7b",
   "metadata": {},
   "outputs": [
    {
     "data": {
      "text/plain": [
       "{0: 'Downtown Toronto (Richmond / Adelaide / King)'}"
      ]
     },
     "execution_count": 25,
     "metadata": {},
     "output_type": "execute_result"
    }
   ],
   "source": [
    "drivers_start = {}\n",
    "for v in vehicle:\n",
    "    drivers_start[v] = df_drivers.iloc[v][0]\n",
    "drivers_start"
   ]
  },
  {
   "cell_type": "code",
   "execution_count": 26,
   "id": "2f273ddc",
   "metadata": {},
   "outputs": [
    {
     "data": {
      "text/plain": [
       "{0: 1.5}"
      ]
     },
     "execution_count": 26,
     "metadata": {},
     "output_type": "execute_result"
    }
   ],
   "source": [
    "drivers_velocity = {}\n",
    "for v in vehicle:\n",
    "    drivers_velocity[v] = 60 /df_drivers.iloc[v][1] # convert to minutes / km \n",
    "drivers_velocity  "
   ]
  },
  {
   "cell_type": "code",
   "execution_count": 27,
   "id": "24c87abb",
   "metadata": {},
   "outputs": [],
   "source": [
    "#Calculate travel time for each distance between i and j\n",
    "wait_time = 5\n",
    "\n",
    "travel_time = {}\n",
    "for i in start:\n",
    "    for j in end:\n",
    "        for v in vehicle:\n",
    "            if i == j:\n",
    "                travel_time[(i,j,v)] = 0 \n",
    "            else: \n",
    "                if i in customers:\n",
    "                    travel_time[(i,j,v)] = location_distance[(i,j)]*drivers_velocity[v] + wait_time\n",
    "                else:\n",
    "                    travel_time[(i,j,v)] = location_distance[(i,j)]*drivers_velocity[v] "
   ]
  },
  {
   "cell_type": "markdown",
   "id": "d87b5783",
   "metadata": {},
   "source": [
    "### Variables"
   ]
  },
  {
   "cell_type": "code",
   "execution_count": 28,
   "id": "81371dee",
   "metadata": {},
   "outputs": [],
   "source": [
    "xvar = pulp.LpVariable.dict(\"x\", (start, end, vehicle, step), cat=pulp.LpBinary)\n",
    "dvar = pulp.LpVariable.dict(\"d\", (vehicle, step), lowBound=0.0, cat=pulp.LpContinuous)\n",
    "wvar = pulp.LpVariable.dict(\"w\", (end, vehicle, step), lowBound=0.0, cat=pulp.LpContinuous)\n",
    "zvar = pulp.LpVariable.dict(\"z\", (vehicle, step), lowBound=0.0, cat=pulp.LpContinuous)"
   ]
  },
  {
   "cell_type": "code",
   "execution_count": 29,
   "id": "41091498",
   "metadata": {},
   "outputs": [
    {
     "data": {
      "text/plain": [
       "{0: 'Downtown Toronto (Richmond / Adelaide / King)'}"
      ]
     },
     "execution_count": 29,
     "metadata": {},
     "output_type": "execute_result"
    }
   ],
   "source": [
    "drivers_start"
   ]
  },
  {
   "cell_type": "code",
   "execution_count": 30,
   "id": "2a10bfe3",
   "metadata": {},
   "outputs": [
    {
     "data": {
      "text/plain": [
       "0"
      ]
     },
     "execution_count": 30,
     "metadata": {},
     "output_type": "execute_result"
    }
   ],
   "source": [
    "def get_key_from_driver_start(val):\n",
    "    for key, value in drivers_start.items():\n",
    "         if val == value:\n",
    "                return key           \n",
    "get_key_from_driver_start(drivers_start[0])"
   ]
  },
  {
   "cell_type": "code",
   "execution_count": 31,
   "id": "af608e65",
   "metadata": {},
   "outputs": [
    {
     "name": "stdout",
     "output_type": "stream",
     "text": [
      "Downtown Toronto (Richmond / Adelaide / King)\n"
     ]
    }
   ],
   "source": [
    "for v in vehicle:\n",
    "    print(drivers_start[v])\n",
    "    "
   ]
  },
  {
   "cell_type": "markdown",
   "id": "42b9d882",
   "metadata": {},
   "source": [
    "### Model & Constraints"
   ]
  },
  {
   "cell_type": "code",
   "execution_count": 32,
   "id": "4900eeef",
   "metadata": {},
   "outputs": [],
   "source": [
    "flowmodel = pulp.LpProblem(name = \"FlowModel\", sense = pulp.LpMinimize)\n",
    "\n",
    "# Constraint 1: every location visited once by one vehicle\n",
    "for j in end: \n",
    "    flowmodel += pulp.lpSum([xvar[(i,j,v,t)] for i in start for v in vehicle for t in step]) == 1\n",
    "\n",
    "# #Constraint 2: Force every vehicle takes at least one order:\n",
    "# for v in vehicle:\n",
    "#     flowmodel += pulp.lpSum([xvar[i,j,v,t]] for i in start for j in end for t in step) >= 1\n",
    "\n",
    "# Constraint 3: Conservation of flow\n",
    "for v in vehicle:  \n",
    "    for t in step[:-1]:\n",
    "        for j in end:\n",
    "            flowmodel += (pulp.lpSum([xvar[(i,j,v,t)] for i in start]) >= pulp.lpSum([xvar[(j,k,v,t+1)] for k in end]))\n",
    "\n",
    "# Constraint 4: Each driver starts at their own region and has an outflow of 1 in the first step, others are zero\n",
    "for v in vehicle:\n",
    "    flowmodel += pulp.lpSum(xvar[(v,j,v,0)] for j in end) == 1\n",
    "    flowmodel += pulp.lpSum(xvar[(j,j,v,0)] for j in end) == 0\n",
    "    # each driver only starts from their starting region once\n",
    "    flowmodel += pulp.lpSum(xvar[(v,j,v,t)] for j in end for t in step[1:]) == 0\n",
    "    # each driver cannot start from other locations\n",
    "    vehicle_copy = vehicle.copy()\n",
    "    vehicle_copy.remove(v)\n",
    "    flowmodel += pulp.lpSum(xvar[(a,j,v,t)] for a in vehicle_copy for j in end for t in step[1:]) == 0\n",
    "\n",
    "        \n",
    "# Constraint 5: for each vehicle at each time step, there should be only 1 xvar <= 1 (=0 if nothing happened within this time block)\n",
    "for v in vehicle:\n",
    "    for t in step:\n",
    "        flowmodel += pulp.lpSum(xvar[(i,j,v,t)] for i in start for j in end) <= 1\n",
    "        \n",
    "# Constraint 6: make sure driver goes to a restaurant before delivering the food\n",
    "def get_key_from_restaurant(val):\n",
    "    for key, value in restaurant_index.items():\n",
    "         if val == value:\n",
    "                return key\n",
    "            \n",
    "def get_key_from_customer(val):\n",
    "    for key, value in customer_index.items():\n",
    "         if val == value:\n",
    "                return key\n",
    "    \n",
    "def find_restaurant_of_customer(customer):\n",
    "    for order in list_order:\n",
    "        if customer == get_key_from_customer(order[1]):\n",
    "            return get_key_from_restaurant(order[0])\n",
    "        \n",
    "for t in step: \n",
    "    for v in vehicle:\n",
    "        for j in end: \n",
    "            if j in customers: \n",
    "                flowmodel += pulp.lpSum( [xvar[i,j,v,t] for i in start]) <= pulp.lpSum([xvar[i, find_restaurant_of_customer(j),v, t_] for i in start for t_ in step[:t]])\n",
    "\n",
    "# # Constraint 7: Time to arrive at the location of the t-th step\n",
    "for v in vehicle:\n",
    "    for t in step:\n",
    "        if t == 0: \n",
    "            flowmodel += dvar[v,t] >= pulp.lpSum([ xvar[(i,j,v,0)] * min_arrival_time_mins[j] for i in start for j in end])\n",
    "            flowmodel += dvar[v,t] >= pulp.lpSum([ xvar[(i,j,v,t)] * travel_time[(i,j,v)] for i in start for j in end])\n",
    "        else:\n",
    "            flowmodel += dvar[v,t] >= (dvar[v,t-1] + pulp.lpSum([ xvar[(i,j,v,t)] * travel_time[(i,j,v)] for i in start for j in end]))      \n",
    "\n",
    "# # Constraint 8: if arriving at location j, ensures time is at least the min_arrival_time_mins\n",
    "for t in step:\n",
    "    for i in start:\n",
    "        for j in end:\n",
    "            for v in vehicle:\n",
    "                flowmodel += dvar[v,t] >= min_arrival_time_mins[j] * xvar[i,j,v,t]\n",
    "\n",
    "\n",
    "# Constraint 9: ensures the average waiting time of the orders is lower than the maximum W\n",
    "# implementation idea: \n",
    "#         flowmodel += pulp.lpSum([wvar[j,t] * xvar[i,j,t] for i in start]) <= W\n",
    "# use zvar[t] with big Constant M to denote wvar[j,t] * xvar[i,j,t] as two decision variables cannot be multiplied together\n",
    "# zvar[t] is the total waiting time up until the step t\n",
    "# Constraint: define waiting time of each order at step t: wvar[j,t]\n",
    "\n",
    "for v in vehicle:\n",
    "    for t in step:\n",
    "        for j in end:\n",
    "            if j in restaurants:\n",
    "                flowmodel += wvar[(j,v,t)]  == 0\n",
    "            else:\n",
    "                flowmodel += wvar[(j,v,t)] == dvar[v,t] - pulp.lpSum([ min_arrival_time_mins[find_restaurant_of_customer(j)] * xvar[(i,j,v,t)] for i in start])\n",
    "\n",
    "\n",
    "M = 100000\n",
    "for t in step:\n",
    "    for i in start:\n",
    "        for j in end:\n",
    "            for v in vehicle:\n",
    "                if t == 0:\n",
    "                    flowmodel += zvar[v,t] == 0 \n",
    "                elif t == 1:\n",
    "                    flowmodel += zvar[v,t] >= wvar[j,v,t] - M * (1 - xvar[(i,j,v,t)])\n",
    "                    flowmodel += zvar[v,t] <= wvar[j,v,t] + M * (1 - xvar[(i,j,v,t)])\n",
    "                else: \n",
    "                    flowmodel += zvar[v,t] >= zvar[v,t-1] + wvar[(j,v,t)] - M * (1 - xvar[(i,j,v,t)])\n",
    "                    flowmodel += zvar[v,t] <= zvar[v,t-1] + wvar[(j,v,t)] + M * (1 - xvar[(i,j,v,t)])\n",
    "\n",
    "                \n",
    "for t in step:\n",
    "    flowmodel += pulp.lpSum(zvar[v,t] for v in vehicle) <= W * len(customers)\n",
    " "
   ]
  },
  {
   "cell_type": "markdown",
   "id": "aac943c9",
   "metadata": {},
   "source": [
    "### Objective Functions"
   ]
  },
  {
   "cell_type": "code",
   "execution_count": 33,
   "id": "a4faa866",
   "metadata": {},
   "outputs": [],
   "source": [
    "obj = pulp.lpSum([location_distance[(i,j)] * xvar[(i,j,v,t)] for i in start for j in end for v in vehicle for t in step])\n",
    "flowmodel += obj"
   ]
  },
  {
   "cell_type": "markdown",
   "id": "4079ee88",
   "metadata": {},
   "source": [
    "### Solution Process"
   ]
  },
  {
   "cell_type": "code",
   "execution_count": 34,
   "id": "fc5edeb5",
   "metadata": {},
   "outputs": [
    {
     "name": "stdout",
     "output_type": "stream",
     "text": [
      "Status: Optimal\n"
     ]
    }
   ],
   "source": [
    "flowmodel.solve()\n",
    "print(\"Status:\", pulp.LpStatus[flowmodel.status])"
   ]
  },
  {
   "cell_type": "code",
   "execution_count": 35,
   "id": "68973cc6",
   "metadata": {},
   "outputs": [
    {
     "name": "stdout",
     "output_type": "stream",
     "text": [
      "Total Distance: 51.06492929750579\n"
     ]
    }
   ],
   "source": [
    "# Total Distance\n",
    "totalDistance =pulp.value(flowmodel.objective)\n",
    "print(\"Total Distance: \" + str(totalDistance))"
   ]
  },
  {
   "cell_type": "code",
   "execution_count": 58,
   "id": "5f77e62b",
   "metadata": {
    "scrolled": true
   },
   "outputs": [
    {
     "name": "stdout",
     "output_type": "stream",
     "text": [
      "Step: 0\n",
      "Total travel time (in minutes) up to this step: 53.0\n",
      "\tVehicle: 0\n",
      "\tLeave from 0: Downtown Toronto (Richmond / Adelaide / King)\n",
      "\tTravel to 4: Downtown Toronto (St. James Park)\n",
      "\tWaiting time: 0.0\n",
      "\tTotal waiting time up to this step: 0.0\n",
      "Step: 1\n",
      "Total travel time (in minutes) up to this step: 63.822594\n",
      "\tVehicle: 0\n",
      "\tLeave from 4: Downtown Toronto (St. James Park)\n",
      "\tTravel to 9: East Toronto (The Beaches)\n",
      "\tWaiting time: 0.0\n",
      "\tTotal waiting time up to this step: 17.79745\n",
      "Step: 2\n",
      "Total travel time (in minutes) up to this step: 79.579157\n",
      "\tVehicle: 0\n",
      "\tLeave from 9: East Toronto (The Beaches)\n",
      "\tTravel to 3: Downtown Toronto (Ryerson)\n",
      "\tWaiting time: 0.0\n",
      "\tTotal waiting time up to this step: 17.79745\n",
      "Step: 3\n",
      "Total travel time (in minutes) up to this step: 81.988452\n",
      "\tVehicle: 0\n",
      "\tLeave from 3: Downtown Toronto (Ryerson)\n",
      "\tTravel to 5: Downtown Toronto (Kensington Market / Chinatown / Grange Park)\n",
      "\tWaiting time: 0.0\n",
      "\tTotal waiting time up to this step: 28.301808\n",
      "Step: 4\n",
      "Total travel time (in minutes) up to this step: 83.463193\n",
      "\tVehicle: 0\n",
      "\tLeave from 5: Downtown Toronto (Kensington Market / Chinatown / Grange Park)\n",
      "\tTravel to 1: Downtown Toronto (Central Bay Street)\n",
      "\tWaiting time: 0.0\n",
      "\tTotal waiting time up to this step: 28.301808\n",
      "Step: 5\n",
      "Total travel time (in minutes) up to this step: 83.463193\n",
      "\tVehicle: 0\n",
      "\tLeave from 1: Downtown Toronto (Central Bay Street)\n",
      "\tTravel to 10: Downtown Toronto (Central Bay Street)\n",
      "\tWaiting time: 0.0\n",
      "\tTotal waiting time up to this step: 74.986491\n",
      "Step: 6\n",
      "Total travel time (in minutes) up to this step: 93.07498\n",
      "\tVehicle: 0\n",
      "\tLeave from 10: Downtown Toronto (Central Bay Street)\n",
      "\tTravel to 2: Downtown Toronto (Christie)\n",
      "\tWaiting time: 0.0\n",
      "\tTotal waiting time up to this step: 74.986491\n",
      "Step: 7\n",
      "Total travel time (in minutes) up to this step: 98.211124\n",
      "\tVehicle: 0\n",
      "\tLeave from 2: Downtown Toronto (Christie)\n",
      "\tTravel to 7: West Toronto (Brockton / Parkdale Village / Exhibition Place)\n",
      "\tWaiting time: 0.0\n",
      "\tTotal waiting time up to this step: 74.986491\n",
      "Step: 8\n",
      "Total travel time (in minutes) up to this step: 112.00923\n",
      "\tVehicle: 0\n",
      "\tLeave from 7: West Toronto (Brockton / Parkdale Village / Exhibition Place)\n",
      "\tTravel to 8: York (Fairbank / Oakwood)\n",
      "\tWaiting time: 0.0\n",
      "\tTotal waiting time up to this step: 86.433955\n",
      "Step: 9\n",
      "Total travel time (in minutes) up to this step: 127.79229\n",
      "\tVehicle: 0\n",
      "\tLeave from 8: York (Fairbank / Oakwood)\n",
      "\tTravel to 6: North York (Armour Heights / Wilson Heights / Downsview North)\n",
      "\tWaiting time: 0.0\n",
      "\tTotal waiting time up to this step: 150.0\n",
      "Step: 10\n",
      "Total travel time (in minutes) up to this step: 127.79229\n",
      "Average waiting time: 30.0\n"
     ]
    }
   ],
   "source": [
    "# print solution  \n",
    "for t in step: \n",
    "    for v in vehicle:\n",
    "        print(\"Step: \" + str(t))\n",
    "        print(\"Total travel time (in minutes) up to this step: \" + str(dvar[v,t].varValue))\n",
    "    \n",
    "    for v in vehicle:\n",
    "        for i in start: \n",
    "            for j in end: \n",
    "\n",
    "                if xvar[(i,j,v,t)].varValue > 0.0:\n",
    "                    print(\"\\tVehicle: \" + str(v))\n",
    "                    print(\"\\tLeave from \" + str(i) + \": \" + str(loc_index.get(i)))\n",
    "                    print(\"\\tTravel to \" + str(j) + \": \" + str(loc_index.get(j)))\n",
    "\n",
    "                    print(\"\\tWaiting time: \" + str(wvar[(j,v,t)].varValue))\n",
    "                    print(\"\\tTotal waiting time up to this step: \" + str(zvar[v,t].varValue))\n",
    "\n",
    "print(\"Average waiting time: \" + str(total_waiting_time/len(customers)) )\n"
   ]
  },
  {
   "cell_type": "code",
   "execution_count": 37,
   "id": "98b3770f",
   "metadata": {},
   "outputs": [
    {
     "data": {
      "text/html": [
       "<div>\n",
       "<style scoped>\n",
       "    .dataframe tbody tr th:only-of-type {\n",
       "        vertical-align: middle;\n",
       "    }\n",
       "\n",
       "    .dataframe tbody tr th {\n",
       "        vertical-align: top;\n",
       "    }\n",
       "\n",
       "    .dataframe thead th {\n",
       "        text-align: right;\n",
       "    }\n",
       "</style>\n",
       "<table border=\"1\" class=\"dataframe\">\n",
       "  <thead>\n",
       "    <tr style=\"text-align: right;\">\n",
       "      <th></th>\n",
       "      <th>restaurant</th>\n",
       "      <th>customer</th>\n",
       "      <th>estimated availability</th>\n",
       "    </tr>\n",
       "  </thead>\n",
       "  <tbody>\n",
       "    <tr>\n",
       "      <th>0</th>\n",
       "      <td>Downtown Toronto (Central Bay Street)</td>\n",
       "      <td>North York (Armour Heights / Wilson Heights / ...</td>\n",
       "      <td>2022-04-02 5:17 PM</td>\n",
       "    </tr>\n",
       "    <tr>\n",
       "      <th>1</th>\n",
       "      <td>Downtown Toronto (Christie)</td>\n",
       "      <td>West Toronto (Brockton / Parkdale Village / Ex...</td>\n",
       "      <td>2022-04-02 5:49 PM</td>\n",
       "    </tr>\n",
       "    <tr>\n",
       "      <th>2</th>\n",
       "      <td>Downtown Toronto (Ryerson)</td>\n",
       "      <td>York (Fairbank / Oakwood)</td>\n",
       "      <td>2022-04-02 6:17 PM</td>\n",
       "    </tr>\n",
       "    <tr>\n",
       "      <th>3</th>\n",
       "      <td>Downtown Toronto (St. James Park)</td>\n",
       "      <td>East Toronto (The Beaches)</td>\n",
       "      <td>2022-04-02 5:53 PM</td>\n",
       "    </tr>\n",
       "    <tr>\n",
       "      <th>4</th>\n",
       "      <td>Downtown Toronto (Kensington Market / Chinatow...</td>\n",
       "      <td>Downtown Toronto (Central Bay Street)</td>\n",
       "      <td>2022-04-02 5:24 PM</td>\n",
       "    </tr>\n",
       "  </tbody>\n",
       "</table>\n",
       "</div>"
      ],
      "text/plain": [
       "                                          restaurant  \\\n",
       "0              Downtown Toronto (Central Bay Street)   \n",
       "1                        Downtown Toronto (Christie)   \n",
       "2                         Downtown Toronto (Ryerson)   \n",
       "3                  Downtown Toronto (St. James Park)   \n",
       "4  Downtown Toronto (Kensington Market / Chinatow...   \n",
       "\n",
       "                                            customer estimated availability  \n",
       "0  North York (Armour Heights / Wilson Heights / ...     2022-04-02 5:17 PM  \n",
       "1  West Toronto (Brockton / Parkdale Village / Ex...     2022-04-02 5:49 PM  \n",
       "2                          York (Fairbank / Oakwood)     2022-04-02 6:17 PM  \n",
       "3                         East Toronto (The Beaches)     2022-04-02 5:53 PM  \n",
       "4              Downtown Toronto (Central Bay Street)     2022-04-02 5:24 PM  "
      ]
     },
     "execution_count": 37,
     "metadata": {},
     "output_type": "execute_result"
    }
   ],
   "source": [
    "df_3"
   ]
  },
  {
   "cell_type": "code",
   "execution_count": null,
   "id": "cc9dd54d",
   "metadata": {},
   "outputs": [],
   "source": []
  },
  {
   "cell_type": "code",
   "execution_count": null,
   "id": "9f8eb0b4",
   "metadata": {},
   "outputs": [],
   "source": []
  },
  {
   "cell_type": "code",
   "execution_count": null,
   "id": "f93dd12a",
   "metadata": {},
   "outputs": [],
   "source": []
  },
  {
   "cell_type": "code",
   "execution_count": null,
   "id": "b31b879a",
   "metadata": {},
   "outputs": [],
   "source": []
  },
  {
   "cell_type": "code",
   "execution_count": null,
   "id": "501c9e92",
   "metadata": {},
   "outputs": [],
   "source": []
  },
  {
   "cell_type": "code",
   "execution_count": null,
   "id": "bf6dac8d",
   "metadata": {},
   "outputs": [],
   "source": []
  },
  {
   "cell_type": "code",
   "execution_count": null,
   "id": "a659b478",
   "metadata": {},
   "outputs": [],
   "source": []
  },
  {
   "cell_type": "code",
   "execution_count": null,
   "id": "c32aae9d",
   "metadata": {},
   "outputs": [],
   "source": []
  },
  {
   "cell_type": "code",
   "execution_count": null,
   "id": "11936dfd",
   "metadata": {},
   "outputs": [],
   "source": []
  }
 ],
 "metadata": {
  "kernelspec": {
   "display_name": "Python 3",
   "language": "python",
   "name": "python3"
  },
  "language_info": {
   "codemirror_mode": {
    "name": "ipython",
    "version": 3
   },
   "file_extension": ".py",
   "mimetype": "text/x-python",
   "name": "python",
   "nbconvert_exporter": "python",
   "pygments_lexer": "ipython3",
   "version": "3.8.8"
  }
 },
 "nbformat": 4,
 "nbformat_minor": 5
}
