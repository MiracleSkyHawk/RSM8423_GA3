{
 "cells": [
  {
   "cell_type": "code",
   "execution_count": null,
   "id": "ef7f78bf",
   "metadata": {},
   "outputs": [],
   "source": [
    "# pip install folium"
   ]
  },
  {
   "cell_type": "code",
   "execution_count": null,
   "id": "196cc0c5",
   "metadata": {},
   "outputs": [],
   "source": [
    "import pulp\n",
    "from pulp import *\n",
    "\n",
    "import numpy as np\n",
    "import pandas as pd\n",
    "\n",
    "import datetime\n",
    "import matplotlib.pyplot as plt"
   ]
  },
  {
   "cell_type": "code",
   "execution_count": null,
   "id": "8be96f2e",
   "metadata": {},
   "outputs": [],
   "source": [
    "from sklearn.cluster import KMeans"
   ]
  },
  {
   "cell_type": "code",
   "execution_count": null,
   "id": "a8c1bf63",
   "metadata": {},
   "outputs": [],
   "source": [
    "import folium\n",
    "import requests"
   ]
  },
  {
   "cell_type": "markdown",
   "id": "bbad3484",
   "metadata": {},
   "source": [
    "## Load Data"
   ]
  },
  {
   "cell_type": "code",
   "execution_count": null,
   "id": "e4f4122e",
   "metadata": {},
   "outputs": [],
   "source": [
    "file_path = 'CSV_Files_Food_Delivery/'"
   ]
  },
  {
   "cell_type": "code",
   "execution_count": null,
   "id": "5b196265",
   "metadata": {},
   "outputs": [],
   "source": [
    "df_distances = pd.read_csv(file_path + 'distances.csv')\n",
    "\n",
    "df_ordersA = pd.read_csv(file_path + 'part1_ordersA.csv')\n",
    "df_ordersB = pd.read_csv(file_path + 'part1_ordersB.csv')"
   ]
  },
  {
   "cell_type": "code",
   "execution_count": null,
   "id": "1c7400b4",
   "metadata": {},
   "outputs": [],
   "source": [
    "df_regions = pd.read_csv(file_path + 'regions.csv')"
   ]
  },
  {
   "cell_type": "code",
   "execution_count": null,
   "id": "b2eb7863",
   "metadata": {
    "scrolled": true
   },
   "outputs": [],
   "source": [
    "df_distances.head()"
   ]
  },
  {
   "cell_type": "code",
   "execution_count": null,
   "id": "c58b99c0",
   "metadata": {},
   "outputs": [],
   "source": [
    "df_ordersA"
   ]
  },
  {
   "cell_type": "code",
   "execution_count": null,
   "id": "16b0b8e6",
   "metadata": {},
   "outputs": [],
   "source": [
    "df_ordersB"
   ]
  },
  {
   "cell_type": "markdown",
   "id": "f642eaaf",
   "metadata": {},
   "source": [
    "# Part I"
   ]
  },
  {
   "cell_type": "markdown",
   "id": "9c4b0f19",
   "metadata": {},
   "source": [
    "## Sets"
   ]
  },
  {
   "cell_type": "code",
   "execution_count": null,
   "id": "32d497bc",
   "metadata": {},
   "outputs": [],
   "source": [
    "starting_location = 'Downtown Toronto (Rosedale)'"
   ]
  },
  {
   "cell_type": "code",
   "execution_count": null,
   "id": "ca392c2b",
   "metadata": {},
   "outputs": [],
   "source": [
    "df = df_ordersB"
   ]
  },
  {
   "cell_type": "code",
   "execution_count": null,
   "id": "4f022e95",
   "metadata": {},
   "outputs": [],
   "source": [
    "# Get start and end locations\n",
    "start_locations = list(df['restaurant'].unique()) + list(df['customer'].unique())\n",
    "end_locations = start_locations.copy()\n",
    "\n",
    "start_locations = list(dict.fromkeys(start_locations))\n",
    "end_locations = list(dict.fromkeys(end_locations))\n",
    "\n",
    "if starting_location in start_locations:\n",
    "    start_locations.remove(starting_location)\n",
    "    start_locations.append(starting_location)\n",
    "else:\n",
    "    start_locations.append(starting_location)"
   ]
  },
  {
   "cell_type": "code",
   "execution_count": null,
   "id": "2aac45f3",
   "metadata": {},
   "outputs": [],
   "source": [
    "# Get unique Restraurants and Customers\n",
    "restaurants = df['restaurant'].unique().tolist()\n",
    "customers = df['customer'].unique().tolist()"
   ]
  },
  {
   "cell_type": "code",
   "execution_count": null,
   "id": "41ffda70",
   "metadata": {},
   "outputs": [],
   "source": [
    "num_steps = np.arange(1, len(end_locations)+1).tolist()"
   ]
  },
  {
   "cell_type": "code",
   "execution_count": null,
   "id": "f2b93016",
   "metadata": {},
   "outputs": [],
   "source": [
    "end_locations"
   ]
  },
  {
   "cell_type": "code",
   "execution_count": null,
   "id": "e4c67bfc",
   "metadata": {},
   "outputs": [],
   "source": [
    "num_steps"
   ]
  },
  {
   "cell_type": "code",
   "execution_count": null,
   "id": "4616571b",
   "metadata": {},
   "outputs": [],
   "source": [
    "order_df = pd.DataFrame({'Restaurant':[], 'Customer':[]})\n",
    "\n",
    "for index, row in df.iterrows():\n",
    "    order_df.loc[index, 'Restaurant'] = row[\"restaurant\"]\n",
    "    order_df.loc[index, 'Customer'] = row[\"customer\"]\n",
    "\n",
    "order_df"
   ]
  },
  {
   "cell_type": "code",
   "execution_count": null,
   "id": "f523065f",
   "metadata": {},
   "outputs": [],
   "source": [
    "travel_df = pd.DataFrame({'Start':[], 'End': [], 'Distance': [], 'Time': []})\n",
    "\n",
    "\n",
    "for i in start_locations:\n",
    "    for j in end_locations: \n",
    "        if i == j:\n",
    "            new_row_data = {'Start': i, 'End': j, 'Distance': 0, 'Time': np.nan}\n",
    "            new_row = pd.DataFrame(new_row_data, index=[0])\n",
    "            travel_df = pd.concat([travel_df, new_row], ignore_index=True)\n",
    "        else:\n",
    "            d_temp = float(df_distances[(df_distances['origin'] == i) & \n",
    "                                                          (df_distances['destination'] == j)]['distance'])\n",
    "            new_row_data = {'Start': i, 'End': j, 'Distance': d_temp, 'Time': np.nan}\n",
    "            new_row = pd.DataFrame(new_row_data, index=[0])\n",
    "            travel_df = pd.concat([travel_df, new_row], ignore_index=True)"
   ]
  },
  {
   "cell_type": "code",
   "execution_count": null,
   "id": "a0fa2c58",
   "metadata": {},
   "outputs": [],
   "source": [
    "travel_df"
   ]
  },
  {
   "cell_type": "markdown",
   "id": "aff2ecc2",
   "metadata": {},
   "source": [
    "## Model Setup"
   ]
  },
  {
   "cell_type": "code",
   "execution_count": null,
   "id": "792c4398",
   "metadata": {},
   "outputs": [],
   "source": [
    "model = LpProblem(name = 'Part1_Model', sense = LpMinimize)\n",
    "\n",
    "xVar = LpVariable.dict('x', (start_locations, end_locations, num_steps), cat = LpBinary)"
   ]
  },
  {
   "cell_type": "code",
   "execution_count": null,
   "id": "3ec1a7a5",
   "metadata": {},
   "outputs": [],
   "source": [
    "obj = lpSum([travel_df[(travel_df['Start']==i) & (travel_df['End']==j)]['Distance'].iloc[0] * xVar[(i,j,t)] \\\n",
    "             for i in start_locations for j in end_locations for t in num_steps])\n",
    "model += obj"
   ]
  },
  {
   "cell_type": "markdown",
   "id": "148b3b67",
   "metadata": {},
   "source": [
    "## Constraints"
   ]
  },
  {
   "cell_type": "code",
   "execution_count": null,
   "id": "8a36a13b",
   "metadata": {},
   "outputs": [],
   "source": [
    "def restaurant_customer_match(customer, order_df):\n",
    "    for index, row in order_df.iterrows():\n",
    "        if customer == order_df.loc[index, 'Customer']:\n",
    "            return order_df.loc[index, 'Restaurant']"
   ]
  },
  {
   "cell_type": "code",
   "execution_count": null,
   "id": "2098dfab",
   "metadata": {},
   "outputs": [],
   "source": [
    "# Every location receives order once\n",
    "for j in end_locations: \n",
    "    model += lpSum([xVar[(i,j,t)] for i in start_locations for t in num_steps]) == 1"
   ]
  },
  {
   "cell_type": "code",
   "execution_count": null,
   "id": "e771c956",
   "metadata": {},
   "outputs": [],
   "source": [
    "# Convervation of flow\n",
    "for t in num_steps[:-1]:\n",
    "    for j in end_locations:\n",
    "        model += (lpSum([xVar[(i,j,t)] for i in start_locations]) == lpSum([xVar[(j,k,t+1)] for k in end_locations]))"
   ]
  },
  {
   "cell_type": "code",
   "execution_count": null,
   "id": "3066b2ff",
   "metadata": {},
   "outputs": [],
   "source": [
    "# First node has an outflow of 1, others 0\n",
    "model += lpSum([xVar[(start_locations[-1],j,1)] for j in restaurants]) == 1\n",
    "\n",
    "for i in start_locations[:-1]:\n",
    "    model += lpSum([xVar[(i,j,1)] for j in end_locations]) == 0"
   ]
  },
  {
   "cell_type": "code",
   "execution_count": null,
   "id": "b90f4a79",
   "metadata": {},
   "outputs": [],
   "source": [
    "# Visit restaurant before customer\n",
    "for t in num_steps: \n",
    "    for j in end_locations: \n",
    "        if j in customers: \n",
    "            model += pulp.lpSum( [xVar[i,j,t] for i in start_locations]) <= pulp.lpSum([xVar[i, restaurant_customer_match(j, order_df),t_] \\\n",
    "                                                                                        for i in start_locations \\\n",
    "                                                                                        for t_ in num_steps[:t]])"
   ]
  },
  {
   "cell_type": "markdown",
   "id": "e087ffed",
   "metadata": {},
   "source": [
    "## Solve"
   ]
  },
  {
   "cell_type": "code",
   "execution_count": null,
   "id": "09611267",
   "metadata": {},
   "outputs": [],
   "source": [
    "# Solve the model\n",
    "model.solve()\n",
    "print(\"Status:\", LpStatus[model.status])"
   ]
  },
  {
   "cell_type": "code",
   "execution_count": null,
   "id": "091b6294",
   "metadata": {},
   "outputs": [],
   "source": [
    "# Total Distance\n",
    "total_distance = pulp.value(model.objective)\n",
    "print(\"Total Distance: \" , total_distance)"
   ]
  },
  {
   "cell_type": "code",
   "execution_count": null,
   "id": "ab0f5666",
   "metadata": {},
   "outputs": [],
   "source": [
    "# Print the results\n",
    "path=[]\n",
    "for t in num_steps:\n",
    "    print(f'step:{t}\\n')\n",
    "    for i in start_locations:\n",
    "         for j in end_locations:\n",
    "                if (xVar[(i,j,t)].varValue == 1) :\n",
    "                    print(f\"TRAVEL FROM {i}  TO {j}\")\n",
    "                    \n",
    "                    if i not in path:\n",
    "                        path.append(i)\n",
    "                    if j not in path:\n",
    "                        path.append(j)"
   ]
  },
  {
   "cell_type": "code",
   "execution_count": null,
   "id": "fc95ffcb",
   "metadata": {},
   "outputs": [],
   "source": [
    "route_=[]\n",
    "for index,r in enumerate(path):\n",
    "    lat=df_regions.loc[df_regions['name'] == r]['latitude'].values[0]\n",
    "    log=df_regions.loc[df_regions['name'] == r]['longitude'].values[0]\n",
    "    route_.append((lat,log))"
   ]
  },
  {
   "cell_type": "code",
   "execution_count": null,
   "id": "86dcad72",
   "metadata": {},
   "outputs": [],
   "source": [
    "# Load the GeoJSON data for Toronto from a URL\n",
    "url = 'https://raw.githubusercontent.com/jasonicarter/toronto-geojson/master/toronto_crs84.geojson'\n",
    "response = requests.get(url)\n",
    "toronto_geojson = response.json()\n",
    "\n",
    "# Create a map of Toronto\n",
    "m = folium.Map(location=[43.6532, -79.3832], zoom_start=12)\n",
    "\n",
    "# Add the GeoJSON data to the map as a layer\n",
    "folium.GeoJson(toronto_geojson).add_to(m)\n",
    "\n",
    "# Define the route as a list of (lat, lon) coordinates\n",
    "route = route_\n",
    "\n",
    "# Add the route to the map as a PolyLine\n",
    "folium.PolyLine(route, color='red').add_to(m)\n",
    "\n",
    "# Add numbered markers for each location to the map\n",
    "for i, location in enumerate(route):\n",
    "    folium.Marker(location=location, icon=folium.Icon(color='blue'), \n",
    "                  popup=str(i+1)).add_to(m)\n",
    "\n",
    "# Display the map\n",
    "m\n"
   ]
  },
  {
   "cell_type": "markdown",
   "id": "5510296a",
   "metadata": {},
   "source": [
    "# Part II"
   ]
  },
  {
   "cell_type": "markdown",
   "id": "4a8b1c77",
   "metadata": {},
   "source": [
    "## Load Data"
   ]
  },
  {
   "cell_type": "code",
   "execution_count": null,
   "id": "d6ceaba2",
   "metadata": {},
   "outputs": [],
   "source": [
    "df_distances = pd.read_csv(file_path + 'distances.csv')\n",
    "\n",
    "df_ordersA = pd.read_csv(file_path + 'part2_ordersA.csv')\n",
    "df_ordersB = pd.read_csv(file_path + 'part2_ordersB.csv')"
   ]
  },
  {
   "cell_type": "code",
   "execution_count": null,
   "id": "29eeaa68",
   "metadata": {},
   "outputs": [],
   "source": [
    "df_distances.head()"
   ]
  },
  {
   "cell_type": "code",
   "execution_count": null,
   "id": "491cbad9",
   "metadata": {},
   "outputs": [],
   "source": [
    "df_ordersA"
   ]
  },
  {
   "cell_type": "code",
   "execution_count": null,
   "id": "8d031b6d",
   "metadata": {},
   "outputs": [],
   "source": [
    "df_ordersB"
   ]
  },
  {
   "cell_type": "markdown",
   "id": "32d8dad0",
   "metadata": {},
   "source": [
    "## Data Preparation"
   ]
  },
  {
   "cell_type": "code",
   "execution_count": null,
   "id": "0c41bb44",
   "metadata": {},
   "outputs": [],
   "source": [
    "# Route A or B\n",
    "route = 'B'"
   ]
  },
  {
   "cell_type": "code",
   "execution_count": null,
   "id": "8d249626",
   "metadata": {},
   "outputs": [],
   "source": [
    "starting_location = 'Downtown Toronto (Rosedale)'\n",
    "average_velocity = 40 # Km/Hr\n",
    "average_wait = 5 # Mins\n",
    "\n",
    "# Convert to Km/Min\n",
    "velocity_min = average_velocity / 60"
   ]
  },
  {
   "cell_type": "code",
   "execution_count": null,
   "id": "f5dde431",
   "metadata": {},
   "outputs": [],
   "source": [
    "# Route variables\n",
    "W = 120\n",
    "test_W = range(0, 120, 5)\n",
    "\n",
    "if route == 'A':\n",
    "    print('Route A')\n",
    "    df = df_ordersA\n",
    "    start_time = pd.to_datetime('2022-04-02 19:00:00')\n",
    "else:\n",
    "    print('Route B')\n",
    "    df = df_ordersB\n",
    "    start_time = pd.to_datetime('2022-04-02 17:00:00')"
   ]
  },
  {
   "cell_type": "code",
   "execution_count": null,
   "id": "2da8bef2",
   "metadata": {},
   "outputs": [],
   "source": [
    "# Get start and end locations\n",
    "start_locations = list(df['restaurant'].unique()) + list(df['customer'].unique())\n",
    "end_locations = start_locations.copy()\n",
    "\n",
    "start_locations = list(dict.fromkeys(start_locations))\n",
    "end_locations = list(dict.fromkeys(end_locations))\n",
    "\n",
    "if starting_location in start_locations:\n",
    "    start_locations.remove(starting_location)\n",
    "    start_locations.append(starting_location)\n",
    "else:\n",
    "    start_locations.append(starting_location)\n"
   ]
  },
  {
   "cell_type": "code",
   "execution_count": null,
   "id": "41559909",
   "metadata": {},
   "outputs": [],
   "source": [
    "order_locations = list(df['restaurant']) + list(df['customer'])\n",
    "order_locations"
   ]
  },
  {
   "cell_type": "code",
   "execution_count": null,
   "id": "e06693a6",
   "metadata": {},
   "outputs": [],
   "source": [
    "# Calculate the number of stops \n",
    "num_steps = np.arange(1, len(end_locations)+1).tolist()"
   ]
  },
  {
   "cell_type": "code",
   "execution_count": null,
   "id": "7aa7b720",
   "metadata": {},
   "outputs": [],
   "source": [
    "# Get unique Restraurants and Customers\n",
    "restaurants = df['restaurant'].unique().tolist()\n",
    "customers = df['customer'].unique().tolist()"
   ]
  },
  {
   "cell_type": "code",
   "execution_count": null,
   "id": "359c6233",
   "metadata": {},
   "outputs": [],
   "source": [
    "order_df = pd.DataFrame({'Restaurant':[], 'Customer':[]})\n",
    "\n",
    "for index, row in df.iterrows():\n",
    "    order_df.loc[index, 'Restaurant'] = row[\"restaurant\"]\n",
    "    order_df.loc[index, 'Customer'] = row[\"customer\"]\n",
    "\n",
    "order_df"
   ]
  },
  {
   "cell_type": "code",
   "execution_count": null,
   "id": "b24095c5",
   "metadata": {
    "scrolled": true
   },
   "outputs": [],
   "source": [
    "travel_df = pd.DataFrame({'Start':[], 'End': [], 'Distance': [], 'Time': []})\n",
    "\n",
    "\n",
    "for i in start_locations:\n",
    "    for j in end_locations: \n",
    "        if i == j:\n",
    "            new_row_data = {'Start': i, 'End': j, 'Distance': 0, 'Time': 0}\n",
    "            new_row = pd.DataFrame(new_row_data, index=[0])\n",
    "            travel_df = pd.concat([travel_df, new_row], ignore_index=True)\n",
    "        else:\n",
    "            d_temp = float(df_distances[(df_distances['origin'] == i) & \n",
    "                                                          (df_distances['destination'] == j)]['distance'])\n",
    "            t_temp = d_temp/average_velocity * 60\n",
    "            new_row_data = {'Start': i, 'End': j, 'Distance': d_temp, 'Time': t_temp}\n",
    "            new_row = pd.DataFrame(new_row_data, index=[0])\n",
    "            travel_df = pd.concat([travel_df, new_row], ignore_index=True)\n",
    "\n",
    "travel_df.head()"
   ]
  },
  {
   "cell_type": "code",
   "execution_count": null,
   "id": "1d2c8f89",
   "metadata": {},
   "outputs": [],
   "source": [
    "df['estimated availability'] = pd.to_datetime(df['estimated availability'])\n",
    "df['Converted Availability'] = (df['estimated availability'] - df['estimated availability'].min()).dt.total_seconds() / 60"
   ]
  },
  {
   "cell_type": "code",
   "execution_count": null,
   "id": "dfc211fc",
   "metadata": {},
   "outputs": [],
   "source": [
    "df"
   ]
  },
  {
   "cell_type": "markdown",
   "id": "b72df465",
   "metadata": {},
   "source": [
    "## Model"
   ]
  },
  {
   "cell_type": "code",
   "execution_count": null,
   "id": "58557002",
   "metadata": {},
   "outputs": [],
   "source": [
    "model = LpProblem(name = 'Part2_Model', sense = LpMinimize)\n",
    "\n",
    "xVar = LpVariable.dict('x', (start_locations, end_locations, num_steps), cat = LpBinary)\n",
    "# zVar = LpVariable.dict('z', num_steps, lowBound = 0.0, cat = LpContinuous)\n",
    "dVar = LpVariable.dict('d', [0] + num_steps, lowBound = -9999.0, cat = LpContinuous)\n",
    "aVar = LpVariable.dict('a', [0] + num_steps, lowBound = -9999.0, cat = LpContinuous)\n",
    "wVar = LpVariable.dict('w', (start_locations, num_steps), lowBound = 0.0, cat = LpContinuous)\n",
    "# vVar = LpVariable.dict('w', (start_locations, end_locations), lowBound = 0.0, cat = LpContinuous)"
   ]
  },
  {
   "cell_type": "code",
   "execution_count": null,
   "id": "ac835fe1",
   "metadata": {},
   "outputs": [],
   "source": [
    "obj = lpSum([travel_df[(travel_df['Start']==i) & (travel_df['End']==j)]['Distance'].iloc[0] * xVar[(i,j,t)] \\\n",
    "             for i in start_locations for j in end_locations for t in num_steps])\n",
    "model += obj"
   ]
  },
  {
   "cell_type": "code",
   "execution_count": null,
   "id": "1dde15be",
   "metadata": {},
   "outputs": [],
   "source": [
    "model += dVar[(0)] <= 0"
   ]
  },
  {
   "cell_type": "code",
   "execution_count": null,
   "id": "2cce9ff0",
   "metadata": {},
   "outputs": [],
   "source": [
    "def travel_time_lookup(i, j, travel_df):\n",
    "    return travel_df[(travel_df['Start']==i) & (travel_df['End']==j)]['Time'].iloc[0]"
   ]
  },
  {
   "cell_type": "code",
   "execution_count": null,
   "id": "afb16fae",
   "metadata": {},
   "outputs": [],
   "source": [
    "# # Step time calculation\n",
    "# for t in num_steps:\n",
    "#     model += dVar[(t)] == dVar[(t-1)] + lpSum([travel_time_lookup(i, j, travel_df) * xVar[(i,j,t)] \\\n",
    "#                                                for i in start_locations for j in restaurants]) + \\\n",
    "#                           lpSum([(travel_time_lookup(i, j, travel_df) + 5) * xVar[(i,j,t)] \\\n",
    "#                                  for i in start_locations for j in customers])"
   ]
  },
  {
   "cell_type": "code",
   "execution_count": null,
   "id": "78db3057",
   "metadata": {},
   "outputs": [],
   "source": [
    "# # Assign time to each travel in vVar\n",
    "# for i in start_locations:\n",
    "#     for j in end_locations:\n",
    "#         model += vVar[(i,j)] == travel_df[(travel_df['Start']==i) & (travel_df['End']==j)]['Time'].iloc[0]"
   ]
  },
  {
   "cell_type": "code",
   "execution_count": null,
   "id": "dcc5b092",
   "metadata": {},
   "outputs": [],
   "source": [
    "# # Driver arrives after the food is ready\n",
    "# for t in num_steps:\n",
    "#     for i in start_locations:\n",
    "#         for j in range(0, int(len(order_locations)/2)):\n",
    "#             model += dVar[(t)] >= df.loc[j, 'Converted Availability'] * xVar[(i,df.loc[j, 'restaurant'],t)]"
   ]
  },
  {
   "cell_type": "code",
   "execution_count": null,
   "id": "3de59307",
   "metadata": {},
   "outputs": [],
   "source": [
    "# Step time calculation\n",
    "for t in num_steps:\n",
    "    model += aVar[(t)] == dVar[(t-1)] + lpSum([travel_time_lookup(i, j, travel_df) * xVar[(i,j,t)] \\\n",
    "                                               for i in start_locations for j in restaurants]) + \\\n",
    "                          lpSum([(travel_time_lookup(i, j, travel_df) + 5) * xVar[(i,j,t)] \\\n",
    "                                 for i in start_locations for j in customers])\n",
    "    model += aVar[(t)] <= dVar[(t)]"
   ]
  },
  {
   "cell_type": "code",
   "execution_count": null,
   "id": "4d3c9530",
   "metadata": {},
   "outputs": [],
   "source": [
    "# Driver leaves after the food is ready\n",
    "for t in num_steps:\n",
    "    for i in start_locations:\n",
    "        for j in restaurants:\n",
    "            model += dVar[(t)] >= df[df['restaurant'] == j]['Converted Availability'].iloc[0] * xVar[(i,j,t)]"
   ]
  },
  {
   "cell_type": "code",
   "execution_count": null,
   "id": "c02df6fb",
   "metadata": {},
   "outputs": [],
   "source": [
    "# Visit restaurant before customer\n",
    "for t in num_steps: \n",
    "    for j in end_locations: \n",
    "        if j in customers: \n",
    "            model += pulp.lpSum( [xVar[i,j,t] for i in start_locations]) <= pulp.lpSum([xVar[i, restaurant_customer_match(j, order_df),t_] \\\n",
    "                                                                                        for i in start_locations \\\n",
    "                                                                                        for t_ in num_steps[:t]])"
   ]
  },
  {
   "cell_type": "code",
   "execution_count": null,
   "id": "58651143",
   "metadata": {},
   "outputs": [],
   "source": [
    "for idx, row in df.iterrows():\n",
    "    rst, cus, time = row['restaurant'], row['customer'], row['Converted Availability']\n",
    "    for t in num_steps:\n",
    "        model += wVar[(cus, t)] <= 10000000 * lpSum(xVar[(i, cus, t)] for i in start_locations if i != cus)\n",
    "        \n",
    "        model += wVar[(cus, t)] <= aVar[t] - time + 10000000 * (1 - lpSum(xVar[(i, cus, t)] for i in start_locations if i !=cus))\n",
    "        model += wVar[(cus, t)] >= aVar[t] - time - 10000000 * (1 - lpSum(xVar[(i, cus, t)] for i in start_locations if i !=cus))"
   ]
  },
  {
   "cell_type": "code",
   "execution_count": null,
   "id": "3c4c9123",
   "metadata": {},
   "outputs": [],
   "source": [
    "model += W >= lpSum(wVar[(c,t)] for c in customers for t in num_steps)/len(df)"
   ]
  },
  {
   "cell_type": "code",
   "execution_count": null,
   "id": "e54f8085",
   "metadata": {},
   "outputs": [],
   "source": [
    "# Every location receives order once\n",
    "for j in end_locations: \n",
    "    model += lpSum([xVar[(i,j,t)] for i in start_locations for t in num_steps]) == 1"
   ]
  },
  {
   "cell_type": "code",
   "execution_count": null,
   "id": "dcd40bda",
   "metadata": {},
   "outputs": [],
   "source": [
    "# Conservation of flow\n",
    "for t in num_steps[:-1]:\n",
    "    for j in end_locations:\n",
    "        model += (lpSum([xVar[(i,j,t)] for i in start_locations]) == lpSum([xVar[(j,k,t+1)] for k in end_locations]))"
   ]
  },
  {
   "cell_type": "code",
   "execution_count": null,
   "id": "67756f13",
   "metadata": {},
   "outputs": [],
   "source": [
    "# First node has an outflow of 1, others 0\n",
    "model += lpSum([xVar[(start_locations[-1],j,1)] for j in restaurants]) == 1\n",
    "\n",
    "for i in start_locations[:-1]:\n",
    "    model += lpSum([xVar[(i,j,1)] for j in end_locations]) == 0"
   ]
  },
  {
   "cell_type": "markdown",
   "id": "c4b84718",
   "metadata": {},
   "source": [
    "## Solve"
   ]
  },
  {
   "cell_type": "code",
   "execution_count": null,
   "id": "785a79a5",
   "metadata": {},
   "outputs": [],
   "source": [
    "# Solve the model\n",
    "model.solve()\n",
    "print(\"Status:\", LpStatus[model.status])"
   ]
  },
  {
   "cell_type": "code",
   "execution_count": null,
   "id": "0e3d8425",
   "metadata": {},
   "outputs": [],
   "source": [
    "# Total Distance\n",
    "total_distance = pulp.value(model.objective)\n",
    "print(\"Total Distance: \" , total_distance)"
   ]
  },
  {
   "cell_type": "code",
   "execution_count": null,
   "id": "595cbf81",
   "metadata": {},
   "outputs": [],
   "source": [
    "# Print the results\n",
    "path=[]\n",
    "for t in num_steps:\n",
    "    print(f'step:{t}\\n')\n",
    "    for i in start_locations:\n",
    "         for j in end_locations:\n",
    "                if (xVar[(i,j,t)].varValue == 1) :\n",
    "                    print(f\"TRAVEL FROM {i}  TO {j}\")\n",
    "                    \n",
    "                    if i not in path:\n",
    "                        path.append(i)\n",
    "                    if j not in path:\n",
    "                        path.append(j)"
   ]
  },
  {
   "cell_type": "code",
   "execution_count": null,
   "id": "15dcad79",
   "metadata": {},
   "outputs": [],
   "source": [
    "# Print Results\n",
    "for t in num_steps: \n",
    "    print('Stop number: ' + str(t))\n",
    "    print('Travel time(mins): ' + str(dVar[t].varValue))\n",
    "    \n",
    "    for i in start_locations: \n",
    "        for j in end_locations: \n",
    "            \n",
    "            if xVar[(i,j,t)].varValue > 0.0:\n",
    "                print('\\tLeft from location: ' + str(i))\n",
    "                print('\\tArrived at location: ' + str(j))\n",
    "                print('\\tWait time: ' + str(wVar[(j,t)].varValue))\n",
    "#                 print('\\tSum of wait times: ' + str(zVar[t].varValue))\n",
    "total_wait_time = sum([wVar[(j,t)].varValue for j in end_locations for t in num_steps if wVar[(j,t)].varValue != None])\n",
    "print('Total wait: ' + str(total_wait_time))\n",
    "wait_time = str(total_wait_time / len(customers))              \n",
    "print('Average wait: ' + wait_time)"
   ]
  },
  {
   "cell_type": "code",
   "execution_count": null,
   "id": "b53727b2",
   "metadata": {},
   "outputs": [],
   "source": [
    "route_=[]\n",
    "for index,r in enumerate(path):\n",
    "    lat=df_regions.loc[df_regions['name'] == r]['latitude'].values[0]\n",
    "    log=df_regions.loc[df_regions['name'] == r]['longitude'].values[0]\n",
    "    route_.append((lat,log))"
   ]
  },
  {
   "cell_type": "code",
   "execution_count": null,
   "id": "18358c07",
   "metadata": {},
   "outputs": [],
   "source": [
    "# Load the GeoJSON data for Toronto from a URL\n",
    "url = 'https://raw.githubusercontent.com/jasonicarter/toronto-geojson/master/toronto_crs84.geojson'\n",
    "response = requests.get(url)\n",
    "toronto_geojson = response.json()\n",
    "\n",
    "# Create a map of Toronto\n",
    "m = folium.Map(location=[43.6532, -79.3832], zoom_start=12)\n",
    "\n",
    "# Add the GeoJSON data to the map as a layer\n",
    "folium.GeoJson(toronto_geojson).add_to(m)\n",
    "\n",
    "# Define the route as a list of (lat, lon) coordinates\n",
    "route = route_\n",
    "\n",
    "# Add the route to the map as a PolyLine\n",
    "folium.PolyLine(route, color='red').add_to(m)\n",
    "\n",
    "# Add numbered markers for each location to the map\n",
    "for i, location in enumerate(route):\n",
    "    folium.Marker(location=location, icon=folium.Icon(color='blue'), \n",
    "                  popup=str(i+1)).add_to(m)\n",
    "\n",
    "# Display the map\n",
    "m\n"
   ]
  },
  {
   "cell_type": "markdown",
   "id": "2aa244f3",
   "metadata": {},
   "source": [
    "## Sensitivity"
   ]
  },
  {
   "cell_type": "markdown",
   "id": "ad9c3f9a",
   "metadata": {},
   "source": [
    "### Data Preparation"
   ]
  },
  {
   "cell_type": "code",
   "execution_count": null,
   "id": "1d821ffb",
   "metadata": {},
   "outputs": [],
   "source": [
    "# Route A or B\n",
    "route = 'B'"
   ]
  },
  {
   "cell_type": "code",
   "execution_count": null,
   "id": "40c109df",
   "metadata": {},
   "outputs": [],
   "source": [
    "starting_location = 'Downtown Toronto (Rosedale)'\n",
    "average_velocity = 40 # Km/Hr\n",
    "average_wait = 5 # Mins\n",
    "\n",
    "# Convert to Km/Min\n",
    "velocity_min = average_velocity / 60"
   ]
  },
  {
   "cell_type": "code",
   "execution_count": null,
   "id": "e1fa3689",
   "metadata": {},
   "outputs": [],
   "source": [
    "# Route variables\n",
    "test_W = range(0, 120, 5)\n",
    "\n",
    "if route == 'A':\n",
    "    print('Route A')\n",
    "    df = df_ordersA\n",
    "else:\n",
    "    print('Route B')\n",
    "    df = df_ordersB"
   ]
  },
  {
   "cell_type": "code",
   "execution_count": null,
   "id": "49bc55a8",
   "metadata": {},
   "outputs": [],
   "source": [
    "# Get start and end locations\n",
    "start_locations = list(df['restaurant'].unique()) + list(df['customer'].unique())\n",
    "end_locations = start_locations.copy()\n",
    "\n",
    "start_locations = list(dict.fromkeys(start_locations))\n",
    "end_locations = list(dict.fromkeys(end_locations))\n",
    "\n",
    "if starting_location in start_locations:\n",
    "    start_locations.remove(starting_location)\n",
    "    start_locations.append(starting_location)\n",
    "else:\n",
    "    start_locations.append(starting_location)\n"
   ]
  },
  {
   "cell_type": "code",
   "execution_count": null,
   "id": "3235c90a",
   "metadata": {},
   "outputs": [],
   "source": [
    "order_locations = list(df['restaurant']) + list(df['customer'])"
   ]
  },
  {
   "cell_type": "code",
   "execution_count": null,
   "id": "f61df268",
   "metadata": {},
   "outputs": [],
   "source": [
    "# Calculate the number of stops \n",
    "num_steps = np.arange(1, len(end_locations)+1).tolist()"
   ]
  },
  {
   "cell_type": "code",
   "execution_count": null,
   "id": "b142c4a2",
   "metadata": {},
   "outputs": [],
   "source": [
    "# Get unique Restraurants and Customers\n",
    "restaurants = df['restaurant'].unique().tolist()\n",
    "customers = df['customer'].unique().tolist()"
   ]
  },
  {
   "cell_type": "code",
   "execution_count": null,
   "id": "2fa10a8a",
   "metadata": {},
   "outputs": [],
   "source": [
    "order_df = pd.DataFrame({'Restaurant':[], 'Customer':[]})\n",
    "\n",
    "for index, row in df.iterrows():\n",
    "    order_df.loc[index, 'Restaurant'] = row[\"restaurant\"]\n",
    "    order_df.loc[index, 'Customer'] = row[\"customer\"]\n",
    "\n",
    "order_df"
   ]
  },
  {
   "cell_type": "code",
   "execution_count": null,
   "id": "01e7acc7",
   "metadata": {
    "scrolled": true
   },
   "outputs": [],
   "source": [
    "travel_df = pd.DataFrame({'Start':[], 'End': [], 'Distance': [], 'Time': []})\n",
    "\n",
    "\n",
    "for i in start_locations:\n",
    "    for j in end_locations: \n",
    "        if i == j:\n",
    "            new_row_data = {'Start': i, 'End': j, 'Distance': 0, 'Time': 0}\n",
    "            new_row = pd.DataFrame(new_row_data, index=[0])\n",
    "            travel_df = pd.concat([travel_df, new_row], ignore_index=True)\n",
    "        else:\n",
    "            d_temp = float(df_distances[(df_distances['origin'] == i) & \n",
    "                                                          (df_distances['destination'] == j)]['distance'])\n",
    "            t_temp = d_temp/average_velocity * 60\n",
    "            new_row_data = {'Start': i, 'End': j, 'Distance': d_temp, 'Time': t_temp}\n",
    "            new_row = pd.DataFrame(new_row_data, index=[0])\n",
    "            travel_df = pd.concat([travel_df, new_row], ignore_index=True)\n",
    "\n",
    "travel_df.head()"
   ]
  },
  {
   "cell_type": "code",
   "execution_count": null,
   "id": "06b8c9d0",
   "metadata": {},
   "outputs": [],
   "source": [
    "df['estimated availability'] = pd.to_datetime(df['estimated availability'])\n",
    "df['Converted Availability'] = (df['estimated availability'] - df['estimated availability'].min()).dt.total_seconds() / 60"
   ]
  },
  {
   "cell_type": "code",
   "execution_count": null,
   "id": "d1ea5c3a",
   "metadata": {},
   "outputs": [],
   "source": [
    "df"
   ]
  },
  {
   "cell_type": "code",
   "execution_count": null,
   "id": "79588008",
   "metadata": {},
   "outputs": [],
   "source": [
    "def one_driver_within_W(W):\n",
    "    \n",
    "    print(\"W:\", W)\n",
    "\n",
    "    model = LpProblem(name = 'Part2_Model', sense = LpMinimize)\n",
    "\n",
    "    xVar = LpVariable.dict('x', (start_locations, end_locations, num_steps), cat = LpBinary)\n",
    "    # zVar = LpVariable.dict('z', num_steps, lowBound = 0.0, cat = LpContinuous)\n",
    "    dVar = LpVariable.dict('d', [0] + num_steps, lowBound = -9999.0, cat = LpContinuous)\n",
    "    aVar = LpVariable.dict('a', [0] + num_steps, lowBound = -9999.0, cat = LpContinuous)\n",
    "    wVar = LpVariable.dict('w', (start_locations, num_steps), lowBound = 0.0, cat = LpContinuous)\n",
    "#     vVar = LpVariable.dict('w', (start_locations, end_locations), lowBound = 0.0, cat = LpContinuous)\n",
    "\n",
    "    obj = lpSum([travel_df[(travel_df['Start']==i) & (travel_df['End']==j)]['Distance'].iloc[0] * xVar[(i,j,t)] \\\n",
    "                 for i in start_locations for j in end_locations for t in num_steps])\n",
    "    model += obj\n",
    "\n",
    "    model += dVar[(0)] <= 0\n",
    "\n",
    "    def travel_time_lookup(i, j, travel_df):\n",
    "        return travel_df[(travel_df['Start']==i) & (travel_df['End']==j)]['Time'].iloc[0]\n",
    "\n",
    "    # Step time calculation\n",
    "    for t in num_steps:\n",
    "        model += aVar[(t)] == dVar[(t-1)] + lpSum([travel_time_lookup(i, j, travel_df) * xVar[(i,j,t)] \\\n",
    "                                                   for i in start_locations for j in restaurants]) + \\\n",
    "                              lpSum([(travel_time_lookup(i, j, travel_df) + 5) * xVar[(i,j,t)] \\\n",
    "                                     for i in start_locations for j in customers])\n",
    "        model += aVar[(t)] <= dVar[(t)]\n",
    "\n",
    "    # Driver leaves after the food is ready\n",
    "    for t in num_steps:\n",
    "        for i in start_locations:\n",
    "            for j in restaurants:\n",
    "                model += dVar[(t)] >= df[df['restaurant'] == j]['Converted Availability'].iloc[0] * xVar[(i,j,t)]\n",
    "\n",
    "    # Visit restaurant before customer\n",
    "    for t in num_steps: \n",
    "        for j in end_locations: \n",
    "            if j in customers: \n",
    "                model += pulp.lpSum( [xVar[i,j,t] for i in start_locations]) <= pulp.lpSum([xVar[i, restaurant_customer_match(j, order_df),t_] \\\n",
    "                                                                                            for i in start_locations \\\n",
    "                                                                                            for t_ in num_steps[:t]])\n",
    "\n",
    "    for idx, row in df.iterrows():\n",
    "        rst, cus, time = row['restaurant'], row['customer'], row['Converted Availability']\n",
    "        for t in num_steps:\n",
    "            model += wVar[(cus, t)] <= 10000000 * lpSum(xVar[(i, cus, t)] for i in start_locations if i != cus)\n",
    "\n",
    "            model += wVar[(cus, t)] <= aVar[t] - time + 10000000 * (1 - lpSum(xVar[(i, cus, t)] for i in start_locations if i !=cus))\n",
    "            model += wVar[(cus, t)] >= aVar[t] - time - 10000000 * (1 - lpSum(xVar[(i, cus, t)] for i in start_locations if i !=cus))\n",
    "\n",
    "    model += W >= lpSum(wVar[(c,t)] for c in customers for t in num_steps)/len(df)\n",
    "\n",
    "    # Every location receives order once\n",
    "    for j in end_locations: \n",
    "        model += lpSum([xVar[(i,j,t)] for i in start_locations for t in num_steps]) == 1\n",
    "\n",
    "    # Convervation of flow\n",
    "    for t in num_steps[:-1]:\n",
    "        for j in end_locations:\n",
    "            model += (lpSum([xVar[(i,j,t)] for i in start_locations]) == lpSum([xVar[(j,k,t+1)] for k in end_locations]))\n",
    "\n",
    "    # First node has an outflow of 1, others 0\n",
    "    model += lpSum([xVar[(start_locations[-1],j,1)] for j in restaurants]) == 1\n",
    "\n",
    "    for i in start_locations[:-1]:\n",
    "        model += lpSum([xVar[(i,j,1)] for j in end_locations]) == 0\n",
    "\n",
    "    # Solve the model\n",
    "    model.solve()\n",
    "    print(\"Status:\", LpStatus[model.status])\n",
    "    model_status = LpStatus[model.status]\n",
    "    \n",
    "    if LpStatus[model.status] == 'Optimal':\n",
    "    \n",
    "        total_distance = pulp.value(model.objective)\n",
    "        print(\"Total Distance: \" , total_distance)\n",
    "\n",
    "        total_wait_time = sum([wVar[(j,t)].varValue for j in end_locations for t in num_steps if wVar[(j,t)].varValue != None])\n",
    "        print('Total wait: ' + str(total_wait_time))\n",
    "        \n",
    "        avg_wait_time = total_wait_time/len(customers)\n",
    "        print('Average wait: ' + str(avg_wait_time))\n",
    "        \n",
    "    else:\n",
    "        total_distance = 0\n",
    "        total_wait_time = 0\n",
    "        avg_wait_time = 0\n",
    "    \n",
    "    print('=======================================')\n",
    "        \n",
    "    return {'w': W,\n",
    "           'model_status': model_status,\n",
    "           'total_distance': total_distance,\n",
    "           'total_wait_time': total_wait_time,\n",
    "            'avg_wait_time': avg_wait_time\n",
    "           }"
   ]
  },
  {
   "cell_type": "code",
   "execution_count": null,
   "id": "f083d9b8",
   "metadata": {
    "scrolled": false
   },
   "outputs": [],
   "source": [
    "test_W = range(0, 120, 5)\n",
    "result_dict = {}\n",
    "total_distance_list = []\n",
    "avg_wait_time_list = []\n",
    "\n",
    "for w in test_W:\n",
    "    result_dict[w] = one_driver_within_W(w)\n",
    "    total_distance_list.append(result_dict[w]['total_distance'])\n",
    "    avg_wait_time_list.append(result_dict[w]['avg_wait_time'])\n",
    "    \n",
    "# Plot the optimal W Value\n",
    "plt.plot(test_W, total_distance_list)\n",
    "plt.xlabel('W Constraints')\n",
    "plt.ylabel('Total Distance')\n",
    "plt.title('W Constraints vs Total Distance - Trade-off Curve')\n",
    "plt.grid(True)"
   ]
  },
  {
   "cell_type": "markdown",
   "id": "5e1c375d",
   "metadata": {},
   "source": [
    "## New metric - Max Wait Time"
   ]
  },
  {
   "cell_type": "code",
   "execution_count": null,
   "id": "18ad8ff1",
   "metadata": {},
   "outputs": [],
   "source": [
    "def one_driver_within_W_max(W):\n",
    "    \n",
    "    print(\"W:\", W)\n",
    "\n",
    "    model = LpProblem(name = 'Part2_Model', sense = LpMinimize)\n",
    "\n",
    "    xVar = LpVariable.dict('x', (start_locations, end_locations, num_steps), cat = LpBinary)\n",
    "    # zVar = LpVariable.dict('z', num_steps, lowBound = 0.0, cat = LpContinuous)\n",
    "    dVar = LpVariable.dict('d', [0] + num_steps, lowBound = -9999.0, cat = LpContinuous)\n",
    "    aVar = LpVariable.dict('a', [0] + num_steps, lowBound = -9999.0, cat = LpContinuous)\n",
    "    wVar = LpVariable.dict('w', (start_locations, num_steps), lowBound = 0.0, cat = LpContinuous)\n",
    "    max_var = pulp.LpVariable(\"max_var\", lowBound=0.0, cat = LpContinuous)\n",
    "#     vVar = LpVariable.dict('w', (start_locations, end_locations), lowBound = 0.0, cat = LpContinuous)\n",
    "\n",
    "#     obj = lpSum([travel_df[(travel_df['Start']==i) & (travel_df['End']==j)]['Distance'].iloc[0] * xVar[(i,j,t)] \\\n",
    "#                  for i in start_locations for j in end_locations for t in num_steps])\n",
    "    \n",
    "    obj = max_var\n",
    "    \n",
    "    model += obj\n",
    "\n",
    "    model += dVar[(0)] <= 0\n",
    "\n",
    "    def travel_time_lookup(i, j, travel_df):\n",
    "        return travel_df[(travel_df['Start']==i) & (travel_df['End']==j)]['Time'].iloc[0]\n",
    "\n",
    "    # Step time calculation\n",
    "    for t in num_steps:\n",
    "        model += aVar[(t)] == dVar[(t-1)] + lpSum([travel_time_lookup(i, j, travel_df) * xVar[(i,j,t)] \\\n",
    "                                                   for i in start_locations for j in restaurants]) + \\\n",
    "                              lpSum([(travel_time_lookup(i, j, travel_df) + 5) * xVar[(i,j,t)] \\\n",
    "                                     for i in start_locations for j in customers])\n",
    "        model += aVar[(t)] <= dVar[(t)]\n",
    "\n",
    "    # Driver leaves after the food is ready\n",
    "    for t in num_steps:\n",
    "        for i in start_locations:\n",
    "            for j in restaurants:\n",
    "                model += dVar[(t)] >= df[df['restaurant'] == j]['Converted Availability'].iloc[0] * xVar[(i,j,t)]\n",
    "\n",
    "    # Visit restaurant before customer\n",
    "    for t in num_steps: \n",
    "        for j in end_locations: \n",
    "            if j in customers: \n",
    "                model += pulp.lpSum( [xVar[i,j,t] for i in start_locations]) <= pulp.lpSum([xVar[i, restaurant_customer_match(j, order_df),t_] \\\n",
    "                                                                                            for i in start_locations \\\n",
    "                                                                                            for t_ in num_steps[:t]])\n",
    "\n",
    "    for idx, row in df.iterrows():\n",
    "        rst, cus, time = row['restaurant'], row['customer'], row['Converted Availability']\n",
    "        for t in num_steps:\n",
    "            model += wVar[(cus, t)] <= 10000000 * lpSum(xVar[(i, cus, t)] for i in start_locations if i != cus)\n",
    "\n",
    "            model += wVar[(cus, t)] <= aVar[t] - time + 10000000 * (1 - lpSum(xVar[(i, cus, t)] for i in start_locations if i !=cus))\n",
    "            model += wVar[(cus, t)] >= aVar[t] - time - 10000000 * (1 - lpSum(xVar[(i, cus, t)] for i in start_locations if i !=cus))\n",
    "\n",
    "    model += W >= lpSum(wVar[(c,t)] for c in customers for t in num_steps)/len(df)\n",
    "    \n",
    "    for t in num_steps:\n",
    "        for j in end_locations:\n",
    "            model += max_var >= wVar[(j, t)]\n",
    "\n",
    "    # Every location receives order once\n",
    "    for j in end_locations: \n",
    "        model += lpSum([xVar[(i,j,t)] for i in start_locations for t in num_steps]) == 1\n",
    "\n",
    "    # Convervation of flow\n",
    "    for t in num_steps[:-1]:\n",
    "        for j in end_locations:\n",
    "            model += (lpSum([xVar[(i,j,t)] for i in start_locations]) == lpSum([xVar[(j,k,t+1)] for k in end_locations]))\n",
    "\n",
    "    # First node has an outflow of 1, others 0\n",
    "    model += lpSum([xVar[(start_locations[-1],j,1)] for j in restaurants]) == 1\n",
    "\n",
    "    for i in start_locations[:-1]:\n",
    "        model += lpSum([xVar[(i,j,1)] for j in end_locations]) == 0\n",
    "\n",
    "    # Solve the model\n",
    "    model.solve()\n",
    "    print(\"Status:\", LpStatus[model.status])\n",
    "    model_status = LpStatus[model.status]\n",
    "    \n",
    "    total_dist_temp = 0\n",
    "    for i in start_locations:\n",
    "        for j in end_locations:\n",
    "            for t in num_steps:\n",
    "                total_dist_temp += travel_df[(travel_df['Start']==i) & (travel_df['End']==j)]['Distance'].iloc[0] * xVar[(i,j,t)].varValue\n",
    "    \n",
    "    \n",
    "    if LpStatus[model.status] == 'Optimal':\n",
    "    \n",
    "        max_wait_time = pulp.value(model.objective)\n",
    "        print(\"Max Wait Time: \" , max_wait_time)\n",
    "        \n",
    "        print(\"Total Distance: \" , total_dist_temp)\n",
    "\n",
    "        total_wait_time = sum([wVar[(j,t)].varValue for j in end_locations for t in num_steps if wVar[(j,t)].varValue != None])\n",
    "        print('Total wait: ' + str(total_wait_time))\n",
    "        \n",
    "        avg_wait_time = total_wait_time/len(customers)\n",
    "        print('Average wait: ' + str(avg_wait_time))\n",
    "        \n",
    "    else:\n",
    "        max_wait_time = 0\n",
    "        total_wait_time = 0\n",
    "        avg_wait_time = 0\n",
    "        total_dist_temp = 0\n",
    "    \n",
    "    print('=======================================')\n",
    "        \n",
    "    return {'w': W,\n",
    "           'model_status': model_status,\n",
    "           'total_dist_temp': total_dist_temp,\n",
    "           'max_wait_time': max_wait_time,\n",
    "           'total_wait_time': total_wait_time,\n",
    "            'avg_wait_time': avg_wait_time\n",
    "           }"
   ]
  },
  {
   "cell_type": "code",
   "execution_count": null,
   "id": "a396ab06",
   "metadata": {
    "scrolled": false
   },
   "outputs": [],
   "source": [
    "test_W = range(0, 120, 5)\n",
    "result_dict = {}\n",
    "max_wait_time_list = []\n",
    "avg_wait_time_list = []\n",
    "total_distance_list = []\n",
    "\n",
    "for w in test_W:\n",
    "    result_dict[w] = one_driver_within_W_max(w)\n",
    "    max_wait_time_list.append(result_dict[w]['max_wait_time'])\n",
    "    avg_wait_time_list.append(result_dict[w]['avg_wait_time'])\n",
    "    total_distance_list.append(result_dict[w]['total_dist_temp'])\n",
    "    \n",
    "# Plot the optimal W Value\n",
    "plt.plot(test_W, max_wait_time_list)\n",
    "plt.xlabel('W Constraints')\n",
    "plt.ylabel('Max Wait Time')\n",
    "plt.title('W Constraints vs Max Wait Time - Trade-off Curve')\n",
    "plt.grid(True)"
   ]
  },
  {
   "cell_type": "code",
   "execution_count": null,
   "id": "662635ff",
   "metadata": {},
   "outputs": [],
   "source": [
    "# Plot the optimal W Value\n",
    "plt.plot(test_W, total_distance_list)\n",
    "plt.xlabel('W Constraints')\n",
    "plt.ylabel('Total Distance')\n",
    "plt.title('W Constraints vs Total Distance - Trade-off Curve')\n",
    "plt.grid(True)"
   ]
  },
  {
   "cell_type": "markdown",
   "id": "a337cebe",
   "metadata": {},
   "source": [
    "# Part III"
   ]
  },
  {
   "cell_type": "markdown",
   "id": "1134d693",
   "metadata": {},
   "source": [
    "## Load Data"
   ]
  },
  {
   "cell_type": "code",
   "execution_count": null,
   "id": "b313d06d",
   "metadata": {},
   "outputs": [],
   "source": [
    "df_distances = pd.read_csv(file_path + 'distances.csv')\n",
    "\n",
    "df_orders = pd.read_csv(file_path + 'part3_small.csv')\n",
    "df_drivers = pd.read_csv(file_path + 'part3_drivers.csv')"
   ]
  },
  {
   "cell_type": "code",
   "execution_count": null,
   "id": "c97bf2b9",
   "metadata": {},
   "outputs": [],
   "source": [
    "df_distances.head()"
   ]
  },
  {
   "cell_type": "code",
   "execution_count": null,
   "id": "76e67b23",
   "metadata": {},
   "outputs": [],
   "source": [
    "df_orders"
   ]
  },
  {
   "cell_type": "code",
   "execution_count": null,
   "id": "7a0fcb38",
   "metadata": {},
   "outputs": [],
   "source": [
    "df_drivers"
   ]
  },
  {
   "cell_type": "markdown",
   "id": "1241ee91",
   "metadata": {},
   "source": [
    "## Data Preparation"
   ]
  },
  {
   "cell_type": "code",
   "execution_count": null,
   "id": "f18abc2a",
   "metadata": {},
   "outputs": [],
   "source": [
    "# Route variables\n",
    "W = 10000\n",
    "df = df_orders.copy()"
   ]
  },
  {
   "cell_type": "code",
   "execution_count": null,
   "id": "6f35bb60",
   "metadata": {},
   "outputs": [],
   "source": [
    "# Get start and end locations\n",
    "start_locations = list(df['restaurant'].unique()) + list(df['customer'].unique())\n",
    "end_locations = start_locations.copy()\n",
    "\n",
    "start_locations = list(dict.fromkeys(start_locations))\n",
    "end_locations = list(dict.fromkeys(end_locations))"
   ]
  },
  {
   "cell_type": "code",
   "execution_count": null,
   "id": "87a8552d",
   "metadata": {},
   "outputs": [],
   "source": [
    "df_drivers"
   ]
  },
  {
   "cell_type": "code",
   "execution_count": null,
   "id": "97cc12bb",
   "metadata": {},
   "outputs": [],
   "source": [
    "num_drivers = list(range(1,len(df_drivers)+1))\n",
    "num_drivers"
   ]
  },
  {
   "cell_type": "code",
   "execution_count": null,
   "id": "febd11d7",
   "metadata": {},
   "outputs": [],
   "source": [
    "driver_origins = df_drivers['start region'].to_list()\n",
    "driver_origins"
   ]
  },
  {
   "cell_type": "code",
   "execution_count": null,
   "id": "a9a6b7ac",
   "metadata": {},
   "outputs": [],
   "source": [
    "for starting_location in driver_origins:\n",
    "    \n",
    "    if starting_location in start_locations:\n",
    "        start_locations.remove(starting_location)\n",
    "        start_locations.append(starting_location)\n",
    "    else:\n",
    "        start_locations.append(starting_location)\n"
   ]
  },
  {
   "cell_type": "code",
   "execution_count": null,
   "id": "e8d9c182",
   "metadata": {},
   "outputs": [],
   "source": [
    "order_locations = list(df['restaurant']) + list(df['customer'])\n",
    "order_locations"
   ]
  },
  {
   "cell_type": "code",
   "execution_count": null,
   "id": "6b65d9ee",
   "metadata": {},
   "outputs": [],
   "source": [
    "# Calculate the number of stops \n",
    "num_steps = np.arange(1, len(end_locations)+1).tolist()"
   ]
  },
  {
   "cell_type": "code",
   "execution_count": null,
   "id": "6cd395d5",
   "metadata": {},
   "outputs": [],
   "source": [
    "# Get unique Restraurants and Customers\n",
    "restaurants = df['restaurant'].unique().tolist()\n",
    "customers = df['customer'].unique().tolist()"
   ]
  },
  {
   "cell_type": "code",
   "execution_count": null,
   "id": "cc267ec0",
   "metadata": {},
   "outputs": [],
   "source": [
    "order_df = pd.DataFrame({'Restaurant':[], 'Customer':[]})\n",
    "\n",
    "for index, row in df.iterrows():\n",
    "    order_df.loc[index, 'Restaurant'] = row[\"restaurant\"]\n",
    "    order_df.loc[index, 'Customer'] = row[\"customer\"]\n",
    "\n",
    "order_df"
   ]
  },
  {
   "cell_type": "code",
   "execution_count": null,
   "id": "cda525d6",
   "metadata": {
    "scrolled": true
   },
   "outputs": [],
   "source": [
    "travel_df = pd.DataFrame({'Start':[], 'End': [], 'Distance': [], 'Time': []})\n",
    "\n",
    "\n",
    "for i in start_locations:\n",
    "    for j in end_locations: \n",
    "        if i == j:\n",
    "            new_row_data = {'Start': i, 'End': j, 'Distance': 0, 'Time': 0}\n",
    "            new_row = pd.DataFrame(new_row_data, index=[0])\n",
    "            travel_df = pd.concat([travel_df, new_row], ignore_index=True)\n",
    "        else:\n",
    "            d_temp = float(df_distances[(df_distances['origin'] == i) & \n",
    "                                                          (df_distances['destination'] == j)]['distance'])\n",
    "            t_temp = d_temp/average_velocity * 60\n",
    "            new_row_data = {'Start': i, 'End': j, 'Distance': d_temp, 'Time': t_temp}\n",
    "            new_row = pd.DataFrame(new_row_data, index=[0])\n",
    "            travel_df = pd.concat([travel_df, new_row], ignore_index=True)\n",
    "\n",
    "travel_df.head()"
   ]
  },
  {
   "cell_type": "code",
   "execution_count": null,
   "id": "fed91278",
   "metadata": {},
   "outputs": [],
   "source": [
    "df['estimated availability'] = pd.to_datetime(df['estimated availability'])\n",
    "df['Converted Availability'] = (df['estimated availability'] - df['estimated availability'].min()).dt.total_seconds() / 60"
   ]
  },
  {
   "cell_type": "code",
   "execution_count": null,
   "id": "e6a85cab",
   "metadata": {},
   "outputs": [],
   "source": [
    "df"
   ]
  },
  {
   "cell_type": "markdown",
   "id": "6a5e1b87",
   "metadata": {},
   "source": [
    "## Model"
   ]
  },
  {
   "cell_type": "code",
   "execution_count": null,
   "id": "2b5b06cf",
   "metadata": {},
   "outputs": [],
   "source": [
    "model = LpProblem(name = 'Part3_Model', sense = LpMinimize)\n",
    "\n",
    "xVar = LpVariable.dict('x', (start_locations, end_locations, num_steps, num_drivers), cat = LpBinary)\n",
    "# zVar = LpVariable.dict('z', num_steps, lowBound = 0.0, cat = LpContinuous)\n",
    "dVar = LpVariable.dict('d', ([0] + num_steps, num_drivers), lowBound = -9999.0, cat = LpContinuous)\n",
    "aVar = LpVariable.dict('a', ([0] + num_steps, num_drivers), lowBound = -9999.0, cat = LpContinuous)\n",
    "wVar = LpVariable.dict('w', (start_locations, num_steps, num_drivers), lowBound = 0.0, cat = LpContinuous)\n",
    "# vVar = LpVariable.dict('w', (start_locations, end_locations), lowBound = 0.0, cat = LpContinuous)"
   ]
  },
  {
   "cell_type": "code",
   "execution_count": null,
   "id": "3bf4c075",
   "metadata": {},
   "outputs": [],
   "source": [
    "obj = lpSum([travel_df[(travel_df['Start']==i) & (travel_df['End']==j)]['Distance'].iloc[0] * xVar[(i,j,t,p)] \\\n",
    "             for i in start_locations for j in end_locations for t in num_steps for p in num_drivers])\n",
    "model += obj"
   ]
  },
  {
   "cell_type": "code",
   "execution_count": null,
   "id": "7bb01c83",
   "metadata": {},
   "outputs": [],
   "source": [
    "for p in num_drivers:\n",
    "    model += dVar[(0, p)] <= 0"
   ]
  },
  {
   "cell_type": "code",
   "execution_count": null,
   "id": "fb4acb40",
   "metadata": {},
   "outputs": [],
   "source": [
    "def travel_time_driver_lookup(i, j, p, travel_df, df_drivers):\n",
    "    d_temp = float(travel_df[(travel_df['Start']==i) & (travel_df['End']==j)]['Distance'].iloc[0])\n",
    "    v_temp = float(df_drivers.loc[p-1, 'velocity'])\n",
    "    return d_temp/v_temp*60"
   ]
  },
  {
   "cell_type": "code",
   "execution_count": null,
   "id": "98daa98c",
   "metadata": {},
   "outputs": [],
   "source": [
    "# # Step time calculation\n",
    "# for t in num_steps:\n",
    "#     model += dVar[(t)] == dVar[(t-1)] + lpSum([travel_time_lookup(i, j, travel_df) * xVar[(i,j,t)] \\\n",
    "#                                                for i in start_locations for j in restaurants]) + \\\n",
    "#                           lpSum([(travel_time_lookup(i, j, travel_df) + 5) * xVar[(i,j,t)] \\\n",
    "#                                  for i in start_locations for j in customers])"
   ]
  },
  {
   "cell_type": "code",
   "execution_count": null,
   "id": "a0036b4d",
   "metadata": {},
   "outputs": [],
   "source": [
    "# # Assign time to each travel in vVar\n",
    "# for i in start_locations:\n",
    "#     for j in end_locations:\n",
    "#         model += vVar[(i,j)] == travel_df[(travel_df['Start']==i) & (travel_df['End']==j)]['Time'].iloc[0]"
   ]
  },
  {
   "cell_type": "code",
   "execution_count": null,
   "id": "f70940e7",
   "metadata": {},
   "outputs": [],
   "source": [
    "# # Driver arrives after the food is ready\n",
    "# for t in num_steps:\n",
    "#     for i in start_locations:\n",
    "#         for j in range(0, int(len(order_locations)/2)):\n",
    "#             model += dVar[(t)] >= df.loc[j, 'Converted Availability'] * xVar[(i,df.loc[j, 'restaurant'],t)]"
   ]
  },
  {
   "cell_type": "code",
   "execution_count": null,
   "id": "11dd2a41",
   "metadata": {},
   "outputs": [],
   "source": [
    "# Step time calculation\n",
    "for p in num_drivers:\n",
    "    for t in num_steps:\n",
    "        model += aVar[(t,p)] == dVar[(t-1,p)] + lpSum([travel_time_driver_lookup(i, j, p, travel_df, df_drivers) * xVar[(i,j,t,p)] \\\n",
    "                                                   for i in start_locations for j in restaurants]) + \\\n",
    "                              lpSum([(travel_time_driver_lookup(i, j, p, travel_df, df_drivers) + 5) * xVar[(i,j,t,p)] \\\n",
    "                                     for i in start_locations for j in customers])\n",
    "        model += aVar[(t,p)] <= dVar[(t,p)]"
   ]
  },
  {
   "cell_type": "code",
   "execution_count": null,
   "id": "169ba167",
   "metadata": {},
   "outputs": [],
   "source": [
    "# Driver leaves after the food is ready\n",
    "for p in num_drivers:\n",
    "    for t in num_steps:\n",
    "        for i in start_locations:\n",
    "            for j in restaurants:\n",
    "                model += dVar[(t,p)] >= df[df['restaurant'] == j]['Converted Availability'].iloc[0] * xVar[(i,j,t,p)]"
   ]
  },
  {
   "cell_type": "code",
   "execution_count": null,
   "id": "e64daf5e",
   "metadata": {},
   "outputs": [],
   "source": [
    "# Visit restaurant before customer\n",
    "for p in num_drivers:\n",
    "    for t in num_steps: \n",
    "        for j in end_locations: \n",
    "            if j in customers: \n",
    "                model += pulp.lpSum( [xVar[i,j,t,p] for i in start_locations]) <= pulp.lpSum([xVar[i, restaurant_customer_match(j, order_df),t_,p] \\\n",
    "                                                                                            for i in start_locations \\\n",
    "                                                                                            for t_ in num_steps[:t]])"
   ]
  },
  {
   "cell_type": "code",
   "execution_count": null,
   "id": "5c8ca5f9",
   "metadata": {},
   "outputs": [],
   "source": [
    "# for p in num_drivers:\n",
    "#     for idx, row in df.iterrows():\n",
    "#         rst, cus, time = row['restaurant'], row['customer'], row['Converted Availability']\n",
    "#         for t in num_steps:\n",
    "#             model += wVar[(cus,t,p)] <= 10000000 * lpSum(xVar[(i,cus,t,p)] for i in start_locations if i != cus)\n",
    "\n",
    "#             model += wVar[(cus,t,p)] <= aVar[t,p] - time + 10000000 * (1 - lpSum(xVar[(i,cus,t,p)] for i in start_locations if i !=cus))\n",
    "#             model += wVar[(cus,t,p)] >= aVar[t,p] - time - 10000000 * (1 - lpSum(xVar[(i,cus,t,p)] for i in start_locations if i !=cus))"
   ]
  },
  {
   "cell_type": "code",
   "execution_count": null,
   "id": "80dbdf3a",
   "metadata": {},
   "outputs": [],
   "source": [
    "for p in num_drivers:\n",
    "    for idx, row in df.iterrows():\n",
    "        rst, cus, time = row['restaurant'], row['customer'], row['Converted Availability']\n",
    "        for t in num_steps:\n",
    "            model += wVar[(cus,t,p)] <= 10000000 * lpSum(xVar[(i,cus,t,p)] for i in start_locations)\n",
    "\n",
    "            model += wVar[(cus,t,p)] <= aVar[t,p] - time + 10000000 * (1 - lpSum(xVar[(i,cus,t,p)] for i in start_locations))\n",
    "            model += wVar[(cus,t,p)] >= aVar[t,p] - time - 10000000 * (1 - lpSum(xVar[(i,cus,t,p)] for i in start_locations))"
   ]
  },
  {
   "cell_type": "code",
   "execution_count": null,
   "id": "637ebc7a",
   "metadata": {},
   "outputs": [],
   "source": [
    "model += W >= lpSum(wVar[(c,t,p)] for c in customers for t in num_steps for p in num_drivers)/len(df)"
   ]
  },
  {
   "cell_type": "code",
   "execution_count": null,
   "id": "aa9f6284",
   "metadata": {},
   "outputs": [],
   "source": [
    "# Every location receives order once\n",
    "for j in end_locations: \n",
    "    model += lpSum([xVar[(i,j,t,p)] for i in start_locations for t in num_steps for p in num_drivers]) == 1"
   ]
  },
  {
   "cell_type": "code",
   "execution_count": null,
   "id": "153bcedd",
   "metadata": {},
   "outputs": [],
   "source": [
    "for p in num_drivers:\n",
    "    for t in num_steps:\n",
    "        model += lpSum([xVar[(i,j,t,p)] for i in start_locations for j in end_locations]) <= 1"
   ]
  },
  {
   "cell_type": "code",
   "execution_count": null,
   "id": "d53f40a2",
   "metadata": {},
   "outputs": [],
   "source": [
    "# Convervation of flow\n",
    "for p in num_drivers:\n",
    "    for t in num_steps[:-1]:\n",
    "        for j in end_locations:\n",
    "            if t == 1:\n",
    "                model += (lpSum([xVar[(i,j,t,p)] for i in start_locations]) >= lpSum([xVar[(j,k,t+1,p)] for k in end_locations]))\n",
    "            else:\n",
    "                model += (lpSum([xVar[(i,j,t,p)] for i in end_locations]) >= lpSum([xVar[(j,k,t+1,p)] for k in end_locations]))\n",
    "            \n",
    "#             model += (lpSum([xVar[(i,j,t,p)] for i in start_locations])) >= lpSum([xVar[(i,k,t+1,p)] for i in start_locations for k in end_locations])\n",
    "#             model += 1000000 * (1 - lpSum([xVar[(i,j,t,p)] for i in start_locations]))+1 >= (lpSum([xVar[(i,k,t+1,p)] for i in start_locations for k in end_locations]))\n",
    "#             model += (lpSum([xVar[(i,j,t,p)] for i in start_locations])) <=1\n",
    "#             model += (lpSum([xVar[(m,k,t+1,p)] for k in end_locations for m in start_locations if m!= j])) == 0\n",
    "\n",
    "            model += (lpSum([xVar[(m,k,t+1,p)] for k in end_locations for m in start_locations if m!= j])) <= 1000000 * (1 - lpSum([xVar[(i,j,t,p)] for i in start_locations]))\n",
    "            model += (lpSum([xVar[(m,k,t+1,p)] for k in end_locations for m in start_locations if m!= j])) >= - 1000000 * (1 - lpSum([xVar[(i,j,t,p)] for i in start_locations]))\n",
    "                                                                                                                         "
   ]
  },
  {
   "cell_type": "code",
   "execution_count": null,
   "id": "e4d1045d",
   "metadata": {},
   "outputs": [],
   "source": [
    "# # First node has an outflow of 1, others 0\n",
    "# model += lpSum([xVar[(start_locations[-1],j,1)] for j in restaurants]) == 1\n",
    "\n",
    "# for i in start_locations[:-1]:\n",
    "#     model += lpSum([xVar[(i,j,1)] for j in end_locations]) == 0"
   ]
  },
  {
   "cell_type": "code",
   "execution_count": null,
   "id": "741aa9fd",
   "metadata": {},
   "outputs": [],
   "source": [
    "# All drivers must have orders\n",
    "model += (lpSum([xVar[(i,j,1,p)] for i in start_locations for j in end_locations for p in num_drivers])) == len(num_drivers)  "
   ]
  },
  {
   "cell_type": "code",
   "execution_count": null,
   "id": "d731438c",
   "metadata": {},
   "outputs": [],
   "source": [
    "# Drivers must start from different origins\n",
    "for i in start_locations[-len(num_drivers):]:\n",
    "    model += (lpSum([xVar[(i,j,1,p)] for j in end_locations for p in num_drivers])) == 1"
   ]
  },
  {
   "cell_type": "code",
   "execution_count": null,
   "id": "11a3d735",
   "metadata": {},
   "outputs": [],
   "source": [
    "# Each driver can only go to 1 location from their origins in step 1\n",
    "for p in num_drivers:\n",
    "    model += (lpSum([xVar[(driver_origins[p-1],j,1,p)] for j in end_locations])) <= 1"
   ]
  },
  {
   "cell_type": "code",
   "execution_count": null,
   "id": "57d84689",
   "metadata": {},
   "outputs": [],
   "source": [
    "for p in num_drivers:\n",
    "    for i in start_locations[:-len(num_drivers)]:\n",
    "        model += (lpSum([xVar[(i,j,1,p)] for j in end_locations])) == 0"
   ]
  },
  {
   "cell_type": "markdown",
   "id": "a16a8d53",
   "metadata": {},
   "source": [
    "## Solve"
   ]
  },
  {
   "cell_type": "code",
   "execution_count": null,
   "id": "c17c85a7",
   "metadata": {},
   "outputs": [],
   "source": [
    "# Solve the model\n",
    "model.solve()\n",
    "print(\"Status:\", LpStatus[model.status])"
   ]
  },
  {
   "cell_type": "code",
   "execution_count": null,
   "id": "7fad2744",
   "metadata": {},
   "outputs": [],
   "source": [
    "# Total Distance\n",
    "total_distance = pulp.value(model.objective)\n",
    "print(\"Total Distance: \" , total_distance)"
   ]
  },
  {
   "cell_type": "code",
   "execution_count": null,
   "id": "9819871b",
   "metadata": {},
   "outputs": [],
   "source": [
    "# Print the results\n",
    "path=[]\n",
    "for p in num_drivers:\n",
    "    print('Driver number: ' + str(p))\n",
    "    for t in num_steps:\n",
    "        print(f'step:{t}\\n')\n",
    "        for i in start_locations:\n",
    "             for j in end_locations:\n",
    "                    if (xVar[(i,j,t,p)].varValue == 1) :\n",
    "                        print(f\"TRAVEL FROM {i}  TO {j}\")\n",
    "\n",
    "                        if i not in path:\n",
    "                            path.append(i)\n",
    "                        if j not in path:\n",
    "                            path.append(j)"
   ]
  },
  {
   "cell_type": "code",
   "execution_count": null,
   "id": "c5264cb6",
   "metadata": {},
   "outputs": [],
   "source": [
    "route_=[]\n",
    "for index,r in enumerate(path):\n",
    "    lat=df_regions.loc[df_regions['name'] == r]['latitude'].values[0]\n",
    "    log=df_regions.loc[df_regions['name'] == r]['longitude'].values[0]\n",
    "    route_.append((lat,log))"
   ]
  },
  {
   "cell_type": "code",
   "execution_count": null,
   "id": "4984e40a",
   "metadata": {},
   "outputs": [],
   "source": [
    "import matplotlib.colors as mcolors"
   ]
  },
  {
   "cell_type": "code",
   "execution_count": null,
   "id": "8628f8c2",
   "metadata": {},
   "outputs": [],
   "source": [
    "# Load the GeoJSON data for Toronto from a URL\n",
    "url = 'https://raw.githubusercontent.com/jasonicarter/toronto-geojson/master/toronto_crs84.geojson'\n",
    "response = requests.get(url)\n",
    "toronto_geojson = response.json()\n",
    "\n",
    "# Create a map of Toronto\n",
    "m = folium.Map(location=[43.6532, -79.3832], zoom_start=12)\n",
    "\n",
    "# Add the GeoJSON data to the map as a layer\n",
    "folium.GeoJson(toronto_geojson).add_to(m)\n",
    "\n",
    "# Get a list of colors for the different routes\n",
    "colors = list(mcolors.TABLEAU_COLORS.values())\n",
    "\n",
    "# Iterate over the drivers\n",
    "for driver_num, p in enumerate(num_drivers):\n",
    "    path = []\n",
    "    for t in num_steps:\n",
    "        for i in start_locations:\n",
    "            for j in end_locations:\n",
    "                if xVar[(i, j, t, p)].varValue == 1:\n",
    "                    if i not in path:\n",
    "                        path.append(i)\n",
    "                    if j not in path:\n",
    "                        path.append(j)\n",
    "\n",
    "    route_ = []\n",
    "    for index, r in enumerate(path):\n",
    "        lat = df_regions.loc[df_regions['name'] == r]['latitude'].values[0]\n",
    "        log = df_regions.loc[df_regions['name'] == r]['longitude'].values[0]\n",
    "        route_.append((lat, log))\n",
    "\n",
    "    # Add the route to the map as a PolyLine\n",
    "    folium.PolyLine(route_, color=colors[driver_num % len(colors)]).add_to(m)\n",
    "\n",
    "    # Add numbered markers for each location to the map\n",
    "    for i, location in enumerate(route_):\n",
    "        folium.Marker(location=location, icon=folium.Icon(color=colors[driver_num % len(colors)]),\n",
    "                      popup=f\"Driver {p}: {i + 1}\").add_to(m)\n",
    "\n",
    "# Display the map\n",
    "m"
   ]
  },
  {
   "cell_type": "code",
   "execution_count": null,
   "id": "77aaa6cd",
   "metadata": {
    "scrolled": false
   },
   "outputs": [],
   "source": [
    "# Print Results\n",
    "for p in num_drivers:\n",
    "    print('Driver number: ' + str(p))\n",
    "    for t in num_steps: \n",
    "        print('\\tStop number: ' + str(t))\n",
    "        print('\\tTravel time(mins): ' + str(dVar[t,p].varValue))\n",
    "\n",
    "        for i in start_locations: \n",
    "            for j in end_locations: \n",
    "\n",
    "                if xVar[(i,j,t,p)].varValue > 0.0:\n",
    "                    print('\\t\\tLeft from location: ' + str(i))\n",
    "                    print('\\t\\tArrived at location: ' + str(j))\n",
    "                    print('\\t\\tWait time: ' + str(wVar[(j,t,p)].varValue))\n",
    "    #                 print('\\tSum of wait times: ' + str(zVar[t].varValue))\n",
    "total_wait_time = sum([wVar[(j,t,p)].varValue for j in end_locations for t in num_steps for p in num_drivers if wVar[(j,t,p)].varValue != None])\n",
    "print('Total wait: ' + str(total_wait_time))\n",
    "# wait_time = str(zVar[t].varValue / len(customers))              \n",
    "# print('Average wait: ' + wait_time)"
   ]
  },
  {
   "cell_type": "code",
   "execution_count": null,
   "id": "2ad3475a",
   "metadata": {},
   "outputs": [],
   "source": [
    "xVar[('Downtown Toronto (Richmond / Adelaide / King)','Downtown Toronto (Central Bay Street)',1,3)].varValue"
   ]
  },
  {
   "cell_type": "code",
   "execution_count": null,
   "id": "643d70f1",
   "metadata": {},
   "outputs": [],
   "source": [
    "for p in num_drivers:\n",
    "    print(\"p: \" + str(p))\n",
    "    for t in num_steps[:-1]:\n",
    "        print(\"t: \" + str(t))\n",
    "        for j in end_locations:\n",
    "            print(\"j: \" + str(j))\n",
    "            print('sum1: ' + str(sum([xVar[(i,j,t,p)].varValue for i in start_locations])))\n",
    "            print('sum2: ' + str(sum([xVar[(j,k,t+1,p)].varValue for k in end_locations])))\n",
    "#             print('sum2: ' + str(sum([xVar[(i,k,t+1,p)].varValue for k in end_locations])))\n",
    "            \n",
    "    print(\"===========================================\")"
   ]
  },
  {
   "cell_type": "markdown",
   "id": "7205eb53",
   "metadata": {},
   "source": [
    "## Driver Number Change"
   ]
  },
  {
   "cell_type": "markdown",
   "id": "1b2ac757",
   "metadata": {},
   "source": [
    "## Data Preparation"
   ]
  },
  {
   "cell_type": "code",
   "execution_count": null,
   "id": "9e673fcd",
   "metadata": {},
   "outputs": [],
   "source": [
    "# Route variables\n",
    "W = 10000\n",
    "df = df_orders.copy()"
   ]
  },
  {
   "cell_type": "code",
   "execution_count": null,
   "id": "851d9de4",
   "metadata": {},
   "outputs": [],
   "source": [
    "# Get start and end locations\n",
    "start_locations = list(df['restaurant'].unique()) + list(df['customer'].unique())\n",
    "end_locations = start_locations.copy()\n",
    "\n",
    "start_locations = list(dict.fromkeys(start_locations))\n",
    "end_locations = list(dict.fromkeys(end_locations))"
   ]
  },
  {
   "cell_type": "code",
   "execution_count": null,
   "id": "ce20cc22",
   "metadata": {},
   "outputs": [],
   "source": [
    "order_locations = list(df['restaurant']) + list(df['customer'])\n",
    "order_locations"
   ]
  },
  {
   "cell_type": "code",
   "execution_count": null,
   "id": "f48509d7",
   "metadata": {},
   "outputs": [],
   "source": [
    "# Calculate the number of stops \n",
    "num_steps = np.arange(1, len(end_locations)+1).tolist()"
   ]
  },
  {
   "cell_type": "code",
   "execution_count": null,
   "id": "2918aeba",
   "metadata": {},
   "outputs": [],
   "source": [
    "# Get unique Restraurants and Customers\n",
    "restaurants = df['restaurant'].unique().tolist()\n",
    "customers = df['customer'].unique().tolist()"
   ]
  },
  {
   "cell_type": "code",
   "execution_count": null,
   "id": "f7fe2294",
   "metadata": {},
   "outputs": [],
   "source": [
    "order_df = pd.DataFrame({'Restaurant':[], 'Customer':[]})\n",
    "\n",
    "for index, row in df.iterrows():\n",
    "    order_df.loc[index, 'Restaurant'] = row[\"restaurant\"]\n",
    "    order_df.loc[index, 'Customer'] = row[\"customer\"]\n",
    "\n",
    "order_df"
   ]
  },
  {
   "cell_type": "code",
   "execution_count": null,
   "id": "40f12815",
   "metadata": {
    "scrolled": true
   },
   "outputs": [],
   "source": [
    "travel_df = pd.DataFrame({'Start':[], 'End': [], 'Distance': [], 'Time': []})\n",
    "\n",
    "\n",
    "for i in start_locations:\n",
    "    for j in end_locations: \n",
    "        if i == j:\n",
    "            new_row_data = {'Start': i, 'End': j, 'Distance': 0, 'Time': 0}\n",
    "            new_row = pd.DataFrame(new_row_data, index=[0])\n",
    "            travel_df = pd.concat([travel_df, new_row], ignore_index=True)\n",
    "        else:\n",
    "            d_temp = float(df_distances[(df_distances['origin'] == i) & \n",
    "                                                          (df_distances['destination'] == j)]['distance'])\n",
    "            t_temp = d_temp/average_velocity * 60\n",
    "            new_row_data = {'Start': i, 'End': j, 'Distance': d_temp, 'Time': t_temp}\n",
    "            new_row = pd.DataFrame(new_row_data, index=[0])\n",
    "            travel_df = pd.concat([travel_df, new_row], ignore_index=True)\n",
    "\n",
    "travel_df.head()"
   ]
  },
  {
   "cell_type": "code",
   "execution_count": null,
   "id": "0ab01296",
   "metadata": {},
   "outputs": [],
   "source": [
    "df['estimated availability'] = pd.to_datetime(df['estimated availability'])\n",
    "df['Converted Availability'] = (df['estimated availability'] - df['estimated availability'].min()).dt.total_seconds() / 60"
   ]
  },
  {
   "cell_type": "code",
   "execution_count": null,
   "id": "1cd662fa",
   "metadata": {},
   "outputs": [],
   "source": [
    "df"
   ]
  },
  {
   "cell_type": "markdown",
   "id": "14de14d4",
   "metadata": {},
   "source": [
    "## Model"
   ]
  },
  {
   "cell_type": "code",
   "execution_count": null,
   "id": "178a8642",
   "metadata": {},
   "outputs": [],
   "source": [
    "def multiple_driver_with_infinite_W(W, df_drivers):\n",
    "    \n",
    "    number_drivers = len(df_drivers)\n",
    "    num_drivers = list(range(1,len(df_drivers)+1))\n",
    "    print(\"Driver Number: \" + str(number_drivers))\n",
    "    driver_origins = df_drivers['start region'].to_list()\n",
    "    \n",
    "    for starting_location in driver_origins:\n",
    "    \n",
    "        if starting_location in start_locations:\n",
    "            start_locations.remove(starting_location)\n",
    "            start_locations.append(starting_location)\n",
    "        else:\n",
    "            start_locations.append(starting_location)\n",
    "\n",
    "    travel_df = pd.DataFrame({'Start':[], 'End': [], 'Distance': [], 'Time': []})\n",
    "\n",
    "    for i in start_locations:\n",
    "        for j in end_locations: \n",
    "            if i == j:\n",
    "                new_row_data = {'Start': i, 'End': j, 'Distance': 0, 'Time': 0}\n",
    "                new_row = pd.DataFrame(new_row_data, index=[0])\n",
    "                travel_df = pd.concat([travel_df, new_row], ignore_index=True)\n",
    "            else:\n",
    "                d_temp = float(df_distances[(df_distances['origin'] == i) & \n",
    "                                                              (df_distances['destination'] == j)]['distance'])\n",
    "                t_temp = d_temp/average_velocity * 60\n",
    "                new_row_data = {'Start': i, 'End': j, 'Distance': d_temp, 'Time': t_temp}\n",
    "                new_row = pd.DataFrame(new_row_data, index=[0])\n",
    "                travel_df = pd.concat([travel_df, new_row], ignore_index=True)\n",
    "\n",
    "    travel_df.head()\n",
    "    \n",
    "\n",
    "    model = LpProblem(name = 'Part3_Model', sense = LpMinimize)\n",
    "\n",
    "    xVar = LpVariable.dict('x', (start_locations, end_locations, num_steps, num_drivers), cat = LpBinary)\n",
    "    dVar = LpVariable.dict('d', ([0] + num_steps, num_drivers), lowBound = -9999.0, cat = LpContinuous)\n",
    "    aVar = LpVariable.dict('a', ([0] + num_steps, num_drivers), lowBound = -9999.0, cat = LpContinuous)\n",
    "    wVar = LpVariable.dict('w', (start_locations, num_steps, num_drivers), lowBound = 0.0, cat = LpContinuous)\n",
    "\n",
    "    obj = lpSum([travel_df[(travel_df['Start']==i) & (travel_df['End']==j)]['Distance'].iloc[0] * xVar[(i,j,t,p)] \\\n",
    "                 for i in start_locations for j in end_locations for t in num_steps for p in num_drivers])\n",
    "    model += obj\n",
    "\n",
    "    for p in num_drivers:\n",
    "        model += dVar[(0, p)] <= 0\n",
    "\n",
    "    def travel_time_driver_lookup(i, j, p, travel_df, df_drivers):\n",
    "        d_temp = float(travel_df[(travel_df['Start']==i) & (travel_df['End']==j)]['Distance'].iloc[0])\n",
    "        v_temp = float(df_drivers.loc[p-1, 'velocity'])\n",
    "        return d_temp/v_temp*60\n",
    "\n",
    "    # Step time calculation\n",
    "    for p in num_drivers:\n",
    "        for t in num_steps:\n",
    "            model += aVar[(t,p)] == dVar[(t-1,p)] + lpSum([travel_time_driver_lookup(i, j, p, travel_df, df_drivers) * xVar[(i,j,t,p)] \\\n",
    "                                                       for i in start_locations for j in restaurants]) + \\\n",
    "                                  lpSum([(travel_time_driver_lookup(i, j, p, travel_df, df_drivers) + 5) * xVar[(i,j,t,p)] \\\n",
    "                                         for i in start_locations for j in customers])\n",
    "            model += aVar[(t,p)] <= dVar[(t,p)]\n",
    "\n",
    "    # Driver leaves after the food is ready\n",
    "    for p in num_drivers:\n",
    "        for t in num_steps:\n",
    "            for i in start_locations:\n",
    "                for j in restaurants:\n",
    "                    model += dVar[(t,p)] >= df[df['restaurant'] == j]['Converted Availability'].iloc[0] * xVar[(i,j,t,p)]\n",
    "\n",
    "    # Visit restaurant before customer\n",
    "    for p in num_drivers:\n",
    "        for t in num_steps: \n",
    "            for j in end_locations: \n",
    "                if j in customers: \n",
    "                    model += pulp.lpSum( [xVar[i,j,t,p] for i in start_locations]) <= pulp.lpSum([xVar[i, restaurant_customer_match(j, order_df),t_,p] \\\n",
    "                                                                                                for i in start_locations \\\n",
    "                                                                                                for t_ in num_steps[:t]])\n",
    "\n",
    "    for p in num_drivers:\n",
    "        for idx, row in df.iterrows():\n",
    "            rst, cus, time = row['restaurant'], row['customer'], row['Converted Availability']\n",
    "            for t in num_steps:\n",
    "                model += wVar[(cus,t,p)] <= 10000000 * lpSum(xVar[(i,cus,t,p)] for i in start_locations)\n",
    "\n",
    "                model += wVar[(cus,t,p)] <= aVar[t,p] - time + 10000000 * (1 - lpSum(xVar[(i,cus,t,p)] for i in start_locations))\n",
    "                model += wVar[(cus,t,p)] >= aVar[t,p] - time - 10000000 * (1 - lpSum(xVar[(i,cus,t,p)] for i in start_locations))\n",
    "\n",
    "    model += W >= lpSum(wVar[(c,t,p)] for c in customers for t in num_steps for p in num_drivers)/len(df)\n",
    "\n",
    "    # Every location receives order once\n",
    "    for j in end_locations: \n",
    "        model += lpSum([xVar[(i,j,t,p)] for i in start_locations for t in num_steps for p in num_drivers]) == 1\n",
    "\n",
    "    for p in num_drivers:\n",
    "        for t in num_steps:\n",
    "            model += lpSum([xVar[(i,j,t,p)] for i in start_locations for j in end_locations]) <= 1\n",
    "\n",
    "    # Convervation of flow\n",
    "    for p in num_drivers:\n",
    "        for t in num_steps[:-1]:\n",
    "            for j in end_locations:\n",
    "                if t == 1:\n",
    "                    model += (lpSum([xVar[(i,j,t,p)] for i in start_locations]) >= lpSum([xVar[(j,k,t+1,p)] for k in end_locations]))\n",
    "                else:\n",
    "                    model += (lpSum([xVar[(i,j,t,p)] for i in end_locations]) >= lpSum([xVar[(j,k,t+1,p)] for k in end_locations]))\n",
    "\n",
    "                model += (lpSum([xVar[(m,k,t+1,p)] for k in end_locations for m in start_locations if m!= j])) <= 1000000 * (1 - lpSum([xVar[(i,j,t,p)] for i in start_locations]))\n",
    "                model += (lpSum([xVar[(m,k,t+1,p)] for k in end_locations for m in start_locations if m!= j])) >= - 1000000 * (1 - lpSum([xVar[(i,j,t,p)] for i in start_locations]))\n",
    "\n",
    "\n",
    "    # All drivers must have orders\n",
    "    model += (lpSum([xVar[(i,j,1,p)] for i in start_locations for j in end_locations for p in num_drivers])) == len(num_drivers)  \n",
    "\n",
    "    # Drivers must start from different origins\n",
    "    for i in start_locations[-len(num_drivers):]:\n",
    "        model += (lpSum([xVar[(i,j,1,p)] for j in end_locations for p in num_drivers])) == 1\n",
    "\n",
    "    # Each driver can only go to 1 location from their origins in step 1\n",
    "    for p in num_drivers:\n",
    "        model += (lpSum([xVar[(driver_origins[p-1],j,1,p)] for j in end_locations])) <= 1\n",
    "\n",
    "    for p in num_drivers:\n",
    "        for i in start_locations[:-len(num_drivers)]:\n",
    "            model += (lpSum([xVar[(i,j,1,p)] for j in end_locations])) == 0\n",
    "            \n",
    "    # Solve the model\n",
    "    model.solve()\n",
    "    print(\"Status:\", LpStatus[model.status])\n",
    "    model_status = LpStatus[model.status]\n",
    "    \n",
    "    if LpStatus[model.status] == 'Optimal':\n",
    "    \n",
    "        total_distance = pulp.value(model.objective)\n",
    "        print(\"Total Distance: \" , total_distance)\n",
    "\n",
    "        total_wait_time = sum([wVar[(j,t,p)].varValue for j in end_locations for t in num_steps for p in num_drivers if wVar[(j,t,p)].varValue != None])\n",
    "        print('Total wait: ' + str(total_wait_time))\n",
    "        \n",
    "        avg_wait_time = total_wait_time/len(customers)\n",
    "        print('Average wait: ' + str(avg_wait_time))\n",
    "        \n",
    "    else:\n",
    "        total_distance = 0\n",
    "        total_wait_time = 0\n",
    "        avg_wait_time = 0\n",
    "    \n",
    "    print('=======================================')\n",
    "        \n",
    "    return {'number_drivers': number_drivers,\n",
    "           'model_status': model_status,\n",
    "           'total_distance': total_distance,\n",
    "           'total_wait_time': total_wait_time,\n",
    "            'avg_wait_time': avg_wait_time\n",
    "           }"
   ]
  },
  {
   "cell_type": "code",
   "execution_count": null,
   "id": "f77f3735",
   "metadata": {},
   "outputs": [],
   "source": [
    "end_locations"
   ]
  },
  {
   "cell_type": "code",
   "execution_count": null,
   "id": "212de6c8",
   "metadata": {},
   "outputs": [],
   "source": [
    "start_locations"
   ]
  },
  {
   "cell_type": "code",
   "execution_count": null,
   "id": "83d18d00",
   "metadata": {},
   "outputs": [],
   "source": [
    "travel_df"
   ]
  },
  {
   "cell_type": "code",
   "execution_count": null,
   "id": "0c01b237",
   "metadata": {
    "scrolled": false
   },
   "outputs": [],
   "source": [
    "result_list = []\n",
    "driver_r_list = []\n",
    "\n",
    "combinations = []\n",
    "for i in range(1, len(df_drivers) + 1):\n",
    "    for subset in itertools.combinations(df_drivers.index, i):\n",
    "        combinations.append(subset)\n",
    "\n",
    "dataframes = []\n",
    "for combination in combinations:\n",
    "    dataframes.append(df_drivers.loc[list(combination)])\n",
    "\n",
    "for i, df_combination in enumerate(dataframes):\n",
    "    r = multiple_driver_with_infinite_W(W, df_combination.copy().reset_index(drop=True))\n",
    "    result_list.append(r)\n",
    "    driver_r_list.append(df_combination['start region'].tolist())\n",
    "    \n",
    "\n",
    "scatter_list = []    \n",
    "for result in result_list:\n",
    "    scatter_list.append((result['number_drivers'], result['total_distance'], result['avg_wait_time']))\n",
    "    \n",
    "display(result_list)\n",
    "display(driver_r_list)\n",
    "    \n",
    "number_drivers, total_distance, avg_wait_time = zip(*scatter_list)\n",
    "\n",
    "# Normalize the avg_wait_time for better representation in the plot\n",
    "normalized_wait_time = [x * 50 for x in avg_wait_time]\n",
    "\n",
    "# # Create the scatter plot\n",
    "# plt.scatter(number_drivers, total_distance, s=normalized_wait_time, alpha=0.5)\n",
    "# plt.xlabel('Number of Drivers')\n",
    "# plt.ylabel('Total Distance')\n",
    "# plt.title('Scatter plot of Total Distance vs Number of Drivers')\n",
    "\n",
    "# # Show the plot\n",
    "# plt.show()"
   ]
  },
  {
   "cell_type": "code",
   "execution_count": null,
   "id": "81e5423c",
   "metadata": {},
   "outputs": [],
   "source": [
    "# Separate the data into lists\n",
    "number_drivers = [x[0] for x in scatter_list]\n",
    "total_distance = [x[1] for x in scatter_list]\n",
    "avg_wait_time = [x[2] for x in scatter_list]\n",
    "\n",
    "# Create a scatter plot\n",
    "for drivers in set(number_drivers):\n",
    "    mask = [x == drivers for x in number_drivers]\n",
    "    plt.scatter([total_distance[i] for i in range(len(mask)) if mask[i]],\n",
    "                [avg_wait_time[i] for i in range(len(mask)) if mask[i]],\n",
    "                s=[drivers * 50 for i in range(len(mask)) if mask[i]],\n",
    "                label=f'{drivers} drivers', alpha=0.5)\n",
    "\n",
    "# Set axis labels and title\n",
    "plt.xlabel('Total Distance')\n",
    "plt.ylabel('Average Wait Time')\n",
    "plt.title('Scatter plot of Total Distance vs Average Wait Time')\n",
    "\n",
    "# Add a legend\n",
    "plt.legend(title='Number of drivers')\n",
    "\n",
    "# Show the plot\n",
    "plt.show()"
   ]
  },
  {
   "cell_type": "code",
   "execution_count": null,
   "id": "3aadb9bb",
   "metadata": {},
   "outputs": [],
   "source": [
    "test_W = range(0, 120, 30)\n",
    "result_dict = {}\n",
    "total_distance_list = []\n",
    "avg_wait_time_list = []\n",
    "\n",
    "for w in test_W:\n",
    "    print('W is: ' + str(w))\n",
    "    result_dict[w] = multiple_driver_with_infinite_W(w, df_drivers.copy())\n",
    "    total_distance_list.append(result_dict[w]['total_distance'])\n",
    "    avg_wait_time_list.append(result_dict[w]['avg_wait_time'])\n",
    "    \n",
    "# Plot the optimal W Value\n",
    "plt.plot(test_W, total_distance_list)\n",
    "plt.xlabel('W Constraints')\n",
    "plt.ylabel('Total Distance')\n",
    "plt.title('W Constraints vs Total Distance - Trade-off Curve')\n",
    "plt.grid(True)"
   ]
  },
  {
   "cell_type": "markdown",
   "id": "48ad6cd0",
   "metadata": {},
   "source": [
    "## New metric - Max Wait Time"
   ]
  },
  {
   "cell_type": "code",
   "execution_count": null,
   "id": "d4fbbb74",
   "metadata": {},
   "outputs": [],
   "source": [
    "def multiple_driver_with_infinite_W_max(W, df_drivers):\n",
    "    \n",
    "    number_drivers = len(df_drivers)\n",
    "    num_drivers = list(range(1,len(df_drivers)+1))\n",
    "    print(\"Driver Number: \" + str(number_drivers))\n",
    "    driver_origins = df_drivers['start region'].to_list()\n",
    "    \n",
    "    for starting_location in driver_origins:\n",
    "    \n",
    "        if starting_location in start_locations:\n",
    "            start_locations.remove(starting_location)\n",
    "            start_locations.append(starting_location)\n",
    "        else:\n",
    "            start_locations.append(starting_location)\n",
    "\n",
    "    travel_df = pd.DataFrame({'Start':[], 'End': [], 'Distance': [], 'Time': []})\n",
    "\n",
    "    for i in start_locations:\n",
    "        for j in end_locations: \n",
    "            if i == j:\n",
    "                new_row_data = {'Start': i, 'End': j, 'Distance': 0, 'Time': 0}\n",
    "                new_row = pd.DataFrame(new_row_data, index=[0])\n",
    "                travel_df = pd.concat([travel_df, new_row], ignore_index=True)\n",
    "            else:\n",
    "                d_temp = float(df_distances[(df_distances['origin'] == i) & \n",
    "                                                              (df_distances['destination'] == j)]['distance'])\n",
    "                t_temp = d_temp/average_velocity * 60\n",
    "                new_row_data = {'Start': i, 'End': j, 'Distance': d_temp, 'Time': t_temp}\n",
    "                new_row = pd.DataFrame(new_row_data, index=[0])\n",
    "                travel_df = pd.concat([travel_df, new_row], ignore_index=True)\n",
    "\n",
    "    travel_df.head()\n",
    "    \n",
    "\n",
    "    model = LpProblem(name = 'Part3_Model', sense = LpMinimize)\n",
    "\n",
    "    xVar = LpVariable.dict('x', (start_locations, end_locations, num_steps, num_drivers), cat = LpBinary)\n",
    "    dVar = LpVariable.dict('d', ([0] + num_steps, num_drivers), lowBound = -9999.0, cat = LpContinuous)\n",
    "    aVar = LpVariable.dict('a', ([0] + num_steps, num_drivers), lowBound = -9999.0, cat = LpContinuous)\n",
    "    wVar = LpVariable.dict('w', (start_locations, num_steps, num_drivers), lowBound = 0.0, cat = LpContinuous)\n",
    "    max_var = pulp.LpVariable(\"max_var\", lowBound=0.0, cat = LpContinuous)\n",
    "    \n",
    "    obj = max_var\n",
    "    \n",
    "#     obj = lpSum([travel_df[(travel_df['Start']==i) & (travel_df['End']==j)]['Distance'].iloc[0] * xVar[(i,j,t,p)] \\\n",
    "#                  for i in start_locations for j in end_locations for t in num_steps for p in num_drivers])\n",
    "    model += obj\n",
    "\n",
    "    for p in num_drivers:\n",
    "        model += dVar[(0, p)] <= 0\n",
    "\n",
    "    def travel_time_driver_lookup(i, j, p, travel_df, df_drivers):\n",
    "        d_temp = float(travel_df[(travel_df['Start']==i) & (travel_df['End']==j)]['Distance'].iloc[0])\n",
    "        v_temp = float(df_drivers.loc[p-1, 'velocity'])\n",
    "        return d_temp/v_temp*60\n",
    "\n",
    "    # Step time calculation\n",
    "    for p in num_drivers:\n",
    "        for t in num_steps:\n",
    "            model += aVar[(t,p)] == dVar[(t-1,p)] + lpSum([travel_time_driver_lookup(i, j, p, travel_df, df_drivers) * xVar[(i,j,t,p)] \\\n",
    "                                                       for i in start_locations for j in restaurants]) + \\\n",
    "                                  lpSum([(travel_time_driver_lookup(i, j, p, travel_df, df_drivers) + 5) * xVar[(i,j,t,p)] \\\n",
    "                                         for i in start_locations for j in customers])\n",
    "            model += aVar[(t,p)] <= dVar[(t,p)]\n",
    "\n",
    "    # Driver leaves after the food is ready\n",
    "    for p in num_drivers:\n",
    "        for t in num_steps:\n",
    "            for i in start_locations:\n",
    "                for j in restaurants:\n",
    "                    model += dVar[(t,p)] >= df[df['restaurant'] == j]['Converted Availability'].iloc[0] * xVar[(i,j,t,p)]\n",
    "\n",
    "    # Visit restaurant before customer\n",
    "    for p in num_drivers:\n",
    "        for t in num_steps: \n",
    "            for j in end_locations: \n",
    "                if j in customers: \n",
    "                    model += pulp.lpSum( [xVar[i,j,t,p] for i in start_locations]) <= pulp.lpSum([xVar[i, restaurant_customer_match(j, order_df),t_,p] \\\n",
    "                                                                                                for i in start_locations \\\n",
    "                                                                                                for t_ in num_steps[:t]])\n",
    "\n",
    "    for p in num_drivers:\n",
    "        for idx, row in df.iterrows():\n",
    "            rst, cus, time = row['restaurant'], row['customer'], row['Converted Availability']\n",
    "            for t in num_steps:\n",
    "                model += wVar[(cus,t,p)] <= 10000000 * lpSum(xVar[(i,cus,t,p)] for i in start_locations)\n",
    "\n",
    "                model += wVar[(cus,t,p)] <= aVar[t,p] - time + 10000000 * (1 - lpSum(xVar[(i,cus,t,p)] for i in start_locations))\n",
    "                model += wVar[(cus,t,p)] >= aVar[t,p] - time - 10000000 * (1 - lpSum(xVar[(i,cus,t,p)] for i in start_locations))\n",
    "    \n",
    "    for t in num_steps:\n",
    "        for j in end_locations:\n",
    "            model += max_var >= wVar[(j, t, p)]\n",
    "            \n",
    "    model += W >= lpSum(wVar[(c,t,p)] for c in customers for t in num_steps for p in num_drivers)/len(df)\n",
    "\n",
    "    # Every location receives order once\n",
    "    for j in end_locations: \n",
    "        model += lpSum([xVar[(i,j,t,p)] for i in start_locations for t in num_steps for p in num_drivers]) == 1\n",
    "\n",
    "    for p in num_drivers:\n",
    "        for t in num_steps:\n",
    "            model += lpSum([xVar[(i,j,t,p)] for i in start_locations for j in end_locations]) <= 1\n",
    "\n",
    "    # Convervation of flow\n",
    "    for p in num_drivers:\n",
    "        for t in num_steps[:-1]:\n",
    "            for j in end_locations:\n",
    "                if t == 1:\n",
    "                    model += (lpSum([xVar[(i,j,t,p)] for i in start_locations]) >= lpSum([xVar[(j,k,t+1,p)] for k in end_locations]))\n",
    "                else:\n",
    "                    model += (lpSum([xVar[(i,j,t,p)] for i in end_locations]) >= lpSum([xVar[(j,k,t+1,p)] for k in end_locations]))\n",
    "\n",
    "                model += (lpSum([xVar[(m,k,t+1,p)] for k in end_locations for m in start_locations if m!= j])) <= 1000000 * (1 - lpSum([xVar[(i,j,t,p)] for i in start_locations]))\n",
    "                model += (lpSum([xVar[(m,k,t+1,p)] for k in end_locations for m in start_locations if m!= j])) >= - 1000000 * (1 - lpSum([xVar[(i,j,t,p)] for i in start_locations]))\n",
    "\n",
    "\n",
    "    # All drivers must have orders\n",
    "    model += (lpSum([xVar[(i,j,1,p)] for i in start_locations for j in end_locations for p in num_drivers])) == len(num_drivers)  \n",
    "\n",
    "    # Drivers must start from different origins\n",
    "    for i in start_locations[-len(num_drivers):]:\n",
    "        model += (lpSum([xVar[(i,j,1,p)] for j in end_locations for p in num_drivers])) == 1\n",
    "\n",
    "    # Each driver can only go to 1 location from their origins in step 1\n",
    "    for p in num_drivers:\n",
    "        model += (lpSum([xVar[(driver_origins[p-1],j,1,p)] for j in end_locations])) <= 1\n",
    "\n",
    "    for p in num_drivers:\n",
    "        for i in start_locations[:-len(num_drivers)]:\n",
    "            model += (lpSum([xVar[(i,j,1,p)] for j in end_locations])) == 0\n",
    "            \n",
    "    # Solve the model\n",
    "    model.solve()\n",
    "    print(\"Status:\", LpStatus[model.status])\n",
    "    model_status = LpStatus[model.status]\n",
    "    \n",
    "    total_dist_temp = 0\n",
    "    for i in start_locations:\n",
    "        for j in end_locations:\n",
    "            for t in num_steps:\n",
    "                total_dist_temp += travel_df[(travel_df['Start']==i) & (travel_df['End']==j)]['Distance'].iloc[0] * xVar[(i,j,t)].varValue\n",
    "    \n",
    "    \n",
    "    if LpStatus[model.status] == 'Optimal':\n",
    "    \n",
    "        max_wait_time = pulp.value(model.objective)\n",
    "        print(\"Max Wait Time: \" , max_wait_time)\n",
    "        \n",
    "        print(\"Total Distance: \" , total_dist_temp)\n",
    "\n",
    "        total_wait_time = sum([wVar[(j,t,p)].varValue for j in end_locations for t in num_steps for p in num_drivers if wVar[(j,t,p)].varValue != None])\n",
    "        print('Total wait: ' + str(total_wait_time))\n",
    "        \n",
    "        avg_wait_time = total_wait_time/len(customers)\n",
    "        print('Average wait: ' + str(avg_wait_time))\n",
    "        \n",
    "    else:\n",
    "        max_wait_time = 0\n",
    "        total_wait_time = 0\n",
    "        avg_wait_time = 0\n",
    "        total_dist_temp = 0\n",
    "    \n",
    "    print('=======================================')\n",
    "        \n",
    "    return {'number_drivers': number_drivers,\n",
    "           'model_status': model_status,\n",
    "           'total_dist_temp': total_dist_temp,\n",
    "           'max_wait_time': max_wait_time,\n",
    "           'total_wait_time': total_wait_time,\n",
    "            'avg_wait_time': avg_wait_time\n",
    "           }\n"
   ]
  },
  {
   "cell_type": "code",
   "execution_count": null,
   "id": "4cfb9ab8",
   "metadata": {},
   "outputs": [],
   "source": [
    "result_dict_temp = multiple_driver_with_infinite_W_max(120, df_drivers.copy())\n",
    "result_dict_temp"
   ]
  },
  {
   "cell_type": "code",
   "execution_count": null,
   "id": "6f938baf",
   "metadata": {},
   "outputs": [],
   "source": []
  },
  {
   "cell_type": "markdown",
   "id": "bfaaa5d9",
   "metadata": {},
   "source": [
    "# Part IV"
   ]
  },
  {
   "cell_type": "markdown",
   "id": "fb678686",
   "metadata": {},
   "source": [
    "## part3_small.csv"
   ]
  },
  {
   "cell_type": "markdown",
   "id": "90267273",
   "metadata": {},
   "source": [
    "## Load Data"
   ]
  },
  {
   "cell_type": "code",
   "execution_count": null,
   "id": "6ee13cc9",
   "metadata": {},
   "outputs": [],
   "source": [
    "df_distances = pd.read_csv(file_path + 'distances.csv')\n",
    "\n",
    "df_orders = pd.read_csv(file_path + 'part3_small.csv')\n",
    "df_drivers = pd.read_csv(file_path + 'part3_drivers.csv')\n",
    "df_regions = pd.read_csv(file_path + 'regions.csv')"
   ]
  },
  {
   "cell_type": "code",
   "execution_count": null,
   "id": "f10f9f3a",
   "metadata": {},
   "outputs": [],
   "source": [
    "df_distances.head()"
   ]
  },
  {
   "cell_type": "code",
   "execution_count": null,
   "id": "54b5aa32",
   "metadata": {},
   "outputs": [],
   "source": [
    "df_orders"
   ]
  },
  {
   "cell_type": "code",
   "execution_count": null,
   "id": "6d7a1a60",
   "metadata": {},
   "outputs": [],
   "source": [
    "df_drivers"
   ]
  },
  {
   "cell_type": "code",
   "execution_count": null,
   "id": "305a3e2d",
   "metadata": {},
   "outputs": [],
   "source": [
    "df_regions.head()"
   ]
  },
  {
   "cell_type": "markdown",
   "id": "b73f6650",
   "metadata": {},
   "source": [
    "## Data Preparation"
   ]
  },
  {
   "cell_type": "code",
   "execution_count": null,
   "id": "2338e54c",
   "metadata": {},
   "outputs": [],
   "source": [
    "# Route variables\n",
    "W = 120\n",
    "df = df_orders.copy()"
   ]
  },
  {
   "cell_type": "code",
   "execution_count": null,
   "id": "a372b60e",
   "metadata": {},
   "outputs": [],
   "source": [
    "df_merged = df.merge(df_regions, left_on='customer', right_on='name')\n",
    "df_merged.head()"
   ]
  },
  {
   "cell_type": "code",
   "execution_count": null,
   "id": "bb2aa33f",
   "metadata": {},
   "outputs": [],
   "source": [
    "df_drivers = df_drivers.merge(df_regions, left_on='start region', right_on='name')\n",
    "df_drivers.head()"
   ]
  },
  {
   "cell_type": "code",
   "execution_count": null,
   "id": "3c1e16bf",
   "metadata": {},
   "outputs": [],
   "source": [
    "coordinates = df_merged[['latitude', 'longitude']]\n",
    "coordinates"
   ]
  },
  {
   "cell_type": "code",
   "execution_count": null,
   "id": "9da9fdb1",
   "metadata": {},
   "outputs": [],
   "source": [
    "df_cluster_centers = df_drivers[['latitude', 'longitude']]\n",
    "df_cluster_centers"
   ]
  },
  {
   "cell_type": "code",
   "execution_count": null,
   "id": "e973407a",
   "metadata": {},
   "outputs": [],
   "source": [
    "# Initialize KMeans with predefined cluster centers\n",
    "kmeans = KMeans(n_clusters=len(df_cluster_centers), init=df_cluster_centers.values, n_init=1)\n",
    "\n",
    "# Fit the model and predict cluster labels\n",
    "df_merged['cluster'] = kmeans.fit_predict(coordinates)\n",
    "df_merged"
   ]
  },
  {
   "cell_type": "code",
   "execution_count": null,
   "id": "6c5888d0",
   "metadata": {},
   "outputs": [],
   "source": [
    "cluster_to_driver = {i: df_drivers.index[i] for i in range(len(df_cluster_centers))}\n",
    "\n",
    "# Add a 'driver' column to the df_merged dataframe\n",
    "df_merged['driver'] = df_merged['cluster'].map(cluster_to_driver)"
   ]
  },
  {
   "cell_type": "code",
   "execution_count": null,
   "id": "4502095a",
   "metadata": {},
   "outputs": [],
   "source": [
    "df_merged"
   ]
  },
  {
   "cell_type": "code",
   "execution_count": null,
   "id": "524e3cce",
   "metadata": {},
   "outputs": [],
   "source": [
    "# Optional: Visualize the results\n",
    "plt.scatter(df_merged['latitude'], df_merged['longitude'], c=df_merged['cluster'], cmap='viridis')\n",
    "plt.scatter(df_cluster_centers['latitude'], df_cluster_centers['longitude'], c='red', marker='x')\n",
    "plt.xlabel('Latitude')\n",
    "plt.ylabel('Longitude')\n",
    "plt.title('KMeans Clustering with Predefined Cluster Centers')\n",
    "plt.show()"
   ]
  },
  {
   "cell_type": "code",
   "execution_count": null,
   "id": "246d577d",
   "metadata": {},
   "outputs": [],
   "source": [
    "def one_driver_within_W_P4(W, starting_location, velocity, df, df_distances):\n",
    "    \n",
    "    order_quantity = len(df)\n",
    "    \n",
    "    # Get start and end locations\n",
    "    start_locations = list(df['restaurant'].unique()) + list(df['customer'].unique())\n",
    "    end_locations = start_locations.copy()\n",
    "\n",
    "    start_locations = list(dict.fromkeys(start_locations))\n",
    "    end_locations = list(dict.fromkeys(end_locations))\n",
    "\n",
    "    if starting_location in start_locations:\n",
    "        start_locations.remove(starting_location)\n",
    "        start_locations.append(starting_location)\n",
    "    else:\n",
    "        start_locations.append(starting_location)   \n",
    "        \n",
    "    order_locations = list(df['restaurant']) + list(df['customer'])\n",
    "    \n",
    "    # Calculate the number of stops \n",
    "    num_steps = np.arange(1, len(end_locations)+1).tolist()\n",
    "    \n",
    "    # Get unique Restraurants and Customers\n",
    "    restaurants = df['restaurant'].unique().tolist()\n",
    "    customers = df['customer'].unique().tolist()\n",
    "\n",
    "    order_df = pd.DataFrame({'Restaurant':[], 'Customer':[]})\n",
    "\n",
    "    for index, row in df.iterrows():\n",
    "        order_df.loc[index, 'Restaurant'] = row[\"restaurant\"]\n",
    "        order_df.loc[index, 'Customer'] = row[\"customer\"]\n",
    "    \n",
    "    travel_df = pd.DataFrame({'Start':[], 'End': [], 'Distance': [], 'Time': []})\n",
    "\n",
    "    for i in start_locations:\n",
    "        for j in end_locations: \n",
    "            if i == j:\n",
    "                new_row_data = {'Start': i, 'End': j, 'Distance': 0, 'Time': 0}\n",
    "                new_row = pd.DataFrame(new_row_data, index=[0])\n",
    "                travel_df = pd.concat([travel_df, new_row], ignore_index=True)\n",
    "            else:\n",
    "                d_temp = float(df_distances[(df_distances['origin'] == i) & \n",
    "                                                              (df_distances['destination'] == j)]['distance'])\n",
    "                t_temp = d_temp/velocity * 60\n",
    "                new_row_data = {'Start': i, 'End': j, 'Distance': d_temp, 'Time': t_temp}\n",
    "                new_row = pd.DataFrame(new_row_data, index=[0])\n",
    "                travel_df = pd.concat([travel_df, new_row], ignore_index=True)\n",
    "\n",
    "    df['estimated availability'] = pd.to_datetime(df['estimated availability'])\n",
    "    df['Converted Availability'] = (df['estimated availability'] - df['estimated availability'].min()).dt.total_seconds() / 60                \n",
    "                \n",
    "    ###################\n",
    "\n",
    "    model = LpProblem(name = 'Part2_Model', sense = LpMinimize)\n",
    "\n",
    "    xVar = LpVariable.dict('x', (start_locations, end_locations, num_steps), cat = LpBinary)\n",
    "    # zVar = LpVariable.dict('z', num_steps, lowBound = 0.0, cat = LpContinuous)\n",
    "    dVar = LpVariable.dict('d', [0] + num_steps, lowBound = -9999.0, cat = LpContinuous)\n",
    "    aVar = LpVariable.dict('a', [0] + num_steps, lowBound = -9999.0, cat = LpContinuous)\n",
    "    wVar = LpVariable.dict('w', (start_locations, num_steps), lowBound = 0.0, cat = LpContinuous)\n",
    "#     vVar = LpVariable.dict('w', (start_locations, end_locations), lowBound = 0.0, cat = LpContinuous)\n",
    "\n",
    "    obj = lpSum([travel_df[(travel_df['Start']==i) & (travel_df['End']==j)]['Distance'].iloc[0] * xVar[(i,j,t)] \\\n",
    "                 for i in start_locations for j in end_locations for t in num_steps])\n",
    "    model += obj\n",
    "\n",
    "    model += dVar[(0)] <= 0\n",
    "\n",
    "    def travel_time_lookup(i, j, travel_df):\n",
    "        return travel_df[(travel_df['Start']==i) & (travel_df['End']==j)]['Time'].iloc[0]\n",
    "\n",
    "    # Step time calculation\n",
    "    for t in num_steps:\n",
    "        model += aVar[(t)] == dVar[(t-1)] + lpSum([travel_time_lookup(i, j, travel_df) * xVar[(i,j,t)] \\\n",
    "                                                   for i in start_locations for j in restaurants]) + \\\n",
    "                              lpSum([(travel_time_lookup(i, j, travel_df) + 5) * xVar[(i,j,t)] \\\n",
    "                                     for i in start_locations for j in customers])\n",
    "        model += aVar[(t)] <= dVar[(t)]\n",
    "\n",
    "    # Driver leaves after the food is ready\n",
    "    for t in num_steps:\n",
    "        for i in start_locations:\n",
    "            for j in restaurants:\n",
    "                model += dVar[(t)] >= df[df['restaurant'] == j]['Converted Availability'].iloc[0] * xVar[(i,j,t)]\n",
    "\n",
    "    # Visit restaurant before customer\n",
    "    for t in num_steps: \n",
    "        for j in end_locations: \n",
    "            if j in customers: \n",
    "                model += pulp.lpSum( [xVar[i,j,t] for i in start_locations]) <= pulp.lpSum([xVar[i, restaurant_customer_match(j, order_df),t_] \\\n",
    "                                                                                            for i in start_locations \\\n",
    "                                                                                            for t_ in num_steps[:t]])\n",
    "\n",
    "    for idx, row in df.iterrows():\n",
    "        rst, cus, time = row['restaurant'], row['customer'], row['Converted Availability']\n",
    "        for t in num_steps:\n",
    "            model += wVar[(cus, t)] <= 10000000 * lpSum(xVar[(i, cus, t)] for i in start_locations if i != cus)\n",
    "\n",
    "            model += wVar[(cus, t)] <= aVar[t] - time + 10000000 * (1 - lpSum(xVar[(i, cus, t)] for i in start_locations if i !=cus))\n",
    "            model += wVar[(cus, t)] >= aVar[t] - time - 10000000 * (1 - lpSum(xVar[(i, cus, t)] for i in start_locations if i !=cus))\n",
    "\n",
    "    model += W >= lpSum(wVar[(c,t)] for c in customers for t in num_steps)/len(df)\n",
    "\n",
    "    # Every location receives order once\n",
    "    for j in end_locations: \n",
    "        model += lpSum([xVar[(i,j,t)] for i in start_locations for t in num_steps]) == 1\n",
    "\n",
    "    # Convervation of flow\n",
    "    for t in num_steps[:-1]:\n",
    "        for j in end_locations:\n",
    "            model += (lpSum([xVar[(i,j,t)] for i in start_locations]) == lpSum([xVar[(j,k,t+1)] for k in end_locations]))\n",
    "\n",
    "    # First node has an outflow of 1, others 0\n",
    "    model += lpSum([xVar[(start_locations[-1],j,1)] for j in restaurants]) == 1\n",
    "\n",
    "    for i in start_locations[:-1]:\n",
    "        model += lpSum([xVar[(i,j,1)] for j in end_locations]) == 0\n",
    "\n",
    "    # Solve the model\n",
    "    model.solve()\n",
    "    print(\"Status:\", LpStatus[model.status])\n",
    "    model_status = LpStatus[model.status]\n",
    "    \n",
    "    if LpStatus[model.status] == 'Optimal':\n",
    "    \n",
    "        total_distance = pulp.value(model.objective)\n",
    "        print(\"Total Distance: \" , total_distance)\n",
    "\n",
    "        total_wait_time = sum([wVar[(j,t)].varValue for j in end_locations for t in num_steps if wVar[(j,t)].varValue != None])\n",
    "        print('Total wait: ' + str(total_wait_time))\n",
    "        \n",
    "        avg_wait_time = total_wait_time/len(customers)\n",
    "        print('Average wait: ' + str(avg_wait_time))\n",
    "        \n",
    "    else:\n",
    "        total_distance = 0\n",
    "        total_wait_time = 0\n",
    "        avg_wait_time = 0\n",
    "        \n",
    "    \n",
    "    path_summary_df = pd.DataFrame({'Step Number':[], 'Departure Time (min)':[], 'Leaving': [], \n",
    "                                    'Arriving': [], 'Wait Time': []})\n",
    "\n",
    "    for t in num_steps: \n",
    "#         print('Stop number: ' + str(t))\n",
    "        path_summary_df.loc[t, 'Step Number'] = t\n",
    "#         print('Travel time(mins): ' + str(dVar[t].varValue))\n",
    "        path_summary_df.loc[t, 'Departure Time (min)'] = dVar[t].varValue\n",
    "\n",
    "        for i in start_locations: \n",
    "            for j in end_locations: \n",
    "\n",
    "                if xVar[(i,j,t)].varValue > 0.0:\n",
    "                    path_summary_df.loc[t, 'Leaving'] = i\n",
    "#                     print('\\tLeft from location: ' + str(i))\n",
    "                    path_summary_df.loc[t, 'Arriving'] = j\n",
    "#                     print('\\tArrived at location: ' + str(j))\n",
    "                    path_summary_df.loc[t, 'Wait Time'] = wVar[(j,t)].varValue\n",
    "#                     print('\\tWait time: ' + str(wVar[(j,t)].varValue))\n",
    "                    \n",
    "    \n",
    "    print('=======================================')\n",
    "        \n",
    "    display(path_summary_df)\n",
    "\n",
    "    return {'order_quantity': order_quantity,\n",
    "           'model_status': model_status,\n",
    "           'total_distance': total_distance,\n",
    "           'total_wait_time': total_wait_time,\n",
    "            'avg_wait_time': avg_wait_time\n",
    "           }, total_distance, total_wait_time, order_quantity"
   ]
  },
  {
   "cell_type": "code",
   "execution_count": null,
   "id": "71fcf8bb",
   "metadata": {},
   "outputs": [],
   "source": [
    "# Group the dataframe by the 'cluster' column\n",
    "grouped_df = df_merged.groupby('cluster')\n",
    "\n",
    "# Create a list of dataframes for each cluster, resetting the index\n",
    "dfs_by_cluster = [group.reset_index(drop=True) for _, group in grouped_df]\n",
    "\n",
    "r_list = []\n",
    "total_distance_list = []\n",
    "total_wait_list = []\n",
    "number_orders_list = []\n",
    "\n",
    "# Print the dataframes in the list\n",
    "for i, cluster_df in enumerate(dfs_by_cluster):\n",
    "    driver = cluster_df.loc[0, 'driver']\n",
    "    \n",
    "    start_region = df_drivers.loc[driver, 'start region']\n",
    "    velocity = df_drivers.loc[driver, 'velocity']\n",
    "    cluster_num = cluster_df.iloc[0,-1]\n",
    "    \n",
    "    print(\"Cluster: \" + str(cluster_num) + \"\\n\" + \"###############################\")\n",
    "    \n",
    "    r_dict, total_distance, total_wait, number_orders = one_driver_within_W_P4(W, start_region, velocity, \n",
    "                                                                       cluster_df.copy(), df_distances.copy())\n",
    "    r_list.append(r_dict)\n",
    "    total_distance_list.append(total_distance)\n",
    "    total_wait_list.append(total_wait)\n",
    "    number_orders_list.append(number_orders)\n",
    "    "
   ]
  },
  {
   "cell_type": "code",
   "execution_count": null,
   "id": "60fddaa0",
   "metadata": {},
   "outputs": [],
   "source": [
    "final_total_distance = sum(total_distance_list)\n",
    "final_average_wait = sum(total_wait_list)/sum(number_orders_list)\n",
    "\n",
    "print(\"Total distance: \" + str(final_total_distance))\n",
    "print(\"Average wait time: \" + str(final_average_wait))"
   ]
  },
  {
   "cell_type": "markdown",
   "id": "300629d6",
   "metadata": {},
   "source": [
    "## part4_large.csv with part4_drivers.csv"
   ]
  },
  {
   "cell_type": "markdown",
   "id": "93f48a3a",
   "metadata": {},
   "source": [
    "## Load Data"
   ]
  },
  {
   "cell_type": "code",
   "execution_count": null,
   "id": "e46ac9df",
   "metadata": {},
   "outputs": [],
   "source": [
    "df_distances = pd.read_csv(file_path + 'distances.csv')\n",
    "\n",
    "df_orders = pd.read_csv(file_path + 'part4_large.csv')\n",
    "df_drivers = pd.read_csv(file_path + 'part4_drivers.csv')\n",
    "df_regions = pd.read_csv(file_path + 'regions.csv')"
   ]
  },
  {
   "cell_type": "code",
   "execution_count": null,
   "id": "e25463ff",
   "metadata": {},
   "outputs": [],
   "source": [
    "df_distances.head()"
   ]
  },
  {
   "cell_type": "code",
   "execution_count": null,
   "id": "c8d08475",
   "metadata": {},
   "outputs": [],
   "source": [
    "df_orders.head()"
   ]
  },
  {
   "cell_type": "code",
   "execution_count": null,
   "id": "cfdcbde0",
   "metadata": {},
   "outputs": [],
   "source": [
    "df_drivers.head()"
   ]
  },
  {
   "cell_type": "code",
   "execution_count": null,
   "id": "6f3f542d",
   "metadata": {},
   "outputs": [],
   "source": [
    "df_regions.head()"
   ]
  },
  {
   "cell_type": "markdown",
   "id": "4c0e3d2d",
   "metadata": {},
   "source": [
    "## Data Preparation"
   ]
  },
  {
   "cell_type": "code",
   "execution_count": null,
   "id": "8473a251",
   "metadata": {},
   "outputs": [],
   "source": [
    "# Route variables\n",
    "W = 120\n",
    "df = df_orders.copy()"
   ]
  },
  {
   "cell_type": "code",
   "execution_count": null,
   "id": "31d25ebc",
   "metadata": {},
   "outputs": [],
   "source": [
    "df_merged = df.merge(df_regions, left_on='customer', right_on='name')\n",
    "df_merged.head()"
   ]
  },
  {
   "cell_type": "code",
   "execution_count": null,
   "id": "eedfc10c",
   "metadata": {},
   "outputs": [],
   "source": [
    "df_drivers = df_drivers.merge(df_regions, left_on='start region', right_on='name')\n",
    "df_drivers.head()"
   ]
  },
  {
   "cell_type": "code",
   "execution_count": null,
   "id": "321ed053",
   "metadata": {},
   "outputs": [],
   "source": [
    "coordinates = df_merged[['latitude', 'longitude']]\n",
    "coordinates"
   ]
  },
  {
   "cell_type": "code",
   "execution_count": null,
   "id": "baee101c",
   "metadata": {},
   "outputs": [],
   "source": [
    "df_cluster_centers = df_drivers[['latitude', 'longitude']]\n",
    "df_cluster_centers"
   ]
  },
  {
   "cell_type": "code",
   "execution_count": null,
   "id": "b0e80cd8",
   "metadata": {},
   "outputs": [],
   "source": [
    "# Initialize KMeans with predefined cluster centers\n",
    "kmeans = KMeans(n_clusters=len(df_cluster_centers), init=df_cluster_centers.values, n_init=1)\n",
    "\n",
    "# Fit the model and predict cluster labels\n",
    "df_merged['cluster'] = kmeans.fit_predict(coordinates)\n",
    "df_merged"
   ]
  },
  {
   "cell_type": "code",
   "execution_count": null,
   "id": "556ee96a",
   "metadata": {},
   "outputs": [],
   "source": [
    "cluster_to_driver = {i: df_drivers.index[i] for i in range(len(df_cluster_centers))}\n",
    "\n",
    "# Add a 'driver' column to the df_merged dataframe\n",
    "df_merged['driver'] = df_merged['cluster'].map(cluster_to_driver)"
   ]
  },
  {
   "cell_type": "code",
   "execution_count": null,
   "id": "f51efabe",
   "metadata": {},
   "outputs": [],
   "source": [
    "df_merged"
   ]
  },
  {
   "cell_type": "code",
   "execution_count": null,
   "id": "351ca727",
   "metadata": {},
   "outputs": [],
   "source": [
    "# Optional: Visualize the results\n",
    "plt.scatter(df_merged['latitude'], df_merged['longitude'], c=df_merged['cluster'], cmap='viridis')\n",
    "plt.scatter(df_cluster_centers['latitude'], df_cluster_centers['longitude'], c='red', marker='x')\n",
    "plt.xlabel('Latitude')\n",
    "plt.ylabel('Longitude')\n",
    "plt.title('KMeans Clustering with Predefined Cluster Centers')\n",
    "plt.show()"
   ]
  },
  {
   "cell_type": "code",
   "execution_count": null,
   "id": "3afc5866",
   "metadata": {
    "scrolled": false
   },
   "outputs": [],
   "source": [
    "# Group the dataframe by the 'cluster' column\n",
    "grouped_df = df_merged.groupby('cluster')\n",
    "\n",
    "# Create a list of dataframes for each cluster, resetting the index\n",
    "dfs_by_cluster = [group.reset_index(drop=True) for _, group in grouped_df]\n",
    "\n",
    "r_list = []\n",
    "total_distance_list = []\n",
    "total_wait_list = []\n",
    "number_orders_list = []\n",
    "\n",
    "# Print the dataframes in the list\n",
    "for i, cluster_df in enumerate(dfs_by_cluster):\n",
    "    driver = cluster_df.loc[0, 'driver']\n",
    "    \n",
    "    start_region = df_drivers.loc[driver, 'start region']\n",
    "    velocity = df_drivers.loc[driver, 'velocity']\n",
    "    cluster_num = cluster_df.iloc[0,-1]\n",
    "    \n",
    "    print(\"Cluster: \" + str(cluster_num) + \"\\n\" + \"###############################\")\n",
    "    \n",
    "    r_dict, total_distance, total_wait, number_orders = one_driver_within_W_P4(W, start_region, velocity, \n",
    "                                                                       cluster_df.copy(), df_distances.copy())\n",
    "    r_list.append(r_dict)\n",
    "    total_distance_list.append(total_distance)\n",
    "    total_wait_list.append(total_wait)\n",
    "    number_orders_list.append(number_orders)\n",
    "    "
   ]
  },
  {
   "cell_type": "code",
   "execution_count": null,
   "id": "ffc9d5f3",
   "metadata": {},
   "outputs": [],
   "source": [
    "final_total_distance = sum(total_distance_list)\n",
    "final_average_wait = sum(total_wait_list)/sum(number_orders_list)\n",
    "\n",
    "print(\"Total distance: \" + str(final_total_distance))\n",
    "print(\"Average wait time: \" + str(final_average_wait))"
   ]
  },
  {
   "cell_type": "code",
   "execution_count": null,
   "id": "c61c88e3",
   "metadata": {},
   "outputs": [],
   "source": [
    "dfs_by_cluster[0]"
   ]
  },
  {
   "cell_type": "code",
   "execution_count": null,
   "id": "cee44cd6",
   "metadata": {},
   "outputs": [],
   "source": []
  },
  {
   "cell_type": "code",
   "execution_count": null,
   "id": "ace125cc",
   "metadata": {},
   "outputs": [],
   "source": []
  },
  {
   "cell_type": "code",
   "execution_count": null,
   "id": "ece2bc7a",
   "metadata": {},
   "outputs": [],
   "source": []
  },
  {
   "cell_type": "code",
   "execution_count": null,
   "id": "2abed935",
   "metadata": {},
   "outputs": [],
   "source": []
  },
  {
   "cell_type": "code",
   "execution_count": null,
   "id": "0461655a",
   "metadata": {},
   "outputs": [],
   "source": []
  },
  {
   "cell_type": "code",
   "execution_count": null,
   "id": "9c822a11",
   "metadata": {},
   "outputs": [],
   "source": []
  },
  {
   "cell_type": "code",
   "execution_count": null,
   "id": "19822b43",
   "metadata": {},
   "outputs": [],
   "source": []
  },
  {
   "cell_type": "code",
   "execution_count": null,
   "id": "99531df1",
   "metadata": {},
   "outputs": [],
   "source": []
  },
  {
   "cell_type": "code",
   "execution_count": null,
   "id": "d49249f3",
   "metadata": {},
   "outputs": [],
   "source": []
  }
 ],
 "metadata": {
  "kernelspec": {
   "display_name": "Python 3 (ipykernel)",
   "language": "python",
   "name": "python3"
  },
  "language_info": {
   "codemirror_mode": {
    "name": "ipython",
    "version": 3
   },
   "file_extension": ".py",
   "mimetype": "text/x-python",
   "name": "python",
   "nbconvert_exporter": "python",
   "pygments_lexer": "ipython3",
   "version": "3.9.15"
  }
 },
 "nbformat": 4,
 "nbformat_minor": 5
}
